{
 "cells": [
  {
   "cell_type": "code",
   "execution_count": 60,
   "metadata": {},
   "outputs": [],
   "source": [
    "import pandas as pd\n",
    "import numpy as np\n",
    "import matplotlib.pyplot as plt\n",
    "import plotly.express as px"
   ]
  },
  {
   "cell_type": "code",
   "execution_count": 61,
   "metadata": {},
   "outputs": [
    {
     "data": {
      "text/html": [
       "<div>\n",
       "<style scoped>\n",
       "    .dataframe tbody tr th:only-of-type {\n",
       "        vertical-align: middle;\n",
       "    }\n",
       "\n",
       "    .dataframe tbody tr th {\n",
       "        vertical-align: top;\n",
       "    }\n",
       "\n",
       "    .dataframe thead th {\n",
       "        text-align: right;\n",
       "    }\n",
       "</style>\n",
       "<table border=\"1\" class=\"dataframe\">\n",
       "  <thead>\n",
       "    <tr style=\"text-align: right;\">\n",
       "      <th></th>\n",
       "      <th>SNo</th>\n",
       "      <th>ObservationDate</th>\n",
       "      <th>Province/State</th>\n",
       "      <th>Country</th>\n",
       "      <th>Last Update</th>\n",
       "      <th>Confirmed</th>\n",
       "      <th>Deaths</th>\n",
       "      <th>Recovered</th>\n",
       "    </tr>\n",
       "  </thead>\n",
       "  <tbody>\n",
       "    <tr>\n",
       "      <td>0</td>\n",
       "      <td>1</td>\n",
       "      <td>01/22/2020</td>\n",
       "      <td>Anhui</td>\n",
       "      <td>Mainland China</td>\n",
       "      <td>2020-01-22 17:00:00</td>\n",
       "      <td>1.0</td>\n",
       "      <td>0.0</td>\n",
       "      <td>0.0</td>\n",
       "    </tr>\n",
       "    <tr>\n",
       "      <td>1</td>\n",
       "      <td>2</td>\n",
       "      <td>01/22/2020</td>\n",
       "      <td>Beijing</td>\n",
       "      <td>Mainland China</td>\n",
       "      <td>2020-01-22 17:00:00</td>\n",
       "      <td>14.0</td>\n",
       "      <td>0.0</td>\n",
       "      <td>0.0</td>\n",
       "    </tr>\n",
       "    <tr>\n",
       "      <td>2</td>\n",
       "      <td>3</td>\n",
       "      <td>01/22/2020</td>\n",
       "      <td>Chongqing</td>\n",
       "      <td>Mainland China</td>\n",
       "      <td>2020-01-22 17:00:00</td>\n",
       "      <td>6.0</td>\n",
       "      <td>0.0</td>\n",
       "      <td>0.0</td>\n",
       "    </tr>\n",
       "    <tr>\n",
       "      <td>3</td>\n",
       "      <td>4</td>\n",
       "      <td>01/22/2020</td>\n",
       "      <td>Fujian</td>\n",
       "      <td>Mainland China</td>\n",
       "      <td>2020-01-22 17:00:00</td>\n",
       "      <td>1.0</td>\n",
       "      <td>0.0</td>\n",
       "      <td>0.0</td>\n",
       "    </tr>\n",
       "    <tr>\n",
       "      <td>4</td>\n",
       "      <td>5</td>\n",
       "      <td>01/22/2020</td>\n",
       "      <td>Gansu</td>\n",
       "      <td>Mainland China</td>\n",
       "      <td>2020-01-22 17:00:00</td>\n",
       "      <td>0.0</td>\n",
       "      <td>0.0</td>\n",
       "      <td>0.0</td>\n",
       "    </tr>\n",
       "  </tbody>\n",
       "</table>\n",
       "</div>"
      ],
      "text/plain": [
       "   SNo ObservationDate Province/State         Country         Last Update  \\\n",
       "0    1      01/22/2020          Anhui  Mainland China 2020-01-22 17:00:00   \n",
       "1    2      01/22/2020        Beijing  Mainland China 2020-01-22 17:00:00   \n",
       "2    3      01/22/2020      Chongqing  Mainland China 2020-01-22 17:00:00   \n",
       "3    4      01/22/2020         Fujian  Mainland China 2020-01-22 17:00:00   \n",
       "4    5      01/22/2020          Gansu  Mainland China 2020-01-22 17:00:00   \n",
       "\n",
       "   Confirmed  Deaths  Recovered  \n",
       "0        1.0     0.0        0.0  \n",
       "1       14.0     0.0        0.0  \n",
       "2        6.0     0.0        0.0  \n",
       "3        1.0     0.0        0.0  \n",
       "4        0.0     0.0        0.0  "
      ]
     },
     "execution_count": 61,
     "metadata": {},
     "output_type": "execute_result"
    }
   ],
   "source": [
    "ds = pd.read_csv(\"data/covid_19_data.csv\", parse_dates=['Last Update'])\n",
    "ds.rename(columns={'Country/Region':'Country'}, inplace=True)\n",
    "ds.head()"
   ]
  },
  {
   "cell_type": "code",
   "execution_count": 62,
   "metadata": {},
   "outputs": [
    {
     "data": {
      "text/html": [
       "<div>\n",
       "<style scoped>\n",
       "    .dataframe tbody tr th:only-of-type {\n",
       "        vertical-align: middle;\n",
       "    }\n",
       "\n",
       "    .dataframe tbody tr th {\n",
       "        vertical-align: top;\n",
       "    }\n",
       "\n",
       "    .dataframe thead th {\n",
       "        text-align: right;\n",
       "    }\n",
       "</style>\n",
       "<table border=\"1\" class=\"dataframe\">\n",
       "  <thead>\n",
       "    <tr style=\"text-align: right;\">\n",
       "      <th></th>\n",
       "      <th>Province/State</th>\n",
       "      <th>Country</th>\n",
       "      <th>Lat</th>\n",
       "      <th>Long</th>\n",
       "      <th>1/22/20</th>\n",
       "      <th>1/23/20</th>\n",
       "      <th>1/24/20</th>\n",
       "      <th>1/25/20</th>\n",
       "      <th>1/26/20</th>\n",
       "      <th>1/27/20</th>\n",
       "      <th>...</th>\n",
       "      <th>3/5/20</th>\n",
       "      <th>3/6/20</th>\n",
       "      <th>3/7/20</th>\n",
       "      <th>3/8/20</th>\n",
       "      <th>3/9/20</th>\n",
       "      <th>3/10/20</th>\n",
       "      <th>3/11/20</th>\n",
       "      <th>3/12/20</th>\n",
       "      <th>3/13/20</th>\n",
       "      <th>3/14/20</th>\n",
       "    </tr>\n",
       "  </thead>\n",
       "  <tbody>\n",
       "    <tr>\n",
       "      <td>0</td>\n",
       "      <td>NaN</td>\n",
       "      <td>Thailand</td>\n",
       "      <td>15.0000</td>\n",
       "      <td>101.0000</td>\n",
       "      <td>2</td>\n",
       "      <td>3</td>\n",
       "      <td>5</td>\n",
       "      <td>7</td>\n",
       "      <td>8</td>\n",
       "      <td>8</td>\n",
       "      <td>...</td>\n",
       "      <td>47</td>\n",
       "      <td>48</td>\n",
       "      <td>50</td>\n",
       "      <td>50</td>\n",
       "      <td>50</td>\n",
       "      <td>53</td>\n",
       "      <td>59</td>\n",
       "      <td>70</td>\n",
       "      <td>75</td>\n",
       "      <td>82</td>\n",
       "    </tr>\n",
       "    <tr>\n",
       "      <td>1</td>\n",
       "      <td>NaN</td>\n",
       "      <td>Japan</td>\n",
       "      <td>36.0000</td>\n",
       "      <td>138.0000</td>\n",
       "      <td>2</td>\n",
       "      <td>1</td>\n",
       "      <td>2</td>\n",
       "      <td>2</td>\n",
       "      <td>4</td>\n",
       "      <td>4</td>\n",
       "      <td>...</td>\n",
       "      <td>360</td>\n",
       "      <td>420</td>\n",
       "      <td>461</td>\n",
       "      <td>502</td>\n",
       "      <td>511</td>\n",
       "      <td>581</td>\n",
       "      <td>639</td>\n",
       "      <td>639</td>\n",
       "      <td>701</td>\n",
       "      <td>773</td>\n",
       "    </tr>\n",
       "    <tr>\n",
       "      <td>2</td>\n",
       "      <td>NaN</td>\n",
       "      <td>Singapore</td>\n",
       "      <td>1.2833</td>\n",
       "      <td>103.8333</td>\n",
       "      <td>0</td>\n",
       "      <td>1</td>\n",
       "      <td>3</td>\n",
       "      <td>3</td>\n",
       "      <td>4</td>\n",
       "      <td>5</td>\n",
       "      <td>...</td>\n",
       "      <td>117</td>\n",
       "      <td>130</td>\n",
       "      <td>138</td>\n",
       "      <td>150</td>\n",
       "      <td>150</td>\n",
       "      <td>160</td>\n",
       "      <td>178</td>\n",
       "      <td>178</td>\n",
       "      <td>200</td>\n",
       "      <td>212</td>\n",
       "    </tr>\n",
       "    <tr>\n",
       "      <td>3</td>\n",
       "      <td>NaN</td>\n",
       "      <td>Nepal</td>\n",
       "      <td>28.1667</td>\n",
       "      <td>84.2500</td>\n",
       "      <td>0</td>\n",
       "      <td>0</td>\n",
       "      <td>0</td>\n",
       "      <td>1</td>\n",
       "      <td>1</td>\n",
       "      <td>1</td>\n",
       "      <td>...</td>\n",
       "      <td>1</td>\n",
       "      <td>1</td>\n",
       "      <td>1</td>\n",
       "      <td>1</td>\n",
       "      <td>1</td>\n",
       "      <td>1</td>\n",
       "      <td>1</td>\n",
       "      <td>1</td>\n",
       "      <td>1</td>\n",
       "      <td>1</td>\n",
       "    </tr>\n",
       "    <tr>\n",
       "      <td>4</td>\n",
       "      <td>NaN</td>\n",
       "      <td>Malaysia</td>\n",
       "      <td>2.5000</td>\n",
       "      <td>112.5000</td>\n",
       "      <td>0</td>\n",
       "      <td>0</td>\n",
       "      <td>0</td>\n",
       "      <td>3</td>\n",
       "      <td>4</td>\n",
       "      <td>4</td>\n",
       "      <td>...</td>\n",
       "      <td>50</td>\n",
       "      <td>83</td>\n",
       "      <td>93</td>\n",
       "      <td>99</td>\n",
       "      <td>117</td>\n",
       "      <td>129</td>\n",
       "      <td>149</td>\n",
       "      <td>149</td>\n",
       "      <td>197</td>\n",
       "      <td>238</td>\n",
       "    </tr>\n",
       "    <tr>\n",
       "      <td>5</td>\n",
       "      <td>British Columbia</td>\n",
       "      <td>Canada</td>\n",
       "      <td>49.2827</td>\n",
       "      <td>-123.1207</td>\n",
       "      <td>0</td>\n",
       "      <td>0</td>\n",
       "      <td>0</td>\n",
       "      <td>0</td>\n",
       "      <td>0</td>\n",
       "      <td>0</td>\n",
       "      <td>...</td>\n",
       "      <td>13</td>\n",
       "      <td>21</td>\n",
       "      <td>21</td>\n",
       "      <td>27</td>\n",
       "      <td>32</td>\n",
       "      <td>32</td>\n",
       "      <td>39</td>\n",
       "      <td>46</td>\n",
       "      <td>64</td>\n",
       "      <td>64</td>\n",
       "    </tr>\n",
       "    <tr>\n",
       "      <td>6</td>\n",
       "      <td>New South Wales</td>\n",
       "      <td>Australia</td>\n",
       "      <td>-33.8688</td>\n",
       "      <td>151.2093</td>\n",
       "      <td>0</td>\n",
       "      <td>0</td>\n",
       "      <td>0</td>\n",
       "      <td>0</td>\n",
       "      <td>3</td>\n",
       "      <td>4</td>\n",
       "      <td>...</td>\n",
       "      <td>22</td>\n",
       "      <td>26</td>\n",
       "      <td>28</td>\n",
       "      <td>38</td>\n",
       "      <td>48</td>\n",
       "      <td>55</td>\n",
       "      <td>65</td>\n",
       "      <td>65</td>\n",
       "      <td>92</td>\n",
       "      <td>112</td>\n",
       "    </tr>\n",
       "    <tr>\n",
       "      <td>7</td>\n",
       "      <td>Victoria</td>\n",
       "      <td>Australia</td>\n",
       "      <td>-37.8136</td>\n",
       "      <td>144.9631</td>\n",
       "      <td>0</td>\n",
       "      <td>0</td>\n",
       "      <td>0</td>\n",
       "      <td>0</td>\n",
       "      <td>1</td>\n",
       "      <td>1</td>\n",
       "      <td>...</td>\n",
       "      <td>10</td>\n",
       "      <td>10</td>\n",
       "      <td>11</td>\n",
       "      <td>11</td>\n",
       "      <td>15</td>\n",
       "      <td>18</td>\n",
       "      <td>21</td>\n",
       "      <td>21</td>\n",
       "      <td>36</td>\n",
       "      <td>49</td>\n",
       "    </tr>\n",
       "    <tr>\n",
       "      <td>8</td>\n",
       "      <td>Queensland</td>\n",
       "      <td>Australia</td>\n",
       "      <td>-28.0167</td>\n",
       "      <td>153.4000</td>\n",
       "      <td>0</td>\n",
       "      <td>0</td>\n",
       "      <td>0</td>\n",
       "      <td>0</td>\n",
       "      <td>0</td>\n",
       "      <td>0</td>\n",
       "      <td>...</td>\n",
       "      <td>13</td>\n",
       "      <td>13</td>\n",
       "      <td>13</td>\n",
       "      <td>15</td>\n",
       "      <td>15</td>\n",
       "      <td>18</td>\n",
       "      <td>20</td>\n",
       "      <td>20</td>\n",
       "      <td>35</td>\n",
       "      <td>46</td>\n",
       "    </tr>\n",
       "    <tr>\n",
       "      <td>9</td>\n",
       "      <td>NaN</td>\n",
       "      <td>Cambodia</td>\n",
       "      <td>11.5500</td>\n",
       "      <td>104.9167</td>\n",
       "      <td>0</td>\n",
       "      <td>0</td>\n",
       "      <td>0</td>\n",
       "      <td>0</td>\n",
       "      <td>0</td>\n",
       "      <td>1</td>\n",
       "      <td>...</td>\n",
       "      <td>1</td>\n",
       "      <td>1</td>\n",
       "      <td>1</td>\n",
       "      <td>2</td>\n",
       "      <td>2</td>\n",
       "      <td>2</td>\n",
       "      <td>3</td>\n",
       "      <td>3</td>\n",
       "      <td>5</td>\n",
       "      <td>7</td>\n",
       "    </tr>\n",
       "  </tbody>\n",
       "</table>\n",
       "<p>10 rows × 57 columns</p>\n",
       "</div>"
      ],
      "text/plain": [
       "     Province/State    Country      Lat      Long  1/22/20  1/23/20  1/24/20  \\\n",
       "0               NaN   Thailand  15.0000  101.0000        2        3        5   \n",
       "1               NaN      Japan  36.0000  138.0000        2        1        2   \n",
       "2               NaN  Singapore   1.2833  103.8333        0        1        3   \n",
       "3               NaN      Nepal  28.1667   84.2500        0        0        0   \n",
       "4               NaN   Malaysia   2.5000  112.5000        0        0        0   \n",
       "5  British Columbia     Canada  49.2827 -123.1207        0        0        0   \n",
       "6   New South Wales  Australia -33.8688  151.2093        0        0        0   \n",
       "7          Victoria  Australia -37.8136  144.9631        0        0        0   \n",
       "8        Queensland  Australia -28.0167  153.4000        0        0        0   \n",
       "9               NaN   Cambodia  11.5500  104.9167        0        0        0   \n",
       "\n",
       "   1/25/20  1/26/20  1/27/20  ...  3/5/20  3/6/20  3/7/20  3/8/20  3/9/20  \\\n",
       "0        7        8        8  ...      47      48      50      50      50   \n",
       "1        2        4        4  ...     360     420     461     502     511   \n",
       "2        3        4        5  ...     117     130     138     150     150   \n",
       "3        1        1        1  ...       1       1       1       1       1   \n",
       "4        3        4        4  ...      50      83      93      99     117   \n",
       "5        0        0        0  ...      13      21      21      27      32   \n",
       "6        0        3        4  ...      22      26      28      38      48   \n",
       "7        0        1        1  ...      10      10      11      11      15   \n",
       "8        0        0        0  ...      13      13      13      15      15   \n",
       "9        0        0        1  ...       1       1       1       2       2   \n",
       "\n",
       "   3/10/20  3/11/20  3/12/20  3/13/20  3/14/20  \n",
       "0       53       59       70       75       82  \n",
       "1      581      639      639      701      773  \n",
       "2      160      178      178      200      212  \n",
       "3        1        1        1        1        1  \n",
       "4      129      149      149      197      238  \n",
       "5       32       39       46       64       64  \n",
       "6       55       65       65       92      112  \n",
       "7       18       21       21       36       49  \n",
       "8       18       20       20       35       46  \n",
       "9        2        3        3        5        7  \n",
       "\n",
       "[10 rows x 57 columns]"
      ]
     },
     "execution_count": 62,
     "metadata": {},
     "output_type": "execute_result"
    }
   ],
   "source": [
    "ds_confirmed = pd.read_csv(\"data/time_series_covid_19_confirmed.csv\")\n",
    "ds_confirmed.rename(columns={'Country/Region':'Country'}, inplace=True)\n",
    "ds_confirmed.head(10)"
   ]
  },
  {
   "cell_type": "code",
   "execution_count": 63,
   "metadata": {},
   "outputs": [
    {
     "data": {
      "text/html": [
       "<div>\n",
       "<style scoped>\n",
       "    .dataframe tbody tr th:only-of-type {\n",
       "        vertical-align: middle;\n",
       "    }\n",
       "\n",
       "    .dataframe tbody tr th {\n",
       "        vertical-align: top;\n",
       "    }\n",
       "\n",
       "    .dataframe thead th {\n",
       "        text-align: right;\n",
       "    }\n",
       "</style>\n",
       "<table border=\"1\" class=\"dataframe\">\n",
       "  <thead>\n",
       "    <tr style=\"text-align: right;\">\n",
       "      <th></th>\n",
       "      <th>Province/State</th>\n",
       "      <th>Country</th>\n",
       "      <th>Lat</th>\n",
       "      <th>Long</th>\n",
       "      <th>1/22/20</th>\n",
       "      <th>1/23/20</th>\n",
       "      <th>1/24/20</th>\n",
       "      <th>1/25/20</th>\n",
       "      <th>1/26/20</th>\n",
       "      <th>1/27/20</th>\n",
       "      <th>...</th>\n",
       "      <th>3/5/20</th>\n",
       "      <th>3/6/20</th>\n",
       "      <th>3/7/20</th>\n",
       "      <th>3/8/20</th>\n",
       "      <th>3/9/20</th>\n",
       "      <th>3/10/20</th>\n",
       "      <th>3/11/20</th>\n",
       "      <th>3/12/20</th>\n",
       "      <th>3/13/20</th>\n",
       "      <th>3/14/20</th>\n",
       "    </tr>\n",
       "  </thead>\n",
       "  <tbody>\n",
       "    <tr>\n",
       "      <td>0</td>\n",
       "      <td>NaN</td>\n",
       "      <td>Thailand</td>\n",
       "      <td>15.0000</td>\n",
       "      <td>101.0000</td>\n",
       "      <td>0</td>\n",
       "      <td>0</td>\n",
       "      <td>0</td>\n",
       "      <td>0</td>\n",
       "      <td>0</td>\n",
       "      <td>0</td>\n",
       "      <td>...</td>\n",
       "      <td>1</td>\n",
       "      <td>1</td>\n",
       "      <td>1</td>\n",
       "      <td>1</td>\n",
       "      <td>1</td>\n",
       "      <td>1</td>\n",
       "      <td>1</td>\n",
       "      <td>1</td>\n",
       "      <td>1</td>\n",
       "      <td>1</td>\n",
       "    </tr>\n",
       "    <tr>\n",
       "      <td>1</td>\n",
       "      <td>NaN</td>\n",
       "      <td>Japan</td>\n",
       "      <td>36.0000</td>\n",
       "      <td>138.0000</td>\n",
       "      <td>0</td>\n",
       "      <td>0</td>\n",
       "      <td>0</td>\n",
       "      <td>0</td>\n",
       "      <td>0</td>\n",
       "      <td>0</td>\n",
       "      <td>...</td>\n",
       "      <td>6</td>\n",
       "      <td>6</td>\n",
       "      <td>6</td>\n",
       "      <td>6</td>\n",
       "      <td>10</td>\n",
       "      <td>10</td>\n",
       "      <td>15</td>\n",
       "      <td>16</td>\n",
       "      <td>19</td>\n",
       "      <td>22</td>\n",
       "    </tr>\n",
       "    <tr>\n",
       "      <td>2</td>\n",
       "      <td>NaN</td>\n",
       "      <td>Singapore</td>\n",
       "      <td>1.2833</td>\n",
       "      <td>103.8333</td>\n",
       "      <td>0</td>\n",
       "      <td>0</td>\n",
       "      <td>0</td>\n",
       "      <td>0</td>\n",
       "      <td>0</td>\n",
       "      <td>0</td>\n",
       "      <td>...</td>\n",
       "      <td>0</td>\n",
       "      <td>0</td>\n",
       "      <td>0</td>\n",
       "      <td>0</td>\n",
       "      <td>0</td>\n",
       "      <td>0</td>\n",
       "      <td>0</td>\n",
       "      <td>0</td>\n",
       "      <td>0</td>\n",
       "      <td>0</td>\n",
       "    </tr>\n",
       "    <tr>\n",
       "      <td>3</td>\n",
       "      <td>NaN</td>\n",
       "      <td>Nepal</td>\n",
       "      <td>28.1667</td>\n",
       "      <td>84.2500</td>\n",
       "      <td>0</td>\n",
       "      <td>0</td>\n",
       "      <td>0</td>\n",
       "      <td>0</td>\n",
       "      <td>0</td>\n",
       "      <td>0</td>\n",
       "      <td>...</td>\n",
       "      <td>0</td>\n",
       "      <td>0</td>\n",
       "      <td>0</td>\n",
       "      <td>0</td>\n",
       "      <td>0</td>\n",
       "      <td>0</td>\n",
       "      <td>0</td>\n",
       "      <td>0</td>\n",
       "      <td>0</td>\n",
       "      <td>0</td>\n",
       "    </tr>\n",
       "    <tr>\n",
       "      <td>4</td>\n",
       "      <td>NaN</td>\n",
       "      <td>Malaysia</td>\n",
       "      <td>2.5000</td>\n",
       "      <td>112.5000</td>\n",
       "      <td>0</td>\n",
       "      <td>0</td>\n",
       "      <td>0</td>\n",
       "      <td>0</td>\n",
       "      <td>0</td>\n",
       "      <td>0</td>\n",
       "      <td>...</td>\n",
       "      <td>0</td>\n",
       "      <td>0</td>\n",
       "      <td>0</td>\n",
       "      <td>0</td>\n",
       "      <td>0</td>\n",
       "      <td>0</td>\n",
       "      <td>0</td>\n",
       "      <td>0</td>\n",
       "      <td>0</td>\n",
       "      <td>0</td>\n",
       "    </tr>\n",
       "  </tbody>\n",
       "</table>\n",
       "<p>5 rows × 57 columns</p>\n",
       "</div>"
      ],
      "text/plain": [
       "  Province/State    Country      Lat      Long  1/22/20  1/23/20  1/24/20  \\\n",
       "0            NaN   Thailand  15.0000  101.0000        0        0        0   \n",
       "1            NaN      Japan  36.0000  138.0000        0        0        0   \n",
       "2            NaN  Singapore   1.2833  103.8333        0        0        0   \n",
       "3            NaN      Nepal  28.1667   84.2500        0        0        0   \n",
       "4            NaN   Malaysia   2.5000  112.5000        0        0        0   \n",
       "\n",
       "   1/25/20  1/26/20  1/27/20  ...  3/5/20  3/6/20  3/7/20  3/8/20  3/9/20  \\\n",
       "0        0        0        0  ...       1       1       1       1       1   \n",
       "1        0        0        0  ...       6       6       6       6      10   \n",
       "2        0        0        0  ...       0       0       0       0       0   \n",
       "3        0        0        0  ...       0       0       0       0       0   \n",
       "4        0        0        0  ...       0       0       0       0       0   \n",
       "\n",
       "   3/10/20  3/11/20  3/12/20  3/13/20  3/14/20  \n",
       "0        1        1        1        1        1  \n",
       "1       10       15       16       19       22  \n",
       "2        0        0        0        0        0  \n",
       "3        0        0        0        0        0  \n",
       "4        0        0        0        0        0  \n",
       "\n",
       "[5 rows x 57 columns]"
      ]
     },
     "execution_count": 63,
     "metadata": {},
     "output_type": "execute_result"
    }
   ],
   "source": [
    "ds_death = pd.read_csv(\"data/time_series_covid_19_deaths.csv\")\n",
    "ds_death.rename(columns={'Country/Region':'Country'}, inplace=True)\n",
    "ds_death.head()"
   ]
  },
  {
   "cell_type": "code",
   "execution_count": 64,
   "metadata": {},
   "outputs": [
    {
     "data": {
      "text/html": [
       "<div>\n",
       "<style scoped>\n",
       "    .dataframe tbody tr th:only-of-type {\n",
       "        vertical-align: middle;\n",
       "    }\n",
       "\n",
       "    .dataframe tbody tr th {\n",
       "        vertical-align: top;\n",
       "    }\n",
       "\n",
       "    .dataframe thead th {\n",
       "        text-align: right;\n",
       "    }\n",
       "</style>\n",
       "<table border=\"1\" class=\"dataframe\">\n",
       "  <thead>\n",
       "    <tr style=\"text-align: right;\">\n",
       "      <th></th>\n",
       "      <th>Province/State</th>\n",
       "      <th>Country</th>\n",
       "      <th>Lat</th>\n",
       "      <th>Long</th>\n",
       "      <th>1/22/20</th>\n",
       "      <th>1/23/20</th>\n",
       "      <th>1/24/20</th>\n",
       "      <th>1/25/20</th>\n",
       "      <th>1/26/20</th>\n",
       "      <th>1/27/20</th>\n",
       "      <th>...</th>\n",
       "      <th>3/5/20</th>\n",
       "      <th>3/6/20</th>\n",
       "      <th>3/7/20</th>\n",
       "      <th>3/8/20</th>\n",
       "      <th>3/9/20</th>\n",
       "      <th>3/10/20</th>\n",
       "      <th>3/11/20</th>\n",
       "      <th>3/12/20</th>\n",
       "      <th>3/13/20</th>\n",
       "      <th>3/14/20</th>\n",
       "    </tr>\n",
       "  </thead>\n",
       "  <tbody>\n",
       "    <tr>\n",
       "      <td>0</td>\n",
       "      <td>NaN</td>\n",
       "      <td>Thailand</td>\n",
       "      <td>15.0000</td>\n",
       "      <td>101.0000</td>\n",
       "      <td>0</td>\n",
       "      <td>0</td>\n",
       "      <td>0</td>\n",
       "      <td>0</td>\n",
       "      <td>2</td>\n",
       "      <td>2</td>\n",
       "      <td>...</td>\n",
       "      <td>31</td>\n",
       "      <td>31</td>\n",
       "      <td>31</td>\n",
       "      <td>31</td>\n",
       "      <td>31</td>\n",
       "      <td>33</td>\n",
       "      <td>34</td>\n",
       "      <td>34</td>\n",
       "      <td>35</td>\n",
       "      <td>35</td>\n",
       "    </tr>\n",
       "    <tr>\n",
       "      <td>1</td>\n",
       "      <td>NaN</td>\n",
       "      <td>Japan</td>\n",
       "      <td>36.0000</td>\n",
       "      <td>138.0000</td>\n",
       "      <td>0</td>\n",
       "      <td>0</td>\n",
       "      <td>0</td>\n",
       "      <td>0</td>\n",
       "      <td>1</td>\n",
       "      <td>1</td>\n",
       "      <td>...</td>\n",
       "      <td>43</td>\n",
       "      <td>46</td>\n",
       "      <td>76</td>\n",
       "      <td>76</td>\n",
       "      <td>76</td>\n",
       "      <td>101</td>\n",
       "      <td>118</td>\n",
       "      <td>118</td>\n",
       "      <td>118</td>\n",
       "      <td>118</td>\n",
       "    </tr>\n",
       "    <tr>\n",
       "      <td>2</td>\n",
       "      <td>NaN</td>\n",
       "      <td>Singapore</td>\n",
       "      <td>1.2833</td>\n",
       "      <td>103.8333</td>\n",
       "      <td>0</td>\n",
       "      <td>0</td>\n",
       "      <td>0</td>\n",
       "      <td>0</td>\n",
       "      <td>0</td>\n",
       "      <td>0</td>\n",
       "      <td>...</td>\n",
       "      <td>78</td>\n",
       "      <td>78</td>\n",
       "      <td>78</td>\n",
       "      <td>78</td>\n",
       "      <td>78</td>\n",
       "      <td>78</td>\n",
       "      <td>96</td>\n",
       "      <td>96</td>\n",
       "      <td>97</td>\n",
       "      <td>105</td>\n",
       "    </tr>\n",
       "    <tr>\n",
       "      <td>3</td>\n",
       "      <td>NaN</td>\n",
       "      <td>Nepal</td>\n",
       "      <td>28.1667</td>\n",
       "      <td>84.2500</td>\n",
       "      <td>0</td>\n",
       "      <td>0</td>\n",
       "      <td>0</td>\n",
       "      <td>0</td>\n",
       "      <td>0</td>\n",
       "      <td>0</td>\n",
       "      <td>...</td>\n",
       "      <td>1</td>\n",
       "      <td>1</td>\n",
       "      <td>1</td>\n",
       "      <td>1</td>\n",
       "      <td>1</td>\n",
       "      <td>1</td>\n",
       "      <td>1</td>\n",
       "      <td>1</td>\n",
       "      <td>1</td>\n",
       "      <td>1</td>\n",
       "    </tr>\n",
       "    <tr>\n",
       "      <td>4</td>\n",
       "      <td>NaN</td>\n",
       "      <td>Malaysia</td>\n",
       "      <td>2.5000</td>\n",
       "      <td>112.5000</td>\n",
       "      <td>0</td>\n",
       "      <td>0</td>\n",
       "      <td>0</td>\n",
       "      <td>0</td>\n",
       "      <td>0</td>\n",
       "      <td>0</td>\n",
       "      <td>...</td>\n",
       "      <td>22</td>\n",
       "      <td>22</td>\n",
       "      <td>23</td>\n",
       "      <td>24</td>\n",
       "      <td>24</td>\n",
       "      <td>24</td>\n",
       "      <td>26</td>\n",
       "      <td>26</td>\n",
       "      <td>26</td>\n",
       "      <td>35</td>\n",
       "    </tr>\n",
       "  </tbody>\n",
       "</table>\n",
       "<p>5 rows × 57 columns</p>\n",
       "</div>"
      ],
      "text/plain": [
       "  Province/State    Country      Lat      Long  1/22/20  1/23/20  1/24/20  \\\n",
       "0            NaN   Thailand  15.0000  101.0000        0        0        0   \n",
       "1            NaN      Japan  36.0000  138.0000        0        0        0   \n",
       "2            NaN  Singapore   1.2833  103.8333        0        0        0   \n",
       "3            NaN      Nepal  28.1667   84.2500        0        0        0   \n",
       "4            NaN   Malaysia   2.5000  112.5000        0        0        0   \n",
       "\n",
       "   1/25/20  1/26/20  1/27/20  ...  3/5/20  3/6/20  3/7/20  3/8/20  3/9/20  \\\n",
       "0        0        2        2  ...      31      31      31      31      31   \n",
       "1        0        1        1  ...      43      46      76      76      76   \n",
       "2        0        0        0  ...      78      78      78      78      78   \n",
       "3        0        0        0  ...       1       1       1       1       1   \n",
       "4        0        0        0  ...      22      22      23      24      24   \n",
       "\n",
       "   3/10/20  3/11/20  3/12/20  3/13/20  3/14/20  \n",
       "0       33       34       34       35       35  \n",
       "1      101      118      118      118      118  \n",
       "2       78       96       96       97      105  \n",
       "3        1        1        1        1        1  \n",
       "4       24       26       26       26       35  \n",
       "\n",
       "[5 rows x 57 columns]"
      ]
     },
     "execution_count": 64,
     "metadata": {},
     "output_type": "execute_result"
    }
   ],
   "source": [
    "ds_recovered = pd.read_csv(\"data/time_series_covid_19_recovered.csv\")\n",
    "ds_recovered.rename(columns={'Country/Region':'Country'}, inplace=True)\n",
    "ds_recovered.head()"
   ]
  },
  {
   "cell_type": "markdown",
   "metadata": {},
   "source": [
    "## Latest Cases"
   ]
  },
  {
   "cell_type": "code",
   "execution_count": 65,
   "metadata": {},
   "outputs": [
    {
     "data": {
      "text/html": [
       "<div>\n",
       "<style scoped>\n",
       "    .dataframe tbody tr th:only-of-type {\n",
       "        vertical-align: middle;\n",
       "    }\n",
       "\n",
       "    .dataframe tbody tr th {\n",
       "        vertical-align: top;\n",
       "    }\n",
       "\n",
       "    .dataframe thead th {\n",
       "        text-align: right;\n",
       "    }\n",
       "</style>\n",
       "<table border=\"1\" class=\"dataframe\">\n",
       "  <thead>\n",
       "    <tr style=\"text-align: right;\">\n",
       "      <th></th>\n",
       "      <th>SNo</th>\n",
       "      <th>ObservationDate</th>\n",
       "      <th>Province/State</th>\n",
       "      <th>Country</th>\n",
       "      <th>Last Update</th>\n",
       "      <th>Confirmed</th>\n",
       "      <th>Deaths</th>\n",
       "      <th>Recovered</th>\n",
       "    </tr>\n",
       "  </thead>\n",
       "  <tbody>\n",
       "    <tr>\n",
       "      <td>5627</td>\n",
       "      <td>5628</td>\n",
       "      <td>03/14/2020</td>\n",
       "      <td>Virgin Islands, U.S.</td>\n",
       "      <td>US</td>\n",
       "      <td>2020-03-14 16:15:18</td>\n",
       "      <td>1.0</td>\n",
       "      <td>0.0</td>\n",
       "      <td>0.0</td>\n",
       "    </tr>\n",
       "    <tr>\n",
       "      <td>5628</td>\n",
       "      <td>5629</td>\n",
       "      <td>03/14/2020</td>\n",
       "      <td>Gibraltar</td>\n",
       "      <td>UK</td>\n",
       "      <td>2020-03-14 16:33:03</td>\n",
       "      <td>1.0</td>\n",
       "      <td>0.0</td>\n",
       "      <td>1.0</td>\n",
       "    </tr>\n",
       "    <tr>\n",
       "      <td>5629</td>\n",
       "      <td>5630</td>\n",
       "      <td>03/14/2020</td>\n",
       "      <td>Diamond Princess cruise ship</td>\n",
       "      <td>Australia</td>\n",
       "      <td>2020-03-14 02:33:04</td>\n",
       "      <td>0.0</td>\n",
       "      <td>0.0</td>\n",
       "      <td>0.0</td>\n",
       "    </tr>\n",
       "    <tr>\n",
       "      <td>5630</td>\n",
       "      <td>5631</td>\n",
       "      <td>03/14/2020</td>\n",
       "      <td>West Virginia</td>\n",
       "      <td>US</td>\n",
       "      <td>2020-03-10 02:33:04</td>\n",
       "      <td>0.0</td>\n",
       "      <td>0.0</td>\n",
       "      <td>0.0</td>\n",
       "    </tr>\n",
       "    <tr>\n",
       "      <td>5631</td>\n",
       "      <td>5632</td>\n",
       "      <td>03/14/2020</td>\n",
       "      <td>NaN</td>\n",
       "      <td>occupied Palestinian territory</td>\n",
       "      <td>2020-03-11 20:53:02</td>\n",
       "      <td>0.0</td>\n",
       "      <td>0.0</td>\n",
       "      <td>0.0</td>\n",
       "    </tr>\n",
       "  </tbody>\n",
       "</table>\n",
       "</div>"
      ],
      "text/plain": [
       "       SNo ObservationDate                Province/State  \\\n",
       "5627  5628      03/14/2020          Virgin Islands, U.S.   \n",
       "5628  5629      03/14/2020                     Gibraltar   \n",
       "5629  5630      03/14/2020  Diamond Princess cruise ship   \n",
       "5630  5631      03/14/2020                 West Virginia   \n",
       "5631  5632      03/14/2020                           NaN   \n",
       "\n",
       "                             Country         Last Update  Confirmed  Deaths  \\\n",
       "5627                              US 2020-03-14 16:15:18        1.0     0.0   \n",
       "5628                              UK 2020-03-14 16:33:03        1.0     0.0   \n",
       "5629                       Australia 2020-03-14 02:33:04        0.0     0.0   \n",
       "5630                              US 2020-03-10 02:33:04        0.0     0.0   \n",
       "5631  occupied Palestinian territory 2020-03-11 20:53:02        0.0     0.0   \n",
       "\n",
       "      Recovered  \n",
       "5627        0.0  \n",
       "5628        1.0  \n",
       "5629        0.0  \n",
       "5630        0.0  \n",
       "5631        0.0  "
      ]
     },
     "execution_count": 65,
     "metadata": {},
     "output_type": "execute_result"
    }
   ],
   "source": [
    "ds.tail()"
   ]
  },
  {
   "cell_type": "code",
   "execution_count": 66,
   "metadata": {},
   "outputs": [],
   "source": [
    "ds_countywise = ds.groupby(['ObservationDate','Country'])[['ObservationDate','Country','Confirmed','Deaths','Recovered']].sum().reset_index()"
   ]
  },
  {
   "cell_type": "code",
   "execution_count": 67,
   "metadata": {},
   "outputs": [
    {
     "data": {
      "text/html": [
       "<div>\n",
       "<style scoped>\n",
       "    .dataframe tbody tr th:only-of-type {\n",
       "        vertical-align: middle;\n",
       "    }\n",
       "\n",
       "    .dataframe tbody tr th {\n",
       "        vertical-align: top;\n",
       "    }\n",
       "\n",
       "    .dataframe thead th {\n",
       "        text-align: right;\n",
       "    }\n",
       "</style>\n",
       "<table border=\"1\" class=\"dataframe\">\n",
       "  <thead>\n",
       "    <tr style=\"text-align: right;\">\n",
       "      <th></th>\n",
       "      <th>ObservationDate</th>\n",
       "      <th>Country</th>\n",
       "      <th>Confirmed</th>\n",
       "      <th>Deaths</th>\n",
       "      <th>Recovered</th>\n",
       "    </tr>\n",
       "  </thead>\n",
       "  <tbody>\n",
       "    <tr>\n",
       "      <td>0</td>\n",
       "      <td>01/22/2020</td>\n",
       "      <td>Hong Kong</td>\n",
       "      <td>0.0</td>\n",
       "      <td>0.0</td>\n",
       "      <td>0.0</td>\n",
       "    </tr>\n",
       "    <tr>\n",
       "      <td>1</td>\n",
       "      <td>01/22/2020</td>\n",
       "      <td>Japan</td>\n",
       "      <td>2.0</td>\n",
       "      <td>0.0</td>\n",
       "      <td>0.0</td>\n",
       "    </tr>\n",
       "    <tr>\n",
       "      <td>2</td>\n",
       "      <td>01/22/2020</td>\n",
       "      <td>Macau</td>\n",
       "      <td>1.0</td>\n",
       "      <td>0.0</td>\n",
       "      <td>0.0</td>\n",
       "    </tr>\n",
       "    <tr>\n",
       "      <td>3</td>\n",
       "      <td>01/22/2020</td>\n",
       "      <td>Mainland China</td>\n",
       "      <td>547.0</td>\n",
       "      <td>17.0</td>\n",
       "      <td>28.0</td>\n",
       "    </tr>\n",
       "    <tr>\n",
       "      <td>4</td>\n",
       "      <td>01/22/2020</td>\n",
       "      <td>South Korea</td>\n",
       "      <td>1.0</td>\n",
       "      <td>0.0</td>\n",
       "      <td>0.0</td>\n",
       "    </tr>\n",
       "  </tbody>\n",
       "</table>\n",
       "</div>"
      ],
      "text/plain": [
       "  ObservationDate         Country  Confirmed  Deaths  Recovered\n",
       "0      01/22/2020       Hong Kong        0.0     0.0        0.0\n",
       "1      01/22/2020           Japan        2.0     0.0        0.0\n",
       "2      01/22/2020           Macau        1.0     0.0        0.0\n",
       "3      01/22/2020  Mainland China      547.0    17.0       28.0\n",
       "4      01/22/2020     South Korea        1.0     0.0        0.0"
      ]
     },
     "execution_count": 67,
     "metadata": {},
     "output_type": "execute_result"
    }
   ],
   "source": [
    "ds_countywise.head()"
   ]
  },
  {
   "cell_type": "code",
   "execution_count": 68,
   "metadata": {},
   "outputs": [
    {
     "data": {
      "text/html": [
       "<div>\n",
       "<style scoped>\n",
       "    .dataframe tbody tr th:only-of-type {\n",
       "        vertical-align: middle;\n",
       "    }\n",
       "\n",
       "    .dataframe tbody tr th {\n",
       "        vertical-align: top;\n",
       "    }\n",
       "\n",
       "    .dataframe thead th {\n",
       "        text-align: right;\n",
       "    }\n",
       "</style>\n",
       "<table border=\"1\" class=\"dataframe\">\n",
       "  <thead>\n",
       "    <tr style=\"text-align: right;\">\n",
       "      <th></th>\n",
       "      <th>Last Update</th>\n",
       "      <th>Confirmed</th>\n",
       "      <th>Deaths</th>\n",
       "      <th>Recovered</th>\n",
       "    </tr>\n",
       "  </thead>\n",
       "  <tbody>\n",
       "    <tr>\n",
       "      <td>0</td>\n",
       "      <td>2020-01-22 17:00:00</td>\n",
       "      <td>547.0</td>\n",
       "      <td>17.0</td>\n",
       "      <td>28.0</td>\n",
       "    </tr>\n",
       "    <tr>\n",
       "      <td>1</td>\n",
       "      <td>2020-01-23 17:00:00</td>\n",
       "      <td>639.0</td>\n",
       "      <td>18.0</td>\n",
       "      <td>30.0</td>\n",
       "    </tr>\n",
       "    <tr>\n",
       "      <td>2</td>\n",
       "      <td>2020-01-24 17:00:00</td>\n",
       "      <td>916.0</td>\n",
       "      <td>26.0</td>\n",
       "      <td>36.0</td>\n",
       "    </tr>\n",
       "    <tr>\n",
       "      <td>3</td>\n",
       "      <td>2020-01-25 17:00:00</td>\n",
       "      <td>1399.0</td>\n",
       "      <td>42.0</td>\n",
       "      <td>39.0</td>\n",
       "    </tr>\n",
       "    <tr>\n",
       "      <td>4</td>\n",
       "      <td>2020-01-26 16:00:00</td>\n",
       "      <td>2062.0</td>\n",
       "      <td>56.0</td>\n",
       "      <td>49.0</td>\n",
       "    </tr>\n",
       "    <tr>\n",
       "      <td>...</td>\n",
       "      <td>...</td>\n",
       "      <td>...</td>\n",
       "      <td>...</td>\n",
       "      <td>...</td>\n",
       "    </tr>\n",
       "    <tr>\n",
       "      <td>726</td>\n",
       "      <td>2020-03-14 09:53:08</td>\n",
       "      <td>1348.0</td>\n",
       "      <td>22.0</td>\n",
       "      <td>1323.0</td>\n",
       "    </tr>\n",
       "    <tr>\n",
       "      <td>727</td>\n",
       "      <td>2020-03-14 10:13:09</td>\n",
       "      <td>67790.0</td>\n",
       "      <td>3075.0</td>\n",
       "      <td>52960.0</td>\n",
       "    </tr>\n",
       "    <tr>\n",
       "      <td>728</td>\n",
       "      <td>2020-03-14 12:53:06</td>\n",
       "      <td>140.0</td>\n",
       "      <td>4.0</td>\n",
       "      <td>78.0</td>\n",
       "    </tr>\n",
       "    <tr>\n",
       "      <td>729</td>\n",
       "      <td>2020-03-14 23:33:02</td>\n",
       "      <td>174.0</td>\n",
       "      <td>2.0</td>\n",
       "      <td>172.0</td>\n",
       "    </tr>\n",
       "    <tr>\n",
       "      <td>730</td>\n",
       "      <td>2020-03-14 23:53:02</td>\n",
       "      <td>929.0</td>\n",
       "      <td>9.0</td>\n",
       "      <td>893.0</td>\n",
       "    </tr>\n",
       "  </tbody>\n",
       "</table>\n",
       "<p>731 rows × 4 columns</p>\n",
       "</div>"
      ],
      "text/plain": [
       "            Last Update  Confirmed  Deaths  Recovered\n",
       "0   2020-01-22 17:00:00      547.0    17.0       28.0\n",
       "1   2020-01-23 17:00:00      639.0    18.0       30.0\n",
       "2   2020-01-24 17:00:00      916.0    26.0       36.0\n",
       "3   2020-01-25 17:00:00     1399.0    42.0       39.0\n",
       "4   2020-01-26 16:00:00     2062.0    56.0       49.0\n",
       "..                  ...        ...     ...        ...\n",
       "726 2020-03-14 09:53:08     1348.0    22.0     1323.0\n",
       "727 2020-03-14 10:13:09    67790.0  3075.0    52960.0\n",
       "728 2020-03-14 12:53:06      140.0     4.0       78.0\n",
       "729 2020-03-14 23:33:02      174.0     2.0      172.0\n",
       "730 2020-03-14 23:53:02      929.0     9.0      893.0\n",
       "\n",
       "[731 rows x 4 columns]"
      ]
     },
     "execution_count": 68,
     "metadata": {},
     "output_type": "execute_result"
    }
   ],
   "source": [
    "ds.query('Country == \"Mainland China\"').groupby(\"Last Update\")[['Confirmed','Deaths','Recovered']].sum().reset_index()"
   ]
  },
  {
   "cell_type": "code",
   "execution_count": 69,
   "metadata": {},
   "outputs": [
    {
     "data": {
      "text/html": [
       "<div>\n",
       "<style scoped>\n",
       "    .dataframe tbody tr th:only-of-type {\n",
       "        vertical-align: middle;\n",
       "    }\n",
       "\n",
       "    .dataframe tbody tr th {\n",
       "        vertical-align: top;\n",
       "    }\n",
       "\n",
       "    .dataframe thead th {\n",
       "        text-align: right;\n",
       "    }\n",
       "</style>\n",
       "<table border=\"1\" class=\"dataframe\">\n",
       "  <thead>\n",
       "    <tr style=\"text-align: right;\">\n",
       "      <th></th>\n",
       "      <th>Country</th>\n",
       "      <th>Confirmed</th>\n",
       "      <th>Deaths</th>\n",
       "      <th>Recovered</th>\n",
       "    </tr>\n",
       "  </thead>\n",
       "  <tbody>\n",
       "    <tr>\n",
       "      <td>0</td>\n",
       "      <td>Azerbaijan</td>\n",
       "      <td>1.0</td>\n",
       "      <td>0.0</td>\n",
       "      <td>0.0</td>\n",
       "    </tr>\n",
       "    <tr>\n",
       "      <td>1</td>\n",
       "      <td>('St. Martin',)</td>\n",
       "      <td>2.0</td>\n",
       "      <td>0.0</td>\n",
       "      <td>0.0</td>\n",
       "    </tr>\n",
       "    <tr>\n",
       "      <td>2</td>\n",
       "      <td>Afghanistan</td>\n",
       "      <td>58.0</td>\n",
       "      <td>0.0</td>\n",
       "      <td>0.0</td>\n",
       "    </tr>\n",
       "    <tr>\n",
       "      <td>3</td>\n",
       "      <td>Albania</td>\n",
       "      <td>118.0</td>\n",
       "      <td>4.0</td>\n",
       "      <td>0.0</td>\n",
       "    </tr>\n",
       "    <tr>\n",
       "      <td>4</td>\n",
       "      <td>Algeria</td>\n",
       "      <td>238.0</td>\n",
       "      <td>6.0</td>\n",
       "      <td>28.0</td>\n",
       "    </tr>\n",
       "    <tr>\n",
       "      <td>...</td>\n",
       "      <td>...</td>\n",
       "      <td>...</td>\n",
       "      <td>...</td>\n",
       "      <td>...</td>\n",
       "    </tr>\n",
       "    <tr>\n",
       "      <td>151</td>\n",
       "      <td>Uruguay</td>\n",
       "      <td>4.0</td>\n",
       "      <td>0.0</td>\n",
       "      <td>0.0</td>\n",
       "    </tr>\n",
       "    <tr>\n",
       "      <td>152</td>\n",
       "      <td>Vatican City</td>\n",
       "      <td>4.0</td>\n",
       "      <td>0.0</td>\n",
       "      <td>0.0</td>\n",
       "    </tr>\n",
       "    <tr>\n",
       "      <td>153</td>\n",
       "      <td>Venezuela</td>\n",
       "      <td>2.0</td>\n",
       "      <td>0.0</td>\n",
       "      <td>0.0</td>\n",
       "    </tr>\n",
       "    <tr>\n",
       "      <td>154</td>\n",
       "      <td>Vietnam</td>\n",
       "      <td>798.0</td>\n",
       "      <td>0.0</td>\n",
       "      <td>438.0</td>\n",
       "    </tr>\n",
       "    <tr>\n",
       "      <td>155</td>\n",
       "      <td>occupied Palestinian territory</td>\n",
       "      <td>25.0</td>\n",
       "      <td>0.0</td>\n",
       "      <td>0.0</td>\n",
       "    </tr>\n",
       "  </tbody>\n",
       "</table>\n",
       "<p>156 rows × 4 columns</p>\n",
       "</div>"
      ],
      "text/plain": [
       "                            Country  Confirmed  Deaths  Recovered\n",
       "0                        Azerbaijan        1.0     0.0        0.0\n",
       "1                   ('St. Martin',)        2.0     0.0        0.0\n",
       "2                       Afghanistan       58.0     0.0        0.0\n",
       "3                           Albania      118.0     4.0        0.0\n",
       "4                           Algeria      238.0     6.0       28.0\n",
       "..                              ...        ...     ...        ...\n",
       "151                         Uruguay        4.0     0.0        0.0\n",
       "152                    Vatican City        4.0     0.0        0.0\n",
       "153                       Venezuela        2.0     0.0        0.0\n",
       "154                         Vietnam      798.0     0.0      438.0\n",
       "155  occupied Palestinian territory       25.0     0.0        0.0\n",
       "\n",
       "[156 rows x 4 columns]"
      ]
     },
     "execution_count": 69,
     "metadata": {},
     "output_type": "execute_result"
    }
   ],
   "source": [
    "ds.groupby(\"Country\")[['Confirmed', 'Deaths', 'Recovered']].sum().reset_index()"
   ]
  },
  {
   "cell_type": "markdown",
   "metadata": {},
   "source": [
    "## Visualization"
   ]
  },
  {
   "cell_type": "code",
   "execution_count": 70,
   "metadata": {},
   "outputs": [
    {
     "data": {
      "text/html": [
       "<div>\n",
       "<style scoped>\n",
       "    .dataframe tbody tr th:only-of-type {\n",
       "        vertical-align: middle;\n",
       "    }\n",
       "\n",
       "    .dataframe tbody tr th {\n",
       "        vertical-align: top;\n",
       "    }\n",
       "\n",
       "    .dataframe thead th {\n",
       "        text-align: right;\n",
       "    }\n",
       "</style>\n",
       "<table border=\"1\" class=\"dataframe\">\n",
       "  <thead>\n",
       "    <tr style=\"text-align: right;\">\n",
       "      <th></th>\n",
       "      <th>SNo</th>\n",
       "      <th>Confirmed</th>\n",
       "      <th>Deaths</th>\n",
       "      <th>Recovered</th>\n",
       "    </tr>\n",
       "    <tr>\n",
       "      <th>ObservationDate</th>\n",
       "      <th></th>\n",
       "      <th></th>\n",
       "      <th></th>\n",
       "      <th></th>\n",
       "    </tr>\n",
       "  </thead>\n",
       "  <tbody>\n",
       "    <tr>\n",
       "      <td>01/22/2020</td>\n",
       "      <td>741</td>\n",
       "      <td>555.0</td>\n",
       "      <td>17.0</td>\n",
       "      <td>28.0</td>\n",
       "    </tr>\n",
       "    <tr>\n",
       "      <td>01/23/2020</td>\n",
       "      <td>2829</td>\n",
       "      <td>653.0</td>\n",
       "      <td>18.0</td>\n",
       "      <td>30.0</td>\n",
       "    </tr>\n",
       "    <tr>\n",
       "      <td>01/24/2020</td>\n",
       "      <td>4305</td>\n",
       "      <td>941.0</td>\n",
       "      <td>26.0</td>\n",
       "      <td>36.0</td>\n",
       "    </tr>\n",
       "    <tr>\n",
       "      <td>01/25/2020</td>\n",
       "      <td>6490</td>\n",
       "      <td>1438.0</td>\n",
       "      <td>42.0</td>\n",
       "      <td>39.0</td>\n",
       "    </tr>\n",
       "    <tr>\n",
       "      <td>01/26/2020</td>\n",
       "      <td>9071</td>\n",
       "      <td>2118.0</td>\n",
       "      <td>56.0</td>\n",
       "      <td>52.0</td>\n",
       "    </tr>\n",
       "  </tbody>\n",
       "</table>\n",
       "</div>"
      ],
      "text/plain": [
       "                  SNo  Confirmed  Deaths  Recovered\n",
       "ObservationDate                                    \n",
       "01/22/2020        741      555.0    17.0       28.0\n",
       "01/23/2020       2829      653.0    18.0       30.0\n",
       "01/24/2020       4305      941.0    26.0       36.0\n",
       "01/25/2020       6490     1438.0    42.0       39.0\n",
       "01/26/2020       9071     2118.0    56.0       52.0"
      ]
     },
     "execution_count": 70,
     "metadata": {},
     "output_type": "execute_result"
    }
   ],
   "source": [
    "ds.groupby('ObservationDate').sum().head()"
   ]
  },
  {
   "cell_type": "markdown",
   "metadata": {},
   "source": [
    "### Summary Plot of worldwide cases - Confirmed, Deaths and Recovered"
   ]
  },
  {
   "cell_type": "code",
   "execution_count": 71,
   "metadata": {},
   "outputs": [],
   "source": [
    "confirmed = ds.groupby('ObservationDate').sum()['Confirmed'].reset_index()\n",
    "confirmed.head()\n",
    "deaths = ds.groupby('ObservationDate').sum()['Deaths'].reset_index()\n",
    "recovered = ds.groupby('ObservationDate').sum()['Recovered'].reset_index()"
   ]
  },
  {
   "cell_type": "code",
   "execution_count": 72,
   "metadata": {},
   "outputs": [
    {
     "data": {
      "image/png": "[encoded data removed]",
      "text/plain": [
       "<Figure size 1152x1008 with 1 Axes>"
      ]
     },
     "metadata": {
      "needs_background": "light"
     },
     "output_type": "display_data"
    }
   ],
   "source": [
    "plt.figure(figsize=(16,14))\n",
    "plt.subplot(211)\n",
    "plt.plot(confirmed['ObservationDate'],confirmed['Confirmed'], linewidth=5.0)\n",
    "plt.plot(confirmed['ObservationDate'],deaths['Deaths'], linewidth=5.0)\n",
    "plt.plot(confirmed['ObservationDate'],recovered['Recovered'], linewidth=5.0)\n",
    "plt.xticks(rotation=90, fontsize=12)\n",
    "plt.grid(True)\n",
    "plt.show()"
   ]
  },
  {
   "cell_type": "code",
   "execution_count": 47,
   "metadata": {},
   "outputs": [],
   "source": [
    "ds_confirmed = ds_confirmed[['Province/State','Lat','Long','Country']]\n",
    "ds_lat_long = pd.merge(ds, ds_confirmed, on=[\"Province/State\", \"Country\"])"
   ]
  },
  {
   "cell_type": "code",
   "execution_count": 54,
   "metadata": {},
   "outputs": [
    {
     "data": {
      "application/vnd.plotly.v1+json": {
       "config": {
        "plotlyServerURL": "https://plot.ly"
       },
       "data": [
        {
         "customdata": [
          [
           1,
           0,
           0
          ],
          [
           2,
           0,
           0
          ],
          [
           2,
           0,
           0
          ]
         ],
         "hoverlabel": {
          "namelength": 0
         },
         "hovertemplate": "<b>%{hovertext}</b><br><br>ObservationDate=01/22/2020<br>Confirmed=%{customdata[0]}<br>Deaths=%{customdata[1]}<br>Recovered=%{customdata[2]}<br>Lat=%{lat}<br>Long=%{lon}",
         "hovertext": [
          "Washington",
          null,
          null
         ],
         "lat": [
          47.4009,
          36,
          15
         ],
         "legendgroup": "",
         "lon": [
          -121.4905,
          138,
          101
         ],
         "marker": {
          "color": "#636efa"
         },
         "mode": "markers",
         "name": "",
         "showlegend": false,
         "subplot": "mapbox",
         "type": "scattermapbox"
        }
       ],
       "frames": [
        {
         "data": [
          {
           "customdata": [
            [
             1,
             0,
             0
            ],
            [
             2,
             0,
             0
            ],
            [
             2,
             0,
             0
            ]
           ],
           "hoverlabel": {
            "namelength": 0
           },
           "hovertemplate": "<b>%{hovertext}</b><br><br>ObservationDate=01/22/2020<br>Confirmed=%{customdata[0]}<br>Deaths=%{customdata[1]}<br>Recovered=%{customdata[2]}<br>Lat=%{lat}<br>Long=%{lon}",
           "hovertext": [
            "Washington",
            null,
            null
           ],
           "lat": [
            47.4009,
            36,
            15
           ],
           "legendgroup": "",
           "lon": [
            -121.4905,
            138,
            101
           ],
           "marker": {
            "color": "#636efa"
           },
           "mode": "markers",
           "name": "",
           "showlegend": false,
           "subplot": "mapbox",
           "type": "scattermapbox"
          }
         ],
         "name": "01/22/2020"
        },
        {
         "data": [
          {
           "customdata": [
            [
             1,
             0,
             0
            ],
            [
             1,
             0,
             0
            ],
            [
             3,
             0,
             0
            ],
            [
             1,
             0,
             0
            ],
            [
             0,
             0,
             0
            ],
            [
             0,
             0,
             0
            ],
            [
             2,
             0,
             0
            ],
            [
             0,
             0,
             0
            ],
            [
             0,
             0,
             0
            ],
            [
             0,
             0,
             0
            ]
           ],
           "hoverlabel": {
            "namelength": 0
           },
           "hovertemplate": "<b>%{hovertext}</b><br><br>ObservationDate=01/23/2020<br>Confirmed=%{customdata[0]}<br>Deaths=%{customdata[1]}<br>Recovered=%{customdata[2]}<br>Lat=%{lat}<br>Long=%{lon}",
           "hovertext": [
            "Washington",
            null,
            null,
            null,
            null,
            null,
            null,
            null,
            null,
            null
           ],
           "lat": [
            47.4009,
            36,
            15,
            1.2833,
            13,
            2.5,
            16,
            23.6345,
            -14.235,
            4.5709
           ],
           "legendgroup": "",
           "lon": [
            -121.4905,
            138,
            101,
            103.8333,
            122,
            112.5,
            108,
            -102.5528,
            -51.9253,
            -74.2973
           ],
           "marker": {
            "color": "#636efa"
           },
           "mode": "markers",
           "name": "",
           "showlegend": false,
           "subplot": "mapbox",
           "type": "scattermapbox"
          }
         ],
         "name": "01/23/2020"
        },
        {
         "data": [
          {
           "customdata": [
            [
             1,
             0,
             0
            ],
            [
             2,
             0,
             0
            ],
            [
             5,
             0,
             0
            ],
            [
             3,
             0,
             0
            ],
            [
             2,
             0,
             0
            ]
           ],
           "hoverlabel": {
            "namelength": 0
           },
           "hovertemplate": "<b>%{hovertext}</b><br><br>ObservationDate=01/24/2020<br>Confirmed=%{customdata[0]}<br>Deaths=%{customdata[1]}<br>Recovered=%{customdata[2]}<br>Lat=%{lat}<br>Long=%{lon}",
           "hovertext": [
            "Washington",
            null,
            null,
            null,
            null
           ],
           "lat": [
            47.4009,
            36,
            15,
            1.2833,
            16
           ],
           "legendgroup": "",
           "lon": [
            -121.4905,
            138,
            101,
            103.8333,
            108
           ],
           "marker": {
            "color": "#636efa"
           },
           "mode": "markers",
           "name": "",
           "showlegend": false,
           "subplot": "mapbox",
           "type": "scattermapbox"
          }
         ],
         "name": "01/24/2020"
        },
        {
         "data": [
          {
           "customdata": [
            [
             1,
             0,
             0
            ],
            [
             2,
             0,
             0
            ],
            [
             7,
             0,
             0
            ],
            [
             3,
             0,
             0
            ],
            [
             3,
             0,
             0
            ],
            [
             2,
             0,
             0
            ],
            [
             1,
             0,
             0
            ],
            [
             1,
             0,
             0
            ]
           ],
           "hoverlabel": {
            "namelength": 0
           },
           "hovertemplate": "<b>%{hovertext}</b><br><br>ObservationDate=01/25/2020<br>Confirmed=%{customdata[0]}<br>Deaths=%{customdata[1]}<br>Recovered=%{customdata[2]}<br>Lat=%{lat}<br>Long=%{lon}",
           "hovertext": [
            "Washington",
            null,
            null,
            null,
            null,
            null,
            "Illinois",
            null
           ],
           "lat": [
            47.4009,
            36,
            15,
            1.2833,
            2.5,
            16,
            40.3495,
            28.1667
           ],
           "legendgroup": "",
           "lon": [
            -121.4905,
            138,
            101,
            103.8333,
            112.5,
            108,
            -88.9861,
            84.25
           ],
           "marker": {
            "color": "#636efa"
           },
           "mode": "markers",
           "name": "",
           "showlegend": false,
           "subplot": "mapbox",
           "type": "scattermapbox"
          }
         ],
         "name": "01/25/2020"
        },
        {
         "data": [
          {
           "customdata": [
            [
             1,
             0,
             0
            ],
            [
             4,
             0,
             1
            ],
            [
             8,
             0,
             2
            ],
            [
             4,
             0,
             0
            ],
            [
             4,
             0,
             0
            ],
            [
             2,
             0,
             0
            ],
            [
             1,
             0,
             0
            ],
            [
             1,
             0,
             0
            ],
            [
             2,
             0,
             0
            ],
            [
             1,
             0,
             0
            ],
            [
             1,
             0,
             0
            ]
           ],
           "hoverlabel": {
            "namelength": 0
           },
           "hovertemplate": "<b>%{hovertext}</b><br><br>ObservationDate=01/26/2020<br>Confirmed=%{customdata[0]}<br>Deaths=%{customdata[1]}<br>Recovered=%{customdata[2]}<br>Lat=%{lat}<br>Long=%{lon}",
           "hovertext": [
            "Washington",
            null,
            null,
            null,
            null,
            null,
            "Illinois",
            null,
            "California",
            "Arizona",
            "Ontario"
           ],
           "lat": [
            47.4009,
            36,
            15,
            1.2833,
            2.5,
            16,
            40.3495,
            28.1667,
            36.1162,
            33.7298,
            51.2538
           ],
           "legendgroup": "",
           "lon": [
            -121.4905,
            138,
            101,
            103.8333,
            112.5,
            108,
            -88.9861,
            84.25,
            -119.6816,
            -111.4312,
            -85.3232
           ],
           "marker": {
            "color": "#636efa"
           },
           "mode": "markers",
           "name": "",
           "showlegend": false,
           "subplot": "mapbox",
           "type": "scattermapbox"
          }
         ],
         "name": "01/26/2020"
        },
        {
         "data": [
          {
           "customdata": [
            [
             1,
             0,
             0
            ],
            [
             4,
             0,
             1
            ],
            [
             8,
             0,
             2
            ],
            [
             5,
             0,
             0
            ],
            [
             4,
             0,
             0
            ],
            [
             2,
             0,
             0
            ],
            [
             1,
             0,
             0
            ],
            [
             1,
             0,
             0
            ],
            [
             2,
             0,
             0
            ],
            [
             1,
             0,
             0
            ],
            [
             1,
             0,
             0
            ],
            [
             1,
             0,
             0
            ],
            [
             1,
             0,
             0
            ],
            [
             4,
             0,
             0
            ],
            [
             1,
             0,
             0
            ]
           ],
           "hoverlabel": {
            "namelength": 0
           },
           "hovertemplate": "<b>%{hovertext}</b><br><br>ObservationDate=01/27/2020<br>Confirmed=%{customdata[0]}<br>Deaths=%{customdata[1]}<br>Recovered=%{customdata[2]}<br>Lat=%{lat}<br>Long=%{lon}",
           "hovertext": [
            "Washington",
            null,
            null,
            null,
            null,
            null,
            "Illinois",
            null,
            "California",
            "Arizona",
            "Ontario",
            null,
            null,
            "New South Wales",
            "Victoria"
           ],
           "lat": [
            47.4009,
            36,
            15,
            1.2833,
            2.5,
            16,
            40.3495,
            28.1667,
            36.1162,
            33.7298,
            51.2538,
            11.55,
            7,
            -33.8688,
            -37.8136
           ],
           "legendgroup": "",
           "lon": [
            -121.4905,
            138,
            101,
            103.8333,
            112.5,
            108,
            -88.9861,
            84.25,
            -119.6816,
            -111.4312,
            -85.3232,
            104.9167,
            81,
            151.2093,
            144.9631
           ],
           "marker": {
            "color": "#636efa"
           },
           "mode": "markers",
           "name": "",
           "showlegend": false,
           "subplot": "mapbox",
           "type": "scattermapbox"
          }
         ],
         "name": "01/27/2020"
        },
        {
         "data": [
          {
           "customdata": [
            [
             1,
             0,
             0
            ],
            [
             7,
             0,
             1
            ],
            [
             14,
             0,
             5
            ],
            [
             7,
             0,
             0
            ],
            [
             4,
             0,
             0
            ],
            [
             2,
             0,
             0
            ],
            [
             1,
             0,
             0
            ],
            [
             1,
             0,
             0
            ],
            [
             2,
             0,
             0
            ],
            [
             1,
             0,
             0
            ],
            [
             1,
             0,
             0
            ],
            [
             1,
             0,
             0
            ],
            [
             1,
             0,
             0
            ],
            [
             4,
             0,
             0
            ],
            [
             1,
             0,
             0
            ],
            [
             1,
             0,
             0
            ]
           ],
           "hoverlabel": {
            "namelength": 0
           },
           "hovertemplate": "<b>%{hovertext}</b><br><br>ObservationDate=01/28/2020<br>Confirmed=%{customdata[0]}<br>Deaths=%{customdata[1]}<br>Recovered=%{customdata[2]}<br>Lat=%{lat}<br>Long=%{lon}",
           "hovertext": [
            "Washington",
            null,
            null,
            null,
            null,
            null,
            "Illinois",
            null,
            "California",
            "Arizona",
            "Ontario",
            null,
            null,
            "New South Wales",
            "Victoria",
            "British Columbia"
           ],
           "lat": [
            47.4009,
            36,
            15,
            1.2833,
            2.5,
            16,
            40.3495,
            28.1667,
            36.1162,
            33.7298,
            51.2538,
            11.55,
            7,
            -33.8688,
            -37.8136,
            49.2827
           ],
           "legendgroup": "",
           "lon": [
            -121.4905,
            138,
            101,
            103.8333,
            112.5,
            108,
            -88.9861,
            84.25,
            -119.6816,
            -111.4312,
            -85.3232,
            104.9167,
            81,
            151.2093,
            144.9631,
            -123.1207
           ],
           "marker": {
            "color": "#636efa"
           },
           "mode": "markers",
           "name": "",
           "showlegend": false,
           "subplot": "mapbox",
           "type": "scattermapbox"
          }
         ],
         "name": "01/28/2020"
        },
        {
         "data": [
          {
           "customdata": [
            [
             1,
             0,
             0
            ],
            [
             7,
             0,
             1
            ],
            [
             14,
             0,
             5
            ],
            [
             7,
             0,
             0
            ],
            [
             7,
             0,
             0
            ],
            [
             2,
             0,
             0
            ],
            [
             1,
             0,
             0
            ],
            [
             1,
             0,
             0
            ],
            [
             2,
             0,
             0
            ],
            [
             1,
             0,
             0
            ],
            [
             1,
             0,
             0
            ],
            [
             1,
             0,
             0
            ],
            [
             1,
             0,
             0
            ],
            [
             4,
             0,
             0
            ],
            [
             1,
             0,
             0
            ],
            [
             1,
             0,
             0
            ],
            [
             1,
             0,
             0
            ],
            [
             4,
             0,
             0
            ]
           ],
           "hoverlabel": {
            "namelength": 0
           },
           "hovertemplate": "<b>%{hovertext}</b><br><br>ObservationDate=01/29/2020<br>Confirmed=%{customdata[0]}<br>Deaths=%{customdata[1]}<br>Recovered=%{customdata[2]}<br>Lat=%{lat}<br>Long=%{lon}",
           "hovertext": [
            "Washington",
            null,
            null,
            null,
            null,
            null,
            "Illinois",
            null,
            "California",
            "Arizona",
            "Ontario",
            null,
            null,
            "New South Wales",
            "Victoria",
            "British Columbia",
            null,
            null
           ],
           "lat": [
            47.4009,
            36,
            15,
            1.2833,
            2.5,
            16,
            40.3495,
            28.1667,
            36.1162,
            33.7298,
            51.2538,
            11.55,
            7,
            -33.8688,
            -37.8136,
            49.2827,
            64,
            24
           ],
           "legendgroup": "",
           "lon": [
            -121.4905,
            138,
            101,
            103.8333,
            112.5,
            108,
            -88.9861,
            84.25,
            -119.6816,
            -111.4312,
            -85.3232,
            104.9167,
            81,
            151.2093,
            144.9631,
            -123.1207,
            26,
            54
           ],
           "marker": {
            "color": "#636efa"
           },
           "mode": "markers",
           "name": "",
           "showlegend": false,
           "subplot": "mapbox",
           "type": "scattermapbox"
          }
         ],
         "name": "01/29/2020"
        },
        {
         "data": [
          {
           "customdata": [
            [
             1,
             0,
             0
            ],
            [
             11,
             0,
             1
            ],
            [
             14,
             0,
             5
            ],
            [
             10,
             0,
             0
            ],
            [
             1,
             0,
             0
            ],
            [
             8,
             0,
             0
            ],
            [
             2,
             0,
             0
            ],
            [
             1,
             0,
             0
            ],
            [
             1,
             0,
             0
            ],
            [
             2,
             0,
             0
            ],
            [
             1,
             0,
             0
            ],
            [
             2,
             0,
             0
            ],
            [
             1,
             0,
             0
            ],
            [
             1,
             0,
             0
            ],
            [
             4,
             0,
             2
            ],
            [
             2,
             0,
             0
            ],
            [
             1,
             0,
             0
            ],
            [
             1,
             0,
             0
            ],
            [
             4,
             0,
             0
            ],
            [
             3,
             0,
             0
            ],
            [
             1,
             0,
             0
            ]
           ],
           "hoverlabel": {
            "namelength": 0
           },
           "hovertemplate": "<b>%{hovertext}</b><br><br>ObservationDate=01/30/2020<br>Confirmed=%{customdata[0]}<br>Deaths=%{customdata[1]}<br>Recovered=%{customdata[2]}<br>Lat=%{lat}<br>Long=%{lon}",
           "hovertext": [
            "Washington",
            null,
            null,
            null,
            null,
            null,
            null,
            "Illinois",
            null,
            "California",
            "Arizona",
            "Ontario",
            null,
            null,
            "New South Wales",
            "Victoria",
            "British Columbia",
            null,
            null,
            "Queensland",
            null
           ],
           "lat": [
            47.4009,
            36,
            15,
            1.2833,
            13,
            2.5,
            16,
            40.3495,
            28.1667,
            36.1162,
            33.7298,
            51.2538,
            11.55,
            7,
            -33.8688,
            -37.8136,
            49.2827,
            64,
            24,
            -28.0167,
            21
           ],
           "legendgroup": "",
           "lon": [
            -121.4905,
            138,
            101,
            103.8333,
            122,
            112.5,
            108,
            -88.9861,
            84.25,
            -119.6816,
            -111.4312,
            -85.3232,
            104.9167,
            81,
            151.2093,
            144.9631,
            -123.1207,
            26,
            54,
            153.4,
            78
           ],
           "marker": {
            "color": "#636efa"
           },
           "mode": "markers",
           "name": "",
           "showlegend": false,
           "subplot": "mapbox",
           "type": "scattermapbox"
          }
         ],
         "name": "01/30/2020"
        },
        {
         "data": [
          {
           "customdata": [
            [
             1,
             0,
             0
            ],
            [
             15,
             0,
             1
            ],
            [
             19,
             0,
             5
            ],
            [
             13,
             0,
             0
            ],
            [
             1,
             0,
             0
            ],
            [
             8,
             0,
             0
            ],
            [
             2,
             0,
             0
            ],
            [
             2,
             0,
             0
            ],
            [
             1,
             0,
             0
            ],
            [
             2,
             0,
             0
            ],
            [
             1,
             0,
             0
            ],
            [
             2,
             0,
             0
            ],
            [
             1,
             0,
             0
            ],
            [
             1,
             0,
             0
            ],
            [
             4,
             0,
             2
            ],
            [
             3,
             0,
             0
            ],
            [
             1,
             0,
             0
            ],
            [
             1,
             0,
             0
            ],
            [
             4,
             0,
             0
            ],
            [
             2,
             0,
             0
            ],
            [
             1,
             0,
             0
            ],
            [
             2,
             0,
             0
            ],
            [
             2,
             0,
             0
            ],
            [
             1,
             0,
             0
            ]
           ],
           "hoverlabel": {
            "namelength": 0
           },
           "hovertemplate": "<b>%{hovertext}</b><br><br>ObservationDate=01/31/2020<br>Confirmed=%{customdata[0]}<br>Deaths=%{customdata[1]}<br>Recovered=%{customdata[2]}<br>Lat=%{lat}<br>Long=%{lon}",
           "hovertext": [
            "Washington",
            null,
            null,
            null,
            null,
            null,
            null,
            "Illinois",
            null,
            "California",
            "Arizona",
            "Ontario",
            null,
            null,
            "New South Wales",
            "Victoria",
            "British Columbia",
            null,
            null,
            "Queensland",
            null,
            null,
            null,
            null
           ],
           "lat": [
            47.4009,
            36,
            15,
            1.2833,
            13,
            2.5,
            16,
            40.3495,
            28.1667,
            36.1162,
            33.7298,
            51.2538,
            11.55,
            7,
            -33.8688,
            -37.8136,
            49.2827,
            64,
            24,
            -28.0167,
            21,
            43,
            60,
            63
           ],
           "legendgroup": "",
           "lon": [
            -121.4905,
            138,
            101,
            103.8333,
            122,
            112.5,
            108,
            -88.9861,
            84.25,
            -119.6816,
            -111.4312,
            -85.3232,
            104.9167,
            81,
            151.2093,
            144.9631,
            -123.1207,
            26,
            54,
            153.4,
            78,
            12,
            90,
            16
           ],
           "marker": {
            "color": "#636efa"
           },
           "mode": "markers",
           "name": "",
           "showlegend": false,
           "subplot": "mapbox",
           "type": "scattermapbox"
          }
         ],
         "name": "01/31/2020"
        },
        {
         "data": [
          {
           "customdata": [
            [
             267,
             23,
             1
            ],
            [
             581,
             10,
             101
            ],
            [
             53,
             1,
             33
            ],
            [
             160,
             0,
             78
            ],
            [
             33,
             1,
             2
            ],
            [
             129,
             0,
             24
            ],
            [
             31,
             0,
             16
            ],
            [
             7,
             0,
             4
            ],
            [
             31,
             0,
             0
            ],
            [
             3,
             0,
             0
            ],
            [
             12,
             0,
             2
            ],
            [
             1,
             0,
             1
            ],
            [
             144,
             2,
             2
            ],
            [
             6,
             0,
             1
            ],
            [
             36,
             0,
             4
            ],
            [
             2,
             0,
             1
            ],
            [
             1,
             0,
             1
            ],
            [
             55,
             2,
             4
            ],
            [
             18,
             0,
             7
            ],
            [
             32,
             1,
             4
            ],
            [
             40,
             0,
             1
            ],
            [
             74,
             0,
             12
            ],
            [
             18,
             0,
             8
            ],
            [
             56,
             0,
             4
            ],
            [
             10149,
             631,
             724
            ],
            [
             10,
             0,
             3
            ],
            [
             355,
             0,
             1
            ],
            [
             1457,
             2,
             18
            ],
            [
             7,
             0,
             2
            ],
            [
             1695,
             35,
             32
            ],
            [
             267,
             0,
             1
            ],
            [
             59,
             1,
             1
            ],
            [
             8042,
             291,
             2731
            ],
            [
             41,
             1,
             1
            ],
            [
             18,
             0,
             9
            ],
            [
             5,
             0,
             0
            ],
            [
             110,
             0,
             22
            ],
            [
             71,
             7,
             3
            ],
            [
             69,
             0,
             1
            ],
            [
             20,
             0,
             0
            ],
            [
             14,
             0,
             0
            ],
            [
             491,
             3,
             3
            ],
            [
             182,
             0,
             4
            ],
            [
             58,
             0,
             4
            ],
            [
             16,
             0,
             1
            ],
            [
             15,
             0,
             0
            ],
            [
             89,
             0,
             0
            ],
            [
             7,
             0,
             0
            ],
            [
             400,
             0,
             1
            ],
            [
             25,
             0,
             3
            ],
            [
             12,
             0,
             0
            ],
            [
             382,
             4,
             0
            ],
            [
             51,
             2,
             0
            ],
            [
             9,
             0,
             3
            ],
            [
             69,
             0,
             1
            ],
            [
             1,
             0,
             0
            ],
            [
             5,
             0,
             0
            ],
            [
             2,
             0,
             0
            ],
            [
             6,
             1,
             0
            ],
            [
             34,
             0,
             0
            ],
            [
             5,
             0,
             0
            ],
            [
             1,
             0,
             0
            ],
            [
             24,
             0,
             0
            ],
            [
             15,
             0,
             0
            ],
            [
             11,
             0,
             0
            ],
            [
             1,
             0,
             0
            ],
            [
             5,
             0,
             0
            ],
            [
             27,
             0,
             2
            ],
            [
             41,
             0,
             0
            ],
            [
             1,
             0,
             0
            ],
            [
             2,
             0,
             0
            ],
            [
             8,
             0,
             1
            ],
            [
             3,
             1,
             0
            ],
            [
             20,
             0,
             1
            ],
            [
             4,
             0,
             1
            ],
            [
             17,
             1,
             0
            ],
            [
             13,
             0,
             0
            ],
            [
             1,
             0,
             0
            ],
            [
             1,
             0,
             0
            ],
            [
             9,
             0,
             0
            ],
            [
             1,
             0,
             0
            ],
            [
             1,
             0,
             0
            ],
            [
             22,
             0,
             0
            ],
            [
             5,
             0,
             0
            ],
            [
             5,
             0,
             0
            ],
            [
             31,
             0,
             0
            ],
            [
             7,
             0,
             0
            ],
            [
             1,
             0,
             0
            ],
            [
             2,
             0,
             0
            ],
            [
             9,
             0,
             0
            ],
            [
             11,
             0,
             0
            ],
            [
             5,
             0,
             0
            ],
            [
             7,
             0,
             0
            ],
            [
             1,
             0,
             0
            ],
            [
             5,
             0,
             0
            ],
            [
             5,
             0,
             0
            ],
            [
             2,
             0,
             0
            ],
            [
             4,
             0,
             0
            ],
            [
             6,
             0,
             0
            ],
            [
             3,
             0,
             0
            ],
            [
             3,
             0,
             0
            ],
            [
             1,
             0,
             0
            ],
            [
             7,
             0,
             0
            ],
            [
             4,
             0,
             0
            ],
            [
             10,
             0,
             0
            ],
            [
             3,
             0,
             0
            ],
            [
             1,
             0,
             0
            ],
            [
             173,
             0,
             0
            ],
            [
             92,
             0,
             1
            ],
            [
             25,
             0,
             0
            ],
            [
             21,
             0,
             0
            ],
            [
             17,
             0,
             0
            ],
            [
             15,
             0,
             0
            ],
            [
             15,
             2,
             0
            ],
            [
             15,
             1,
             0
            ],
            [
             15,
             0,
             0
            ],
            [
             13,
             0,
             0
            ],
            [
             12,
             0,
             0
            ],
            [
             8,
             0,
             0
            ],
            [
             8,
             0,
             0
            ],
            [
             7,
             0,
             0
            ],
            [
             7,
             0,
             0
            ],
            [
             7,
             0,
             0
            ],
            [
             7,
             0,
             0
            ],
            [
             6,
             0,
             0
            ],
            [
             6,
             0,
             0
            ],
            [
             5,
             0,
             0
            ],
            [
             4,
             0,
             0
            ],
            [
             4,
             0,
             0
            ],
            [
             3,
             0,
             0
            ],
            [
             3,
             0,
             0
            ],
            [
             3,
             0,
             0
            ],
            [
             3,
             0,
             0
            ],
            [
             3,
             0,
             1
            ],
            [
             2,
             0,
             0
            ],
            [
             2,
             0,
             0
            ],
            [
             2,
             0,
             0
            ],
            [
             2,
             0,
             0
            ],
            [
             1,
             0,
             0
            ],
            [
             1,
             0,
             0
            ],
            [
             1,
             0,
             0
            ],
            [
             1,
             0,
             0
            ],
            [
             1,
             0,
             0
            ],
            [
             1,
             0,
             0
            ],
            [
             1,
             0,
             0
            ],
            [
             1,
             0,
             0
            ],
            [
             0,
             0,
             0
            ],
            [
             0,
             0,
             0
            ],
            [
             0,
             0,
             0
            ],
            [
             0,
             0,
             0
            ],
            [
             0,
             0,
             0
            ],
            [
             0,
             0,
             0
            ],
            [
             0,
             0,
             0
            ],
            [
             0,
             0,
             0
            ],
            [
             0,
             0,
             0
            ],
            [
             0,
             0,
             0
            ],
            [
             0,
             0,
             0
            ],
            [
             0,
             0,
             0
            ],
            [
             0,
             0,
             0
            ]
           ],
           "hoverlabel": {
            "namelength": 0
           },
           "hovertemplate": "<b>%{hovertext}</b><br><br>ObservationDate=03/10/2020<br>Confirmed=%{customdata[0]}<br>Deaths=%{customdata[1]}<br>Recovered=%{customdata[2]}<br>Lat=%{lat}<br>Long=%{lon}",
           "hovertext": [
            "Washington",
            null,
            null,
            null,
            null,
            null,
            null,
            null,
            null,
            null,
            "Illinois",
            null,
            "California",
            "Arizona",
            "Ontario",
            null,
            null,
            "New South Wales",
            "Victoria",
            "British Columbia",
            null,
            null,
            "Queensland",
            null,
            null,
            null,
            null,
            null,
            "South Australia",
            null,
            null,
            null,
            null,
            null,
            null,
            null,
            null,
            null,
            null,
            null,
            null,
            null,
            null,
            null,
            null,
            null,
            null,
            null,
            null,
            null,
            null,
            null,
            null,
            null,
            null,
            null,
            null,
            null,
            "Western Australia",
            null,
            null,
            null,
            null,
            null,
            null,
            null,
            null,
            null,
            null,
            null,
            "Tasmania",
            null,
            null,
            null,
            null,
            null,
            null,
            null,
            null,
            null,
            "Northern Territory",
            null,
            null,
            null,
            null,
            null,
            null,
            null,
            null,
            null,
            null,
            null,
            null,
            null,
            null,
            null,
            null,
            null,
            null,
            null,
            null,
            null,
            "Alberta",
            "Quebec",
            null,
            null,
            null,
            "New York",
            "Massachusetts",
            null,
            "Grand Princess",
            "Georgia",
            "Colorado",
            "Florida",
            "New Jersey",
            "Oregon",
            "Texas",
            "Pennsylvania",
            "Iowa",
            "Maryland",
            "North Carolina",
            "South Carolina",
            "Tennessee",
            "Virginia",
            "Indiana",
            "Kentucky",
            "District of Columbia",
            "Nevada",
            "New Hampshire",
            "Minnesota",
            "Nebraska",
            "Ohio",
            "Rhode Island",
            "Wisconsin",
            "Connecticut",
            "Hawaii",
            "Oklahoma",
            "Utah",
            null,
            null,
            null,
            null,
            "Kansas",
            "Louisiana",
            "Missouri",
            "Vermont",
            "Alaska",
            "Arkansas",
            "Delaware",
            "Idaho",
            "Maine",
            "Michigan",
            "Mississippi",
            "Montana",
            "New Mexico",
            "North Dakota",
            "South Dakota",
            "West Virginia",
            "Wyoming"
           ],
           "lat": [
            47.4009,
            36,
            15,
            1.2833,
            13,
            2.5,
            16,
            23.6345,
            -14.235,
            4.5709,
            40.3495,
            28.1667,
            36.1162,
            33.7298,
            51.2538,
            11.55,
            7,
            -33.8688,
            -37.8136,
            49.2827,
            64,
            24,
            -28.0167,
            21,
            43,
            60,
            63,
            51,
            -34.9285,
            40,
            50.8333,
            26,
            32,
            33.8547,
            21,
            33,
            26.0275,
            33,
            29.5,
            28.0339,
            45.1,
            46.8182,
            47.5162,
            31,
            30.3753,
            42.3154,
            39.0742,
            41.6086,
            60.472,
            45.9432,
            58.5953,
            52.1326,
            43.9424,
            53.7098,
            64.9631,
            55.1694,
            -40.9006,
            9.082,
            -31.9505,
            53.1424,
            49.8153,
            43.7333,
            25.3548,
            -1.8312,
            40.1431,
            40.0691,
            18.7357,
            -0.7893,
            39.3999,
            42.5063,
            -41.4545,
            56.8796,
            31.7917,
            24,
            14.4974,
            -38.4161,
            -35.6751,
            31.24,
            48.3794,
            47.1625,
            -12.4634,
            47.14,
            51.9194,
            34,
            43.9159,
            46.1512,
            -30.5595,
            27.5142,
            3.8480000000000003,
            9.7489,
            -9.19,
            44.0165,
            48.669,
            8.6195,
            3.9339,
            35.9375,
            14.6415,
            42.7339,
            3.2028,
            23.685,
            47.4116,
            -23.4425,
            53.9333,
            52.9399,
            41.1533,
            35.1264,
            4.5353,
            42.1657,
            42.2302,
            31.9522,
            37.6489,
            33.0406,
            39.0598,
            27.7663,
            40.2989,
            44.571999999999996,
            31.0545,
            40.5908,
            42.0115,
            39.0639,
            35.6301,
            33.8569,
            35.7478,
            37.7693,
            39.8494,
            37.6681,
            38.8974,
            38.3135,
            43.4525,
            45.6945,
            41.1254,
            40.3888,
            41.6809,
            44.2685,
            41.5978,
            21.0943,
            35.5653,
            40.15,
            12.2383,
            41.9029,
            46.8625,
            8.538,
            38.5266,
            31.1695,
            38.4561,
            44.0459,
            61.3707,
            34.9697,
            39.3185,
            44.2405,
            44.6939,
            43.3266,
            32.7416,
            46.9219,
            34.8405,
            47.5289,
            44.2998,
            38.4912,
            42.756
           ],
           "legendgroup": "",
           "lon": [
            -121.4905,
            138,
            101,
            103.8333,
            122,
            112.5,
            108,
            -102.5528,
            -51.9253,
            -74.2973,
            -88.9861,
            84.25,
            -119.6816,
            -111.4312,
            -85.3232,
            104.9167,
            81,
            151.2093,
            144.9631,
            -123.1207,
            26,
            54,
            153.4,
            78,
            12,
            90,
            16,
            9,
            138.6007,
            -4,
            4,
            30,
            53,
            35.8623,
            57,
            65,
            50.55,
            44,
            47.75,
            1.6596,
            15.2,
            8.2275,
            14.5501,
            35,
            69.3451,
            43.3569,
            21.8243,
            21.7453,
            8.4689,
            24.9668,
            25.0136,
            5.2913,
            12.4578,
            27.9534,
            -19.0208,
            23.8813,
            174.886,
            8.6753,
            115.8605,
            -7.6921,
            6.1296,
            7.4167,
            51.1839,
            -78.1834,
            47.5769,
            45.0382,
            -70.1627,
            113.9213,
            -8.2245,
            1.5218,
            145.9707,
            24.6032,
            -7.0926,
            45,
            -14.4524,
            -63.6167,
            -71.543,
            36.51,
            31.1656,
            19.5033,
            130.8456,
            9.55,
            19.1451,
            9,
            17.6791,
            14.9955,
            22.9375,
            90.4336,
            11.5021,
            -83.7534,
            -75.0152,
            21.0059,
            19.699,
            0.8248,
            -53.1258,
            14.3754,
            -61.0242,
            25.4858,
            73.2207,
            90.3563,
            28.3699,
            -58.4438,
            -116.5765,
            -73.5491,
            20.1683,
            33.4299,
            114.7277,
            -74.9481,
            -71.5301,
            35.2332,
            -122.6655,
            -83.6431,
            -105.3111,
            -81.6868,
            -74.521,
            -122.0709,
            -97.5635,
            -77.2098,
            -93.2105,
            -76.8021,
            -79.8064,
            -80.945,
            -86.6923,
            -78.17,
            -86.2583,
            -84.6701,
            -77.0268,
            -117.0554,
            -71.5639,
            -93.9002,
            -98.2681,
            -82.7649,
            -71.5118,
            -89.6165,
            -72.7554,
            -157.4983,
            -96.9289,
            -111.8624,
            -1.5616,
            12.4534,
            103.8467,
            -80.7821,
            -96.7265,
            -91.8678,
            -92.2884,
            -72.7107,
            -152.4044,
            -92.3731,
            -75.5071,
            -114.4788,
            -69.3819,
            -84.5361,
            -89.6787,
            -110.4544,
            -106.2485,
            -99.78399999999999,
            -99.4388,
            -80.9545,
            -107.3025
           ],
           "marker": {
            "color": "#636efa"
           },
           "mode": "markers",
           "name": "",
           "showlegend": false,
           "subplot": "mapbox",
           "type": "scattermapbox"
          }
         ],
         "name": "03/10/2020"
        },
        {
         "data": [
          {
           "customdata": [
            [
             366,
             29,
             1
            ],
            [
             639,
             15,
             118
            ],
            [
             59,
             1,
             34
            ],
            [
             178,
             0,
             96
            ],
            [
             49,
             1,
             2
            ],
            [
             149,
             0,
             26
            ],
            [
             38,
             0,
             16
            ],
            [
             8,
             0,
             4
            ],
            [
             38,
             0,
             0
            ],
            [
             9,
             0,
             0
            ],
            [
             25,
             0,
             2
            ],
            [
             1,
             0,
             1
            ],
            [
             177,
             3,
             2
            ],
            [
             9,
             0,
             1
            ],
            [
             41,
             0,
             4
            ],
            [
             3,
             0,
             1
            ],
            [
             2,
             0,
             1
            ],
            [
             65,
             2,
             4
            ],
            [
             21,
             0,
             7
            ],
            [
             39,
             1,
             4
            ],
            [
             59,
             0,
             1
            ],
            [
             74,
             0,
             17
            ],
            [
             20,
             0,
             8
            ],
            [
             62,
             1,
             4
            ],
            [
             12462,
             827,
             1045
            ],
            [
             20,
             0,
             3
            ],
            [
             500,
             1,
             1
            ],
            [
             1908,
             3,
             25
            ],
            [
             9,
             0,
             2
            ],
            [
             2277,
             54,
             183
            ],
            [
             314,
             3,
             1
            ],
            [
             60,
             1,
             27
            ],
            [
             9000,
             354,
             2959
            ],
            [
             61,
             3,
             1
            ],
            [
             18,
             0,
             9
            ],
            [
             7,
             0,
             0
            ],
            [
             195,
             0,
             35
            ],
            [
             71,
             7,
             15
            ],
            [
             72,
             0,
             2
            ],
            [
             20,
             0,
             0
            ],
            [
             19,
             0,
             0
            ],
            [
             652,
             4,
             4
            ],
            [
             246,
             0,
             4
            ],
            [
             109,
             0,
             4
            ],
            [
             19,
             0,
             2
            ],
            [
             24,
             0,
             0
            ],
            [
             99,
             1,
             0
            ],
            [
             7,
             0,
             0
            ],
            [
             598,
             0,
             1
            ],
            [
             45,
             0,
             6
            ],
            [
             16,
             0,
             0
            ],
            [
             503,
             5,
             0
            ],
            [
             62,
             2,
             0
            ],
            [
             9,
             0,
             3
            ],
            [
             85,
             0,
             1
            ],
            [
             3,
             0,
             0
            ],
            [
             5,
             0,
             0
            ],
            [
             2,
             0,
             0
            ],
            [
             9,
             1,
             0
            ],
            [
             43,
             1,
             0
            ],
            [
             7,
             0,
             0
            ],
            [
             1,
             0,
             0
            ],
            [
             262,
             0,
             0
            ],
            [
             17,
             0,
             0
            ],
            [
             11,
             0,
             3
            ],
            [
             1,
             0,
             0
            ],
            [
             5,
             0,
             0
            ],
            [
             34,
             1,
             2
            ],
            [
             59,
             0,
             0
            ],
            [
             1,
             0,
             0
            ],
            [
             3,
             0,
             0
            ],
            [
             10,
             0,
             1
            ],
            [
             5,
             1,
             0
            ],
            [
             21,
             0,
             1
            ],
            [
             4,
             0,
             1
            ],
            [
             19,
             1,
             0
            ],
            [
             23,
             0,
             0
            ],
            [
             1,
             0,
             0
            ],
            [
             1,
             0,
             0
            ],
            [
             13,
             0,
             0
            ],
            [
             1,
             0,
             0
            ],
            [
             1,
             0,
             0
            ],
            [
             31,
             0,
             0
            ],
            [
             7,
             0,
             0
            ],
            [
             7,
             0,
             0
            ],
            [
             57,
             0,
             0
            ],
            [
             13,
             0,
             0
            ],
            [
             1,
             0,
             0
            ],
            [
             2,
             0,
             0
            ],
            [
             13,
             0,
             0
            ],
            [
             11,
             0,
             0
            ],
            [
             12,
             0,
             0
            ],
            [
             10,
             0,
             0
            ],
            [
             1,
             0,
             0
            ],
            [
             5,
             0,
             0
            ],
            [
             6,
             0,
             0
            ],
            [
             3,
             0,
             0
            ],
            [
             7,
             1,
             0
            ],
            [
             8,
             0,
             0
            ],
            [
             3,
             0,
             0
            ],
            [
             3,
             0,
             0
            ],
            [
             5,
             0,
             0
            ],
            [
             19,
             0,
             0
            ],
            [
             8,
             0,
             0
            ],
            [
             12,
             1,
             0
            ],
            [
             6,
             0,
             0
            ],
            [
             11,
             0,
             0
            ],
            [
             220,
             0,
             0
            ],
            [
             95,
             0,
             1
            ],
            [
             0,
             0,
             0
            ],
            [
             21,
             0,
             0
            ],
            [
             23,
             0,
             0
            ],
            [
             34,
             0,
             0
            ],
            [
             28,
             2,
             0
            ],
            [
             23,
             1,
             0
            ],
            [
             19,
             0,
             0
            ],
            [
             21,
             0,
             0
            ],
            [
             16,
             0,
             0
            ],
            [
             13,
             0,
             0
            ],
            [
             9,
             0,
             0
            ],
            [
             7,
             0,
             0
            ],
            [
             10,
             0,
             0
            ],
            [
             9,
             0,
             0
            ],
            [
             9,
             0,
             0
            ],
            [
             11,
             0,
             0
            ],
            [
             8,
             0,
             0
            ],
            [
             10,
             0,
             0
            ],
            [
             7,
             0,
             0
            ],
            [
             5,
             0,
             0
            ],
            [
             5,
             0,
             0
            ],
            [
             5,
             0,
             0
            ],
            [
             4,
             0,
             0
            ],
            [
             5,
             0,
             0
            ],
            [
             6,
             0,
             1
            ],
            [
             3,
             0,
             0
            ],
            [
             2,
             0,
             0
            ],
            [
             2,
             0,
             0
            ],
            [
             3,
             0,
             0
            ],
            [
             2,
             0,
             0
            ],
            [
             1,
             0,
             0
            ],
            [
             1,
             0,
             0
            ],
            [
             8,
             1,
             0
            ],
            [
             1,
             0,
             0
            ],
            [
             6,
             0,
             0
            ],
            [
             1,
             0,
             0
            ],
            [
             1,
             0,
             0
            ],
            [
             0,
             0,
             0
            ],
            [
             1,
             0,
             0
            ],
            [
             1,
             0,
             0
            ],
            [
             0,
             0,
             0
            ],
            [
             0,
             0,
             0
            ],
            [
             2,
             0,
             0
            ],
            [
             0,
             0,
             0
            ],
            [
             1,
             0,
             0
            ],
            [
             3,
             0,
             0
            ],
            [
             0,
             0,
             0
            ],
            [
             8,
             1,
             0
            ],
            [
             0,
             0,
             0
            ],
            [
             0,
             0,
             0
            ],
            [
             2281,
             48,
             12
            ],
            [
             442,
             0,
             1
            ],
            [
             2,
             0,
             0
            ],
            [
             2,
             0,
             0
            ],
            [
             2,
             0,
             0
            ],
            [
             2,
             0,
             0
            ],
            [
             1,
             0,
             0
            ],
            [
             1,
             0,
             0
            ],
            [
             1,
             0,
             0
            ],
            [
             1,
             0,
             0
            ],
            [
             1,
             0,
             0
            ],
            [
             1,
             0,
             0
            ]
           ],
           "hoverlabel": {
            "namelength": 0
           },
           "hovertemplate": "<b>%{hovertext}</b><br><br>ObservationDate=03/11/2020<br>Confirmed=%{customdata[0]}<br>Deaths=%{customdata[1]}<br>Recovered=%{customdata[2]}<br>Lat=%{lat}<br>Long=%{lon}",
           "hovertext": [
            "Washington",
            null,
            null,
            null,
            null,
            null,
            null,
            null,
            null,
            null,
            "Illinois",
            null,
            "California",
            "Arizona",
            "Ontario",
            null,
            null,
            "New South Wales",
            "Victoria",
            "British Columbia",
            null,
            null,
            "Queensland",
            null,
            null,
            null,
            null,
            null,
            "South Australia",
            null,
            null,
            null,
            null,
            null,
            null,
            null,
            null,
            null,
            null,
            null,
            null,
            null,
            null,
            null,
            null,
            null,
            null,
            null,
            null,
            null,
            null,
            null,
            null,
            null,
            null,
            null,
            null,
            null,
            "Western Australia",
            null,
            null,
            null,
            null,
            null,
            null,
            null,
            null,
            null,
            null,
            null,
            "Tasmania",
            null,
            null,
            null,
            null,
            null,
            null,
            null,
            null,
            null,
            "Northern Territory",
            null,
            null,
            null,
            null,
            null,
            null,
            null,
            null,
            null,
            null,
            null,
            null,
            null,
            null,
            null,
            null,
            null,
            null,
            null,
            null,
            null,
            "Alberta",
            "Quebec",
            null,
            null,
            null,
            "New York",
            "Massachusetts",
            null,
            "Grand Princess",
            "Georgia",
            "Colorado",
            "Florida",
            "New Jersey",
            "Oregon",
            "Texas",
            "Pennsylvania",
            "Iowa",
            "Maryland",
            "North Carolina",
            "South Carolina",
            "Tennessee",
            "Virginia",
            "Indiana",
            "Kentucky",
            "District of Columbia",
            "Nevada",
            "New Hampshire",
            "Minnesota",
            "Nebraska",
            "Ohio",
            "Rhode Island",
            "Wisconsin",
            "Connecticut",
            "Hawaii",
            "Oklahoma",
            "Utah",
            null,
            null,
            null,
            null,
            "Kansas",
            "Louisiana",
            "Missouri",
            "Vermont",
            "Alaska",
            "Arkansas",
            "Delaware",
            "Idaho",
            "Maine",
            "Michigan",
            "Mississippi",
            "Montana",
            "New Mexico",
            "North Dakota",
            "South Dakota",
            "West Virginia",
            "Wyoming",
            "France",
            "Denmark",
            null,
            "Faroe Islands",
            "St Martin",
            null,
            "New Brunswick",
            null,
            "Saint Barthelemy",
            null,
            null,
            null
           ],
           "lat": [
            47.4009,
            36,
            15,
            1.2833,
            13,
            2.5,
            16,
            23.6345,
            -14.235,
            4.5709,
            40.3495,
            28.1667,
            36.1162,
            33.7298,
            51.2538,
            11.55,
            7,
            -33.8688,
            -37.8136,
            49.2827,
            64,
            24,
            -28.0167,
            21,
            43,
            60,
            63,
            51,
            -34.9285,
            40,
            50.8333,
            26,
            32,
            33.8547,
            21,
            33,
            26.0275,
            33,
            29.5,
            28.0339,
            45.1,
            46.8182,
            47.5162,
            31,
            30.3753,
            42.3154,
            39.0742,
            41.6086,
            60.472,
            45.9432,
            58.5953,
            52.1326,
            43.9424,
            53.7098,
            64.9631,
            55.1694,
            -40.9006,
            9.082,
            -31.9505,
            53.1424,
            49.8153,
            43.7333,
            25.3548,
            -1.8312,
            40.1431,
            40.0691,
            18.7357,
            -0.7893,
            39.3999,
            42.5063,
            -41.4545,
            56.8796,
            31.7917,
            24,
            14.4974,
            -38.4161,
            -35.6751,
            31.24,
            48.3794,
            47.1625,
            -12.4634,
            47.14,
            51.9194,
            34,
            43.9159,
            46.1512,
            -30.5595,
            27.5142,
            3.8480000000000003,
            9.7489,
            -9.19,
            44.0165,
            48.669,
            8.6195,
            3.9339,
            35.9375,
            14.6415,
            42.7339,
            3.2028,
            23.685,
            47.4116,
            -23.4425,
            53.9333,
            52.9399,
            41.1533,
            35.1264,
            4.5353,
            42.1657,
            42.2302,
            31.9522,
            37.6489,
            33.0406,
            39.0598,
            27.7663,
            40.2989,
            44.571999999999996,
            31.0545,
            40.5908,
            42.0115,
            39.0639,
            35.6301,
            33.8569,
            35.7478,
            37.7693,
            39.8494,
            37.6681,
            38.8974,
            38.3135,
            43.4525,
            45.6945,
            41.1254,
            40.3888,
            41.6809,
            44.2685,
            41.5978,
            21.0943,
            35.5653,
            40.15,
            12.2383,
            41.9029,
            46.8625,
            8.538,
            38.5266,
            31.1695,
            38.4561,
            44.0459,
            61.3707,
            34.9697,
            39.3185,
            44.2405,
            44.6939,
            43.3266,
            32.7416,
            46.9219,
            34.8405,
            47.5289,
            44.2998,
            38.4912,
            42.756,
            46.2276,
            56.2639,
            -16.2902,
            61.8926,
            18.0708,
            15.2,
            46.5653,
            -4.0383,
            17.9,
            18.1096,
            -21.1151,
            38.9637
           ],
           "legendgroup": "",
           "lon": [
            -121.4905,
            138,
            101,
            103.8333,
            122,
            112.5,
            108,
            -102.5528,
            -51.9253,
            -74.2973,
            -88.9861,
            84.25,
            -119.6816,
            -111.4312,
            -85.3232,
            104.9167,
            81,
            151.2093,
            144.9631,
            -123.1207,
            26,
            54,
            153.4,
            78,
            12,
            90,
            16,
            9,
            138.6007,
            -4,
            4,
            30,
            53,
            35.8623,
            57,
            65,
            50.55,
            44,
            47.75,
            1.6596,
            15.2,
            8.2275,
            14.5501,
            35,
            69.3451,
            43.3569,
            21.8243,
            21.7453,
            8.4689,
            24.9668,
            25.0136,
            5.2913,
            12.4578,
            27.9534,
            -19.0208,
            23.8813,
            174.886,
            8.6753,
            115.8605,
            -7.6921,
            6.1296,
            7.4167,
            51.1839,
            -78.1834,
            47.5769,
            45.0382,
            -70.1627,
            113.9213,
            -8.2245,
            1.5218,
            145.9707,
            24.6032,
            -7.0926,
            45,
            -14.4524,
            -63.6167,
            -71.543,
            36.51,
            31.1656,
            19.5033,
            130.8456,
            9.55,
            19.1451,
            9,
            17.6791,
            14.9955,
            22.9375,
            90.4336,
            11.5021,
            -83.7534,
            -75.0152,
            21.0059,
            19.699,
            0.8248,
            -53.1258,
            14.3754,
            -61.0242,
            25.4858,
            73.2207,
            90.3563,
            28.3699,
            -58.4438,
            -116.5765,
            -73.5491,
            20.1683,
            33.4299,
            114.7277,
            -74.9481,
            -71.5301,
            35.2332,
            -122.6655,
            -83.6431,
            -105.3111,
            -81.6868,
            -74.521,
            -122.0709,
            -97.5635,
            -77.2098,
            -93.2105,
            -76.8021,
            -79.8064,
            -80.945,
            -86.6923,
            -78.17,
            -86.2583,
            -84.6701,
            -77.0268,
            -117.0554,
            -71.5639,
            -93.9002,
            -98.2681,
            -82.7649,
            -71.5118,
            -89.6165,
            -72.7554,
            -157.4983,
            -96.9289,
            -111.8624,
            -1.5616,
            12.4534,
            103.8467,
            -80.7821,
            -96.7265,
            -91.8678,
            -92.2884,
            -72.7107,
            -152.4044,
            -92.3731,
            -75.5071,
            -114.4788,
            -69.3819,
            -84.5361,
            -89.6787,
            -110.4544,
            -106.2485,
            -99.78399999999999,
            -99.4388,
            -80.9545,
            -107.3025,
            2.2137,
            9.5018,
            -63.5887,
            -6.9118,
            -63.0501,
            -86.2419,
            -66.4619,
            21.7587,
            -62.8333,
            -77.2975,
            55.5364,
            35.2433
           ],
           "marker": {
            "color": "#636efa"
           },
           "mode": "markers",
           "name": "",
           "showlegend": false,
           "subplot": "mapbox",
           "type": "scattermapbox"
          }
         ],
         "name": "03/11/2020"
        },
        {
         "data": [
          {
           "customdata": [
            [
             442,
             31,
             1
            ],
            [
             639,
             16,
             118
            ],
            [
             70,
             1,
             34
            ],
            [
             178,
             0,
             96
            ],
            [
             52,
             2,
             2
            ],
            [
             149,
             0,
             26
            ],
            [
             39,
             0,
             16
            ],
            [
             12,
             0,
             4
            ],
            [
             52,
             0,
             0
            ],
            [
             9,
             0,
             0
            ],
            [
             32,
             0,
             2
            ],
            [
             1,
             0,
             1
            ],
            [
             221,
             4,
             6
            ],
            [
             9,
             0,
             1
            ],
            [
             42,
             0,
             4
            ],
            [
             3,
             0,
             1
            ],
            [
             2,
             0,
             1
            ],
            [
             65,
             2,
             4
            ],
            [
             21,
             0,
             7
            ],
            [
             46,
             1,
             4
            ],
            [
             59,
             0,
             1
            ],
            [
             85,
             0,
             17
            ],
            [
             20,
             0,
             8
            ],
            [
             73,
             1,
             4
            ],
            [
             12462,
             827,
             1045
            ],
            [
             28,
             0,
             3
            ],
            [
             599,
             1,
             1
            ],
            [
             2078,
             3,
             25
            ],
            [
             9,
             0,
             2
            ],
            [
             2277,
             55,
             183
            ],
            [
             314,
             3,
             1
            ],
            [
             67,
             1,
             27
            ],
            [
             10075,
             429,
             2959
            ],
            [
             61,
             3,
             1
            ],
            [
             18,
             0,
             9
            ],
            [
             7,
             0,
             0
            ],
            [
             195,
             0,
             35
            ],
            [
             71,
             8,
             15
            ],
            [
             80,
             0,
             5
            ],
            [
             24,
             1,
             8
            ],
            [
             19,
             0,
             0
            ],
            [
             652,
             4,
             4
            ],
            [
             302,
             1,
             4
            ],
            [
             131,
             0,
             4
            ],
            [
             20,
             0,
             2
            ],
            [
             24,
             0,
             0
            ],
            [
             99,
             1,
             0
            ],
            [
             7,
             0,
             0
            ],
            [
             702,
             0,
             1
            ],
            [
             49,
             0,
             6
            ],
            [
             16,
             0,
             0
            ],
            [
             503,
             5,
             0
            ],
            [
             69,
             3,
             0
            ],
            [
             12,
             0,
             3
            ],
            [
             103,
             0,
             1
            ],
            [
             3,
             0,
             0
            ],
            [
             5,
             0,
             0
            ],
            [
             2,
             0,
             0
            ],
            [
             9,
             1,
             0
            ],
            [
             43,
             1,
             0
            ],
            [
             19,
             0,
             0
            ],
            [
             2,
             0,
             0
            ],
            [
             262,
             0,
             0
            ],
            [
             17,
             0,
             0
            ],
            [
             11,
             0,
             3
            ],
            [
             4,
             0,
             0
            ],
            [
             5,
             0,
             0
            ],
            [
             34,
             1,
             2
            ],
            [
             59,
             0,
             0
            ],
            [
             1,
             0,
             1
            ],
            [
             3,
             0,
             0
            ],
            [
             10,
             0,
             1
            ],
            [
             6,
             1,
             0
            ],
            [
             45,
             0,
             1
            ],
            [
             4,
             0,
             1
            ],
            [
             19,
             1,
             0
            ],
            [
             23,
             0,
             0
            ],
            [
             1,
             0,
             0
            ],
            [
             1,
             0,
             0
            ],
            [
             13,
             0,
             0
            ],
            [
             1,
             0,
             0
            ],
            [
             1,
             0,
             0
            ],
            [
             49,
             1,
             0
            ],
            [
             7,
             0,
             0
            ],
            [
             11,
             0,
             0
            ],
            [
             89,
             0,
             0
            ],
            [
             17,
             0,
             0
            ],
            [
             1,
             0,
             0
            ],
            [
             2,
             0,
             0
            ],
            [
             22,
             0,
             0
            ],
            [
             15,
             0,
             0
            ],
            [
             19,
             0,
             0
            ],
            [
             16,
             0,
             0
            ],
            [
             1,
             0,
             0
            ],
            [
             5,
             0,
             0
            ],
            [
             6,
             0,
             0
            ],
            [
             3,
             0,
             0
            ],
            [
             7,
             1,
             0
            ],
            [
             8,
             0,
             0
            ],
            [
             3,
             0,
             0
            ],
            [
             3,
             0,
             0
            ],
            [
             5,
             0,
             0
            ],
            [
             19,
             0,
             0
            ],
            [
             9,
             0,
             0
            ],
            [
             23,
             1,
             0
            ],
            [
             6,
             0,
             0
            ],
            [
             11,
             0,
             0
            ],
            [
             328,
             0,
             0
            ],
            [
             108,
             0,
             1
            ],
            [
             0,
             0,
             0
            ],
            [
             21,
             0,
             0
            ],
            [
             31,
             1,
             0
            ],
            [
             45,
             0,
             0
            ],
            [
             35,
             2,
             0
            ],
            [
             29,
             1,
             0
            ],
            [
             24,
             0,
             0
            ],
            [
             27,
             0,
             0
            ],
            [
             22,
             0,
             0
            ],
            [
             16,
             0,
             0
            ],
            [
             12,
             0,
             0
            ],
            [
             15,
             0,
             0
            ],
            [
             12,
             0,
             0
            ],
            [
             18,
             0,
             0
            ],
            [
             17,
             0,
             0
            ],
            [
             13,
             0,
             0
            ],
            [
             10,
             0,
             0
            ],
            [
             10,
             0,
             0
            ],
            [
             14,
             0,
             0
            ],
            [
             6,
             0,
             0
            ],
            [
             9,
             0,
             0
            ],
            [
             10,
             0,
             0
            ],
            [
             5,
             0,
             0
            ],
            [
             5,
             0,
             0
            ],
            [
             8,
             0,
             1
            ],
            [
             5,
             0,
             0
            ],
            [
             2,
             0,
             0
            ],
            [
             2,
             0,
             0
            ],
            [
             5,
             0,
             0
            ],
            [
             2,
             0,
             0
            ],
            [
             1,
             0,
             0
            ],
            [
             1,
             0,
             0
            ],
            [
             11,
             1,
             0
            ],
            [
             1,
             0,
             0
            ],
            [
             19,
             0,
             0
            ],
            [
             1,
             0,
             0
            ],
            [
             2,
             0,
             0
            ],
            [
             0,
             0,
             0
            ],
            [
             6,
             0,
             0
            ],
            [
             1,
             0,
             0
            ],
            [
             0,
             0,
             0
            ],
            [
             0,
             0,
             0
            ],
            [
             2,
             0,
             0
            ],
            [
             1,
             0,
             0
            ],
            [
             1,
             0,
             0
            ],
            [
             5,
             0,
             0
            ],
            [
             1,
             0,
             0
            ],
            [
             8,
             1,
             0
            ],
            [
             0,
             0,
             0
            ],
            [
             1,
             0,
             0
            ],
            [
             2281,
             48,
             12
            ],
            [
             615,
             0,
             1
            ],
            [
             2,
             0,
             0
            ],
            [
             2,
             0,
             0
            ],
            [
             2,
             0,
             0
            ],
            [
             2,
             0,
             0
            ],
            [
             1,
             0,
             0
            ],
            [
             1,
             0,
             0
            ],
            [
             1,
             0,
             0
            ],
            [
             2,
             0,
             0
            ],
            [
             1,
             0,
             0
            ],
            [
             1,
             0,
             0
            ],
            [
             3,
             0,
             0
            ],
            [
             1,
             1,
             0
            ]
           ],
           "hoverlabel": {
            "namelength": 0
           },
           "hovertemplate": "<b>%{hovertext}</b><br><br>ObservationDate=03/12/2020<br>Confirmed=%{customdata[0]}<br>Deaths=%{customdata[1]}<br>Recovered=%{customdata[2]}<br>Lat=%{lat}<br>Long=%{lon}",
           "hovertext": [
            "Washington",
            null,
            null,
            null,
            null,
            null,
            null,
            null,
            null,
            null,
            "Illinois",
            null,
            "California",
            "Arizona",
            "Ontario",
            null,
            null,
            "New South Wales",
            "Victoria",
            "British Columbia",
            null,
            null,
            "Queensland",
            null,
            null,
            null,
            null,
            null,
            "South Australia",
            null,
            null,
            null,
            null,
            null,
            null,
            null,
            null,
            null,
            null,
            null,
            null,
            null,
            null,
            null,
            null,
            null,
            null,
            null,
            null,
            null,
            null,
            null,
            null,
            null,
            null,
            null,
            null,
            null,
            "Western Australia",
            null,
            null,
            null,
            null,
            null,
            null,
            null,
            null,
            null,
            null,
            null,
            "Tasmania",
            null,
            null,
            null,
            null,
            null,
            null,
            null,
            null,
            null,
            "Northern Territory",
            null,
            null,
            null,
            null,
            null,
            null,
            null,
            null,
            null,
            null,
            null,
            null,
            null,
            null,
            null,
            null,
            null,
            null,
            null,
            null,
            null,
            "Alberta",
            "Quebec",
            null,
            null,
            null,
            "New York",
            "Massachusetts",
            null,
            "Grand Princess",
            "Georgia",
            "Colorado",
            "Florida",
            "New Jersey",
            "Oregon",
            "Texas",
            "Pennsylvania",
            "Iowa",
            "Maryland",
            "North Carolina",
            "South Carolina",
            "Tennessee",
            "Virginia",
            "Indiana",
            "Kentucky",
            "District of Columbia",
            "Nevada",
            "New Hampshire",
            "Minnesota",
            "Nebraska",
            "Ohio",
            "Rhode Island",
            "Wisconsin",
            "Connecticut",
            "Hawaii",
            "Oklahoma",
            "Utah",
            null,
            null,
            null,
            null,
            "Kansas",
            "Louisiana",
            "Missouri",
            "Vermont",
            "Alaska",
            "Arkansas",
            "Delaware",
            "Idaho",
            "Maine",
            "Michigan",
            "Mississippi",
            "Montana",
            "New Mexico",
            "North Dakota",
            "South Dakota",
            "West Virginia",
            "Wyoming",
            "France",
            "Denmark",
            null,
            "Faroe Islands",
            "St Martin",
            null,
            "New Brunswick",
            null,
            "Saint Barthelemy",
            null,
            null,
            null,
            null,
            null
           ],
           "lat": [
            47.4009,
            36,
            15,
            1.2833,
            13,
            2.5,
            16,
            23.6345,
            -14.235,
            4.5709,
            40.3495,
            28.1667,
            36.1162,
            33.7298,
            51.2538,
            11.55,
            7,
            -33.8688,
            -37.8136,
            49.2827,
            64,
            24,
            -28.0167,
            21,
            43,
            60,
            63,
            51,
            -34.9285,
            40,
            50.8333,
            26,
            32,
            33.8547,
            21,
            33,
            26.0275,
            33,
            29.5,
            28.0339,
            45.1,
            46.8182,
            47.5162,
            31,
            30.3753,
            42.3154,
            39.0742,
            41.6086,
            60.472,
            45.9432,
            58.5953,
            52.1326,
            43.9424,
            53.7098,
            64.9631,
            55.1694,
            -40.9006,
            9.082,
            -31.9505,
            53.1424,
            49.8153,
            43.7333,
            25.3548,
            -1.8312,
            40.1431,
            40.0691,
            18.7357,
            -0.7893,
            39.3999,
            42.5063,
            -41.4545,
            56.8796,
            31.7917,
            24,
            14.4974,
            -38.4161,
            -35.6751,
            31.24,
            48.3794,
            47.1625,
            -12.4634,
            47.14,
            51.9194,
            34,
            43.9159,
            46.1512,
            -30.5595,
            27.5142,
            3.8480000000000003,
            9.7489,
            -9.19,
            44.0165,
            48.669,
            8.6195,
            3.9339,
            35.9375,
            14.6415,
            42.7339,
            3.2028,
            23.685,
            47.4116,
            -23.4425,
            53.9333,
            52.9399,
            41.1533,
            35.1264,
            4.5353,
            42.1657,
            42.2302,
            31.9522,
            37.6489,
            33.0406,
            39.0598,
            27.7663,
            40.2989,
            44.571999999999996,
            31.0545,
            40.5908,
            42.0115,
            39.0639,
            35.6301,
            33.8569,
            35.7478,
            37.7693,
            39.8494,
            37.6681,
            38.8974,
            38.3135,
            43.4525,
            45.6945,
            41.1254,
            40.3888,
            41.6809,
            44.2685,
            41.5978,
            21.0943,
            35.5653,
            40.15,
            12.2383,
            41.9029,
            46.8625,
            8.538,
            38.5266,
            31.1695,
            38.4561,
            44.0459,
            61.3707,
            34.9697,
            39.3185,
            44.2405,
            44.6939,
            43.3266,
            32.7416,
            46.9219,
            34.8405,
            47.5289,
            44.2998,
            38.4912,
            42.756,
            46.2276,
            56.2639,
            -16.2902,
            61.8926,
            18.0708,
            15.2,
            46.5653,
            -4.0383,
            17.9,
            18.1096,
            -21.1151,
            38.9637,
            22,
            5
           ],
           "legendgroup": "",
           "lon": [
            -121.4905,
            138,
            101,
            103.8333,
            122,
            112.5,
            108,
            -102.5528,
            -51.9253,
            -74.2973,
            -88.9861,
            84.25,
            -119.6816,
            -111.4312,
            -85.3232,
            104.9167,
            81,
            151.2093,
            144.9631,
            -123.1207,
            26,
            54,
            153.4,
            78,
            12,
            90,
            16,
            9,
            138.6007,
            -4,
            4,
            30,
            53,
            35.8623,
            57,
            65,
            50.55,
            44,
            47.75,
            1.6596,
            15.2,
            8.2275,
            14.5501,
            35,
            69.3451,
            43.3569,
            21.8243,
            21.7453,
            8.4689,
            24.9668,
            25.0136,
            5.2913,
            12.4578,
            27.9534,
            -19.0208,
            23.8813,
            174.886,
            8.6753,
            115.8605,
            -7.6921,
            6.1296,
            7.4167,
            51.1839,
            -78.1834,
            47.5769,
            45.0382,
            -70.1627,
            113.9213,
            -8.2245,
            1.5218,
            145.9707,
            24.6032,
            -7.0926,
            45,
            -14.4524,
            -63.6167,
            -71.543,
            36.51,
            31.1656,
            19.5033,
            130.8456,
            9.55,
            19.1451,
            9,
            17.6791,
            14.9955,
            22.9375,
            90.4336,
            11.5021,
            -83.7534,
            -75.0152,
            21.0059,
            19.699,
            0.8248,
            -53.1258,
            14.3754,
            -61.0242,
            25.4858,
            73.2207,
            90.3563,
            28.3699,
            -58.4438,
            -116.5765,
            -73.5491,
            20.1683,
            33.4299,
            114.7277,
            -74.9481,
            -71.5301,
            35.2332,
            -122.6655,
            -83.6431,
            -105.3111,
            -81.6868,
            -74.521,
            -122.0709,
            -97.5635,
            -77.2098,
            -93.2105,
            -76.8021,
            -79.8064,
            -80.945,
            -86.6923,
            -78.17,
            -86.2583,
            -84.6701,
            -77.0268,
            -117.0554,
            -71.5639,
            -93.9002,
            -98.2681,
            -82.7649,
            -71.5118,
            -89.6165,
            -72.7554,
            -157.4983,
            -96.9289,
            -111.8624,
            -1.5616,
            12.4534,
            103.8467,
            -80.7821,
            -96.7265,
            -91.8678,
            -92.2884,
            -72.7107,
            -152.4044,
            -92.3731,
            -75.5071,
            -114.4788,
            -69.3819,
            -84.5361,
            -89.6787,
            -110.4544,
            -106.2485,
            -99.78399999999999,
            -99.4388,
            -80.9545,
            -107.3025,
            2.2137,
            9.5018,
            -63.5887,
            -6.9118,
            -63.0501,
            -86.2419,
            -66.4619,
            21.7587,
            -62.8333,
            -77.2975,
            55.5364,
            35.2433,
            -80,
            -58.75
           ],
           "marker": {
            "color": "#636efa"
           },
           "mode": "markers",
           "name": "",
           "showlegend": false,
           "subplot": "mapbox",
           "type": "scattermapbox"
          }
         ],
         "name": "03/12/2020"
        },
        {
         "data": [
          {
           "customdata": [
            [
             568,
             37,
             1
            ],
            [
             701,
             19,
             118
            ],
            [
             75,
             1,
             35
            ],
            [
             200,
             0,
             97
            ],
            [
             64,
             5,
             2
            ],
            [
             197,
             0,
             26
            ],
            [
             47,
             0,
             16
            ],
            [
             12,
             0,
             4
            ],
            [
             151,
             0,
             0
            ],
            [
             13,
             0,
             0
            ],
            [
             46,
             0,
             2
            ],
            [
             1,
             0,
             1
            ],
            [
             282,
             4,
             6
            ],
            [
             9,
             0,
             1
            ],
            [
             74,
             0,
             4
            ],
            [
             5,
             0,
             1
            ],
            [
             6,
             0,
             1
            ],
            [
             92,
             2,
             4
            ],
            [
             36,
             0,
             8
            ],
            [
             64,
             1,
             4
            ],
            [
             155,
             0,
             1
            ],
            [
             85,
             0,
             17
            ],
            [
             35,
             0,
             8
            ],
            [
             82,
             2,
             4
            ],
            [
             17660,
             1266,
             1439
            ],
            [
             45,
             0,
             3
            ],
            [
             814,
             1,
             1
            ],
            [
             3675,
             7,
             46
            ],
            [
             16,
             0,
             3
            ],
            [
             5232,
             133,
             193
            ],
            [
             559,
             3,
             1
            ],
            [
             80,
             2,
             27
            ],
            [
             11364,
             514,
             2959
            ],
            [
             77,
             3,
             1
            ],
            [
             19,
             0,
             9
            ],
            [
             7,
             0,
             0
            ],
            [
             189,
             0,
             44
            ],
            [
             101,
             9,
             24
            ],
            [
             80,
             0,
             5
            ],
            [
             26,
             2,
             8
            ],
            [
             32,
             0,
             1
            ],
            [
             1139,
             11,
             4
            ],
            [
             504,
             1,
             6
            ],
            [
             161,
             0,
             4
            ],
            [
             28,
             0,
             2
            ],
            [
             25,
             0,
             0
            ],
            [
             190,
             1,
             0
            ],
            [
             14,
             0,
             1
            ],
            [
             996,
             0,
             1
            ],
            [
             89,
             0,
             7
            ],
            [
             79,
             0,
             0
            ],
            [
             804,
             10,
             0
            ],
            [
             80,
             5,
             0
            ],
            [
             27,
             0,
             3
            ],
            [
             134,
             0,
             1
            ],
            [
             6,
             0,
             0
            ],
            [
             5,
             0,
             0
            ],
            [
             2,
             0,
             0
            ],
            [
             14,
             1,
             0
            ],
            [
             90,
             1,
             0
            ],
            [
             34,
             0,
             0
            ],
            [
             2,
             0,
             0
            ],
            [
             320,
             0,
             0
            ],
            [
             17,
             0,
             0
            ],
            [
             15,
             1,
             3
            ],
            [
             8,
             0,
             0
            ],
            [
             5,
             0,
             0
            ],
            [
             69,
             4,
             2
            ],
            [
             112,
             0,
             1
            ],
            [
             1,
             0,
             0
            ],
            [
             5,
             0,
             0
            ],
            [
             17,
             0,
             1
            ],
            [
             7,
             1,
             1
            ],
            [
             86,
             0,
             1
            ],
            [
             10,
             0,
             1
            ],
            [
             31,
             2,
             0
            ],
            [
             43,
             0,
             0
            ],
            [
             1,
             0,
             1
            ],
            [
             3,
             1,
             0
            ],
            [
             19,
             0,
             0
            ],
            [
             1,
             0,
             0
            ],
            [
             1,
             0,
             0
            ],
            [
             68,
             2,
             0
            ],
            [
             16,
             0,
             0
            ],
            [
             13,
             0,
             0
            ],
            [
             141,
             0,
             0
            ],
            [
             24,
             0,
             0
            ],
            [
             1,
             0,
             0
            ],
            [
             2,
             0,
             0
            ],
            [
             23,
             0,
             0
            ],
            [
             28,
             0,
             0
            ],
            [
             35,
             0,
             0
            ],
            [
             32,
             0,
             0
            ],
            [
             1,
             0,
             0
            ],
            [
             5,
             0,
             0
            ],
            [
             12,
             0,
             1
            ],
            [
             3,
             0,
             0
            ],
            [
             23,
             1,
             0
            ],
            [
             9,
             0,
             0
            ],
            [
             3,
             0,
             0
            ],
            [
             6,
             0,
             0
            ],
            [
             6,
             0,
             0
            ],
            [
             29,
             0,
             0
            ],
            [
             17,
             0,
             0
            ],
            [
             33,
             1,
             0
            ],
            [
             14,
             0,
             0
            ],
            [
             37,
             0,
             0
            ],
            [
             421,
             0,
             0
            ],
            [
             123,
             0,
             1
            ],
            [
             21,
             0,
             0
            ],
            [
             42,
             1,
             0
            ],
            [
             49,
             0,
             0
            ],
            [
             50,
             2,
             0
            ],
            [
             29,
             1,
             0
            ],
            [
             30,
             0,
             0
            ],
            [
             43,
             0,
             0
            ],
            [
             41,
             0,
             0
            ],
            [
             17,
             0,
             0
            ],
            [
             18,
             0,
             0
            ],
            [
             17,
             0,
             0
            ],
            [
             13,
             0,
             0
            ],
            [
             26,
             0,
             0
            ],
            [
             30,
             0,
             0
            ],
            [
             13,
             0,
             0
            ],
            [
             14,
             0,
             0
            ],
            [
             10,
             0,
             0
            ],
            [
             17,
             0,
             0
            ],
            [
             6,
             0,
             0
            ],
            [
             14,
             0,
             0
            ],
            [
             13,
             0,
             0
            ],
            [
             13,
             0,
             0
            ],
            [
             14,
             0,
             0
            ],
            [
             19,
             0,
             1
            ],
            [
             11,
             0,
             0
            ],
            [
             2,
             0,
             0
            ],
            [
             2,
             0,
             0
            ],
            [
             9,
             0,
             0
            ],
            [
             2,
             0,
             0
            ],
            [
             1,
             0,
             0
            ],
            [
             1,
             0,
             0
            ],
            [
             27,
             1,
             0
            ],
            [
             5,
             1,
             0
            ],
            [
             36,
             0,
             0
            ],
            [
             2,
             0,
             0
            ],
            [
             2,
             0,
             0
            ],
            [
             1,
             0,
             0
            ],
            [
             6,
             0,
             0
            ],
            [
             4,
             0,
             0
            ],
            [
             1,
             0,
             0
            ],
            [
             1,
             0,
             0
            ],
            [
             16,
             0,
             0
            ],
            [
             1,
             0,
             0
            ],
            [
             1,
             0,
             0
            ],
            [
             10,
             0,
             0
            ],
            [
             1,
             0,
             0
            ],
            [
             8,
             1,
             0
            ],
            [
             0,
             0,
             0
            ],
            [
             1,
             0,
             0
            ],
            [
             3661,
             79,
             12
            ],
            [
             801,
             0,
             1
            ],
            [
             3,
             0,
             0
            ],
            [
             3,
             0,
             0
            ],
            [
             2,
             0,
             0
            ],
            [
             2,
             0,
             0
            ],
            [
             1,
             0,
             0
            ],
            [
             2,
             0,
             0
            ],
            [
             1,
             0,
             0
            ],
            [
             8,
             0,
             0
            ],
            [
             5,
             0,
             0
            ],
            [
             5,
             0,
             0
            ],
            [
             4,
             0,
             0
            ],
            [
             1,
             1,
             0
            ],
            [
             1,
             0,
             0
            ],
            [
             4,
             0,
             0
            ],
            [
             3,
             0,
             0
            ],
            [
             1,
             0,
             0
            ],
            [
             1,
             0,
             0
            ],
            [
             4,
             0,
             0
            ],
            [
             2,
             0,
             0
            ],
            [
             1,
             0,
             0
            ],
            [
             1,
             1,
             0
            ],
            [
             1,
             0,
             0
            ],
            [
             1,
             0,
             0
            ],
            [
             2,
             0,
             0
            ],
            [
             2,
             0,
             0
            ],
            [
             1,
             0,
             0
            ],
            [
             5,
             0,
             0
            ]
           ],
           "hoverlabel": {
            "namelength": 0
           },
           "hovertemplate": "<b>%{hovertext}</b><br><br>ObservationDate=03/13/2020<br>Confirmed=%{customdata[0]}<br>Deaths=%{customdata[1]}<br>Recovered=%{customdata[2]}<br>Lat=%{lat}<br>Long=%{lon}",
           "hovertext": [
            "Washington",
            null,
            null,
            null,
            null,
            null,
            null,
            null,
            null,
            null,
            "Illinois",
            null,
            "California",
            "Arizona",
            "Ontario",
            null,
            null,
            "New South Wales",
            "Victoria",
            "British Columbia",
            null,
            null,
            "Queensland",
            null,
            null,
            null,
            null,
            null,
            "South Australia",
            null,
            null,
            null,
            null,
            null,
            null,
            null,
            null,
            null,
            null,
            null,
            null,
            null,
            null,
            null,
            null,
            null,
            null,
            null,
            null,
            null,
            null,
            null,
            null,
            null,
            null,
            null,
            null,
            null,
            "Western Australia",
            null,
            null,
            null,
            null,
            null,
            null,
            null,
            null,
            null,
            null,
            null,
            "Tasmania",
            null,
            null,
            null,
            null,
            null,
            null,
            null,
            null,
            null,
            "Northern Territory",
            null,
            null,
            null,
            null,
            null,
            null,
            null,
            null,
            null,
            null,
            null,
            null,
            null,
            null,
            null,
            null,
            null,
            null,
            null,
            null,
            null,
            "Alberta",
            "Quebec",
            null,
            null,
            null,
            "New York",
            "Massachusetts",
            "Grand Princess",
            "Georgia",
            "Colorado",
            "Florida",
            "New Jersey",
            "Oregon",
            "Texas",
            "Pennsylvania",
            "Iowa",
            "Maryland",
            "North Carolina",
            "South Carolina",
            "Tennessee",
            "Virginia",
            "Indiana",
            "Kentucky",
            "District of Columbia",
            "Nevada",
            "New Hampshire",
            "Minnesota",
            "Nebraska",
            "Ohio",
            "Rhode Island",
            "Wisconsin",
            "Connecticut",
            "Hawaii",
            "Oklahoma",
            "Utah",
            null,
            null,
            null,
            null,
            "Kansas",
            "Louisiana",
            "Missouri",
            "Vermont",
            "Alaska",
            "Arkansas",
            "Delaware",
            "Idaho",
            "Maine",
            "Michigan",
            "Mississippi",
            "Montana",
            "New Mexico",
            "North Dakota",
            "South Dakota",
            "West Virginia",
            "Wyoming",
            "France",
            "Denmark",
            null,
            "Faroe Islands",
            "St Martin",
            null,
            "New Brunswick",
            null,
            "Saint Barthelemy",
            null,
            null,
            null,
            null,
            null,
            "Australian Capital Territory",
            null,
            "French Polynesia",
            null,
            null,
            "Manitoba",
            "Saskatchewan",
            null,
            null,
            null,
            null,
            null,
            "Grand Princess",
            null,
            "Alabama"
           ],
           "lat": [
            47.4009,
            36,
            15,
            1.2833,
            13,
            2.5,
            16,
            23.6345,
            -14.235,
            4.5709,
            40.3495,
            28.1667,
            36.1162,
            33.7298,
            51.2538,
            11.55,
            7,
            -33.8688,
            -37.8136,
            49.2827,
            64,
            24,
            -28.0167,
            21,
            43,
            60,
            63,
            51,
            -34.9285,
            40,
            50.8333,
            26,
            32,
            33.8547,
            21,
            33,
            26.0275,
            33,
            29.5,
            28.0339,
            45.1,
            46.8182,
            47.5162,
            31,
            30.3753,
            42.3154,
            39.0742,
            41.6086,
            60.472,
            45.9432,
            58.5953,
            52.1326,
            43.9424,
            53.7098,
            64.9631,
            55.1694,
            -40.9006,
            9.082,
            -31.9505,
            53.1424,
            49.8153,
            43.7333,
            25.3548,
            -1.8312,
            40.1431,
            40.0691,
            18.7357,
            -0.7893,
            39.3999,
            42.5063,
            -41.4545,
            56.8796,
            31.7917,
            24,
            14.4974,
            -38.4161,
            -35.6751,
            31.24,
            48.3794,
            47.1625,
            -12.4634,
            47.14,
            51.9194,
            34,
            43.9159,
            46.1512,
            -30.5595,
            27.5142,
            3.8480000000000003,
            9.7489,
            -9.19,
            44.0165,
            48.669,
            8.6195,
            3.9339,
            35.9375,
            14.6415,
            42.7339,
            3.2028,
            23.685,
            47.4116,
            -23.4425,
            53.9333,
            52.9399,
            41.1533,
            35.1264,
            4.5353,
            42.1657,
            42.2302,
            37.6489,
            33.0406,
            39.0598,
            27.7663,
            40.2989,
            44.571999999999996,
            31.0545,
            40.5908,
            42.0115,
            39.0639,
            35.6301,
            33.8569,
            35.7478,
            37.7693,
            39.8494,
            37.6681,
            38.8974,
            38.3135,
            43.4525,
            45.6945,
            41.1254,
            40.3888,
            41.6809,
            44.2685,
            41.5978,
            21.0943,
            35.5653,
            40.15,
            12.2383,
            41.9029,
            46.8625,
            8.538,
            38.5266,
            31.1695,
            38.4561,
            44.0459,
            61.3707,
            34.9697,
            39.3185,
            44.2405,
            44.6939,
            43.3266,
            32.7416,
            46.9219,
            34.8405,
            47.5289,
            44.2998,
            38.4912,
            42.756,
            46.2276,
            56.2639,
            -16.2902,
            61.8926,
            18.0708,
            15.2,
            46.5653,
            -4.0383,
            17.9,
            18.1096,
            -21.1151,
            38.9637,
            22,
            5,
            -35.4735,
            48.0196,
            -17.6797,
            19.3133,
            16.265,
            53.7609,
            52.9399,
            9.145,
            12.8628,
            9.9456,
            17.0608,
            12.5211,
            37.6489,
            -0.0236,
            32.3182
           ],
           "legendgroup": "",
           "lon": [
            -121.4905,
            138,
            101,
            103.8333,
            122,
            112.5,
            108,
            -102.5528,
            -51.9253,
            -74.2973,
            -88.9861,
            84.25,
            -119.6816,
            -111.4312,
            -85.3232,
            104.9167,
            81,
            151.2093,
            144.9631,
            -123.1207,
            26,
            54,
            153.4,
            78,
            12,
            90,
            16,
            9,
            138.6007,
            -4,
            4,
            30,
            53,
            35.8623,
            57,
            65,
            50.55,
            44,
            47.75,
            1.6596,
            15.2,
            8.2275,
            14.5501,
            35,
            69.3451,
            43.3569,
            21.8243,
            21.7453,
            8.4689,
            24.9668,
            25.0136,
            5.2913,
            12.4578,
            27.9534,
            -19.0208,
            23.8813,
            174.886,
            8.6753,
            115.8605,
            -7.6921,
            6.1296,
            7.4167,
            51.1839,
            -78.1834,
            47.5769,
            45.0382,
            -70.1627,
            113.9213,
            -8.2245,
            1.5218,
            145.9707,
            24.6032,
            -7.0926,
            45,
            -14.4524,
            -63.6167,
            -71.543,
            36.51,
            31.1656,
            19.5033,
            130.8456,
            9.55,
            19.1451,
            9,
            17.6791,
            14.9955,
            22.9375,
            90.4336,
            11.5021,
            -83.7534,
            -75.0152,
            21.0059,
            19.699,
            0.8248,
            -53.1258,
            14.3754,
            -61.0242,
            25.4858,
            73.2207,
            90.3563,
            28.3699,
            -58.4438,
            -116.5765,
            -73.5491,
            20.1683,
            33.4299,
            114.7277,
            -74.9481,
            -71.5301,
            -122.6655,
            -83.6431,
            -105.3111,
            -81.6868,
            -74.521,
            -122.0709,
            -97.5635,
            -77.2098,
            -93.2105,
            -76.8021,
            -79.8064,
            -80.945,
            -86.6923,
            -78.17,
            -86.2583,
            -84.6701,
            -77.0268,
            -117.0554,
            -71.5639,
            -93.9002,
            -98.2681,
            -82.7649,
            -71.5118,
            -89.6165,
            -72.7554,
            -157.4983,
            -96.9289,
            -111.8624,
            -1.5616,
            12.4534,
            103.8467,
            -80.7821,
            -96.7265,
            -91.8678,
            -92.2884,
            -72.7107,
            -152.4044,
            -92.3731,
            -75.5071,
            -114.4788,
            -69.3819,
            -84.5361,
            -89.6787,
            -110.4544,
            -106.2485,
            -99.78399999999999,
            -99.4388,
            -80.9545,
            -107.3025,
            2.2137,
            9.5018,
            -63.5887,
            -6.9118,
            -63.0501,
            -86.2419,
            -66.4619,
            21.7587,
            -62.8333,
            -77.2975,
            55.5364,
            35.2433,
            -80,
            -58.75,
            149.0124,
            66.9237,
            149.4068,
            -81.2546,
            -61.551,
            -98.8139,
            -106.4509,
            40.4897,
            30.2176,
            -9.6966,
            -61.7964,
            -69.9683,
            -122.6655,
            37.9062,
            -86.9023
           ],
           "marker": {
            "color": "#636efa"
           },
           "mode": "markers",
           "name": "",
           "showlegend": false,
           "subplot": "mapbox",
           "type": "scattermapbox"
          }
         ],
         "name": "03/13/2020"
        },
        {
         "data": [
          {
           "customdata": [
            [
             572,
             37,
             1
            ],
            [
             773,
             22,
             118
            ],
            [
             82,
             1,
             35
            ],
            [
             212,
             0,
             105
            ],
            [
             111,
             8,
             2
            ],
            [
             238,
             0,
             35
            ],
            [
             53,
             0,
             16
            ],
            [
             26,
             0,
             4
            ],
            [
             151,
             0,
             0
            ],
            [
             22,
             0,
             0
            ],
            [
             64,
             0,
             2
            ],
            [
             1,
             0,
             1
            ],
            [
             340,
             5,
             6
            ],
            [
             12,
             0,
             1
            ],
            [
             79,
             0,
             4
            ],
            [
             7,
             0,
             1
            ],
            [
             10,
             0,
             1
            ],
            [
             112,
             2,
             4
            ],
            [
             49,
             0,
             8
            ],
            [
             64,
             1,
             4
            ],
            [
             225,
             0,
             1
            ],
            [
             85,
             0,
             17
            ],
            [
             46,
             0,
             8
            ],
            [
             102,
             2,
             4
            ],
            [
             21157,
             1441,
             1966
            ],
            [
             59,
             0,
             8
            ],
            [
             961,
             2,
             1
            ],
            [
             4585,
             9,
             46
            ],
            [
             19,
             0,
             3
            ],
            [
             6391,
             195,
             517
            ],
            [
             689,
             4,
             1
            ],
            [
             109,
             2,
             27
            ],
            [
             12729,
             611,
             2959
            ],
            [
             93,
             3,
             1
            ],
            [
             19,
             0,
             9
            ],
            [
             11,
             0,
             0
            ],
            [
             210,
             0,
             44
            ],
            [
             110,
             10,
             26
            ],
            [
             104,
             0,
             5
            ],
            [
             37,
             3,
             12
            ],
            [
             38,
             0,
             1
            ],
            [
             1359,
             13,
             4
            ],
            [
             655,
             1,
             6
            ],
            [
             193,
             0,
             4
            ],
            [
             31,
             0,
             2
            ],
            [
             30,
             0,
             0
            ],
            [
             228,
             3,
             8
            ],
            [
             14,
             0,
             1
            ],
            [
             1090,
             3,
             1
            ],
            [
             123,
             0,
             9
            ],
            [
             115,
             0,
             0
            ],
            [
             959,
             12,
             2
            ],
            [
             80,
             5,
             4
            ],
            [
             27,
             0,
             3
            ],
            [
             156,
             0,
             1
            ],
            [
             8,
             0,
             0
            ],
            [
             6,
             0,
             0
            ],
            [
             2,
             0,
             0
            ],
            [
             17,
             1,
             0
            ],
            [
             129,
             2,
             0
            ],
            [
             51,
             1,
             0
            ],
            [
             2,
             0,
             0
            ],
            [
             337,
             0,
             4
            ],
            [
             28,
             2,
             0
            ],
            [
             15,
             1,
             3
            ],
            [
             18,
             0,
             0
            ],
            [
             11,
             0,
             0
            ],
            [
             96,
             5,
             8
            ],
            [
             169,
             0,
             2
            ],
            [
             1,
             0,
             1
            ],
            [
             5,
             0,
             0
            ],
            [
             26,
             0,
             1
            ],
            [
             17,
             1,
             1
            ],
            [
             103,
             0,
             1
            ],
            [
             10,
             0,
             1
            ],
            [
             34,
             2,
             1
            ],
            [
             61,
             0,
             0
            ],
            [
             1,
             0,
             1
            ],
            [
             3,
             1,
             0
            ],
            [
             30,
             0,
             1
            ],
            [
             1,
             0,
             0
            ],
            [
             4,
             0,
             0
            ],
            [
             103,
             3,
             0
            ],
            [
             18,
             0,
             0
            ],
            [
             18,
             0,
             0
            ],
            [
             181,
             1,
             0
            ],
            [
             38,
             0,
             0
            ],
            [
             1,
             0,
             0
            ],
            [
             2,
             0,
             0
            ],
            [
             26,
             0,
             0
            ],
            [
             38,
             0,
             0
            ],
            [
             46,
             0,
             0
            ],
            [
             44,
             0,
             0
            ],
            [
             1,
             0,
             0
            ],
            [
             5,
             0,
             0
            ],
            [
             18,
             0,
             1
            ],
            [
             9,
             0,
             0
            ],
            [
             41,
             2,
             0
            ],
            [
             10,
             0,
             0
            ],
            [
             3,
             0,
             0
            ],
            [
             12,
             0,
             0
            ],
            [
             6,
             0,
             0
            ],
            [
             29,
             0,
             0
            ],
            [
             17,
             0,
             0
            ],
            [
             38,
             1,
             0
            ],
            [
             26,
             0,
             0
            ],
            [
             40,
             0,
             0
            ],
            [
             525,
             2,
             0
            ],
            [
             138,
             0,
             1
            ],
            [
             0,
             0,
             0
            ],
            [
             21,
             0,
             0
            ],
            [
             66,
             1,
             0
            ],
            [
             101,
             1,
             0
            ],
            [
             76,
             3,
             0
            ],
            [
             69,
             1,
             0
            ],
            [
             32,
             0,
             0
            ],
            [
             57,
             0,
             0
            ],
            [
             47,
             0,
             0
            ],
            [
             17,
             0,
             0
            ],
            [
             26,
             0,
             0
            ],
            [
             24,
             0,
             0
            ],
            [
             19,
             0,
             0
            ],
            [
             32,
             0,
             0
            ],
            [
             41,
             1,
             0
            ],
            [
             16,
             0,
             0
            ],
            [
             14,
             0,
             0
            ],
            [
             10,
             0,
             0
            ],
            [
             21,
             0,
             0
            ],
            [
             7,
             0,
             0
            ],
            [
             21,
             0,
             0
            ],
            [
             14,
             0,
             0
            ],
            [
             26,
             0,
             0
            ],
            [
             20,
             0,
             0
            ],
            [
             27,
             0,
             1
            ],
            [
             22,
             0,
             0
            ],
            [
             4,
             0,
             0
            ],
            [
             4,
             0,
             0
            ],
            [
             10,
             0,
             0
            ],
            [
             2,
             0,
             0
            ],
            [
             1,
             0,
             0
            ],
            [
             1,
             0,
             0
            ],
            [
             36,
             1,
             0
            ],
            [
             8,
             1,
             0
            ],
            [
             77,
             1,
             0
            ],
            [
             4,
             0,
             0
            ],
            [
             5,
             0,
             0
            ],
            [
             12,
             0,
             0
            ],
            [
             6,
             0,
             0
            ],
            [
             2,
             0,
             0
            ],
            [
             3,
             0,
             0
            ],
            [
             25,
             0,
             0
            ],
            [
             6,
             0,
             0
            ],
            [
             5,
             0,
             0
            ],
            [
             10,
             0,
             0
            ],
            [
             1,
             0,
             0
            ],
            [
             9,
             1,
             0
            ],
            [
             0,
             0,
             0
            ],
            [
             2,
             0,
             0
            ],
            [
             4469,
             91,
             12
            ],
            [
             827,
             1,
             1
            ],
            [
             10,
             0,
             0
            ],
            [
             9,
             0,
             0
            ],
            [
             2,
             0,
             0
            ],
            [
             2,
             0,
             0
            ],
            [
             1,
             0,
             0
            ],
            [
             2,
             0,
             0
            ],
            [
             1,
             0,
             0
            ],
            [
             8,
             0,
             0
            ],
            [
             6,
             0,
             0
            ],
            [
             5,
             0,
             0
            ],
            [
             4,
             0,
             0
            ],
            [
             1,
             1,
             0
            ],
            [
             1,
             0,
             0
            ],
            [
             6,
             0,
             0
            ],
            [
             3,
             0,
             0
            ],
            [
             1,
             0,
             0
            ],
            [
             1,
             0,
             0
            ],
            [
             4,
             0,
             0
            ],
            [
             2,
             0,
             0
            ],
            [
             1,
             0,
             0
            ],
            [
             1,
             1,
             0
            ],
            [
             1,
             0,
             0
            ],
            [
             1,
             0,
             0
            ],
            [
             2,
             0,
             0
            ],
            [
             1,
             0,
             0
            ],
            [
             6,
             0,
             0
            ],
            [
             5,
             0,
             0
            ],
            [
             4,
             0,
             0
            ],
            [
             3,
             0,
             0
            ],
            [
             3,
             0,
             0
            ],
            [
             2,
             0,
             0
            ],
            [
             2,
             0,
             0
            ],
            [
             2,
             0,
             0
            ],
            [
             2,
             0,
             0
            ],
            [
             2,
             0,
             0
            ],
            [
             1,
             0,
             0
            ],
            [
             1,
             0,
             0
            ],
            [
             1,
             0,
             0
            ],
            [
             1,
             0,
             0
            ],
            [
             1,
             0,
             0
            ],
            [
             1,
             0,
             0
            ],
            [
             1,
             0,
             0
            ],
            [
             1,
             0,
             0
            ],
            [
             1,
             0,
             0
            ],
            [
             1,
             0,
             0
            ],
            [
             1,
             0,
             0
            ]
           ],
           "hoverlabel": {
            "namelength": 0
           },
           "hovertemplate": "<b>%{hovertext}</b><br><br>ObservationDate=03/14/2020<br>Confirmed=%{customdata[0]}<br>Deaths=%{customdata[1]}<br>Recovered=%{customdata[2]}<br>Lat=%{lat}<br>Long=%{lon}",
           "hovertext": [
            "Washington",
            null,
            null,
            null,
            null,
            null,
            null,
            null,
            null,
            null,
            "Illinois",
            null,
            "California",
            "Arizona",
            "Ontario",
            null,
            null,
            "New South Wales",
            "Victoria",
            "British Columbia",
            null,
            null,
            "Queensland",
            null,
            null,
            null,
            null,
            null,
            "South Australia",
            null,
            null,
            null,
            null,
            null,
            null,
            null,
            null,
            null,
            null,
            null,
            null,
            null,
            null,
            null,
            null,
            null,
            null,
            null,
            null,
            null,
            null,
            null,
            null,
            null,
            null,
            null,
            null,
            null,
            "Western Australia",
            null,
            null,
            null,
            null,
            null,
            null,
            null,
            null,
            null,
            null,
            null,
            "Tasmania",
            null,
            null,
            null,
            null,
            null,
            null,
            null,
            null,
            null,
            "Northern Territory",
            null,
            null,
            null,
            null,
            null,
            null,
            null,
            null,
            null,
            null,
            null,
            null,
            null,
            null,
            null,
            null,
            null,
            null,
            null,
            null,
            null,
            "Alberta",
            "Quebec",
            null,
            null,
            null,
            "New York",
            "Massachusetts",
            null,
            "Grand Princess",
            "Georgia",
            "Colorado",
            "Florida",
            "New Jersey",
            "Oregon",
            "Texas",
            "Pennsylvania",
            "Iowa",
            "Maryland",
            "North Carolina",
            "South Carolina",
            "Tennessee",
            "Virginia",
            "Indiana",
            "Kentucky",
            "District of Columbia",
            "Nevada",
            "New Hampshire",
            "Minnesota",
            "Nebraska",
            "Ohio",
            "Rhode Island",
            "Wisconsin",
            "Connecticut",
            "Hawaii",
            "Oklahoma",
            "Utah",
            null,
            null,
            null,
            null,
            "Kansas",
            "Louisiana",
            "Missouri",
            "Vermont",
            "Arkansas",
            "Delaware",
            "Idaho",
            "Maine",
            "Michigan",
            "Mississippi",
            "Montana",
            "New Mexico",
            "North Dakota",
            "South Dakota",
            "West Virginia",
            "Wyoming",
            "France",
            "Denmark",
            null,
            "Faroe Islands",
            "St Martin",
            null,
            "New Brunswick",
            null,
            "Saint Barthelemy",
            null,
            null,
            null,
            null,
            null,
            "Australian Capital Territory",
            null,
            "French Polynesia",
            null,
            null,
            "Manitoba",
            "Saskatchewan",
            null,
            null,
            null,
            null,
            null,
            null,
            "Alabama",
            "Fench Guiana",
            null,
            null,
            "Puerto Rico",
            null,
            null,
            null,
            null,
            null,
            null,
            null,
            null,
            null,
            null,
            null,
            null,
            null,
            null,
            null,
            "Virgin Islands, U.S."
           ],
           "lat": [
            47.4009,
            36,
            15,
            1.2833,
            13,
            2.5,
            16,
            23.6345,
            -14.235,
            4.5709,
            40.3495,
            28.1667,
            36.1162,
            33.7298,
            51.2538,
            11.55,
            7,
            -33.8688,
            -37.8136,
            49.2827,
            64,
            24,
            -28.0167,
            21,
            43,
            60,
            63,
            51,
            -34.9285,
            40,
            50.8333,
            26,
            32,
            33.8547,
            21,
            33,
            26.0275,
            33,
            29.5,
            28.0339,
            45.1,
            46.8182,
            47.5162,
            31,
            30.3753,
            42.3154,
            39.0742,
            41.6086,
            60.472,
            45.9432,
            58.5953,
            52.1326,
            43.9424,
            53.7098,
            64.9631,
            55.1694,
            -40.9006,
            9.082,
            -31.9505,
            53.1424,
            49.8153,
            43.7333,
            25.3548,
            -1.8312,
            40.1431,
            40.0691,
            18.7357,
            -0.7893,
            39.3999,
            42.5063,
            -41.4545,
            56.8796,
            31.7917,
            24,
            14.4974,
            -38.4161,
            -35.6751,
            31.24,
            48.3794,
            47.1625,
            -12.4634,
            47.14,
            51.9194,
            34,
            43.9159,
            46.1512,
            -30.5595,
            27.5142,
            3.8480000000000003,
            9.7489,
            -9.19,
            44.0165,
            48.669,
            8.6195,
            3.9339,
            35.9375,
            14.6415,
            42.7339,
            3.2028,
            23.685,
            47.4116,
            -23.4425,
            53.9333,
            52.9399,
            41.1533,
            35.1264,
            4.5353,
            42.1657,
            42.2302,
            31.9522,
            37.6489,
            33.0406,
            39.0598,
            27.7663,
            40.2989,
            44.571999999999996,
            31.0545,
            40.5908,
            42.0115,
            39.0639,
            35.6301,
            33.8569,
            35.7478,
            37.7693,
            39.8494,
            37.6681,
            38.8974,
            38.3135,
            43.4525,
            45.6945,
            41.1254,
            40.3888,
            41.6809,
            44.2685,
            41.5978,
            21.0943,
            35.5653,
            40.15,
            12.2383,
            41.9029,
            46.8625,
            8.538,
            38.5266,
            31.1695,
            38.4561,
            44.0459,
            34.9697,
            39.3185,
            44.2405,
            44.6939,
            43.3266,
            32.7416,
            46.9219,
            34.8405,
            47.5289,
            44.2998,
            38.4912,
            42.756,
            46.2276,
            56.2639,
            -16.2902,
            61.8926,
            18.0708,
            15.2,
            46.5653,
            -4.0383,
            17.9,
            18.1096,
            -21.1151,
            38.9637,
            22,
            5,
            -35.4735,
            48.0196,
            -17.6797,
            19.3133,
            16.265,
            53.7609,
            52.9399,
            9.145,
            12.8628,
            9.9456,
            17.0608,
            12.5211,
            -0.0236,
            32.3182,
            4,
            -32.5228,
            7.9465,
            18.2208,
            49.19,
            -22.9576,
            -4.6796,
            10.6918,
            6.4238,
            12.1696,
            -26.5225,
            -0.8037,
            15.7835,
            49.45,
            21.0079,
            -1.9403,
            13.9094,
            12.9843,
            3.9193,
            18.3358
           ],
           "legendgroup": "",
           "lon": [
            -121.4905,
            138,
            101,
            103.8333,
            122,
            112.5,
            108,
            -102.5528,
            -51.9253,
            -74.2973,
            -88.9861,
            84.25,
            -119.6816,
            -111.4312,
            -85.3232,
            104.9167,
            81,
            151.2093,
            144.9631,
            -123.1207,
            26,
            54,
            153.4,
            78,
            12,
            90,
            16,
            9,
            138.6007,
            -4,
            4,
            30,
            53,
            35.8623,
            57,
            65,
            50.55,
            44,
            47.75,
            1.6596,
            15.2,
            8.2275,
            14.5501,
            35,
            69.3451,
            43.3569,
            21.8243,
            21.7453,
            8.4689,
            24.9668,
            25.0136,
            5.2913,
            12.4578,
            27.9534,
            -19.0208,
            23.8813,
            174.886,
            8.6753,
            115.8605,
            -7.6921,
            6.1296,
            7.4167,
            51.1839,
            -78.1834,
            47.5769,
            45.0382,
            -70.1627,
            113.9213,
            -8.2245,
            1.5218,
            145.9707,
            24.6032,
            -7.0926,
            45,
            -14.4524,
            -63.6167,
            -71.543,
            36.51,
            31.1656,
            19.5033,
            130.8456,
            9.55,
            19.1451,
            9,
            17.6791,
            14.9955,
            22.9375,
            90.4336,
            11.5021,
            -83.7534,
            -75.0152,
            21.0059,
            19.699,
            0.8248,
            -53.1258,
            14.3754,
            -61.0242,
            25.4858,
            73.2207,
            90.3563,
            28.3699,
            -58.4438,
            -116.5765,
            -73.5491,
            20.1683,
            33.4299,
            114.7277,
            -74.9481,
            -71.5301,
            35.2332,
            -122.6655,
            -83.6431,
            -105.3111,
            -81.6868,
            -74.521,
            -122.0709,
            -97.5635,
            -77.2098,
            -93.2105,
            -76.8021,
            -79.8064,
            -80.945,
            -86.6923,
            -78.17,
            -86.2583,
            -84.6701,
            -77.0268,
            -117.0554,
            -71.5639,
            -93.9002,
            -98.2681,
            -82.7649,
            -71.5118,
            -89.6165,
            -72.7554,
            -157.4983,
            -96.9289,
            -111.8624,
            -1.5616,
            12.4534,
            103.8467,
            -80.7821,
            -96.7265,
            -91.8678,
            -92.2884,
            -72.7107,
            -92.3731,
            -75.5071,
            -114.4788,
            -69.3819,
            -84.5361,
            -89.6787,
            -110.4544,
            -106.2485,
            -99.78399999999999,
            -99.4388,
            -80.9545,
            -107.3025,
            2.2137,
            9.5018,
            -63.5887,
            -6.9118,
            -63.0501,
            -86.2419,
            -66.4619,
            21.7587,
            -62.8333,
            -77.2975,
            55.5364,
            35.2433,
            -80,
            -58.75,
            149.0124,
            66.9237,
            149.4068,
            -81.2546,
            -61.551,
            -98.8139,
            -106.4509,
            40.4897,
            30.2176,
            -9.6966,
            -61.7964,
            -69.9683,
            37.9062,
            -86.9023,
            -53,
            -55.7658,
            -1.0232,
            -66.5901,
            -2.11,
            18.4904,
            55.492,
            -61.2225,
            -66.5897,
            -68.99,
            31.4659,
            11.6094,
            -90.2308,
            -2.58,
            10.9408,
            29.8739,
            -60.9789,
            -61.2872,
            -56.0278,
            -64.8963
           ],
           "marker": {
            "color": "#636efa"
           },
           "mode": "markers",
           "name": "",
           "showlegend": false,
           "subplot": "mapbox",
           "type": "scattermapbox"
          }
         ],
         "name": "03/14/2020"
        },
        {
         "data": [
          {
           "customdata": [
            [
             20,
             0,
             1
            ],
            [
             19,
             0,
             5
            ],
            [
             16,
             0,
             0
            ],
            [
             1,
             0,
             0
            ],
            [
             8,
             0,
             0
            ],
            [
             6,
             0,
             1
            ],
            [
             1,
             0,
             0
            ],
            [
             3,
             0,
             0
            ],
            [
             1,
             0,
             0
            ],
            [
             1,
             0,
             0
            ],
            [
             4,
             0,
             2
            ],
            [
             4,
             0,
             0
            ],
            [
             1,
             0,
             0
            ],
            [
             1,
             0,
             0
            ],
            [
             4,
             0,
             0
            ],
            [
             3,
             0,
             0
            ],
            [
             1,
             0,
             0
            ],
            [
             2,
             0,
             0
            ],
            [
             2,
             0,
             0
            ],
            [
             1,
             0,
             0
            ],
            [
             8,
             0,
             0
            ],
            [
             1,
             0,
             0
            ],
            [
             1,
             0,
             0
            ],
            [
             1,
             0,
             0
            ]
           ],
           "hoverlabel": {
            "namelength": 0
           },
           "hovertemplate": "<b>%{hovertext}</b><br><br>ObservationDate=02/01/2020<br>Confirmed=%{customdata[0]}<br>Deaths=%{customdata[1]}<br>Recovered=%{customdata[2]}<br>Lat=%{lat}<br>Long=%{lon}",
           "hovertext": [
            null,
            null,
            null,
            null,
            null,
            null,
            null,
            "Ontario",
            null,
            null,
            "New South Wales",
            "Victoria",
            "British Columbia",
            null,
            null,
            "Queensland",
            null,
            null,
            null,
            null,
            null,
            "South Australia",
            null,
            "Los Angeles, CA"
           ],
           "lat": [
            36,
            15,
            1.2833,
            13,
            2.5,
            16,
            28.1667,
            51.2538,
            11.55,
            7,
            -33.8688,
            -37.8136,
            49.2827,
            64,
            24,
            -28.0167,
            21,
            43,
            60,
            63,
            51,
            -34.9285,
            40,
            34.0522
           ],
           "legendgroup": "",
           "lon": [
            138,
            101,
            103.8333,
            122,
            112.5,
            108,
            84.25,
            -85.3232,
            104.9167,
            81,
            151.2093,
            144.9631,
            -123.1207,
            26,
            54,
            153.4,
            78,
            12,
            90,
            16,
            9,
            138.6007,
            -4,
            -118.2437
           ],
           "marker": {
            "color": "#636efa"
           },
           "mode": "markers",
           "name": "",
           "showlegend": false,
           "subplot": "mapbox",
           "type": "scattermapbox"
          }
         ],
         "name": "02/01/2020"
        },
        {
         "data": [
          {
           "customdata": [
            [
             20,
             0,
             1
            ],
            [
             19,
             0,
             5
            ],
            [
             18,
             0,
             0
            ],
            [
             2,
             1,
             0
            ],
            [
             8,
             0,
             0
            ],
            [
             6,
             0,
             1
            ],
            [
             1,
             0,
             0
            ],
            [
             3,
             0,
             0
            ],
            [
             1,
             0,
             0
            ],
            [
             1,
             0,
             0
            ],
            [
             4,
             0,
             2
            ],
            [
             4,
             0,
             0
            ],
            [
             1,
             0,
             0
            ],
            [
             1,
             0,
             0
            ],
            [
             5,
             0,
             0
            ],
            [
             2,
             0,
             0
            ],
            [
             2,
             0,
             0
            ],
            [
             2,
             0,
             0
            ],
            [
             2,
             0,
             0
            ],
            [
             1,
             0,
             0
            ],
            [
             10,
             0,
             0
            ],
            [
             2,
             0,
             0
            ],
            [
             1,
             0,
             0
            ],
            [
             1,
             0,
             0
            ]
           ],
           "hoverlabel": {
            "namelength": 0
           },
           "hovertemplate": "<b>%{hovertext}</b><br><br>ObservationDate=02/02/2020<br>Confirmed=%{customdata[0]}<br>Deaths=%{customdata[1]}<br>Recovered=%{customdata[2]}<br>Lat=%{lat}<br>Long=%{lon}",
           "hovertext": [
            null,
            null,
            null,
            null,
            null,
            null,
            null,
            "Ontario",
            null,
            null,
            "New South Wales",
            "Victoria",
            "British Columbia",
            null,
            null,
            "Queensland",
            null,
            null,
            null,
            null,
            null,
            "South Australia",
            null,
            "Los Angeles, CA"
           ],
           "lat": [
            36,
            15,
            1.2833,
            13,
            2.5,
            16,
            28.1667,
            51.2538,
            11.55,
            7,
            -33.8688,
            -37.8136,
            49.2827,
            64,
            24,
            -28.0167,
            21,
            43,
            60,
            63,
            51,
            -34.9285,
            40,
            34.0522
           ],
           "legendgroup": "",
           "lon": [
            138,
            101,
            103.8333,
            122,
            112.5,
            108,
            84.25,
            -85.3232,
            104.9167,
            81,
            151.2093,
            144.9631,
            -123.1207,
            26,
            54,
            153.4,
            78,
            12,
            90,
            16,
            9,
            138.6007,
            -4,
            -118.2437
           ],
           "marker": {
            "color": "#636efa"
           },
           "mode": "markers",
           "name": "",
           "showlegend": false,
           "subplot": "mapbox",
           "type": "scattermapbox"
          }
         ],
         "name": "02/02/2020"
        },
        {
         "data": [
          {
           "customdata": [
            [
             20,
             0,
             1
            ],
            [
             19,
             0,
             5
            ],
            [
             18,
             0,
             0
            ],
            [
             2,
             1,
             0
            ],
            [
             8,
             0,
             0
            ],
            [
             8,
             0,
             1
            ],
            [
             1,
             0,
             0
            ],
            [
             3,
             0,
             0
            ],
            [
             1,
             0,
             0
            ],
            [
             1,
             0,
             0
            ],
            [
             4,
             0,
             2
            ],
            [
             4,
             0,
             0
            ],
            [
             1,
             0,
             0
            ],
            [
             1,
             0,
             0
            ],
            [
             5,
             0,
             0
            ],
            [
             2,
             0,
             0
            ],
            [
             3,
             0,
             0
            ],
            [
             2,
             0,
             0
            ],
            [
             2,
             0,
             0
            ],
            [
             1,
             0,
             0
            ],
            [
             12,
             0,
             0
            ],
            [
             2,
             0,
             0
            ],
            [
             1,
             0,
             0
            ],
            [
             1,
             0,
             0
            ],
            [
             2,
             0,
             0
            ]
           ],
           "hoverlabel": {
            "namelength": 0
           },
           "hovertemplate": "<b>%{hovertext}</b><br><br>ObservationDate=02/03/2020<br>Confirmed=%{customdata[0]}<br>Deaths=%{customdata[1]}<br>Recovered=%{customdata[2]}<br>Lat=%{lat}<br>Long=%{lon}",
           "hovertext": [
            null,
            null,
            null,
            null,
            null,
            null,
            null,
            "Ontario",
            null,
            null,
            "New South Wales",
            "Victoria",
            "British Columbia",
            null,
            null,
            "Queensland",
            null,
            null,
            null,
            null,
            null,
            "South Australia",
            null,
            "Los Angeles, CA",
            "San Benito, CA"
           ],
           "lat": [
            36,
            15,
            1.2833,
            13,
            2.5,
            16,
            28.1667,
            51.2538,
            11.55,
            7,
            -33.8688,
            -37.8136,
            49.2827,
            64,
            24,
            -28.0167,
            21,
            43,
            60,
            63,
            51,
            -34.9285,
            40,
            34.0522,
            36.5761
           ],
           "legendgroup": "",
           "lon": [
            138,
            101,
            103.8333,
            122,
            112.5,
            108,
            84.25,
            -85.3232,
            104.9167,
            81,
            151.2093,
            144.9631,
            -123.1207,
            26,
            54,
            153.4,
            78,
            12,
            90,
            16,
            9,
            138.6007,
            -4,
            -118.2437,
            -120.9876
           ],
           "marker": {
            "color": "#636efa"
           },
           "mode": "markers",
           "name": "",
           "showlegend": false,
           "subplot": "mapbox",
           "type": "scattermapbox"
          }
         ],
         "name": "02/03/2020"
        },
        {
         "data": [
          {
           "customdata": [
            [
             22,
             0,
             1
            ],
            [
             25,
             0,
             5
            ],
            [
             24,
             0,
             0
            ],
            [
             2,
             1,
             0
            ],
            [
             10,
             0,
             0
            ],
            [
             8,
             0,
             1
            ],
            [
             1,
             0,
             0
            ],
            [
             1,
             0,
             0
            ],
            [
             1,
             0,
             0
            ],
            [
             4,
             0,
             2
            ],
            [
             4,
             0,
             0
            ],
            [
             1,
             0,
             0
            ],
            [
             1,
             0,
             0
            ],
            [
             5,
             0,
             0
            ],
            [
             3,
             0,
             0
            ],
            [
             3,
             0,
             0
            ],
            [
             2,
             0,
             0
            ],
            [
             2,
             0,
             0
            ],
            [
             1,
             0,
             0
            ],
            [
             12,
             0,
             0
            ],
            [
             2,
             0,
             0
            ],
            [
             1,
             0,
             0
            ],
            [
             1,
             0,
             0
            ],
            [
             2,
             0,
             0
            ],
            [
             1,
             0,
             0
            ]
           ],
           "hoverlabel": {
            "namelength": 0
           },
           "hovertemplate": "<b>%{hovertext}</b><br><br>ObservationDate=02/04/2020<br>Confirmed=%{customdata[0]}<br>Deaths=%{customdata[1]}<br>Recovered=%{customdata[2]}<br>Lat=%{lat}<br>Long=%{lon}",
           "hovertext": [
            null,
            null,
            null,
            null,
            null,
            null,
            null,
            null,
            null,
            "New South Wales",
            "Victoria",
            "British Columbia",
            null,
            null,
            "Queensland",
            null,
            null,
            null,
            null,
            null,
            "South Australia",
            null,
            "Los Angeles, CA",
            "San Benito, CA",
            null
           ],
           "lat": [
            36,
            15,
            1.2833,
            13,
            2.5,
            16,
            28.1667,
            11.55,
            7,
            -33.8688,
            -37.8136,
            49.2827,
            64,
            24,
            -28.0167,
            21,
            43,
            60,
            63,
            51,
            -34.9285,
            40,
            34.0522,
            36.5761,
            50.8333
           ],
           "legendgroup": "",
           "lon": [
            138,
            101,
            103.8333,
            122,
            112.5,
            108,
            84.25,
            104.9167,
            81,
            151.2093,
            144.9631,
            -123.1207,
            26,
            54,
            153.4,
            78,
            12,
            90,
            16,
            9,
            138.6007,
            -4,
            -118.2437,
            -120.9876,
            4
           ],
           "marker": {
            "color": "#636efa"
           },
           "mode": "markers",
           "name": "",
           "showlegend": false,
           "subplot": "mapbox",
           "type": "scattermapbox"
          }
         ],
         "name": "02/04/2020"
        },
        {
         "data": [
          {
           "customdata": [
            [
             22,
             0,
             1
            ],
            [
             25,
             0,
             5
            ],
            [
             28,
             0,
             0
            ],
            [
             2,
             1,
             0
            ],
            [
             12,
             0,
             0
            ],
            [
             8,
             0,
             1
            ],
            [
             1,
             0,
             0
            ],
            [
             1,
             0,
             0
            ],
            [
             1,
             0,
             0
            ],
            [
             4,
             0,
             2
            ],
            [
             4,
             0,
             0
            ],
            [
             2,
             0,
             0
            ],
            [
             1,
             0,
             0
            ],
            [
             5,
             0,
             0
            ],
            [
             3,
             0,
             0
            ],
            [
             3,
             0,
             0
            ],
            [
             2,
             0,
             0
            ],
            [
             2,
             0,
             0
            ],
            [
             1,
             0,
             0
            ],
            [
             12,
             0,
             0
            ],
            [
             2,
             0,
             0
            ],
            [
             1,
             0,
             0
            ],
            [
             1,
             0,
             0
            ],
            [
             2,
             0,
             0
            ],
            [
             1,
             0,
             0
            ]
           ],
           "hoverlabel": {
            "namelength": 0
           },
           "hovertemplate": "<b>%{hovertext}</b><br><br>ObservationDate=02/05/2020<br>Confirmed=%{customdata[0]}<br>Deaths=%{customdata[1]}<br>Recovered=%{customdata[2]}<br>Lat=%{lat}<br>Long=%{lon}",
           "hovertext": [
            null,
            null,
            null,
            null,
            null,
            null,
            null,
            null,
            null,
            "New South Wales",
            "Victoria",
            "British Columbia",
            null,
            null,
            "Queensland",
            null,
            null,
            null,
            null,
            null,
            "South Australia",
            null,
            "Los Angeles, CA",
            "San Benito, CA",
            null
           ],
           "lat": [
            36,
            15,
            1.2833,
            13,
            2.5,
            16,
            28.1667,
            11.55,
            7,
            -33.8688,
            -37.8136,
            49.2827,
            64,
            24,
            -28.0167,
            21,
            43,
            60,
            63,
            51,
            -34.9285,
            40,
            34.0522,
            36.5761,
            50.8333
           ],
           "legendgroup": "",
           "lon": [
            138,
            101,
            103.8333,
            122,
            112.5,
            108,
            84.25,
            104.9167,
            81,
            151.2093,
            144.9631,
            -123.1207,
            26,
            54,
            153.4,
            78,
            12,
            90,
            16,
            9,
            138.6007,
            -4,
            -118.2437,
            -120.9876,
            4
           ],
           "marker": {
            "color": "#636efa"
           },
           "mode": "markers",
           "name": "",
           "showlegend": false,
           "subplot": "mapbox",
           "type": "scattermapbox"
          }
         ],
         "name": "02/05/2020"
        },
        {
         "data": [
          {
           "customdata": [
            [
             45,
             0,
             1
            ],
            [
             25,
             0,
             5
            ],
            [
             28,
             0,
             0
            ],
            [
             2,
             1,
             0
            ],
            [
             12,
             0,
             0
            ],
            [
             10,
             0,
             1
            ],
            [
             1,
             0,
             0
            ],
            [
             1,
             0,
             0
            ],
            [
             1,
             0,
             0
            ],
            [
             4,
             0,
             2
            ],
            [
             4,
             0,
             0
            ],
            [
             2,
             0,
             0
            ],
            [
             1,
             0,
             0
            ],
            [
             5,
             0,
             0
            ],
            [
             4,
             0,
             0
            ],
            [
             3,
             0,
             0
            ],
            [
             2,
             0,
             0
            ],
            [
             2,
             0,
             0
            ],
            [
             1,
             0,
             0
            ],
            [
             12,
             0,
             0
            ],
            [
             2,
             0,
             0
            ],
            [
             1,
             0,
             0
            ],
            [
             1,
             0,
             0
            ],
            [
             2,
             0,
             0
            ],
            [
             1,
             0,
             0
            ]
           ],
           "hoverlabel": {
            "namelength": 0
           },
           "hovertemplate": "<b>%{hovertext}</b><br><br>ObservationDate=02/06/2020<br>Confirmed=%{customdata[0]}<br>Deaths=%{customdata[1]}<br>Recovered=%{customdata[2]}<br>Lat=%{lat}<br>Long=%{lon}",
           "hovertext": [
            null,
            null,
            null,
            null,
            null,
            null,
            null,
            null,
            null,
            "New South Wales",
            "Victoria",
            "British Columbia",
            null,
            null,
            "Queensland",
            null,
            null,
            null,
            null,
            null,
            "South Australia",
            null,
            "Los Angeles, CA",
            "San Benito, CA",
            null
           ],
           "lat": [
            36,
            15,
            1.2833,
            13,
            2.5,
            16,
            28.1667,
            11.55,
            7,
            -33.8688,
            -37.8136,
            49.2827,
            64,
            24,
            -28.0167,
            21,
            43,
            60,
            63,
            51,
            -34.9285,
            40,
            34.0522,
            36.5761,
            50.8333
           ],
           "legendgroup": "",
           "lon": [
            138,
            101,
            103.8333,
            122,
            112.5,
            108,
            84.25,
            104.9167,
            81,
            151.2093,
            144.9631,
            -123.1207,
            26,
            54,
            153.4,
            78,
            12,
            90,
            16,
            9,
            138.6007,
            -4,
            -118.2437,
            -120.9876,
            4
           ],
           "marker": {
            "color": "#636efa"
           },
           "mode": "markers",
           "name": "",
           "showlegend": false,
           "subplot": "mapbox",
           "type": "scattermapbox"
          }
         ],
         "name": "02/06/2020"
        },
        {
         "data": [
          {
           "customdata": [
            [
             25,
             0,
             1
            ],
            [
             25,
             0,
             5
            ],
            [
             30,
             0,
             0
            ],
            [
             3,
             1,
             0
            ],
            [
             12,
             0,
             1
            ],
            [
             10,
             0,
             1
            ],
            [
             1,
             0,
             0
            ],
            [
             1,
             0,
             0
            ],
            [
             1,
             0,
             0
            ],
            [
             4,
             0,
             2
            ],
            [
             4,
             0,
             0
            ],
            [
             4,
             0,
             0
            ],
            [
             1,
             0,
             0
            ],
            [
             5,
             0,
             0
            ],
            [
             5,
             0,
             0
            ],
            [
             3,
             0,
             0
            ],
            [
             3,
             0,
             0
            ],
            [
             2,
             0,
             0
            ],
            [
             1,
             0,
             0
            ],
            [
             13,
             0,
             0
            ],
            [
             2,
             0,
             0
            ],
            [
             1,
             0,
             0
            ],
            [
             1,
             0,
             0
            ],
            [
             2,
             0,
             0
            ],
            [
             1,
             0,
             0
            ]
           ],
           "hoverlabel": {
            "namelength": 0
           },
           "hovertemplate": "<b>%{hovertext}</b><br><br>ObservationDate=02/07/2020<br>Confirmed=%{customdata[0]}<br>Deaths=%{customdata[1]}<br>Recovered=%{customdata[2]}<br>Lat=%{lat}<br>Long=%{lon}",
           "hovertext": [
            null,
            null,
            null,
            null,
            null,
            null,
            null,
            null,
            null,
            "New South Wales",
            "Victoria",
            "British Columbia",
            null,
            null,
            "Queensland",
            null,
            null,
            null,
            null,
            null,
            "South Australia",
            null,
            "Los Angeles, CA",
            "San Benito, CA",
            null
           ],
           "lat": [
            36,
            15,
            1.2833,
            13,
            2.5,
            16,
            28.1667,
            11.55,
            7,
            -33.8688,
            -37.8136,
            49.2827,
            64,
            24,
            -28.0167,
            21,
            43,
            60,
            63,
            51,
            -34.9285,
            40,
            34.0522,
            36.5761,
            50.8333
           ],
           "legendgroup": "",
           "lon": [
            138,
            101,
            103.8333,
            122,
            112.5,
            108,
            84.25,
            104.9167,
            81,
            151.2093,
            144.9631,
            -123.1207,
            26,
            54,
            153.4,
            78,
            12,
            90,
            16,
            9,
            138.6007,
            -4,
            -118.2437,
            -120.9876,
            4
           ],
           "marker": {
            "color": "#636efa"
           },
           "mode": "markers",
           "name": "",
           "showlegend": false,
           "subplot": "mapbox",
           "type": "scattermapbox"
          }
         ],
         "name": "02/07/2020"
        },
        {
         "data": [
          {
           "customdata": [
            [
             25,
             0,
             1
            ],
            [
             32,
             0,
             10
            ],
            [
             33,
             0,
             2
            ],
            [
             3,
             1,
             0
            ],
            [
             16,
             0,
             1
            ],
            [
             13,
             0,
             1
            ],
            [
             1,
             0,
             0
            ],
            [
             1,
             0,
             0
            ],
            [
             1,
             0,
             1
            ],
            [
             4,
             0,
             2
            ],
            [
             4,
             0,
             0
            ],
            [
             4,
             0,
             0
            ],
            [
             1,
             0,
             0
            ],
            [
             7,
             0,
             0
            ],
            [
             5,
             0,
             0
            ],
            [
             3,
             0,
             0
            ],
            [
             3,
             0,
             0
            ],
            [
             2,
             0,
             0
            ],
            [
             1,
             0,
             0
            ],
            [
             13,
             0,
             0
            ],
            [
             2,
             0,
             0
            ],
            [
             1,
             0,
             0
            ],
            [
             1,
             0,
             0
            ],
            [
             2,
             0,
             0
            ],
            [
             1,
             0,
             0
            ]
           ],
           "hoverlabel": {
            "namelength": 0
           },
           "hovertemplate": "<b>%{hovertext}</b><br><br>ObservationDate=02/08/2020<br>Confirmed=%{customdata[0]}<br>Deaths=%{customdata[1]}<br>Recovered=%{customdata[2]}<br>Lat=%{lat}<br>Long=%{lon}",
           "hovertext": [
            null,
            null,
            null,
            null,
            null,
            null,
            null,
            null,
            null,
            "New South Wales",
            "Victoria",
            "British Columbia",
            null,
            null,
            "Queensland",
            null,
            null,
            null,
            null,
            null,
            "South Australia",
            null,
            "Los Angeles, CA",
            "San Benito, CA",
            null
           ],
           "lat": [
            36,
            15,
            1.2833,
            13,
            2.5,
            16,
            28.1667,
            11.55,
            7,
            -33.8688,
            -37.8136,
            49.2827,
            64,
            24,
            -28.0167,
            21,
            43,
            60,
            63,
            51,
            -34.9285,
            40,
            34.0522,
            36.5761,
            50.8333
           ],
           "legendgroup": "",
           "lon": [
            138,
            101,
            103.8333,
            122,
            112.5,
            108,
            84.25,
            104.9167,
            81,
            151.2093,
            144.9631,
            -123.1207,
            26,
            54,
            153.4,
            78,
            12,
            90,
            16,
            9,
            138.6007,
            -4,
            -118.2437,
            -120.9876,
            4
           ],
           "marker": {
            "color": "#636efa"
           },
           "mode": "markers",
           "name": "",
           "showlegend": false,
           "subplot": "mapbox",
           "type": "scattermapbox"
          }
         ],
         "name": "02/08/2020"
        },
        {
         "data": [
          {
           "customdata": [
            [
             26,
             0,
             1
            ],
            [
             32,
             0,
             10
            ],
            [
             40,
             0,
             2
            ],
            [
             3,
             1,
             0
            ],
            [
             16,
             0,
             1
            ],
            [
             13,
             0,
             1
            ],
            [
             1,
             0,
             0
            ],
            [
             1,
             0,
             0
            ],
            [
             1,
             0,
             1
            ],
            [
             4,
             0,
             2
            ],
            [
             4,
             0,
             0
            ],
            [
             4,
             0,
             0
            ],
            [
             1,
             0,
             0
            ],
            [
             7,
             0,
             0
            ],
            [
             5,
             0,
             0
            ],
            [
             3,
             0,
             0
            ],
            [
             3,
             0,
             0
            ],
            [
             2,
             0,
             0
            ],
            [
             1,
             0,
             0
            ],
            [
             14,
             0,
             0
            ],
            [
             2,
             0,
             0
            ],
            [
             2,
             0,
             0
            ],
            [
             1,
             0,
             0
            ],
            [
             2,
             0,
             0
            ],
            [
             1,
             0,
             0
            ]
           ],
           "hoverlabel": {
            "namelength": 0
           },
           "hovertemplate": "<b>%{hovertext}</b><br><br>ObservationDate=02/09/2020<br>Confirmed=%{customdata[0]}<br>Deaths=%{customdata[1]}<br>Recovered=%{customdata[2]}<br>Lat=%{lat}<br>Long=%{lon}",
           "hovertext": [
            null,
            null,
            null,
            null,
            null,
            null,
            null,
            null,
            null,
            "New South Wales",
            "Victoria",
            "British Columbia",
            null,
            null,
            "Queensland",
            null,
            null,
            null,
            null,
            null,
            "South Australia",
            null,
            "Los Angeles, CA",
            "San Benito, CA",
            null
           ],
           "lat": [
            36,
            15,
            1.2833,
            13,
            2.5,
            16,
            28.1667,
            11.55,
            7,
            -33.8688,
            -37.8136,
            49.2827,
            64,
            24,
            -28.0167,
            21,
            43,
            60,
            63,
            51,
            -34.9285,
            40,
            34.0522,
            36.5761,
            50.8333
           ],
           "legendgroup": "",
           "lon": [
            138,
            101,
            103.8333,
            122,
            112.5,
            108,
            84.25,
            104.9167,
            81,
            151.2093,
            144.9631,
            -123.1207,
            26,
            54,
            153.4,
            78,
            12,
            90,
            16,
            9,
            138.6007,
            -4,
            -118.2437,
            -120.9876,
            4
           ],
           "marker": {
            "color": "#636efa"
           },
           "mode": "markers",
           "name": "",
           "showlegend": false,
           "subplot": "mapbox",
           "type": "scattermapbox"
          }
         ],
         "name": "02/09/2020"
        },
        {
         "data": [
          {
           "customdata": [
            [
             26,
             0,
             4
            ],
            [
             32,
             0,
             10
            ],
            [
             45,
             0,
             2
            ],
            [
             3,
             1,
             0
            ],
            [
             18,
             0,
             1
            ],
            [
             14,
             0,
             1
            ],
            [
             1,
             0,
             0
            ],
            [
             1,
             0,
             0
            ],
            [
             1,
             0,
             1
            ],
            [
             4,
             0,
             2
            ],
            [
             4,
             0,
             0
            ],
            [
             4,
             0,
             0
            ],
            [
             1,
             0,
             0
            ],
            [
             8,
             0,
             0
            ],
            [
             5,
             0,
             0
            ],
            [
             3,
             0,
             0
            ],
            [
             3,
             0,
             0
            ],
            [
             2,
             0,
             0
            ],
            [
             1,
             0,
             0
            ],
            [
             14,
             0,
             0
            ],
            [
             2,
             0,
             0
            ],
            [
             2,
             0,
             0
            ],
            [
             1,
             0,
             0
            ],
            [
             2,
             0,
             0
            ],
            [
             1,
             0,
             0
            ]
           ],
           "hoverlabel": {
            "namelength": 0
           },
           "hovertemplate": "<b>%{hovertext}</b><br><br>ObservationDate=02/10/2020<br>Confirmed=%{customdata[0]}<br>Deaths=%{customdata[1]}<br>Recovered=%{customdata[2]}<br>Lat=%{lat}<br>Long=%{lon}",
           "hovertext": [
            null,
            null,
            null,
            null,
            null,
            null,
            null,
            null,
            null,
            "New South Wales",
            "Victoria",
            "British Columbia",
            null,
            null,
            "Queensland",
            null,
            null,
            null,
            null,
            null,
            "South Australia",
            null,
            "Los Angeles, CA",
            "San Benito, CA",
            null
           ],
           "lat": [
            36,
            15,
            1.2833,
            13,
            2.5,
            16,
            28.1667,
            11.55,
            7,
            -33.8688,
            -37.8136,
            49.2827,
            64,
            24,
            -28.0167,
            21,
            43,
            60,
            63,
            51,
            -34.9285,
            40,
            34.0522,
            36.5761,
            50.8333
           ],
           "legendgroup": "",
           "lon": [
            138,
            101,
            103.8333,
            122,
            112.5,
            108,
            84.25,
            104.9167,
            81,
            151.2093,
            144.9631,
            -123.1207,
            26,
            54,
            153.4,
            78,
            12,
            90,
            16,
            9,
            138.6007,
            -4,
            -118.2437,
            -120.9876,
            4
           ],
           "marker": {
            "color": "#636efa"
           },
           "mode": "markers",
           "name": "",
           "showlegend": false,
           "subplot": "mapbox",
           "type": "scattermapbox"
          }
         ],
         "name": "02/10/2020"
        },
        {
         "data": [
          {
           "customdata": [
            [
             26,
             0,
             9
            ],
            [
             33,
             0,
             10
            ],
            [
             47,
             0,
             9
            ],
            [
             3,
             1,
             0
            ],
            [
             18,
             0,
             3
            ],
            [
             15,
             0,
             6
            ],
            [
             1,
             0,
             0
            ],
            [
             1,
             0,
             0
            ],
            [
             1,
             0,
             1
            ],
            [
             4,
             0,
             2
            ],
            [
             4,
             0,
             0
            ],
            [
             4,
             0,
             0
            ],
            [
             1,
             0,
             0
            ],
            [
             8,
             0,
             0
            ],
            [
             5,
             0,
             0
            ],
            [
             3,
             0,
             0
            ],
            [
             3,
             0,
             0
            ],
            [
             2,
             0,
             0
            ],
            [
             1,
             0,
             0
            ],
            [
             16,
             0,
             0
            ],
            [
             2,
             0,
             0
            ],
            [
             2,
             0,
             0
            ],
            [
             1,
             0,
             0
            ],
            [
             2,
             0,
             0
            ],
            [
             1,
             0,
             0
            ],
            [
             1,
             0,
             0
            ]
           ],
           "hoverlabel": {
            "namelength": 0
           },
           "hovertemplate": "<b>%{hovertext}</b><br><br>ObservationDate=02/11/2020<br>Confirmed=%{customdata[0]}<br>Deaths=%{customdata[1]}<br>Recovered=%{customdata[2]}<br>Lat=%{lat}<br>Long=%{lon}",
           "hovertext": [
            null,
            null,
            null,
            null,
            null,
            null,
            null,
            null,
            null,
            "New South Wales",
            "Victoria",
            "British Columbia",
            null,
            null,
            "Queensland",
            null,
            null,
            null,
            null,
            null,
            "South Australia",
            null,
            "Los Angeles, CA",
            "San Benito, CA",
            null,
            "San Diego County, CA"
           ],
           "lat": [
            36,
            15,
            1.2833,
            13,
            2.5,
            16,
            28.1667,
            11.55,
            7,
            -33.8688,
            -37.8136,
            49.2827,
            64,
            24,
            -28.0167,
            21,
            43,
            60,
            63,
            51,
            -34.9285,
            40,
            34.0522,
            36.5761,
            50.8333,
            32.7157
           ],
           "legendgroup": "",
           "lon": [
            138,
            101,
            103.8333,
            122,
            112.5,
            108,
            84.25,
            104.9167,
            81,
            151.2093,
            144.9631,
            -123.1207,
            26,
            54,
            153.4,
            78,
            12,
            90,
            16,
            9,
            138.6007,
            -4,
            -118.2437,
            -120.9876,
            4,
            -117.1611
           ],
           "marker": {
            "color": "#636efa"
           },
           "mode": "markers",
           "name": "",
           "showlegend": false,
           "subplot": "mapbox",
           "type": "scattermapbox"
          }
         ],
         "name": "02/11/2020"
        },
        {
         "data": [
          {
           "customdata": [
            [
             28,
             0,
             9
            ],
            [
             33,
             0,
             10
            ],
            [
             50,
             0,
             15
            ],
            [
             3,
             1,
             1
            ],
            [
             18,
             0,
             3
            ],
            [
             15,
             0,
             6
            ],
            [
             1,
             0,
             1
            ],
            [
             1,
             0,
             1
            ],
            [
             1,
             0,
             1
            ],
            [
             4,
             0,
             2
            ],
            [
             4,
             0,
             0
            ],
            [
             4,
             0,
             0
            ],
            [
             1,
             0,
             1
            ],
            [
             8,
             0,
             1
            ],
            [
             5,
             0,
             0
            ],
            [
             3,
             0,
             0
            ],
            [
             3,
             0,
             0
            ],
            [
             2,
             0,
             2
            ],
            [
             1,
             0,
             0
            ],
            [
             16,
             0,
             0
            ],
            [
             2,
             0,
             0
            ],
            [
             2,
             0,
             0
            ],
            [
             1,
             0,
             0
            ],
            [
             2,
             0,
             0
            ],
            [
             1,
             0,
             0
            ],
            [
             1,
             0,
             0
            ]
           ],
           "hoverlabel": {
            "namelength": 0
           },
           "hovertemplate": "<b>%{hovertext}</b><br><br>ObservationDate=02/12/2020<br>Confirmed=%{customdata[0]}<br>Deaths=%{customdata[1]}<br>Recovered=%{customdata[2]}<br>Lat=%{lat}<br>Long=%{lon}",
           "hovertext": [
            null,
            null,
            null,
            null,
            null,
            null,
            null,
            null,
            null,
            "New South Wales",
            "Victoria",
            "British Columbia",
            null,
            null,
            "Queensland",
            null,
            null,
            null,
            null,
            null,
            "South Australia",
            null,
            "Los Angeles, CA",
            "San Benito, CA",
            null,
            "San Diego County, CA"
           ],
           "lat": [
            36,
            15,
            1.2833,
            13,
            2.5,
            16,
            28.1667,
            11.55,
            7,
            -33.8688,
            -37.8136,
            49.2827,
            64,
            24,
            -28.0167,
            21,
            43,
            60,
            63,
            51,
            -34.9285,
            40,
            34.0522,
            36.5761,
            50.8333,
            32.7157
           ],
           "legendgroup": "",
           "lon": [
            138,
            101,
            103.8333,
            122,
            112.5,
            108,
            84.25,
            104.9167,
            81,
            151.2093,
            144.9631,
            -123.1207,
            26,
            54,
            153.4,
            78,
            12,
            90,
            16,
            9,
            138.6007,
            -4,
            -118.2437,
            -120.9876,
            4,
            -117.1611
           ],
           "marker": {
            "color": "#636efa"
           },
           "mode": "markers",
           "name": "",
           "showlegend": false,
           "subplot": "mapbox",
           "type": "scattermapbox"
          }
         ],
         "name": "02/12/2020"
        },
        {
         "data": [
          {
           "customdata": [
            [
             28,
             1,
             9
            ],
            [
             33,
             0,
             12
            ],
            [
             58,
             0,
             15
            ],
            [
             3,
             1,
             1
            ],
            [
             19,
             0,
             3
            ],
            [
             16,
             0,
             7
            ],
            [
             1,
             0,
             1
            ],
            [
             1,
             0,
             1
            ],
            [
             1,
             0,
             1
            ],
            [
             4,
             0,
             4
            ],
            [
             4,
             0,
             4
            ],
            [
             4,
             0,
             0
            ],
            [
             1,
             0,
             1
            ],
            [
             8,
             0,
             1
            ],
            [
             5,
             0,
             0
            ],
            [
             3,
             0,
             0
            ],
            [
             3,
             0,
             0
            ],
            [
             2,
             0,
             2
            ],
            [
             1,
             0,
             0
            ],
            [
             16,
             0,
             1
            ],
            [
             2,
             0,
             0
            ],
            [
             2,
             0,
             0
            ],
            [
             1,
             0,
             0
            ],
            [
             2,
             0,
             0
            ],
            [
             1,
             0,
             0
            ],
            [
             2,
             0,
             0
            ]
           ],
           "hoverlabel": {
            "namelength": 0
           },
           "hovertemplate": "<b>%{hovertext}</b><br><br>ObservationDate=02/13/2020<br>Confirmed=%{customdata[0]}<br>Deaths=%{customdata[1]}<br>Recovered=%{customdata[2]}<br>Lat=%{lat}<br>Long=%{lon}",
           "hovertext": [
            null,
            null,
            null,
            null,
            null,
            null,
            null,
            null,
            null,
            "New South Wales",
            "Victoria",
            "British Columbia",
            null,
            null,
            "Queensland",
            null,
            null,
            null,
            null,
            null,
            "South Australia",
            null,
            "Los Angeles, CA",
            "San Benito, CA",
            null,
            "San Diego County, CA"
           ],
           "lat": [
            36,
            15,
            1.2833,
            13,
            2.5,
            16,
            28.1667,
            11.55,
            7,
            -33.8688,
            -37.8136,
            49.2827,
            64,
            24,
            -28.0167,
            21,
            43,
            60,
            63,
            51,
            -34.9285,
            40,
            34.0522,
            36.5761,
            50.8333,
            32.7157
           ],
           "legendgroup": "",
           "lon": [
            138,
            101,
            103.8333,
            122,
            112.5,
            108,
            84.25,
            104.9167,
            81,
            151.2093,
            144.9631,
            -123.1207,
            26,
            54,
            153.4,
            78,
            12,
            90,
            16,
            9,
            138.6007,
            -4,
            -118.2437,
            -120.9876,
            4,
            -117.1611
           ],
           "marker": {
            "color": "#636efa"
           },
           "mode": "markers",
           "name": "",
           "showlegend": false,
           "subplot": "mapbox",
           "type": "scattermapbox"
          }
         ],
         "name": "02/13/2020"
        },
        {
         "data": [
          {
           "customdata": [
            [
             29,
             1,
             9
            ],
            [
             33,
             0,
             12
            ],
            [
             67,
             0,
             17
            ],
            [
             3,
             1,
             1
            ],
            [
             19,
             0,
             3
            ],
            [
             16,
             0,
             7
            ],
            [
             1,
             0,
             1
            ],
            [
             1,
             0,
             1
            ],
            [
             1,
             0,
             1
            ],
            [
             4,
             0,
             4
            ],
            [
             4,
             0,
             4
            ],
            [
             4,
             0,
             0
            ],
            [
             1,
             0,
             1
            ],
            [
             8,
             0,
             1
            ],
            [
             5,
             0,
             0
            ],
            [
             3,
             0,
             0
            ],
            [
             3,
             0,
             0
            ],
            [
             2,
             0,
             2
            ],
            [
             1,
             0,
             0
            ],
            [
             16,
             0,
             1
            ],
            [
             2,
             0,
             0
            ],
            [
             2,
             0,
             0
            ],
            [
             1,
             0,
             0
            ],
            [
             2,
             0,
             0
            ],
            [
             1,
             0,
             0
            ],
            [
             2,
             0,
             0
            ],
            [
             1,
             0,
             0
            ]
           ],
           "hoverlabel": {
            "namelength": 0
           },
           "hovertemplate": "<b>%{hovertext}</b><br><br>ObservationDate=02/14/2020<br>Confirmed=%{customdata[0]}<br>Deaths=%{customdata[1]}<br>Recovered=%{customdata[2]}<br>Lat=%{lat}<br>Long=%{lon}",
           "hovertext": [
            null,
            null,
            null,
            null,
            null,
            null,
            null,
            null,
            null,
            "New South Wales",
            "Victoria",
            "British Columbia",
            null,
            null,
            "Queensland",
            null,
            null,
            null,
            null,
            null,
            "South Australia",
            null,
            "Los Angeles, CA",
            "San Benito, CA",
            null,
            "San Diego County, CA",
            null
           ],
           "lat": [
            36,
            15,
            1.2833,
            13,
            2.5,
            16,
            28.1667,
            11.55,
            7,
            -33.8688,
            -37.8136,
            49.2827,
            64,
            24,
            -28.0167,
            21,
            43,
            60,
            63,
            51,
            -34.9285,
            40,
            34.0522,
            36.5761,
            50.8333,
            32.7157,
            26
           ],
           "legendgroup": "",
           "lon": [
            138,
            101,
            103.8333,
            122,
            112.5,
            108,
            84.25,
            104.9167,
            81,
            151.2093,
            144.9631,
            -123.1207,
            26,
            54,
            153.4,
            78,
            12,
            90,
            16,
            9,
            138.6007,
            -4,
            -118.2437,
            -120.9876,
            4,
            -117.1611,
            30
           ],
           "marker": {
            "color": "#636efa"
           },
           "mode": "markers",
           "name": "",
           "showlegend": false,
           "subplot": "mapbox",
           "type": "scattermapbox"
          }
         ],
         "name": "02/14/2020"
        },
        {
         "data": [
          {
           "customdata": [
            [
             43,
             1,
             12
            ],
            [
             33,
             0,
             12
            ],
            [
             72,
             0,
             18
            ],
            [
             3,
             1,
             1
            ],
            [
             22,
             0,
             7
            ],
            [
             16,
             0,
             7
            ],
            [
             1,
             0,
             1
            ],
            [
             1,
             0,
             1
            ],
            [
             1,
             0,
             1
            ],
            [
             4,
             0,
             4
            ],
            [
             4,
             0,
             4
            ],
            [
             4,
             0,
             0
            ],
            [
             1,
             0,
             1
            ],
            [
             8,
             0,
             3
            ],
            [
             5,
             0,
             0
            ],
            [
             3,
             0,
             0
            ],
            [
             3,
             0,
             0
            ],
            [
             2,
             0,
             2
            ],
            [
             1,
             0,
             0
            ],
            [
             16,
             0,
             1
            ],
            [
             2,
             0,
             0
            ],
            [
             2,
             0,
             2
            ],
            [
             1,
             0,
             0
            ],
            [
             2,
             0,
             0
            ],
            [
             1,
             0,
             0
            ],
            [
             2,
             0,
             0
            ],
            [
             1,
             0,
             0
            ]
           ],
           "hoverlabel": {
            "namelength": 0
           },
           "hovertemplate": "<b>%{hovertext}</b><br><br>ObservationDate=02/15/2020<br>Confirmed=%{customdata[0]}<br>Deaths=%{customdata[1]}<br>Recovered=%{customdata[2]}<br>Lat=%{lat}<br>Long=%{lon}",
           "hovertext": [
            null,
            null,
            null,
            null,
            null,
            null,
            null,
            null,
            null,
            "New South Wales",
            "Victoria",
            "British Columbia",
            null,
            null,
            "Queensland",
            null,
            null,
            null,
            null,
            null,
            "South Australia",
            null,
            "Los Angeles, CA",
            "San Benito, CA",
            null,
            "San Diego County, CA",
            null
           ],
           "lat": [
            36,
            15,
            1.2833,
            13,
            2.5,
            16,
            28.1667,
            11.55,
            7,
            -33.8688,
            -37.8136,
            49.2827,
            64,
            24,
            -28.0167,
            21,
            43,
            60,
            63,
            51,
            -34.9285,
            40,
            34.0522,
            36.5761,
            50.8333,
            32.7157,
            26
           ],
           "legendgroup": "",
           "lon": [
            138,
            101,
            103.8333,
            122,
            112.5,
            108,
            84.25,
            104.9167,
            81,
            151.2093,
            144.9631,
            -123.1207,
            26,
            54,
            153.4,
            78,
            12,
            90,
            16,
            9,
            138.6007,
            -4,
            -118.2437,
            -120.9876,
            4,
            -117.1611,
            30
           ],
           "marker": {
            "color": "#636efa"
           },
           "mode": "markers",
           "name": "",
           "showlegend": false,
           "subplot": "mapbox",
           "type": "scattermapbox"
          }
         ],
         "name": "02/15/2020"
        },
        {
         "data": [
          {
           "customdata": [
            [
             59,
             1,
             12
            ],
            [
             34,
             0,
             14
            ],
            [
             75,
             0,
             18
            ],
            [
             3,
             1,
             1
            ],
            [
             22,
             0,
             7
            ],
            [
             16,
             0,
             7
            ],
            [
             1,
             0,
             1
            ],
            [
             1,
             0,
             1
            ],
            [
             1,
             0,
             1
            ],
            [
             4,
             0,
             4
            ],
            [
             4,
             0,
             4
            ],
            [
             4,
             0,
             0
            ],
            [
             1,
             0,
             1
            ],
            [
             9,
             0,
             4
            ],
            [
             5,
             0,
             0
            ],
            [
             3,
             0,
             3
            ],
            [
             3,
             0,
             0
            ],
            [
             2,
             0,
             2
            ],
            [
             1,
             0,
             0
            ],
            [
             16,
             0,
             1
            ],
            [
             2,
             0,
             0
            ],
            [
             2,
             0,
             2
            ],
            [
             1,
             0,
             0
            ],
            [
             2,
             0,
             0
            ],
            [
             1,
             0,
             0
            ],
            [
             2,
             0,
             0
            ],
            [
             1,
             0,
             0
            ]
           ],
           "hoverlabel": {
            "namelength": 0
           },
           "hovertemplate": "<b>%{hovertext}</b><br><br>ObservationDate=02/16/2020<br>Confirmed=%{customdata[0]}<br>Deaths=%{customdata[1]}<br>Recovered=%{customdata[2]}<br>Lat=%{lat}<br>Long=%{lon}",
           "hovertext": [
            null,
            null,
            null,
            null,
            null,
            null,
            null,
            null,
            null,
            "New South Wales",
            "Victoria",
            "British Columbia",
            null,
            null,
            "Queensland",
            null,
            null,
            null,
            null,
            null,
            "South Australia",
            null,
            "Los Angeles, CA",
            "San Benito, CA",
            null,
            "San Diego County, CA",
            null
           ],
           "lat": [
            36,
            15,
            1.2833,
            13,
            2.5,
            16,
            28.1667,
            11.55,
            7,
            -33.8688,
            -37.8136,
            49.2827,
            64,
            24,
            -28.0167,
            21,
            43,
            60,
            63,
            51,
            -34.9285,
            40,
            34.0522,
            36.5761,
            50.8333,
            32.7157,
            26
           ],
           "legendgroup": "",
           "lon": [
            138,
            101,
            103.8333,
            122,
            112.5,
            108,
            84.25,
            104.9167,
            81,
            151.2093,
            144.9631,
            -123.1207,
            26,
            54,
            153.4,
            78,
            12,
            90,
            16,
            9,
            138.6007,
            -4,
            -118.2437,
            -120.9876,
            4,
            -117.1611,
            30
           ],
           "marker": {
            "color": "#636efa"
           },
           "mode": "markers",
           "name": "",
           "showlegend": false,
           "subplot": "mapbox",
           "type": "scattermapbox"
          }
         ],
         "name": "02/16/2020"
        },
        {
         "data": [
          {
           "customdata": [
            [
             66,
             1,
             12
            ],
            [
             35,
             0,
             15
            ],
            [
             77,
             0,
             24
            ],
            [
             3,
             1,
             1
            ],
            [
             22,
             0,
             7
            ],
            [
             16,
             0,
             7
            ],
            [
             1,
             0,
             1
            ],
            [
             1,
             0,
             1
            ],
            [
             1,
             0,
             1
            ],
            [
             4,
             0,
             4
            ],
            [
             4,
             0,
             4
            ],
            [
             5,
             0,
             0
            ],
            [
             1,
             0,
             1
            ],
            [
             9,
             0,
             4
            ],
            [
             5,
             0,
             0
            ],
            [
             3,
             0,
             3
            ],
            [
             3,
             0,
             0
            ],
            [
             2,
             0,
             2
            ],
            [
             1,
             0,
             0
            ],
            [
             16,
             0,
             1
            ],
            [
             2,
             0,
             2
            ],
            [
             2,
             0,
             2
            ],
            [
             1,
             0,
             0
            ],
            [
             2,
             0,
             0
            ],
            [
             1,
             0,
             1
            ],
            [
             2,
             0,
             0
            ],
            [
             1,
             0,
             0
            ]
           ],
           "hoverlabel": {
            "namelength": 0
           },
           "hovertemplate": "<b>%{hovertext}</b><br><br>ObservationDate=02/17/2020<br>Confirmed=%{customdata[0]}<br>Deaths=%{customdata[1]}<br>Recovered=%{customdata[2]}<br>Lat=%{lat}<br>Long=%{lon}",
           "hovertext": [
            null,
            null,
            null,
            null,
            null,
            null,
            null,
            null,
            null,
            "New South Wales",
            "Victoria",
            "British Columbia",
            null,
            null,
            "Queensland",
            null,
            null,
            null,
            null,
            null,
            "South Australia",
            null,
            "Los Angeles, CA",
            "San Benito, CA",
            null,
            "San Diego County, CA",
            null
           ],
           "lat": [
            36,
            15,
            1.2833,
            13,
            2.5,
            16,
            28.1667,
            11.55,
            7,
            -33.8688,
            -37.8136,
            49.2827,
            64,
            24,
            -28.0167,
            21,
            43,
            60,
            63,
            51,
            -34.9285,
            40,
            34.0522,
            36.5761,
            50.8333,
            32.7157,
            26
           ],
           "legendgroup": "",
           "lon": [
            138,
            101,
            103.8333,
            122,
            112.5,
            108,
            84.25,
            104.9167,
            81,
            151.2093,
            144.9631,
            -123.1207,
            26,
            54,
            153.4,
            78,
            12,
            90,
            16,
            9,
            138.6007,
            -4,
            -118.2437,
            -120.9876,
            4,
            -117.1611,
            30
           ],
           "marker": {
            "color": "#636efa"
           },
           "mode": "markers",
           "name": "",
           "showlegend": false,
           "subplot": "mapbox",
           "type": "scattermapbox"
          }
         ],
         "name": "02/17/2020"
        },
        {
         "data": [
          {
           "customdata": [
            [
             74,
             1,
             13
            ],
            [
             35,
             0,
             15
            ],
            [
             81,
             0,
             29
            ],
            [
             3,
             1,
             1
            ],
            [
             22,
             0,
             13
            ],
            [
             16,
             0,
             7
            ],
            [
             1,
             0,
             1
            ],
            [
             1,
             0,
             1
            ],
            [
             1,
             0,
             1
            ],
            [
             4,
             0,
             4
            ],
            [
             4,
             0,
             4
            ],
            [
             5,
             0,
             0
            ],
            [
             1,
             0,
             1
            ],
            [
             9,
             0,
             4
            ],
            [
             5,
             0,
             0
            ],
            [
             3,
             0,
             3
            ],
            [
             3,
             0,
             0
            ],
            [
             2,
             0,
             2
            ],
            [
             1,
             0,
             0
            ],
            [
             16,
             0,
             12
            ],
            [
             2,
             0,
             2
            ],
            [
             2,
             0,
             2
            ],
            [
             1,
             0,
             0
            ],
            [
             2,
             0,
             0
            ],
            [
             1,
             0,
             1
            ],
            [
             2,
             0,
             0
            ],
            [
             1,
             0,
             0
            ]
           ],
           "hoverlabel": {
            "namelength": 0
           },
           "hovertemplate": "<b>%{hovertext}</b><br><br>ObservationDate=02/18/2020<br>Confirmed=%{customdata[0]}<br>Deaths=%{customdata[1]}<br>Recovered=%{customdata[2]}<br>Lat=%{lat}<br>Long=%{lon}",
           "hovertext": [
            null,
            null,
            null,
            null,
            null,
            null,
            null,
            null,
            null,
            "New South Wales",
            "Victoria",
            "British Columbia",
            null,
            null,
            "Queensland",
            null,
            null,
            null,
            null,
            null,
            "South Australia",
            null,
            "Los Angeles, CA",
            "San Benito, CA",
            null,
            "San Diego County, CA",
            null
           ],
           "lat": [
            36,
            15,
            1.2833,
            13,
            2.5,
            16,
            28.1667,
            11.55,
            7,
            -33.8688,
            -37.8136,
            49.2827,
            64,
            24,
            -28.0167,
            21,
            43,
            60,
            63,
            51,
            -34.9285,
            40,
            34.0522,
            36.5761,
            50.8333,
            32.7157,
            26
           ],
           "legendgroup": "",
           "lon": [
            138,
            101,
            103.8333,
            122,
            112.5,
            108,
            84.25,
            104.9167,
            81,
            151.2093,
            144.9631,
            -123.1207,
            26,
            54,
            153.4,
            78,
            12,
            90,
            16,
            9,
            138.6007,
            -4,
            -118.2437,
            -120.9876,
            4,
            -117.1611,
            30
           ],
           "marker": {
            "color": "#636efa"
           },
           "mode": "markers",
           "name": "",
           "showlegend": false,
           "subplot": "mapbox",
           "type": "scattermapbox"
          }
         ],
         "name": "02/18/2020"
        },
        {
         "data": [
          {
           "customdata": [
            [
             84,
             1,
             18
            ],
            [
             35,
             0,
             15
            ],
            [
             84,
             0,
             34
            ],
            [
             3,
             1,
             1
            ],
            [
             22,
             0,
             15
            ],
            [
             16,
             0,
             7
            ],
            [
             1,
             0,
             1
            ],
            [
             1,
             0,
             1
            ],
            [
             1,
             0,
             1
            ],
            [
             4,
             0,
             4
            ],
            [
             4,
             0,
             4
            ],
            [
             5,
             0,
             0
            ],
            [
             1,
             0,
             1
            ],
            [
             9,
             0,
             4
            ],
            [
             5,
             0,
             0
            ],
            [
             3,
             0,
             3
            ],
            [
             3,
             0,
             0
            ],
            [
             2,
             0,
             2
            ],
            [
             1,
             0,
             0
            ],
            [
             16,
             0,
             12
            ],
            [
             2,
             0,
             2
            ],
            [
             2,
             0,
             2
            ],
            [
             1,
             0,
             0
            ],
            [
             2,
             0,
             0
            ],
            [
             1,
             0,
             1
            ],
            [
             2,
             0,
             0
            ],
            [
             1,
             0,
             0
            ],
            [
             2,
             2,
             0
            ]
           ],
           "hoverlabel": {
            "namelength": 0
           },
           "hovertemplate": "<b>%{hovertext}</b><br><br>ObservationDate=02/19/2020<br>Confirmed=%{customdata[0]}<br>Deaths=%{customdata[1]}<br>Recovered=%{customdata[2]}<br>Lat=%{lat}<br>Long=%{lon}",
           "hovertext": [
            null,
            null,
            null,
            null,
            null,
            null,
            null,
            null,
            null,
            "New South Wales",
            "Victoria",
            "British Columbia",
            null,
            null,
            "Queensland",
            null,
            null,
            null,
            null,
            null,
            "South Australia",
            null,
            "Los Angeles, CA",
            "San Benito, CA",
            null,
            "San Diego County, CA",
            null,
            null
           ],
           "lat": [
            36,
            15,
            1.2833,
            13,
            2.5,
            16,
            28.1667,
            11.55,
            7,
            -33.8688,
            -37.8136,
            49.2827,
            64,
            24,
            -28.0167,
            21,
            43,
            60,
            63,
            51,
            -34.9285,
            40,
            34.0522,
            36.5761,
            50.8333,
            32.7157,
            26,
            32
           ],
           "legendgroup": "",
           "lon": [
            138,
            101,
            103.8333,
            122,
            112.5,
            108,
            84.25,
            104.9167,
            81,
            151.2093,
            144.9631,
            -123.1207,
            26,
            54,
            153.4,
            78,
            12,
            90,
            16,
            9,
            138.6007,
            -4,
            -118.2437,
            -120.9876,
            4,
            -117.1611,
            30,
            53
           ],
           "marker": {
            "color": "#636efa"
           },
           "mode": "markers",
           "name": "",
           "showlegend": false,
           "subplot": "mapbox",
           "type": "scattermapbox"
          }
         ],
         "name": "02/19/2020"
        },
        {
         "data": [
          {
           "customdata": [
            [
             94,
             1,
             18
            ],
            [
             35,
             0,
             15
            ],
            [
             84,
             0,
             34
            ],
            [
             3,
             1,
             1
            ],
            [
             22,
             0,
             15
            ],
            [
             16,
             0,
             7
            ],
            [
             1,
             0,
             1
            ],
            [
             1,
             0,
             1
            ],
            [
             1,
             0,
             1
            ],
            [
             4,
             0,
             4
            ],
            [
             4,
             0,
             4
            ],
            [
             5,
             0,
             0
            ],
            [
             1,
             0,
             1
            ],
            [
             9,
             0,
             4
            ],
            [
             5,
             0,
             0
            ],
            [
             3,
             0,
             3
            ],
            [
             3,
             0,
             0
            ],
            [
             2,
             0,
             2
            ],
            [
             1,
             0,
             0
            ],
            [
             16,
             0,
             12
            ],
            [
             2,
             0,
             2
            ],
            [
             2,
             0,
             2
            ],
            [
             1,
             0,
             0
            ],
            [
             2,
             0,
             0
            ],
            [
             1,
             0,
             1
            ],
            [
             2,
             0,
             0
            ],
            [
             1,
             0,
             0
            ],
            [
             5,
             2,
             0
            ]
           ],
           "hoverlabel": {
            "namelength": 0
           },
           "hovertemplate": "<b>%{hovertext}</b><br><br>ObservationDate=02/20/2020<br>Confirmed=%{customdata[0]}<br>Deaths=%{customdata[1]}<br>Recovered=%{customdata[2]}<br>Lat=%{lat}<br>Long=%{lon}",
           "hovertext": [
            null,
            null,
            null,
            null,
            null,
            null,
            null,
            null,
            null,
            "New South Wales",
            "Victoria",
            "British Columbia",
            null,
            null,
            "Queensland",
            null,
            null,
            null,
            null,
            null,
            "South Australia",
            null,
            "Los Angeles, CA",
            "San Benito, CA",
            null,
            "San Diego County, CA",
            null,
            null
           ],
           "lat": [
            36,
            15,
            1.2833,
            13,
            2.5,
            16,
            28.1667,
            11.55,
            7,
            -33.8688,
            -37.8136,
            49.2827,
            64,
            24,
            -28.0167,
            21,
            43,
            60,
            63,
            51,
            -34.9285,
            40,
            34.0522,
            36.5761,
            50.8333,
            32.7157,
            26,
            32
           ],
           "legendgroup": "",
           "lon": [
            138,
            101,
            103.8333,
            122,
            112.5,
            108,
            84.25,
            104.9167,
            81,
            151.2093,
            144.9631,
            -123.1207,
            26,
            54,
            153.4,
            78,
            12,
            90,
            16,
            9,
            138.6007,
            -4,
            -118.2437,
            -120.9876,
            4,
            -117.1611,
            30,
            53
           ],
           "marker": {
            "color": "#636efa"
           },
           "mode": "markers",
           "name": "",
           "showlegend": false,
           "subplot": "mapbox",
           "type": "scattermapbox"
          }
         ],
         "name": "02/20/2020"
        },
        {
         "data": [
          {
           "customdata": [
            [
             105,
             1,
             22
            ],
            [
             35,
             0,
             17
            ],
            [
             85,
             0,
             37
            ],
            [
             3,
             1,
             1
            ],
            [
             22,
             0,
             15
            ],
            [
             16,
             0,
             14
            ],
            [
             1,
             0,
             1
            ],
            [
             1,
             0,
             1
            ],
            [
             1,
             0,
             1
            ],
            [
             4,
             0,
             4
            ],
            [
             4,
             0,
             4
            ],
            [
             6,
             0,
             0
            ],
            [
             1,
             0,
             1
            ],
            [
             9,
             0,
             4
            ],
            [
             5,
             0,
             1
            ],
            [
             3,
             0,
             3
            ],
            [
             20,
             1,
             0
            ],
            [
             2,
             0,
             2
            ],
            [
             1,
             0,
             0
            ],
            [
             16,
             0,
             14
            ],
            [
             2,
             0,
             2
            ],
            [
             2,
             0,
             2
            ],
            [
             1,
             0,
             0
            ],
            [
             2,
             0,
             0
            ],
            [
             1,
             0,
             1
            ],
            [
             2,
             0,
             1
            ],
            [
             1,
             0,
             0
            ],
            [
             18,
             4,
             0
            ],
            [
             4,
             0,
             0
            ],
            [
             1,
             0,
             0
            ],
            [
             1,
             0,
             0
            ]
           ],
           "hoverlabel": {
            "namelength": 0
           },
           "hovertemplate": "<b>%{hovertext}</b><br><br>ObservationDate=02/21/2020<br>Confirmed=%{customdata[0]}<br>Deaths=%{customdata[1]}<br>Recovered=%{customdata[2]}<br>Lat=%{lat}<br>Long=%{lon}",
           "hovertext": [
            null,
            null,
            null,
            null,
            null,
            null,
            null,
            null,
            null,
            "New South Wales",
            "Victoria",
            "British Columbia",
            null,
            null,
            "Queensland",
            null,
            null,
            null,
            null,
            null,
            "South Australia",
            null,
            "Los Angeles, CA",
            "San Benito, CA",
            null,
            "San Diego County, CA",
            null,
            null,
            "From Diamond Princess",
            "Humboldt County, CA",
            "Sacramento County, CA"
           ],
           "lat": [
            36,
            15,
            1.2833,
            13,
            2.5,
            16,
            28.1667,
            11.55,
            7,
            -33.8688,
            -37.8136,
            49.2827,
            64,
            24,
            -28.0167,
            21,
            43,
            60,
            63,
            51,
            -34.9285,
            40,
            34.0522,
            36.5761,
            50.8333,
            32.7157,
            26,
            32,
            35.4437,
            40.745,
            38.4747
           ],
           "legendgroup": "",
           "lon": [
            138,
            101,
            103.8333,
            122,
            112.5,
            108,
            84.25,
            104.9167,
            81,
            151.2093,
            144.9631,
            -123.1207,
            26,
            54,
            153.4,
            78,
            12,
            90,
            16,
            9,
            138.6007,
            -4,
            -118.2437,
            -120.9876,
            4,
            -117.1611,
            30,
            53,
            139.638,
            -123.8695,
            -121.3542
           ],
           "marker": {
            "color": "#636efa"
           },
           "mode": "markers",
           "name": "",
           "showlegend": false,
           "subplot": "mapbox",
           "type": "scattermapbox"
          }
         ],
         "name": "02/21/2020"
        },
        {
         "data": [
          {
           "customdata": [
            [
             122,
             1,
             22
            ],
            [
             35,
             0,
             17
            ],
            [
             85,
             0,
             37
            ],
            [
             3,
             1,
             1
            ],
            [
             22,
             0,
             15
            ],
            [
             16,
             0,
             14
            ],
            [
             1,
             0,
             1
            ],
            [
             1,
             0,
             1
            ],
            [
             1,
             0,
             1
            ],
            [
             4,
             0,
             4
            ],
            [
             4,
             0,
             4
            ],
            [
             6,
             0,
             0
            ],
            [
             1,
             0,
             1
            ],
            [
             13,
             0,
             4
            ],
            [
             5,
             0,
             1
            ],
            [
             3,
             0,
             3
            ],
            [
             62,
             2,
             1
            ],
            [
             2,
             0,
             2
            ],
            [
             1,
             0,
             0
            ],
            [
             16,
             0,
             14
            ],
            [
             2,
             0,
             2
            ],
            [
             2,
             0,
             2
            ],
            [
             1,
             0,
             0
            ],
            [
             2,
             0,
             0
            ],
            [
             1,
             0,
             1
            ],
            [
             2,
             0,
             1
            ],
            [
             1,
             0,
             0
            ],
            [
             28,
             5,
             0
            ],
            [
             7,
             0,
             0
            ],
            [
             1,
             0,
             0
            ],
            [
             1,
             0,
             0
            ],
            [
             1,
             0,
             0
            ]
           ],
           "hoverlabel": {
            "namelength": 0
           },
           "hovertemplate": "<b>%{hovertext}</b><br><br>ObservationDate=02/22/2020<br>Confirmed=%{customdata[0]}<br>Deaths=%{customdata[1]}<br>Recovered=%{customdata[2]}<br>Lat=%{lat}<br>Long=%{lon}",
           "hovertext": [
            null,
            null,
            null,
            null,
            null,
            null,
            null,
            null,
            null,
            "New South Wales",
            "Victoria",
            "British Columbia",
            null,
            null,
            "Queensland",
            null,
            null,
            null,
            null,
            null,
            "South Australia",
            null,
            "Los Angeles, CA",
            "San Benito, CA",
            null,
            "San Diego County, CA",
            null,
            null,
            "From Diamond Princess",
            "Humboldt County, CA",
            "Sacramento County, CA",
            null
           ],
           "lat": [
            36,
            15,
            1.2833,
            13,
            2.5,
            16,
            28.1667,
            11.55,
            7,
            -33.8688,
            -37.8136,
            49.2827,
            64,
            24,
            -28.0167,
            21,
            43,
            60,
            63,
            51,
            -34.9285,
            40,
            34.0522,
            36.5761,
            50.8333,
            32.7157,
            26,
            32,
            35.4437,
            40.745,
            38.4747,
            33.8547
           ],
           "legendgroup": "",
           "lon": [
            138,
            101,
            103.8333,
            122,
            112.5,
            108,
            84.25,
            104.9167,
            81,
            151.2093,
            144.9631,
            -123.1207,
            26,
            54,
            153.4,
            78,
            12,
            90,
            16,
            9,
            138.6007,
            -4,
            -118.2437,
            -120.9876,
            4,
            -117.1611,
            30,
            53,
            139.638,
            -123.8695,
            -121.3542,
            35.8623
           ],
           "marker": {
            "color": "#636efa"
           },
           "mode": "markers",
           "name": "",
           "showlegend": false,
           "subplot": "mapbox",
           "type": "scattermapbox"
          }
         ],
         "name": "02/22/2020"
        },
        {
         "data": [
          {
           "customdata": [
            [
             147,
             1,
             22
            ],
            [
             35,
             0,
             21
            ],
            [
             89,
             0,
             51
            ],
            [
             3,
             1,
             1
            ],
            [
             22,
             0,
             15
            ],
            [
             16,
             0,
             14
            ],
            [
             1,
             0,
             1
            ],
            [
             1,
             0,
             1
            ],
            [
             1,
             0,
             1
            ],
            [
             4,
             0,
             4
            ],
            [
             4,
             0,
             4
            ],
            [
             6,
             0,
             0
            ],
            [
             1,
             0,
             1
            ],
            [
             13,
             0,
             4
            ],
            [
             5,
             0,
             1
            ],
            [
             3,
             0,
             3
            ],
            [
             155,
             3,
             2
            ],
            [
             2,
             0,
             2
            ],
            [
             1,
             0,
             0
            ],
            [
             16,
             0,
             14
            ],
            [
             2,
             0,
             2
            ],
            [
             2,
             0,
             2
            ],
            [
             1,
             0,
             0
            ],
            [
             2,
             0,
             0
            ],
            [
             1,
             0,
             1
            ],
            [
             2,
             0,
             1
            ],
            [
             1,
             0,
             0
            ],
            [
             43,
             8,
             0
            ],
            [
             7,
             0,
             0
            ],
            [
             1,
             0,
             0
            ],
            [
             1,
             0,
             0
            ],
            [
             1,
             0,
             0
            ]
           ],
           "hoverlabel": {
            "namelength": 0
           },
           "hovertemplate": "<b>%{hovertext}</b><br><br>ObservationDate=02/23/2020<br>Confirmed=%{customdata[0]}<br>Deaths=%{customdata[1]}<br>Recovered=%{customdata[2]}<br>Lat=%{lat}<br>Long=%{lon}",
           "hovertext": [
            null,
            null,
            null,
            null,
            null,
            null,
            null,
            null,
            null,
            "New South Wales",
            "Victoria",
            "British Columbia",
            null,
            null,
            "Queensland",
            null,
            null,
            null,
            null,
            null,
            "South Australia",
            null,
            "Los Angeles, CA",
            "San Benito, CA",
            null,
            "San Diego County, CA",
            null,
            null,
            "From Diamond Princess",
            "Humboldt County, CA",
            "Sacramento County, CA",
            null
           ],
           "lat": [
            36,
            15,
            1.2833,
            13,
            2.5,
            16,
            28.1667,
            11.55,
            7,
            -33.8688,
            -37.8136,
            49.2827,
            64,
            24,
            -28.0167,
            21,
            43,
            60,
            63,
            51,
            -34.9285,
            40,
            34.0522,
            36.5761,
            50.8333,
            32.7157,
            26,
            32,
            35.4437,
            40.745,
            38.4747,
            33.8547
           ],
           "legendgroup": "",
           "lon": [
            138,
            101,
            103.8333,
            122,
            112.5,
            108,
            84.25,
            104.9167,
            81,
            151.2093,
            144.9631,
            -123.1207,
            26,
            54,
            153.4,
            78,
            12,
            90,
            16,
            9,
            138.6007,
            -4,
            -118.2437,
            -120.9876,
            4,
            -117.1611,
            30,
            53,
            139.638,
            -123.8695,
            -121.3542,
            35.8623
           ],
           "marker": {
            "color": "#636efa"
           },
           "mode": "markers",
           "name": "",
           "showlegend": false,
           "subplot": "mapbox",
           "type": "scattermapbox"
          }
         ],
         "name": "02/23/2020"
        },
        {
         "data": [
          {
           "customdata": [
            [
             159,
             1,
             22
            ],
            [
             35,
             0,
             21
            ],
            [
             89,
             0,
             51
            ],
            [
             3,
             1,
             1
            ],
            [
             22,
             0,
             18
            ],
            [
             16,
             0,
             14
            ],
            [
             1,
             0,
             1
            ],
            [
             1,
             0,
             1
            ],
            [
             1,
             0,
             1
            ],
            [
             4,
             0,
             4
            ],
            [
             4,
             0,
             4
            ],
            [
             6,
             0,
             0
            ],
            [
             1,
             0,
             1
            ],
            [
             13,
             0,
             4
            ],
            [
             5,
             0,
             1
            ],
            [
             3,
             0,
             3
            ],
            [
             229,
             7,
             1
            ],
            [
             2,
             0,
             2
            ],
            [
             1,
             0,
             0
            ],
            [
             16,
             0,
             14
            ],
            [
             2,
             0,
             2
            ],
            [
             2,
             0,
             2
            ],
            [
             1,
             0,
             0
            ],
            [
             2,
             0,
             0
            ],
            [
             1,
             0,
             1
            ],
            [
             2,
             0,
             1
            ],
            [
             1,
             0,
             0
            ],
            [
             61,
             12,
             0
            ],
            [
             7,
             0,
             0
            ],
            [
             1,
             0,
             0
            ],
            [
             1,
             0,
             0
            ],
            [
             1,
             0,
             0
            ],
            [
             2,
             0,
             0
            ],
            [
             1,
             0,
             0
            ],
            [
             1,
             0,
             0
            ],
            [
             1,
             0,
             0
            ],
            [
             1,
             0,
             0
            ]
           ],
           "hoverlabel": {
            "namelength": 0
           },
           "hovertemplate": "<b>%{hovertext}</b><br><br>ObservationDate=02/24/2020<br>Confirmed=%{customdata[0]}<br>Deaths=%{customdata[1]}<br>Recovered=%{customdata[2]}<br>Lat=%{lat}<br>Long=%{lon}",
           "hovertext": [
            null,
            null,
            null,
            null,
            null,
            null,
            null,
            null,
            null,
            "New South Wales",
            "Victoria",
            "British Columbia",
            null,
            null,
            "Queensland",
            null,
            null,
            null,
            null,
            null,
            "South Australia",
            null,
            "Los Angeles, CA",
            "San Benito, CA",
            null,
            "San Diego County, CA",
            null,
            null,
            "From Diamond Princess",
            "Humboldt County, CA",
            "Sacramento County, CA",
            null,
            null,
            null,
            null,
            null,
            null
           ],
           "lat": [
            36,
            15,
            1.2833,
            13,
            2.5,
            16,
            28.1667,
            11.55,
            7,
            -33.8688,
            -37.8136,
            49.2827,
            64,
            24,
            -28.0167,
            21,
            43,
            60,
            63,
            51,
            -34.9285,
            40,
            34.0522,
            36.5761,
            50.8333,
            32.7157,
            26,
            32,
            35.4437,
            40.745,
            38.4747,
            33.8547,
            21,
            33,
            26.0275,
            33,
            29.5
           ],
           "legendgroup": "",
           "lon": [
            138,
            101,
            103.8333,
            122,
            112.5,
            108,
            84.25,
            104.9167,
            81,
            151.2093,
            144.9631,
            -123.1207,
            26,
            54,
            153.4,
            78,
            12,
            90,
            16,
            9,
            138.6007,
            -4,
            -118.2437,
            -120.9876,
            4,
            -117.1611,
            30,
            53,
            139.638,
            -123.8695,
            -121.3542,
            35.8623,
            57,
            65,
            50.55,
            44,
            47.75
           ],
           "marker": {
            "color": "#636efa"
           },
           "mode": "markers",
           "name": "",
           "showlegend": false,
           "subplot": "mapbox",
           "type": "scattermapbox"
          }
         ],
         "name": "02/24/2020"
        },
        {
         "data": [
          {
           "customdata": [
            [
             170,
             1,
             22
            ],
            [
             37,
             0,
             22
            ],
            [
             91,
             0,
             53
            ],
            [
             3,
             1,
             1
            ],
            [
             22,
             0,
             18
            ],
            [
             16,
             0,
             16
            ],
            [
             1,
             0,
             1
            ],
            [
             1,
             0,
             1
            ],
            [
             1,
             0,
             1
            ],
            [
             4,
             0,
             4
            ],
            [
             4,
             0,
             4
            ],
            [
             7,
             0,
             0
            ],
            [
             1,
             0,
             1
            ],
            [
             13,
             0,
             4
            ],
            [
             5,
             0,
             1
            ],
            [
             3,
             0,
             3
            ],
            [
             322,
             10,
             1
            ],
            [
             2,
             0,
             2
            ],
            [
             1,
             0,
             0
            ],
            [
             17,
             0,
             14
            ],
            [
             2,
             0,
             2
            ],
            [
             6,
             0,
             2
            ],
            [
             1,
             0,
             0
            ],
            [
             2,
             0,
             0
            ],
            [
             1,
             0,
             1
            ],
            [
             2,
             0,
             1
            ],
            [
             1,
             0,
             0
            ],
            [
             95,
             16,
             0
            ],
            [
             7,
             0,
             0
            ],
            [
             1,
             0,
             0
            ],
            [
             1,
             0,
             0
            ],
            [
             1,
             0,
             0
            ],
            [
             2,
             0,
             0
            ],
            [
             1,
             0,
             0
            ],
            [
             23,
             0,
             0
            ],
            [
             1,
             0,
             0
            ],
            [
             11,
             0,
             0
            ],
            [
             1,
             0,
             0
            ],
            [
             1,
             0,
             0
            ],
            [
             1,
             0,
             0
            ]
           ],
           "hoverlabel": {
            "namelength": 0
           },
           "hovertemplate": "<b>%{hovertext}</b><br><br>ObservationDate=02/25/2020<br>Confirmed=%{customdata[0]}<br>Deaths=%{customdata[1]}<br>Recovered=%{customdata[2]}<br>Lat=%{lat}<br>Long=%{lon}",
           "hovertext": [
            null,
            null,
            null,
            null,
            null,
            null,
            null,
            null,
            null,
            "New South Wales",
            "Victoria",
            "British Columbia",
            null,
            null,
            "Queensland",
            null,
            null,
            null,
            null,
            null,
            "South Australia",
            null,
            "Los Angeles, CA",
            "San Benito, CA",
            null,
            "San Diego County, CA",
            null,
            null,
            "From Diamond Princess",
            "Humboldt County, CA",
            "Sacramento County, CA",
            null,
            null,
            null,
            null,
            null,
            null,
            null,
            null,
            null
           ],
           "lat": [
            36,
            15,
            1.2833,
            13,
            2.5,
            16,
            28.1667,
            11.55,
            7,
            -33.8688,
            -37.8136,
            49.2827,
            64,
            24,
            -28.0167,
            21,
            43,
            60,
            63,
            51,
            -34.9285,
            40,
            34.0522,
            36.5761,
            50.8333,
            32.7157,
            26,
            32,
            35.4437,
            40.745,
            38.4747,
            33.8547,
            21,
            33,
            26.0275,
            33,
            29.5,
            28.0339,
            45.1,
            46.8182
           ],
           "legendgroup": "",
           "lon": [
            138,
            101,
            103.8333,
            122,
            112.5,
            108,
            84.25,
            104.9167,
            81,
            151.2093,
            144.9631,
            -123.1207,
            26,
            54,
            153.4,
            78,
            12,
            90,
            16,
            9,
            138.6007,
            -4,
            -118.2437,
            -120.9876,
            4,
            -117.1611,
            30,
            53,
            139.638,
            -123.8695,
            -121.3542,
            35.8623,
            57,
            65,
            50.55,
            44,
            47.75,
            1.6596,
            15.2,
            8.2275
           ],
           "marker": {
            "color": "#636efa"
           },
           "mode": "markers",
           "name": "",
           "showlegend": false,
           "subplot": "mapbox",
           "type": "scattermapbox"
          }
         ],
         "name": "02/25/2020"
        },
        {
         "data": [
          {
           "customdata": [
            [
             189,
             2,
             22
            ],
            [
             40,
             0,
             22
            ],
            [
             93,
             0,
             62
            ],
            [
             3,
             1,
             1
            ],
            [
             22,
             0,
             18
            ],
            [
             16,
             0,
             16
            ],
            [
             1,
             0,
             0
            ],
            [
             1,
             0,
             1
            ],
            [
             1,
             0,
             1
            ],
            [
             1,
             0,
             1
            ],
            [
             4,
             0,
             4
            ],
            [
             4,
             0,
             4
            ],
            [
             7,
             0,
             0
            ],
            [
             2,
             0,
             1
            ],
            [
             13,
             0,
             4
            ],
            [
             5,
             0,
             1
            ],
            [
             3,
             0,
             3
            ],
            [
             453,
             12,
             3
            ],
            [
             2,
             0,
             2
            ],
            [
             2,
             0,
             0
            ],
            [
             27,
             0,
             15
            ],
            [
             2,
             0,
             2
            ],
            [
             13,
             0,
             2
            ],
            [
             1,
             0,
             0
            ],
            [
             2,
             0,
             0
            ],
            [
             1,
             0,
             1
            ],
            [
             2,
             0,
             1
            ],
            [
             1,
             0,
             0
            ],
            [
             139,
             19,
             49
            ],
            [
             7,
             0,
             0
            ],
            [
             1,
             0,
             0
            ],
            [
             1,
             0,
             0
            ],
            [
             2,
             0,
             0
            ],
            [
             4,
             0,
             0
            ],
            [
             1,
             0,
             0
            ],
            [
             33,
             0,
             0
            ],
            [
             5,
             0,
             0
            ],
            [
             26,
             0,
             0
            ],
            [
             1,
             0,
             0
            ],
            [
             3,
             0,
             0
            ],
            [
             1,
             0,
             0
            ],
            [
             2,
             0,
             0
            ],
            [
             2,
             0,
             0
            ],
            [
             2,
             0,
             0
            ],
            [
             1,
             0,
             0
            ],
            [
             1,
             0,
             0
            ],
            [
             1,
             0,
             0
            ],
            [
             1,
             0,
             0
            ],
            [
             1,
             0,
             0
            ]
           ],
           "hoverlabel": {
            "namelength": 0
           },
           "hovertemplate": "<b>%{hovertext}</b><br><br>ObservationDate=02/26/2020<br>Confirmed=%{customdata[0]}<br>Deaths=%{customdata[1]}<br>Recovered=%{customdata[2]}<br>Lat=%{lat}<br>Long=%{lon}",
           "hovertext": [
            null,
            null,
            null,
            null,
            null,
            null,
            null,
            null,
            null,
            null,
            "New South Wales",
            "Victoria",
            "British Columbia",
            null,
            null,
            "Queensland",
            null,
            null,
            null,
            null,
            null,
            "South Australia",
            null,
            "Los Angeles, CA",
            "San Benito, CA",
            null,
            "San Diego County, CA",
            null,
            null,
            "From Diamond Princess",
            "Humboldt County, CA",
            "Sacramento County, CA",
            null,
            null,
            null,
            null,
            null,
            null,
            null,
            null,
            null,
            null,
            null,
            null,
            null,
            null,
            null,
            null,
            null
           ],
           "lat": [
            36,
            15,
            1.2833,
            13,
            2.5,
            16,
            -14.235,
            28.1667,
            11.55,
            7,
            -33.8688,
            -37.8136,
            49.2827,
            64,
            24,
            -28.0167,
            21,
            43,
            60,
            63,
            51,
            -34.9285,
            40,
            34.0522,
            36.5761,
            50.8333,
            32.7157,
            26,
            32,
            35.4437,
            40.745,
            38.4747,
            33.8547,
            21,
            33,
            26.0275,
            33,
            29.5,
            28.0339,
            45.1,
            46.8182,
            47.5162,
            31,
            30.3753,
            42.3154,
            39.0742,
            41.6086,
            60.472,
            45.9432
           ],
           "legendgroup": "",
           "lon": [
            138,
            101,
            103.8333,
            122,
            112.5,
            108,
            -51.9253,
            84.25,
            104.9167,
            81,
            151.2093,
            144.9631,
            -123.1207,
            26,
            54,
            153.4,
            78,
            12,
            90,
            16,
            9,
            138.6007,
            -4,
            -118.2437,
            -120.9876,
            4,
            -117.1611,
            30,
            53,
            139.638,
            -123.8695,
            -121.3542,
            35.8623,
            57,
            65,
            50.55,
            44,
            47.75,
            1.6596,
            15.2,
            8.2275,
            14.5501,
            35,
            69.3451,
            43.3569,
            21.8243,
            21.7453,
            8.4689,
            24.9668
           ],
           "marker": {
            "color": "#636efa"
           },
           "mode": "markers",
           "name": "",
           "showlegend": false,
           "subplot": "mapbox",
           "type": "scattermapbox"
          }
         ],
         "name": "02/26/2020"
        },
        {
         "data": [
          {
           "customdata": [
            [
             214,
             4,
             22
            ],
            [
             40,
             0,
             22
            ],
            [
             93,
             0,
             62
            ],
            [
             3,
             1,
             1
            ],
            [
             23,
             0,
             18
            ],
            [
             16,
             0,
             16
            ],
            [
             1,
             0,
             0
            ],
            [
             1,
             0,
             1
            ],
            [
             1,
             0,
             1
            ],
            [
             1,
             0,
             1
            ],
            [
             4,
             0,
             4
            ],
            [
             4,
             0,
             4
            ],
            [
             7,
             0,
             3
            ],
            [
             2,
             0,
             1
            ],
            [
             13,
             0,
             4
            ],
            [
             5,
             0,
             1
            ],
            [
             3,
             0,
             3
            ],
            [
             655,
             17,
             45
            ],
            [
             2,
             0,
             2
            ],
            [
             7,
             0,
             0
            ],
            [
             46,
             0,
             16
            ],
            [
             2,
             0,
             2
            ],
            [
             15,
             0,
             2
            ],
            [
             1,
             0,
             0
            ],
            [
             2,
             0,
             0
            ],
            [
             1,
             0,
             1
            ],
            [
             2,
             0,
             1
            ],
            [
             1,
             0,
             0
            ],
            [
             245,
             26,
             49
            ],
            [
             8,
             0,
             0
            ],
            [
             1,
             0,
             0
            ],
            [
             2,
             0,
             0
            ],
            [
             2,
             0,
             0
            ],
            [
             4,
             0,
             0
            ],
            [
             1,
             0,
             0
            ],
            [
             33,
             0,
             0
            ],
            [
             7,
             0,
             0
            ],
            [
             43,
             0,
             0
            ],
            [
             1,
             0,
             0
            ],
            [
             3,
             0,
             0
            ],
            [
             8,
             0,
             0
            ],
            [
             3,
             0,
             0
            ],
            [
             3,
             0,
             1
            ],
            [
             2,
             0,
             0
            ],
            [
             1,
             0,
             0
            ],
            [
             3,
             0,
             0
            ],
            [
             1,
             0,
             0
            ],
            [
             1,
             0,
             0
            ],
            [
             1,
             0,
             0
            ],
            [
             1,
             0,
             0
            ],
            [
             1,
             0,
             0
            ],
            [
             1,
             0,
             0
            ]
           ],
           "hoverlabel": {
            "namelength": 0
           },
           "hovertemplate": "<b>%{hovertext}</b><br><br>ObservationDate=02/27/2020<br>Confirmed=%{customdata[0]}<br>Deaths=%{customdata[1]}<br>Recovered=%{customdata[2]}<br>Lat=%{lat}<br>Long=%{lon}",
           "hovertext": [
            null,
            null,
            null,
            null,
            null,
            null,
            null,
            null,
            null,
            null,
            "New South Wales",
            "Victoria",
            "British Columbia",
            null,
            null,
            "Queensland",
            null,
            null,
            null,
            null,
            null,
            "South Australia",
            null,
            "Los Angeles, CA",
            "San Benito, CA",
            null,
            "San Diego County, CA",
            null,
            null,
            "From Diamond Princess",
            "Humboldt County, CA",
            "Sacramento County, CA",
            null,
            null,
            null,
            null,
            null,
            null,
            null,
            null,
            null,
            null,
            null,
            null,
            null,
            null,
            null,
            null,
            null,
            null,
            null,
            null
           ],
           "lat": [
            36,
            15,
            1.2833,
            13,
            2.5,
            16,
            -14.235,
            28.1667,
            11.55,
            7,
            -33.8688,
            -37.8136,
            49.2827,
            64,
            24,
            -28.0167,
            21,
            43,
            60,
            63,
            51,
            -34.9285,
            40,
            34.0522,
            36.5761,
            50.8333,
            32.7157,
            26,
            32,
            35.4437,
            40.745,
            38.4747,
            33.8547,
            21,
            33,
            26.0275,
            33,
            29.5,
            28.0339,
            45.1,
            46.8182,
            47.5162,
            31,
            30.3753,
            42.3154,
            39.0742,
            41.6086,
            60.472,
            45.9432,
            58.5953,
            52.1326,
            43.9424
           ],
           "legendgroup": "",
           "lon": [
            138,
            101,
            103.8333,
            122,
            112.5,
            108,
            -51.9253,
            84.25,
            104.9167,
            81,
            151.2093,
            144.9631,
            -123.1207,
            26,
            54,
            153.4,
            78,
            12,
            90,
            16,
            9,
            138.6007,
            -4,
            -118.2437,
            -120.9876,
            4,
            -117.1611,
            30,
            53,
            139.638,
            -123.8695,
            -121.3542,
            35.8623,
            57,
            65,
            50.55,
            44,
            47.75,
            1.6596,
            15.2,
            8.2275,
            14.5501,
            35,
            69.3451,
            43.3569,
            21.8243,
            21.7453,
            8.4689,
            24.9668,
            25.0136,
            5.2913,
            12.4578
           ],
           "marker": {
            "color": "#636efa"
           },
           "mode": "markers",
           "name": "",
           "showlegend": false,
           "subplot": "mapbox",
           "type": "scattermapbox"
          }
         ],
         "name": "02/27/2020"
        },
        {
         "data": [
          {
           "customdata": [
            [
             228,
             4,
             22
            ],
            [
             41,
             0,
             28
            ],
            [
             93,
             0,
             62
            ],
            [
             3,
             1,
             1
            ],
            [
             23,
             0,
             18
            ],
            [
             16,
             0,
             16
            ],
            [
             1,
             0,
             0
            ],
            [
             1,
             0,
             0
            ],
            [
             1,
             0,
             1
            ],
            [
             1,
             0,
             1
            ],
            [
             1,
             0,
             1
            ],
            [
             4,
             0,
             4
            ],
            [
             4,
             0,
             4
            ],
            [
             7,
             0,
             3
            ],
            [
             2,
             0,
             1
            ],
            [
             19,
             0,
             5
            ],
            [
             5,
             0,
             1
            ],
            [
             3,
             0,
             3
            ],
            [
             888,
             21,
             46
            ],
            [
             2,
             0,
             2
            ],
            [
             7,
             0,
             0
            ],
            [
             48,
             0,
             16
            ],
            [
             2,
             0,
             2
            ],
            [
             32,
             0,
             2
            ],
            [
             1,
             0,
             0
            ],
            [
             2,
             0,
             0
            ],
            [
             1,
             0,
             1
            ],
            [
             2,
             0,
             1
            ],
            [
             1,
             0,
             1
            ],
            [
             388,
             34,
             73
            ],
            [
             8,
             0,
             0
            ],
            [
             1,
             0,
             0
            ],
            [
             2,
             0,
             0
            ],
            [
             2,
             0,
             0
            ],
            [
             4,
             0,
             0
            ],
            [
             1,
             0,
             0
            ],
            [
             36,
             0,
             0
            ],
            [
             7,
             0,
             0
            ],
            [
             45,
             0,
             0
            ],
            [
             1,
             0,
             0
            ],
            [
             5,
             0,
             0
            ],
            [
             8,
             0,
             0
            ],
            [
             3,
             0,
             0
            ],
            [
             4,
             0,
             1
            ],
            [
             2,
             0,
             0
            ],
            [
             1,
             0,
             0
            ],
            [
             4,
             0,
             0
            ],
            [
             1,
             0,
             0
            ],
            [
             6,
             0,
             0
            ],
            [
             3,
             0,
             0
            ],
            [
             1,
             0,
             0
            ],
            [
             1,
             0,
             0
            ],
            [
             1,
             0,
             0
            ],
            [
             1,
             0,
             0
            ],
            [
             1,
             0,
             0
            ],
            [
             1,
             0,
             0
            ],
            [
             1,
             0,
             0
            ],
            [
             1,
             0,
             0
            ]
           ],
           "hoverlabel": {
            "namelength": 0
           },
           "hovertemplate": "<b>%{hovertext}</b><br><br>ObservationDate=02/28/2020<br>Confirmed=%{customdata[0]}<br>Deaths=%{customdata[1]}<br>Recovered=%{customdata[2]}<br>Lat=%{lat}<br>Long=%{lon}",
           "hovertext": [
            null,
            null,
            null,
            null,
            null,
            null,
            null,
            null,
            null,
            null,
            null,
            "New South Wales",
            "Victoria",
            "British Columbia",
            null,
            null,
            "Queensland",
            null,
            null,
            null,
            null,
            null,
            "South Australia",
            null,
            "Los Angeles, CA",
            "San Benito, CA",
            null,
            "San Diego County, CA",
            null,
            null,
            "From Diamond Princess",
            "Humboldt County, CA",
            "Sacramento County, CA",
            null,
            null,
            null,
            null,
            null,
            null,
            null,
            null,
            null,
            null,
            null,
            null,
            null,
            null,
            null,
            null,
            null,
            null,
            null,
            null,
            null,
            null,
            null,
            null,
            null
           ],
           "lat": [
            36,
            15,
            1.2833,
            13,
            2.5,
            16,
            23.6345,
            -14.235,
            28.1667,
            11.55,
            7,
            -33.8688,
            -37.8136,
            49.2827,
            64,
            24,
            -28.0167,
            21,
            43,
            60,
            63,
            51,
            -34.9285,
            40,
            34.0522,
            36.5761,
            50.8333,
            32.7157,
            26,
            32,
            35.4437,
            40.745,
            38.4747,
            33.8547,
            21,
            33,
            26.0275,
            33,
            29.5,
            28.0339,
            45.1,
            46.8182,
            47.5162,
            31,
            30.3753,
            42.3154,
            39.0742,
            41.6086,
            60.472,
            45.9432,
            58.5953,
            52.1326,
            43.9424,
            53.7098,
            64.9631,
            55.1694,
            -40.9006,
            9.082
           ],
           "legendgroup": "",
           "lon": [
            138,
            101,
            103.8333,
            122,
            112.5,
            108,
            -102.5528,
            -51.9253,
            84.25,
            104.9167,
            81,
            151.2093,
            144.9631,
            -123.1207,
            26,
            54,
            153.4,
            78,
            12,
            90,
            16,
            9,
            138.6007,
            -4,
            -118.2437,
            -120.9876,
            4,
            -117.1611,
            30,
            53,
            139.638,
            -123.8695,
            -121.3542,
            35.8623,
            57,
            65,
            50.55,
            44,
            47.75,
            1.6596,
            15.2,
            8.2275,
            14.5501,
            35,
            69.3451,
            43.3569,
            21.8243,
            21.7453,
            8.4689,
            24.9668,
            25.0136,
            5.2913,
            12.4578,
            27.9534,
            -19.0208,
            23.8813,
            174.886,
            8.6753
           ],
           "marker": {
            "color": "#636efa"
           },
           "mode": "markers",
           "name": "",
           "showlegend": false,
           "subplot": "mapbox",
           "type": "scattermapbox"
          }
         ],
         "name": "02/28/2020"
        },
        {
         "data": [
          {
           "customdata": [
            [
             241,
             5,
             32
            ],
            [
             42,
             0,
             28
            ],
            [
             102,
             0,
             72
            ],
            [
             3,
             1,
             1
            ],
            [
             25,
             0,
             18
            ],
            [
             16,
             0,
             16
            ],
            [
             4,
             0,
             0
            ],
            [
             2,
             0,
             0
            ],
            [
             1,
             0,
             1
            ],
            [
             1,
             0,
             1
            ],
            [
             1,
             0,
             1
            ],
            [
             4,
             0,
             4
            ],
            [
             7,
             0,
             4
            ],
            [
             8,
             0,
             3
            ],
            [
             3,
             0,
             1
            ],
            [
             21,
             0,
             5
            ],
            [
             9,
             0,
             1
            ],
            [
             3,
             0,
             3
            ],
            [
             1128,
             29,
             46
            ],
            [
             2,
             0,
             2
            ],
            [
             12,
             0,
             0
            ],
            [
             79,
             0,
             16
            ],
            [
             3,
             0,
             2
            ],
            [
             45,
             0,
             2
            ],
            [
             1,
             0,
             0
            ],
            [
             2,
             0,
             0
            ],
            [
             1,
             0,
             1
            ],
            [
             2,
             0,
             1
            ],
            [
             1,
             0,
             1
            ],
            [
             593,
             43,
             123
            ],
            [
             0,
             0,
             0
            ],
            [
             1,
             0,
             0
            ],
            [
             2,
             0,
             0
            ],
            [
             4,
             0,
             0
            ],
            [
             6,
             0,
             1
            ],
            [
             1,
             0,
             0
            ],
            [
             41,
             0,
             0
            ],
            [
             13,
             0,
             0
            ],
            [
             45,
             0,
             0
            ],
            [
             1,
             0,
             0
            ],
            [
             6,
             0,
             0
            ],
            [
             18,
             0,
             0
            ],
            [
             9,
             0,
             0
            ],
            [
             7,
             0,
             1
            ],
            [
             4,
             0,
             0
            ],
            [
             1,
             0,
             0
            ],
            [
             4,
             0,
             0
            ],
            [
             1,
             0,
             0
            ],
            [
             15,
             0,
             0
            ],
            [
             3,
             0,
             0
            ],
            [
             1,
             0,
             0
            ],
            [
             6,
             0,
             0
            ],
            [
             1,
             0,
             0
            ],
            [
             1,
             0,
             0
            ],
            [
             1,
             0,
             0
            ],
            [
             1,
             0,
             0
            ],
            [
             1,
             0,
             0
            ],
            [
             1,
             0,
             0
            ],
            [
             2,
             0,
             0
            ],
            [
             1,
             0,
             0
            ],
            [
             1,
             0,
             0
            ],
            [
             1,
             0,
             0
            ],
            [
             1,
             0,
             0
            ],
            [
             1,
             0,
             0
            ]
           ],
           "hoverlabel": {
            "namelength": 0
           },
           "hovertemplate": "<b>%{hovertext}</b><br><br>ObservationDate=02/29/2020<br>Confirmed=%{customdata[0]}<br>Deaths=%{customdata[1]}<br>Recovered=%{customdata[2]}<br>Lat=%{lat}<br>Long=%{lon}",
           "hovertext": [
            null,
            null,
            null,
            null,
            null,
            null,
            null,
            null,
            null,
            null,
            null,
            "New South Wales",
            "Victoria",
            "British Columbia",
            null,
            null,
            "Queensland",
            null,
            null,
            null,
            null,
            null,
            "South Australia",
            null,
            "Los Angeles, CA",
            "San Benito, CA",
            null,
            "San Diego County, CA",
            null,
            null,
            "From Diamond Princess",
            "Humboldt County, CA",
            "Sacramento County, CA",
            null,
            null,
            null,
            null,
            null,
            null,
            null,
            null,
            null,
            null,
            null,
            null,
            null,
            null,
            null,
            null,
            null,
            null,
            null,
            null,
            null,
            null,
            null,
            null,
            null,
            "Western Australia",
            null,
            null,
            null,
            null,
            "Snohomish County, WA"
           ],
           "lat": [
            36,
            15,
            1.2833,
            13,
            2.5,
            16,
            23.6345,
            -14.235,
            28.1667,
            11.55,
            7,
            -33.8688,
            -37.8136,
            49.2827,
            64,
            24,
            -28.0167,
            21,
            43,
            60,
            63,
            51,
            -34.9285,
            40,
            34.0522,
            36.5761,
            50.8333,
            32.7157,
            26,
            32,
            35.4437,
            40.745,
            38.4747,
            33.8547,
            21,
            33,
            26.0275,
            33,
            29.5,
            28.0339,
            45.1,
            46.8182,
            47.5162,
            31,
            30.3753,
            42.3154,
            39.0742,
            41.6086,
            60.472,
            45.9432,
            58.5953,
            52.1326,
            43.9424,
            53.7098,
            64.9631,
            55.1694,
            -40.9006,
            9.082,
            -31.9505,
            53.1424,
            49.8153,
            43.7333,
            25.3548,
            48.033
           ],
           "legendgroup": "",
           "lon": [
            138,
            101,
            103.8333,
            122,
            112.5,
            108,
            -102.5528,
            -51.9253,
            84.25,
            104.9167,
            81,
            151.2093,
            144.9631,
            -123.1207,
            26,
            54,
            153.4,
            78,
            12,
            90,
            16,
            9,
            138.6007,
            -4,
            -118.2437,
            -120.9876,
            4,
            -117.1611,
            30,
            53,
            139.638,
            -123.8695,
            -121.3542,
            35.8623,
            57,
            65,
            50.55,
            44,
            47.75,
            1.6596,
            15.2,
            8.2275,
            14.5501,
            35,
            69.3451,
            43.3569,
            21.8243,
            21.7453,
            8.4689,
            24.9668,
            25.0136,
            5.2913,
            12.4578,
            27.9534,
            -19.0208,
            23.8813,
            174.886,
            8.6753,
            115.8605,
            -7.6921,
            6.1296,
            7.4167,
            51.1839,
            -121.8339
           ],
           "marker": {
            "color": "#636efa"
           },
           "mode": "markers",
           "name": "",
           "showlegend": false,
           "subplot": "mapbox",
           "type": "scattermapbox"
          }
         ],
         "name": "02/29/2020"
        },
        {
         "data": [
          {
           "customdata": [
            [
             256,
             6,
             32
            ],
            [
             42,
             1,
             28
            ],
            [
             106,
             0,
             72
            ],
            [
             3,
             1,
             1
            ],
            [
             29,
             0,
             18
            ],
            [
             16,
             0,
             16
            ],
            [
             5,
             0,
             0
            ],
            [
             2,
             0,
             0
            ],
            [
             1,
             0,
             1
            ],
            [
             1,
             0,
             1
            ],
            [
             1,
             0,
             1
            ],
            [
             6,
             0,
             4
            ],
            [
             7,
             0,
             4
            ],
            [
             8,
             0,
             3
            ],
            [
             6,
             0,
             1
            ],
            [
             21,
             0,
             5
            ],
            [
             9,
             0,
             1
            ],
            [
             3,
             0,
             3
            ],
            [
             1694,
             34,
             83
            ],
            [
             2,
             0,
             2
            ],
            [
             14,
             0,
             0
            ],
            [
             130,
             0,
             16
            ],
            [
             3,
             0,
             2
            ],
            [
             84,
             0,
             2
            ],
            [
             1,
             0,
             0
            ],
            [
             2,
             0,
             0
            ],
            [
             2,
             0,
             1
            ],
            [
             2,
             0,
             1
            ],
            [
             2,
             0,
             1
            ],
            [
             978,
             54,
             175
            ],
            [
             0,
             0,
             0
            ],
            [
             1,
             0,
             0
            ],
            [
             2,
             0,
             0
            ],
            [
             10,
             0,
             0
            ],
            [
             6,
             0,
             1
            ],
            [
             1,
             0,
             0
            ],
            [
             47,
             0,
             0
            ],
            [
             19,
             0,
             0
            ],
            [
             45,
             0,
             0
            ],
            [
             1,
             0,
             0
            ],
            [
             7,
             0,
             0
            ],
            [
             27,
             0,
             0
            ],
            [
             14,
             0,
             0
            ],
            [
             10,
             0,
             1
            ],
            [
             4,
             0,
             0
            ],
            [
             3,
             0,
             0
            ],
            [
             7,
             0,
             0
            ],
            [
             1,
             0,
             0
            ],
            [
             19,
             0,
             0
            ],
            [
             3,
             0,
             0
            ],
            [
             1,
             0,
             0
            ],
            [
             10,
             0,
             0
            ],
            [
             1,
             0,
             0
            ],
            [
             1,
             0,
             0
            ],
            [
             3,
             0,
             0
            ],
            [
             1,
             0,
             0
            ],
            [
             1,
             0,
             0
            ],
            [
             1,
             0,
             0
            ],
            [
             2,
             1,
             0
            ],
            [
             1,
             0,
             0
            ],
            [
             1,
             0,
             0
            ],
            [
             1,
             0,
             0
            ],
            [
             3,
             0,
             0
            ],
            [
             2,
             0,
             0
            ],
            [
             6,
             0,
             0
            ],
            [
             3,
             0,
             0
            ],
            [
             1,
             0,
             0
            ],
            [
             1,
             0,
             0
            ]
           ],
           "hoverlabel": {
            "namelength": 0
           },
           "hovertemplate": "<b>%{hovertext}</b><br><br>ObservationDate=03/01/2020<br>Confirmed=%{customdata[0]}<br>Deaths=%{customdata[1]}<br>Recovered=%{customdata[2]}<br>Lat=%{lat}<br>Long=%{lon}",
           "hovertext": [
            null,
            null,
            null,
            null,
            null,
            null,
            null,
            null,
            null,
            null,
            null,
            "New South Wales",
            "Victoria",
            "British Columbia",
            null,
            null,
            "Queensland",
            null,
            null,
            null,
            null,
            null,
            "South Australia",
            null,
            "Los Angeles, CA",
            "San Benito, CA",
            null,
            "San Diego County, CA",
            null,
            null,
            "From Diamond Princess",
            "Humboldt County, CA",
            "Sacramento County, CA",
            null,
            null,
            null,
            null,
            null,
            null,
            null,
            null,
            null,
            null,
            null,
            null,
            null,
            null,
            null,
            null,
            null,
            null,
            null,
            null,
            null,
            null,
            null,
            null,
            null,
            "Western Australia",
            null,
            null,
            null,
            null,
            "Snohomish County, WA",
            null,
            null,
            null,
            null
           ],
           "lat": [
            36,
            15,
            1.2833,
            13,
            2.5,
            16,
            23.6345,
            -14.235,
            28.1667,
            11.55,
            7,
            -33.8688,
            -37.8136,
            49.2827,
            64,
            24,
            -28.0167,
            21,
            43,
            60,
            63,
            51,
            -34.9285,
            40,
            34.0522,
            36.5761,
            50.8333,
            32.7157,
            26,
            32,
            35.4437,
            40.745,
            38.4747,
            33.8547,
            21,
            33,
            26.0275,
            33,
            29.5,
            28.0339,
            45.1,
            46.8182,
            47.5162,
            31,
            30.3753,
            42.3154,
            39.0742,
            41.6086,
            60.472,
            45.9432,
            58.5953,
            52.1326,
            43.9424,
            53.7098,
            64.9631,
            55.1694,
            -40.9006,
            9.082,
            -31.9505,
            53.1424,
            49.8153,
            43.7333,
            25.3548,
            48.033,
            -1.8312,
            40.1431,
            40.0691,
            18.7357
           ],
           "legendgroup": "",
           "lon": [
            138,
            101,
            103.8333,
            122,
            112.5,
            108,
            -102.5528,
            -51.9253,
            84.25,
            104.9167,
            81,
            151.2093,
            144.9631,
            -123.1207,
            26,
            54,
            153.4,
            78,
            12,
            90,
            16,
            9,
            138.6007,
            -4,
            -118.2437,
            -120.9876,
            4,
            -117.1611,
            30,
            53,
            139.638,
            -123.8695,
            -121.3542,
            35.8623,
            57,
            65,
            50.55,
            44,
            47.75,
            1.6596,
            15.2,
            8.2275,
            14.5501,
            35,
            69.3451,
            43.3569,
            21.8243,
            21.7453,
            8.4689,
            24.9668,
            25.0136,
            5.2913,
            12.4578,
            27.9534,
            -19.0208,
            23.8813,
            174.886,
            8.6753,
            115.8605,
            -7.6921,
            6.1296,
            7.4167,
            51.1839,
            -121.8339,
            -78.1834,
            47.5769,
            45.0382,
            -70.1627
           ],
           "marker": {
            "color": "#636efa"
           },
           "mode": "markers",
           "name": "",
           "showlegend": false,
           "subplot": "mapbox",
           "type": "scattermapbox"
          }
         ],
         "name": "03/01/2020"
        },
        {
         "data": [
          {
           "customdata": [
            [
             274,
             6,
             32
            ],
            [
             43,
             1,
             31
            ],
            [
             108,
             0,
             78
            ],
            [
             3,
             1,
             1
            ],
            [
             29,
             0,
             18
            ],
            [
             16,
             0,
             16
            ],
            [
             5,
             0,
             0
            ],
            [
             2,
             0,
             0
            ],
            [
             1,
             0,
             1
            ],
            [
             1,
             0,
             1
            ],
            [
             1,
             0,
             1
            ],
            [
             6,
             0,
             4
            ],
            [
             9,
             0,
             4
            ],
            [
             8,
             0,
             3
            ],
            [
             6,
             0,
             1
            ],
            [
             21,
             0,
             5
            ],
            [
             9,
             0,
             1
            ],
            [
             5,
             0,
             3
            ],
            [
             2036,
             52,
             149
            ],
            [
             3,
             0,
             2
            ],
            [
             15,
             0,
             0
            ],
            [
             159,
             0,
             16
            ],
            [
             3,
             0,
             2
            ],
            [
             120,
             0,
             2
            ],
            [
             1,
             0,
             0
            ],
            [
             2,
             0,
             0
            ],
            [
             8,
             0,
             1
            ],
            [
             2,
             0,
             1
            ],
            [
             2,
             0,
             1
            ],
            [
             1501,
             66,
             291
            ],
            [
             0,
             0,
             0
            ],
            [
             1,
             0,
             0
            ],
            [
             2,
             0,
             0
            ],
            [
             13,
             0,
             0
            ],
            [
             6,
             0,
             1
            ],
            [
             1,
             0,
             0
            ],
            [
             49,
             0,
             0
            ],
            [
             26,
             0,
             0
            ],
            [
             56,
             0,
             0
            ],
            [
             3,
             0,
             0
            ],
            [
             7,
             0,
             0
            ],
            [
             42,
             0,
             0
            ],
            [
             18,
             0,
             0
            ],
            [
             10,
             0,
             1
            ],
            [
             4,
             0,
             0
            ],
            [
             3,
             0,
             0
            ],
            [
             7,
             0,
             0
            ],
            [
             1,
             0,
             0
            ],
            [
             25,
             0,
             0
            ],
            [
             3,
             0,
             0
            ],
            [
             1,
             0,
             0
            ],
            [
             18,
             0,
             0
            ],
            [
             8,
             0,
             0
            ],
            [
             1,
             0,
             0
            ],
            [
             6,
             0,
             0
            ],
            [
             1,
             0,
             0
            ],
            [
             1,
             0,
             0
            ],
            [
             1,
             0,
             0
            ],
            [
             2,
             1,
             0
            ],
            [
             1,
             0,
             0
            ],
            [
             1,
             0,
             0
            ],
            [
             1,
             0,
             0
            ],
            [
             3,
             0,
             0
            ],
            [
             4,
             1,
             0
            ],
            [
             6,
             0,
             0
            ],
            [
             3,
             0,
             0
            ],
            [
             1,
             0,
             0
            ],
            [
             1,
             0,
             0
            ],
            [
             14,
             5,
             1
            ],
            [
             4,
             0,
             2
            ],
            [
             2,
             0,
             0
            ],
            [
             2,
             0,
             0
            ],
            [
             1,
             0,
             0
            ],
            [
             1,
             0,
             0
            ],
            [
             1,
             0,
             0
            ],
            [
             1,
             0,
             0
            ],
            [
             1,
             0,
             0
            ],
            [
             1,
             0,
             0
            ],
            [
             1,
             0,
             0
            ],
            [
             1,
             0,
             0
            ],
            [
             1,
             0,
             0
            ],
            [
             1,
             0,
             0
            ],
            [
             1,
             0,
             0
            ],
            [
             1,
             0,
             0
            ]
           ],
           "hoverlabel": {
            "namelength": 0
           },
           "hovertemplate": "<b>%{hovertext}</b><br><br>ObservationDate=03/02/2020<br>Confirmed=%{customdata[0]}<br>Deaths=%{customdata[1]}<br>Recovered=%{customdata[2]}<br>Lat=%{lat}<br>Long=%{lon}",
           "hovertext": [
            null,
            null,
            null,
            null,
            null,
            null,
            null,
            null,
            null,
            null,
            null,
            "New South Wales",
            "Victoria",
            "British Columbia",
            null,
            null,
            "Queensland",
            null,
            null,
            null,
            null,
            null,
            "South Australia",
            null,
            "Los Angeles, CA",
            "San Benito, CA",
            null,
            "San Diego County, CA",
            null,
            null,
            "From Diamond Princess",
            "Humboldt County, CA",
            "Sacramento County, CA",
            null,
            null,
            null,
            null,
            null,
            null,
            null,
            null,
            null,
            null,
            null,
            null,
            null,
            null,
            null,
            null,
            null,
            null,
            null,
            null,
            null,
            null,
            null,
            null,
            null,
            "Western Australia",
            null,
            null,
            null,
            null,
            "Snohomish County, WA",
            null,
            null,
            null,
            null,
            "King County, WA",
            "Cook County, IL",
            null,
            null,
            null,
            "Tasmania",
            null,
            null,
            null,
            null,
            "Grafton County, NH",
            "Hillsborough, FL",
            "Placer County, CA",
            "San Mateo, CA",
            "Sonoma County, CA",
            "Umatilla, OR"
           ],
           "lat": [
            36,
            15,
            1.2833,
            13,
            2.5,
            16,
            23.6345,
            -14.235,
            28.1667,
            11.55,
            7,
            -33.8688,
            -37.8136,
            49.2827,
            64,
            24,
            -28.0167,
            21,
            43,
            60,
            63,
            51,
            -34.9285,
            40,
            34.0522,
            36.5761,
            50.8333,
            32.7157,
            26,
            32,
            35.4437,
            40.745,
            38.4747,
            33.8547,
            21,
            33,
            26.0275,
            33,
            29.5,
            28.0339,
            45.1,
            46.8182,
            47.5162,
            31,
            30.3753,
            42.3154,
            39.0742,
            41.6086,
            60.472,
            45.9432,
            58.5953,
            52.1326,
            43.9424,
            53.7098,
            64.9631,
            55.1694,
            -40.9006,
            9.082,
            -31.9505,
            53.1424,
            49.8153,
            43.7333,
            25.3548,
            48.033,
            -1.8312,
            40.1431,
            40.0691,
            18.7357,
            47.6062,
            41.7377,
            -0.7893,
            39.3999,
            42.5063,
            -41.4545,
            56.8796,
            31.7917,
            24,
            14.4974,
            43.9088,
            27.9904,
            39.0916,
            37.563,
            38.578,
            45.775
           ],
           "legendgroup": "",
           "lon": [
            138,
            101,
            103.8333,
            122,
            112.5,
            108,
            -102.5528,
            -51.9253,
            84.25,
            104.9167,
            81,
            151.2093,
            144.9631,
            -123.1207,
            26,
            54,
            153.4,
            78,
            12,
            90,
            16,
            9,
            138.6007,
            -4,
            -118.2437,
            -120.9876,
            4,
            -117.1611,
            30,
            53,
            139.638,
            -123.8695,
            -121.3542,
            35.8623,
            57,
            65,
            50.55,
            44,
            47.75,
            1.6596,
            15.2,
            8.2275,
            14.5501,
            35,
            69.3451,
            43.3569,
            21.8243,
            21.7453,
            8.4689,
            24.9668,
            25.0136,
            5.2913,
            12.4578,
            27.9534,
            -19.0208,
            23.8813,
            174.886,
            8.6753,
            115.8605,
            -7.6921,
            6.1296,
            7.4167,
            51.1839,
            -121.8339,
            -78.1834,
            47.5769,
            45.0382,
            -70.1627,
            -122.3321,
            -87.6976,
            113.9213,
            -8.2245,
            1.5218,
            145.9707,
            24.6032,
            -7.0926,
            45,
            -14.4524,
            -71.82600000000001,
            -82.3018,
            -120.8039,
            -122.3255,
            -122.9888,
            -118.7606
           ],
           "marker": {
            "color": "#636efa"
           },
           "mode": "markers",
           "name": "",
           "showlegend": false,
           "subplot": "mapbox",
           "type": "scattermapbox"
          }
         ],
         "name": "03/02/2020"
        },
        {
         "data": [
          {
           "customdata": [
            [
             293,
             6,
             43
            ],
            [
             43,
             1,
             31
            ],
            [
             110,
             0,
             78
            ],
            [
             3,
             1,
             1
            ],
            [
             36,
             0,
             22
            ],
            [
             16,
             0,
             16
            ],
            [
             5,
             0,
             1
            ],
            [
             2,
             0,
             0
            ],
            [
             1,
             0,
             1
            ],
            [
             1,
             0,
             1
            ],
            [
             1,
             0,
             1
            ],
            [
             13,
             0,
             4
            ],
            [
             9,
             0,
             4
            ],
            [
             9,
             0,
             3
            ],
            [
             6,
             0,
             1
            ],
            [
             27,
             0,
             5
            ],
            [
             11,
             0,
             1
            ],
            [
             5,
             0,
             3
            ],
            [
             2502,
             79,
             160
            ],
            [
             3,
             0,
             2
            ],
            [
             21,
             0,
             0
            ],
            [
             196,
             0,
             16
            ],
            [
             3,
             0,
             2
            ],
            [
             165,
             1,
             2
            ],
            [
             1,
             0,
             0
            ],
            [
             2,
             0,
             0
            ],
            [
             13,
             0,
             1
            ],
            [
             2,
             0,
             1
            ],
            [
             2,
             0,
             1
            ],
            [
             2336,
             77,
             291
            ],
            [
             0,
             0,
             0
            ],
            [
             1,
             0,
             0
            ],
            [
             2,
             0,
             0
            ],
            [
             13,
             0,
             0
            ],
            [
             12,
             0,
             2
            ],
            [
             1,
             0,
             0
            ],
            [
             49,
             0,
             0
            ],
            [
             32,
             0,
             0
            ],
            [
             56,
             0,
             0
            ],
            [
             5,
             0,
             0
            ],
            [
             9,
             0,
             0
            ],
            [
             56,
             0,
             2
            ],
            [
             21,
             0,
             0
            ],
            [
             12,
             0,
             1
            ],
            [
             5,
             0,
             0
            ],
            [
             3,
             0,
             0
            ],
            [
             7,
             0,
             0
            ],
            [
             1,
             0,
             0
            ],
            [
             32,
             0,
             0
            ],
            [
             3,
             0,
             0
            ],
            [
             2,
             0,
             0
            ],
            [
             24,
             0,
             0
            ],
            [
             10,
             1,
             0
            ],
            [
             1,
             0,
             0
            ],
            [
             11,
             0,
             0
            ],
            [
             1,
             0,
             0
            ],
            [
             1,
             0,
             0
            ],
            [
             1,
             0,
             0
            ],
            [
             2,
             1,
             0
            ],
            [
             2,
             0,
             0
            ],
            [
             1,
             0,
             0
            ],
            [
             1,
             0,
             0
            ],
            [
             7,
             0,
             0
            ],
            [
             6,
             1,
             0
            ],
            [
             7,
             0,
             0
            ],
            [
             3,
             0,
             0
            ],
            [
             1,
             0,
             0
            ],
            [
             1,
             0,
             0
            ],
            [
             21,
             6,
             1
            ],
            [
             4,
             0,
             2
            ],
            [
             2,
             0,
             0
            ],
            [
             2,
             0,
             0
            ],
            [
             1,
             0,
             0
            ],
            [
             1,
             0,
             0
            ],
            [
             1,
             0,
             0
            ],
            [
             1,
             0,
             0
            ],
            [
             1,
             0,
             0
            ],
            [
             2,
             0,
             0
            ],
            [
             2,
             0,
             0
            ],
            [
             2,
             0,
             0
            ],
            [
             1,
             0,
             0
            ],
            [
             2,
             0,
             0
            ],
            [
             1,
             0,
             0
            ],
            [
             1,
             0,
             0
            ],
            [
             2,
             0,
             0
            ],
            [
             2,
             0,
             0
            ],
            [
             1,
             0,
             0
            ],
            [
             1,
             0,
             0
            ],
            [
             1,
             0,
             0
            ],
            [
             1,
             0,
             0
            ],
            [
             1,
             0,
             0
            ],
            [
             1,
             0,
             0
            ],
            [
             1,
             0,
             0
            ]
           ],
           "hoverlabel": {
            "namelength": 0
           },
           "hovertemplate": "<b>%{hovertext}</b><br><br>ObservationDate=03/03/2020<br>Confirmed=%{customdata[0]}<br>Deaths=%{customdata[1]}<br>Recovered=%{customdata[2]}<br>Lat=%{lat}<br>Long=%{lon}",
           "hovertext": [
            null,
            null,
            null,
            null,
            null,
            null,
            null,
            null,
            null,
            null,
            null,
            "New South Wales",
            "Victoria",
            "British Columbia",
            null,
            null,
            "Queensland",
            null,
            null,
            null,
            null,
            null,
            "South Australia",
            null,
            "Los Angeles, CA",
            "San Benito, CA",
            null,
            "San Diego County, CA",
            null,
            null,
            "From Diamond Princess",
            "Humboldt County, CA",
            "Sacramento County, CA",
            null,
            null,
            null,
            null,
            null,
            null,
            null,
            null,
            null,
            null,
            null,
            null,
            null,
            null,
            null,
            null,
            null,
            null,
            null,
            null,
            null,
            null,
            null,
            null,
            null,
            "Western Australia",
            null,
            null,
            null,
            null,
            "Snohomish County, WA",
            null,
            null,
            null,
            null,
            "King County, WA",
            "Cook County, IL",
            null,
            null,
            null,
            "Tasmania",
            null,
            null,
            null,
            null,
            "Grafton County, NH",
            "Hillsborough, FL",
            "Placer County, CA",
            "San Mateo, CA",
            "Sonoma County, CA",
            "Umatilla, OR",
            "Fulton County, GA",
            "Washington County, OR",
            null,
            null,
            null,
            "Maricopa County, AZ",
            "Wake County, NC",
            "Westchester County, NY",
            null
           ],
           "lat": [
            36,
            15,
            1.2833,
            13,
            2.5,
            16,
            23.6345,
            -14.235,
            28.1667,
            11.55,
            7,
            -33.8688,
            -37.8136,
            49.2827,
            64,
            24,
            -28.0167,
            21,
            43,
            60,
            63,
            51,
            -34.9285,
            40,
            34.0522,
            36.5761,
            50.8333,
            32.7157,
            26,
            32,
            35.4437,
            40.745,
            38.4747,
            33.8547,
            21,
            33,
            26.0275,
            33,
            29.5,
            28.0339,
            45.1,
            46.8182,
            47.5162,
            31,
            30.3753,
            42.3154,
            39.0742,
            41.6086,
            60.472,
            45.9432,
            58.5953,
            52.1326,
            43.9424,
            53.7098,
            64.9631,
            55.1694,
            -40.9006,
            9.082,
            -31.9505,
            53.1424,
            49.8153,
            43.7333,
            25.3548,
            48.033,
            -1.8312,
            40.1431,
            40.0691,
            18.7357,
            47.6062,
            41.7377,
            -0.7893,
            39.3999,
            42.5063,
            -41.4545,
            56.8796,
            31.7917,
            24,
            14.4974,
            43.9088,
            27.9904,
            39.0916,
            37.563,
            38.578,
            45.775,
            33.8034,
            45.547,
            -38.4161,
            -35.6751,
            31.24,
            33.2918,
            35.8032,
            41.122,
            48.3794
           ],
           "legendgroup": "",
           "lon": [
            138,
            101,
            103.8333,
            122,
            112.5,
            108,
            -102.5528,
            -51.9253,
            84.25,
            104.9167,
            81,
            151.2093,
            144.9631,
            -123.1207,
            26,
            54,
            153.4,
            78,
            12,
            90,
            16,
            9,
            138.6007,
            -4,
            -118.2437,
            -120.9876,
            4,
            -117.1611,
            30,
            53,
            139.638,
            -123.8695,
            -121.3542,
            35.8623,
            57,
            65,
            50.55,
            44,
            47.75,
            1.6596,
            15.2,
            8.2275,
            14.5501,
            35,
            69.3451,
            43.3569,
            21.8243,
            21.7453,
            8.4689,
            24.9668,
            25.0136,
            5.2913,
            12.4578,
            27.9534,
            -19.0208,
            23.8813,
            174.886,
            8.6753,
            115.8605,
            -7.6921,
            6.1296,
            7.4167,
            51.1839,
            -121.8339,
            -78.1834,
            47.5769,
            45.0382,
            -70.1627,
            -122.3321,
            -87.6976,
            113.9213,
            -8.2245,
            1.5218,
            145.9707,
            24.6032,
            -7.0926,
            45,
            -14.4524,
            -71.82600000000001,
            -82.3018,
            -120.8039,
            -122.3255,
            -122.9888,
            -118.7606,
            -84.3963,
            -123.1386,
            -63.6167,
            -71.543,
            36.51,
            -112.4291,
            -78.5661,
            -73.7949,
            31.1656
           ],
           "marker": {
            "color": "#636efa"
           },
           "mode": "markers",
           "name": "",
           "showlegend": false,
           "subplot": "mapbox",
           "type": "scattermapbox"
          }
         ],
         "name": "03/03/2020"
        },
        {
         "data": [
          {
           "customdata": [
            [
             331,
             6,
             43
            ],
            [
             43,
             1,
             31
            ],
            [
             110,
             0,
             78
            ],
            [
             3,
             1,
             1
            ],
            [
             50,
             0,
             22
            ],
            [
             16,
             0,
             16
            ],
            [
             5,
             0,
             1
            ],
            [
             4,
             0,
             0
            ],
            [
             1,
             0,
             1
            ],
            [
             1,
             0,
             1
            ],
            [
             1,
             0,
             1
            ],
            [
             22,
             1,
             4
            ],
            [
             10,
             0,
             4
            ],
            [
             12,
             0,
             3
            ],
            [
             6,
             0,
             1
            ],
            [
             27,
             0,
             5
            ],
            [
             11,
             0,
             1
            ],
            [
             28,
             0,
             3
            ],
            [
             3089,
             107,
             276
            ],
            [
             3,
             0,
             2
            ],
            [
             35,
             0,
             0
            ],
            [
             262,
             0,
             16
            ],
            [
             5,
             0,
             2
            ],
            [
             222,
             2,
             2
            ],
            [
             7,
             0,
             0
            ],
            [
             2,
             0,
             0
            ],
            [
             23,
             0,
             1
            ],
            [
             2,
             0,
             1
            ],
            [
             2,
             0,
             1
            ],
            [
             2922,
             92,
             552
            ],
            [
             0,
             0,
             0
            ],
            [
             1,
             0,
             0
            ],
            [
             2,
             0,
             0
            ],
            [
             13,
             0,
             1
            ],
            [
             15,
             0,
             2
            ],
            [
             1,
             0,
             0
            ],
            [
             52,
             0,
             0
            ],
            [
             35,
             2,
             0
            ],
            [
             56,
             0,
             0
            ],
            [
             12,
             0,
             0
            ],
            [
             10,
             0,
             0
            ],
            [
             90,
             0,
             3
            ],
            [
             29,
             0,
             0
            ],
            [
             15,
             0,
             1
            ],
            [
             5,
             0,
             0
            ],
            [
             3,
             0,
             0
            ],
            [
             9,
             0,
             0
            ],
            [
             1,
             0,
             0
            ],
            [
             56,
             0,
             0
            ],
            [
             4,
             0,
             1
            ],
            [
             2,
             0,
             0
            ],
            [
             38,
             0,
             0
            ],
            [
             16,
             1,
             0
            ],
            [
             6,
             0,
             0
            ],
            [
             26,
             0,
             0
            ],
            [
             1,
             0,
             0
            ],
            [
             3,
             0,
             0
            ],
            [
             1,
             0,
             0
            ],
            [
             2,
             1,
             0
            ],
            [
             6,
             0,
             0
            ],
            [
             1,
             0,
             0
            ],
            [
             1,
             0,
             0
            ],
            [
             8,
             0,
             0
            ],
            [
             8,
             1,
             0
            ],
            [
             10,
             0,
             0
            ],
            [
             3,
             0,
             0
            ],
            [
             1,
             0,
             0
            ],
            [
             1,
             0,
             0
            ],
            [
             31,
             9,
             1
            ],
            [
             4,
             0,
             2
            ],
            [
             2,
             0,
             0
            ],
            [
             5,
             0,
             0
            ],
            [
             1,
             0,
             0
            ],
            [
             1,
             0,
             0
            ],
            [
             1,
             0,
             0
            ],
            [
             1,
             0,
             0
            ],
            [
             1,
             0,
             0
            ],
            [
             4,
             0,
             0
            ],
            [
             2,
             0,
             0
            ],
            [
             2,
             0,
             0
            ],
            [
             2,
             1,
             0
            ],
            [
             2,
             0,
             0
            ],
            [
             1,
             0,
             0
            ],
            [
             1,
             0,
             0
            ],
            [
             2,
             0,
             0
            ],
            [
             2,
             0,
             0
            ],
            [
             1,
             0,
             0
            ],
            [
             1,
             0,
             0
            ],
            [
             1,
             0,
             0
            ],
            [
             1,
             0,
             0
            ],
            [
             1,
             0,
             0
            ],
            [
             10,
             0,
             0
            ],
            [
             1,
             0,
             0
            ],
            [
             3,
             0,
             0
            ],
            [
             2,
             0,
             0
            ],
            [
             1,
             0,
             0
            ],
            [
             1,
             0,
             0
            ],
            [
             1,
             0,
             0
            ],
            [
             1,
             0,
             0
            ],
            [
             1,
             0,
             0
            ]
           ],
           "hoverlabel": {
            "namelength": 0
           },
           "hovertemplate": "<b>%{hovertext}</b><br><br>ObservationDate=03/04/2020<br>Confirmed=%{customdata[0]}<br>Deaths=%{customdata[1]}<br>Recovered=%{customdata[2]}<br>Lat=%{lat}<br>Long=%{lon}",
           "hovertext": [
            null,
            null,
            null,
            null,
            null,
            null,
            null,
            null,
            null,
            null,
            null,
            "New South Wales",
            "Victoria",
            "British Columbia",
            null,
            null,
            "Queensland",
            null,
            null,
            null,
            null,
            null,
            "South Australia",
            null,
            "Los Angeles, CA",
            "San Benito, CA",
            null,
            "San Diego County, CA",
            null,
            null,
            "From Diamond Princess",
            "Humboldt County, CA",
            "Sacramento County, CA",
            null,
            null,
            null,
            null,
            null,
            null,
            null,
            null,
            null,
            null,
            null,
            null,
            null,
            null,
            null,
            null,
            null,
            null,
            null,
            null,
            null,
            null,
            null,
            null,
            null,
            "Western Australia",
            null,
            null,
            null,
            null,
            "Snohomish County, WA",
            null,
            null,
            null,
            null,
            "King County, WA",
            "Cook County, IL",
            null,
            null,
            null,
            "Tasmania",
            null,
            null,
            null,
            null,
            "Grafton County, NH",
            "Hillsborough, FL",
            "Placer County, CA",
            "San Mateo, CA",
            "Sonoma County, CA",
            "Umatilla, OR",
            "Fulton County, GA",
            "Washington County, OR",
            null,
            null,
            null,
            "Maricopa County, AZ",
            "Wake County, NC",
            "Westchester County, NY",
            null,
            "Orange County, CA",
            null,
            "Northern Territory",
            null,
            null,
            null,
            "Contra Costa County, CA"
           ],
           "lat": [
            36,
            15,
            1.2833,
            13,
            2.5,
            16,
            23.6345,
            -14.235,
            28.1667,
            11.55,
            7,
            -33.8688,
            -37.8136,
            49.2827,
            64,
            24,
            -28.0167,
            21,
            43,
            60,
            63,
            51,
            -34.9285,
            40,
            34.0522,
            36.5761,
            50.8333,
            32.7157,
            26,
            32,
            35.4437,
            40.745,
            38.4747,
            33.8547,
            21,
            33,
            26.0275,
            33,
            29.5,
            28.0339,
            45.1,
            46.8182,
            47.5162,
            31,
            30.3753,
            42.3154,
            39.0742,
            41.6086,
            60.472,
            45.9432,
            58.5953,
            52.1326,
            43.9424,
            53.7098,
            64.9631,
            55.1694,
            -40.9006,
            9.082,
            -31.9505,
            53.1424,
            49.8153,
            43.7333,
            25.3548,
            48.033,
            -1.8312,
            40.1431,
            40.0691,
            18.7357,
            47.6062,
            41.7377,
            -0.7893,
            39.3999,
            42.5063,
            -41.4545,
            56.8796,
            31.7917,
            24,
            14.4974,
            43.9088,
            27.9904,
            39.0916,
            37.563,
            38.578,
            45.775,
            33.8034,
            45.547,
            -38.4161,
            -35.6751,
            31.24,
            33.2918,
            35.8032,
            41.122,
            48.3794,
            33.7879,
            47.1625,
            -12.4634,
            47.14,
            51.9194,
            34,
            37.8534
           ],
           "legendgroup": "",
           "lon": [
            138,
            101,
            103.8333,
            122,
            112.5,
            108,
            -102.5528,
            -51.9253,
            84.25,
            104.9167,
            81,
            151.2093,
            144.9631,
            -123.1207,
            26,
            54,
            153.4,
            78,
            12,
            90,
            16,
            9,
            138.6007,
            -4,
            -118.2437,
            -120.9876,
            4,
            -117.1611,
            30,
            53,
            139.638,
            -123.8695,
            -121.3542,
            35.8623,
            57,
            65,
            50.55,
            44,
            47.75,
            1.6596,
            15.2,
            8.2275,
            14.5501,
            35,
            69.3451,
            43.3569,
            21.8243,
            21.7453,
            8.4689,
            24.9668,
            25.0136,
            5.2913,
            12.4578,
            27.9534,
            -19.0208,
            23.8813,
            174.886,
            8.6753,
            115.8605,
            -7.6921,
            6.1296,
            7.4167,
            51.1839,
            -121.8339,
            -78.1834,
            47.5769,
            45.0382,
            -70.1627,
            -122.3321,
            -87.6976,
            113.9213,
            -8.2245,
            1.5218,
            145.9707,
            24.6032,
            -7.0926,
            45,
            -14.4524,
            -71.82600000000001,
            -82.3018,
            -120.8039,
            -122.3255,
            -122.9888,
            -118.7606,
            -84.3963,
            -123.1386,
            -63.6167,
            -71.543,
            36.51,
            -112.4291,
            -78.5661,
            -73.7949,
            31.1656,
            -117.8531,
            19.5033,
            130.8456,
            9.55,
            19.1451,
            9,
            -121.9018
           ],
           "marker": {
            "color": "#636efa"
           },
           "mode": "markers",
           "name": "",
           "showlegend": false,
           "subplot": "mapbox",
           "type": "scattermapbox"
          }
         ],
         "name": "03/04/2020"
        },
        {
         "data": [
          {
           "customdata": [
            [
             360,
             6,
             43
            ],
            [
             47,
             1,
             31
            ],
            [
             117,
             0,
             78
            ],
            [
             3,
             1,
             1
            ],
            [
             50,
             0,
             22
            ],
            [
             16,
             0,
             16
            ],
            [
             5,
             0,
             1
            ],
            [
             4,
             0,
             0
            ],
            [
             1,
             0,
             1
            ],
            [
             1,
             0,
             1
            ],
            [
             1,
             0,
             1
            ],
            [
             22,
             1,
             4
            ],
            [
             10,
             0,
             7
            ],
            [
             13,
             0,
             3
            ],
            [
             12,
             0,
             1
            ],
            [
             29,
             0,
             5
            ],
            [
             13,
             0,
             8
            ],
            [
             30,
             0,
             3
            ],
            [
             3858,
             148,
             414
            ],
            [
             4,
             0,
             2
            ],
            [
             94,
             0,
             0
            ],
            [
             482,
             0,
             16
            ],
            [
             5,
             0,
             2
            ],
            [
             259,
             3,
             2
            ],
            [
             11,
             0,
             0
            ],
            [
             2,
             0,
             0
            ],
            [
             50,
             0,
             1
            ],
            [
             3,
             0,
             1
            ],
            [
             3,
             0,
             1
            ],
            [
             3513,
             107,
             739
            ],
            [
             0,
             0,
             0
            ],
            [
             1,
             0,
             0
            ],
            [
             2,
             0,
             0
            ],
            [
             16,
             0,
             1
            ],
            [
             16,
             0,
             2
            ],
            [
             1,
             0,
             0
            ],
            [
             55,
             0,
             0
            ],
            [
             35,
             2,
             0
            ],
            [
             58,
             0,
             0
            ],
            [
             12,
             0,
             0
            ],
            [
             10,
             0,
             0
            ],
            [
             114,
             1,
             3
            ],
            [
             41,
             0,
             0
            ],
            [
             16,
             0,
             1
            ],
            [
             5,
             0,
             0
            ],
            [
             4,
             0,
             0
            ],
            [
             31,
             0,
             0
            ],
            [
             1,
             0,
             0
            ],
            [
             87,
             0,
             0
            ],
            [
             6,
             0,
             1
            ],
            [
             3,
             0,
             0
            ],
            [
             82,
             0,
             0
            ],
            [
             21,
             1,
             0
            ],
            [
             6,
             0,
             0
            ],
            [
             34,
             0,
             0
            ],
            [
             1,
             0,
             0
            ],
            [
             3,
             0,
             0
            ],
            [
             1,
             0,
             0
            ],
            [
             3,
             1,
             0
            ],
            [
             6,
             0,
             0
            ],
            [
             1,
             0,
             0
            ],
            [
             1,
             0,
             0
            ],
            [
             8,
             0,
             0
            ],
            [
             18,
             1,
             0
            ],
            [
             13,
             0,
             0
            ],
            [
             6,
             0,
             0
            ],
            [
             1,
             0,
             0
            ],
            [
             1,
             0,
             0
            ],
            [
             51,
             10,
             1
            ],
            [
             5,
             0,
             2
            ],
            [
             2,
             0,
             0
            ],
            [
             8,
             0,
             0
            ],
            [
             1,
             0,
             0
            ],
            [
             1,
             0,
             0
            ],
            [
             1,
             0,
             0
            ],
            [
             2,
             0,
             0
            ],
            [
             5,
             0,
             0
            ],
            [
             4,
             0,
             0
            ],
            [
             2,
             0,
             0
            ],
            [
             2,
             0,
             0
            ],
            [
             2,
             1,
             0
            ],
            [
             2,
             0,
             0
            ],
            [
             1,
             0,
             0
            ],
            [
             1,
             0,
             0
            ],
            [
             2,
             0,
             0
            ],
            [
             2,
             0,
             0
            ],
            [
             1,
             0,
             0
            ],
            [
             4,
             0,
             0
            ],
            [
             1,
             0,
             0
            ],
            [
             1,
             0,
             0
            ],
            [
             1,
             0,
             0
            ],
            [
             18,
             0,
             0
            ],
            [
             1,
             0,
             0
            ],
            [
             3,
             0,
             0
            ],
            [
             2,
             0,
             0
            ],
            [
             1,
             0,
             0
            ],
            [
             1,
             0,
             0
            ],
            [
             1,
             0,
             0
            ],
            [
             1,
             0,
             0
            ],
            [
             1,
             0,
             0
            ],
            [
             2,
             0,
             0
            ],
            [
             2,
             0,
             0
            ],
            [
             2,
             0,
             0
            ],
            [
             2,
             0,
             0
            ],
            [
             2,
             0,
             0
            ],
            [
             1,
             0,
             0
            ],
            [
             1,
             0,
             0
            ],
            [
             1,
             0,
             0
            ],
            [
             1,
             0,
             0
            ],
            [
             1,
             0,
             0
            ],
            [
             1,
             0,
             0
            ]
           ],
           "hoverlabel": {
            "namelength": 0
           },
           "hovertemplate": "<b>%{hovertext}</b><br><br>ObservationDate=03/05/2020<br>Confirmed=%{customdata[0]}<br>Deaths=%{customdata[1]}<br>Recovered=%{customdata[2]}<br>Lat=%{lat}<br>Long=%{lon}",
           "hovertext": [
            null,
            null,
            null,
            null,
            null,
            null,
            null,
            null,
            null,
            null,
            null,
            "New South Wales",
            "Victoria",
            "British Columbia",
            null,
            null,
            "Queensland",
            null,
            null,
            null,
            null,
            null,
            "South Australia",
            null,
            "Los Angeles, CA",
            "San Benito, CA",
            null,
            "San Diego County, CA",
            null,
            null,
            "From Diamond Princess",
            "Humboldt County, CA",
            "Sacramento County, CA",
            null,
            null,
            null,
            null,
            null,
            null,
            null,
            null,
            null,
            null,
            null,
            null,
            null,
            null,
            null,
            null,
            null,
            null,
            null,
            null,
            null,
            null,
            null,
            null,
            null,
            "Western Australia",
            null,
            null,
            null,
            null,
            "Snohomish County, WA",
            null,
            null,
            null,
            null,
            "King County, WA",
            "Cook County, IL",
            null,
            null,
            null,
            "Tasmania",
            null,
            null,
            null,
            null,
            "Grafton County, NH",
            "Hillsborough, FL",
            "Placer County, CA",
            "San Mateo, CA",
            "Sonoma County, CA",
            "Umatilla, OR",
            "Fulton County, GA",
            "Washington County, OR",
            null,
            null,
            null,
            "Maricopa County, AZ",
            "Wake County, NC",
            "Westchester County, NY",
            null,
            "Orange County, CA",
            null,
            "Northern Territory",
            null,
            null,
            null,
            "Contra Costa County, CA",
            null,
            null,
            "Bergen County, NJ",
            "Harris County, TX",
            "San Francisco County, CA",
            null,
            "Clark County, NV",
            "Fort Bend County, TX",
            "Grant County, WA",
            "Santa Rosa County, FL",
            "Williamson County, TN"
           ],
           "lat": [
            36,
            15,
            1.2833,
            13,
            2.5,
            16,
            23.6345,
            -14.235,
            28.1667,
            11.55,
            7,
            -33.8688,
            -37.8136,
            49.2827,
            64,
            24,
            -28.0167,
            21,
            43,
            60,
            63,
            51,
            -34.9285,
            40,
            34.0522,
            36.5761,
            50.8333,
            32.7157,
            26,
            32,
            35.4437,
            40.745,
            38.4747,
            33.8547,
            21,
            33,
            26.0275,
            33,
            29.5,
            28.0339,
            45.1,
            46.8182,
            47.5162,
            31,
            30.3753,
            42.3154,
            39.0742,
            41.6086,
            60.472,
            45.9432,
            58.5953,
            52.1326,
            43.9424,
            53.7098,
            64.9631,
            55.1694,
            -40.9006,
            9.082,
            -31.9505,
            53.1424,
            49.8153,
            43.7333,
            25.3548,
            48.033,
            -1.8312,
            40.1431,
            40.0691,
            18.7357,
            47.6062,
            41.7377,
            -0.7893,
            39.3999,
            42.5063,
            -41.4545,
            56.8796,
            31.7917,
            24,
            14.4974,
            43.9088,
            27.9904,
            39.0916,
            37.563,
            38.578,
            45.775,
            33.8034,
            45.547,
            -38.4161,
            -35.6751,
            31.24,
            33.2918,
            35.8032,
            41.122,
            48.3794,
            33.7879,
            47.1625,
            -12.4634,
            47.14,
            51.9194,
            34,
            37.8534,
            43.9159,
            46.1512,
            40.9263,
            29.7752,
            37.7749,
            -30.5595,
            36.0796,
            29.5693,
            47.1981,
            30.769000000000002,
            35.9179
           ],
           "legendgroup": "",
           "lon": [
            138,
            101,
            103.8333,
            122,
            112.5,
            108,
            -102.5528,
            -51.9253,
            84.25,
            104.9167,
            81,
            151.2093,
            144.9631,
            -123.1207,
            26,
            54,
            153.4,
            78,
            12,
            90,
            16,
            9,
            138.6007,
            -4,
            -118.2437,
            -120.9876,
            4,
            -117.1611,
            30,
            53,
            139.638,
            -123.8695,
            -121.3542,
            35.8623,
            57,
            65,
            50.55,
            44,
            47.75,
            1.6596,
            15.2,
            8.2275,
            14.5501,
            35,
            69.3451,
            43.3569,
            21.8243,
            21.7453,
            8.4689,
            24.9668,
            25.0136,
            5.2913,
            12.4578,
            27.9534,
            -19.0208,
            23.8813,
            174.886,
            8.6753,
            115.8605,
            -7.6921,
            6.1296,
            7.4167,
            51.1839,
            -121.8339,
            -78.1834,
            47.5769,
            45.0382,
            -70.1627,
            -122.3321,
            -87.6976,
            113.9213,
            -8.2245,
            1.5218,
            145.9707,
            24.6032,
            -7.0926,
            45,
            -14.4524,
            -71.82600000000001,
            -82.3018,
            -120.8039,
            -122.3255,
            -122.9888,
            -118.7606,
            -84.3963,
            -123.1386,
            -63.6167,
            -71.543,
            36.51,
            -112.4291,
            -78.5661,
            -73.7949,
            31.1656,
            -117.8531,
            19.5033,
            130.8456,
            9.55,
            19.1451,
            9,
            -121.9018,
            17.6791,
            14.9955,
            -74.077,
            -95.3103,
            -122.4194,
            22.9375,
            -115.094,
            -95.8143,
            -119.3732,
            -86.9824,
            -86.8622
           ],
           "marker": {
            "color": "#636efa"
           },
           "mode": "markers",
           "name": "",
           "showlegend": false,
           "subplot": "mapbox",
           "type": "scattermapbox"
          }
         ],
         "name": "03/05/2020"
        },
        {
         "data": [
          {
           "customdata": [
            [
             420,
             6,
             46
            ],
            [
             48,
             1,
             31
            ],
            [
             130,
             0,
             78
            ],
            [
             5,
             1,
             1
            ],
            [
             83,
             0,
             22
            ],
            [
             16,
             0,
             16
            ],
            [
             6,
             0,
             1
            ],
            [
             13,
             0,
             0
            ],
            [
             1,
             0,
             0
            ],
            [
             1,
             0,
             1
            ],
            [
             1,
             0,
             1
            ],
            [
             1,
             0,
             1
            ],
            [
             26,
             1,
             4
            ],
            [
             10,
             0,
             7
            ],
            [
             21,
             0,
             3
            ],
            [
             15,
             0,
             1
            ],
            [
             29,
             0,
             5
            ],
            [
             13,
             0,
             8
            ],
            [
             31,
             0,
             3
            ],
            [
             4636,
             197,
             523
            ],
            [
             13,
             0,
             2
            ],
            [
             101,
             0,
             0
            ],
            [
             670,
             0,
             17
            ],
            [
             7,
             0,
             2
            ],
            [
             400,
             5,
             2
            ],
            [
             13,
             0,
             0
            ],
            [
             2,
             0,
             0
            ],
            [
             109,
             0,
             1
            ],
            [
             3,
             0,
             1
            ],
            [
             15,
             0,
             1
            ],
            [
             4747,
             124,
             913
            ],
            [
             0,
             0,
             0
            ],
            [
             1,
             0,
             0
            ],
            [
             2,
             0,
             0
            ],
            [
             22,
             0,
             1
            ],
            [
             16,
             0,
             2
            ],
            [
             1,
             0,
             0
            ],
            [
             60,
             0,
             4
            ],
            [
             40,
             3,
             0
            ],
            [
             58,
             0,
             0
            ],
            [
             17,
             0,
             0
            ],
            [
             11,
             0,
             0
            ],
            [
             214,
             1,
             3
            ],
            [
             55,
             0,
             0
            ],
            [
             21,
             0,
             2
            ],
            [
             6,
             0,
             0
            ],
            [
             4,
             0,
             0
            ],
            [
             45,
             0,
             0
            ],
            [
             3,
             0,
             0
            ],
            [
             108,
             0,
             0
            ],
            [
             9,
             0,
             1
            ],
            [
             10,
             0,
             0
            ],
            [
             128,
             1,
             0
            ],
            [
             21,
             1,
             0
            ],
            [
             6,
             0,
             0
            ],
            [
             43,
             0,
             0
            ],
            [
             1,
             0,
             0
            ],
            [
             4,
             0,
             0
            ],
            [
             1,
             0,
             0
            ],
            [
             3,
             1,
             0
            ],
            [
             18,
             0,
             0
            ],
            [
             2,
             0,
             0
            ],
            [
             1,
             0,
             0
            ],
            [
             8,
             0,
             0
            ],
            [
             19,
             1,
             0
            ],
            [
             13,
             0,
             0
            ],
            [
             6,
             0,
             0
            ],
            [
             1,
             0,
             0
            ],
            [
             2,
             0,
             0
            ],
            [
             58,
             12,
             1
            ],
            [
             5,
             0,
             2
            ],
            [
             4,
             0,
             0
            ],
            [
             13,
             0,
             0
            ],
            [
             1,
             0,
             0
            ],
            [
             1,
             0,
             0
            ],
            [
             1,
             0,
             0
            ],
            [
             2,
             0,
             0
            ],
            [
             5,
             0,
             0
            ],
            [
             4,
             0,
             0
            ],
            [
             2,
             0,
             0
            ],
            [
             2,
             0,
             0
            ],
            [
             5,
             1,
             0
            ],
            [
             2,
             0,
             0
            ],
            [
             1,
             0,
             0
            ],
            [
             1,
             0,
             0
            ],
            [
             2,
             0,
             0
            ],
            [
             2,
             0,
             0
            ],
            [
             2,
             0,
             0
            ],
            [
             4,
             0,
             0
            ],
            [
             1,
             0,
             0
            ],
            [
             2,
             0,
             0
            ],
            [
             1,
             0,
             0
            ],
            [
             19,
             0,
             0
            ],
            [
             1,
             0,
             0
            ],
            [
             3,
             0,
             0
            ],
            [
             2,
             0,
             0
            ],
            [
             0,
             0,
             0
            ],
            [
             1,
             0,
             0
            ],
            [
             5,
             0,
             0
            ],
            [
             1,
             0,
             0
            ],
            [
             3,
             0,
             0
            ],
            [
             2,
             0,
             0
            ],
            [
             7,
             0,
             0
            ],
            [
             2,
             0,
             0
            ],
            [
             3,
             0,
             0
            ],
            [
             2,
             0,
             0
            ],
            [
             1,
             0,
             0
            ],
            [
             1,
             0,
             0
            ],
            [
             1,
             0,
             0
            ],
            [
             1,
             0,
             0
            ],
            [
             1,
             0,
             0
            ],
            [
             1,
             0,
             0
            ],
            [
             16,
             0,
             0
            ],
            [
             3,
             0,
             0
            ],
            [
             3,
             0,
             1
            ],
            [
             2,
             0,
             0
            ],
            [
             2,
             0,
             0
            ],
            [
             1,
             0,
             0
            ],
            [
             1,
             0,
             0
            ],
            [
             1,
             0,
             0
            ],
            [
             1,
             0,
             0
            ],
            [
             1,
             0,
             0
            ],
            [
             1,
             0,
             0
            ],
            [
             1,
             0,
             0
            ],
            [
             1,
             0,
             0
            ],
            [
             1,
             0,
             0
            ],
            [
             1,
             0,
             0
            ],
            [
             1,
             0,
             0
            ],
            [
             1,
             0,
             0
            ],
            [
             1,
             0,
             0
            ],
            [
             1,
             0,
             0
            ],
            [
             1,
             0,
             0
            ],
            [
             1,
             0,
             0
            ],
            [
             1,
             0,
             0
            ],
            [
             1,
             0,
             0
            ]
           ],
           "hoverlabel": {
            "namelength": 0
           },
           "hovertemplate": "<b>%{hovertext}</b><br><br>ObservationDate=03/06/2020<br>Confirmed=%{customdata[0]}<br>Deaths=%{customdata[1]}<br>Recovered=%{customdata[2]}<br>Lat=%{lat}<br>Long=%{lon}",
           "hovertext": [
            null,
            null,
            null,
            null,
            null,
            null,
            null,
            null,
            null,
            null,
            null,
            null,
            "New South Wales",
            "Victoria",
            "British Columbia",
            null,
            null,
            "Queensland",
            null,
            null,
            null,
            null,
            null,
            "South Australia",
            null,
            "Los Angeles, CA",
            "San Benito, CA",
            null,
            "San Diego County, CA",
            null,
            null,
            "From Diamond Princess",
            "Humboldt County, CA",
            "Sacramento County, CA",
            null,
            null,
            null,
            null,
            null,
            null,
            null,
            null,
            null,
            null,
            null,
            null,
            null,
            null,
            null,
            null,
            null,
            null,
            null,
            null,
            null,
            null,
            null,
            null,
            null,
            "Western Australia",
            null,
            null,
            null,
            null,
            "Snohomish County, WA",
            null,
            null,
            null,
            null,
            "King County, WA",
            "Cook County, IL",
            null,
            null,
            null,
            "Tasmania",
            null,
            null,
            null,
            null,
            "Grafton County, NH",
            "Hillsborough, FL",
            "Placer County, CA",
            "San Mateo, CA",
            "Sonoma County, CA",
            "Umatilla, OR",
            "Fulton County, GA",
            "Washington County, OR",
            null,
            null,
            null,
            "Maricopa County, AZ",
            "Wake County, NC",
            "Westchester County, NY",
            null,
            "Orange County, CA",
            null,
            "Northern Territory",
            null,
            null,
            null,
            "Contra Costa County, CA",
            null,
            null,
            "Bergen County, NJ",
            "Harris County, TX",
            "San Francisco County, CA",
            null,
            "Clark County, NV",
            "Fort Bend County, TX",
            "Grant County, WA",
            "Santa Rosa County, FL",
            "Williamson County, TN",
            "New York County, NY",
            "Montgomery County, MD",
            "Suffolk County, MA",
            "Denver County, CO",
            "Summit County, CO",
            null,
            null,
            null,
            null,
            null,
            null,
            null,
            "Chatham County, NC",
            "Delaware County, PA",
            "Douglas County, NE",
            "Fayette County, KY",
            "Marion County, IN",
            "Middlesex County, MA",
            "Nassau County, NY",
            "Ramsey County, MN",
            "Washoe County, NV",
            "Wayne County, PA",
            "Yolo County, CA"
           ],
           "lat": [
            36,
            15,
            1.2833,
            13,
            2.5,
            16,
            23.6345,
            -14.235,
            4.5709,
            28.1667,
            11.55,
            7,
            -33.8688,
            -37.8136,
            49.2827,
            64,
            24,
            -28.0167,
            21,
            43,
            60,
            63,
            51,
            -34.9285,
            40,
            34.0522,
            36.5761,
            50.8333,
            32.7157,
            26,
            32,
            35.4437,
            40.745,
            38.4747,
            33.8547,
            21,
            33,
            26.0275,
            33,
            29.5,
            28.0339,
            45.1,
            46.8182,
            47.5162,
            31,
            30.3753,
            42.3154,
            39.0742,
            41.6086,
            60.472,
            45.9432,
            58.5953,
            52.1326,
            43.9424,
            53.7098,
            64.9631,
            55.1694,
            -40.9006,
            9.082,
            -31.9505,
            53.1424,
            49.8153,
            43.7333,
            25.3548,
            48.033,
            -1.8312,
            40.1431,
            40.0691,
            18.7357,
            47.6062,
            41.7377,
            -0.7893,
            39.3999,
            42.5063,
            -41.4545,
            56.8796,
            31.7917,
            24,
            14.4974,
            43.9088,
            27.9904,
            39.0916,
            37.563,
            38.578,
            45.775,
            33.8034,
            45.547,
            -38.4161,
            -35.6751,
            31.24,
            33.2918,
            35.8032,
            41.122,
            48.3794,
            33.7879,
            47.1625,
            -12.4634,
            47.14,
            51.9194,
            34,
            37.8534,
            43.9159,
            46.1512,
            40.9263,
            29.7752,
            37.7749,
            -30.5595,
            36.0796,
            29.5693,
            47.1981,
            30.769000000000002,
            35.9179,
            40.7128,
            39.1547,
            42.3601,
            39.7392,
            39.5912,
            27.5142,
            3.8480000000000003,
            9.7489,
            -9.19,
            44.0165,
            48.669,
            8.6195,
            35.7211,
            39.9078,
            41.3148,
            38.0606,
            39.8362,
            42.4672,
            40.6546,
            44.9964,
            40.5608,
            41.6739,
            38.7646
           ],
           "legendgroup": "",
           "lon": [
            138,
            101,
            103.8333,
            122,
            112.5,
            108,
            -102.5528,
            -51.9253,
            -74.2973,
            84.25,
            104.9167,
            81,
            151.2093,
            144.9631,
            -123.1207,
            26,
            54,
            153.4,
            78,
            12,
            90,
            16,
            9,
            138.6007,
            -4,
            -118.2437,
            -120.9876,
            4,
            -117.1611,
            30,
            53,
            139.638,
            -123.8695,
            -121.3542,
            35.8623,
            57,
            65,
            50.55,
            44,
            47.75,
            1.6596,
            15.2,
            8.2275,
            14.5501,
            35,
            69.3451,
            43.3569,
            21.8243,
            21.7453,
            8.4689,
            24.9668,
            25.0136,
            5.2913,
            12.4578,
            27.9534,
            -19.0208,
            23.8813,
            174.886,
            8.6753,
            115.8605,
            -7.6921,
            6.1296,
            7.4167,
            51.1839,
            -121.8339,
            -78.1834,
            47.5769,
            45.0382,
            -70.1627,
            -122.3321,
            -87.6976,
            113.9213,
            -8.2245,
            1.5218,
            145.9707,
            24.6032,
            -7.0926,
            45,
            -14.4524,
            -71.82600000000001,
            -82.3018,
            -120.8039,
            -122.3255,
            -122.9888,
            -118.7606,
            -84.3963,
            -123.1386,
            -63.6167,
            -71.543,
            36.51,
            -112.4291,
            -78.5661,
            -73.7949,
            31.1656,
            -117.8531,
            19.5033,
            130.8456,
            9.55,
            19.1451,
            9,
            -121.9018,
            17.6791,
            14.9955,
            -74.077,
            -95.3103,
            -122.4194,
            22.9375,
            -115.094,
            -95.8143,
            -119.3732,
            -86.9824,
            -86.8622,
            -74.006,
            -77.2405,
            -71.0589,
            -104.9903,
            -106.064,
            90.4336,
            11.5021,
            -83.7534,
            -75.0152,
            21.0059,
            19.699,
            0.8248,
            -79.1781,
            -75.3879,
            -96.1951,
            -84.4803,
            -86.1752,
            -71.2874,
            -73.5594,
            -93.0616,
            -119.6035,
            -75.2479,
            -121.9018
           ],
           "marker": {
            "color": "#636efa"
           },
           "mode": "markers",
           "name": "",
           "showlegend": false,
           "subplot": "mapbox",
           "type": "scattermapbox"
          }
         ],
         "name": "03/06/2020"
        },
        {
         "data": [
          {
           "customdata": [
            [
             461,
             6,
             76
            ],
            [
             50,
             1,
             31
            ],
            [
             138,
             0,
             78
            ],
            [
             6,
             1,
             1
            ],
            [
             93,
             0,
             23
            ],
            [
             18,
             0,
             16
            ],
            [
             6,
             0,
             1
            ],
            [
             13,
             0,
             0
            ],
            [
             1,
             0,
             0
            ],
            [
             1,
             0,
             1
            ],
            [
             1,
             0,
             1
            ],
            [
             1,
             0,
             1
            ],
            [
             28,
             1,
             4
            ],
            [
             11,
             0,
             7
            ],
            [
             21,
             0,
             4
            ],
            [
             15,
             0,
             1
            ],
            [
             45,
             0,
             7
            ],
            [
             13,
             0,
             8
            ],
            [
             34,
             0,
             3
            ],
            [
             5883,
             233,
             589
            ],
            [
             13,
             0,
             2
            ],
            [
             161,
             0,
             0
            ],
            [
             799,
             0,
             18
            ],
            [
             7,
             0,
             2
            ],
            [
             500,
             10,
             30
            ],
            [
             14,
             0,
             0
            ],
            [
             2,
             0,
             0
            ],
            [
             169,
             0,
             1
            ],
            [
             3,
             0,
             1
            ],
            [
             15,
             0,
             1
            ],
            [
             5823,
             145,
             1669
            ],
            [
             0,
             0,
             0
            ],
            [
             1,
             0,
             0
            ],
            [
             2,
             0,
             0
            ],
            [
             22,
             0,
             1
            ],
            [
             16,
             0,
             2
            ],
            [
             1,
             0,
             0
            ],
            [
             85,
             0,
             4
            ],
            [
             54,
             4,
             0
            ],
            [
             61,
             0,
             0
            ],
            [
             17,
             0,
             0
            ],
            [
             12,
             0,
             0
            ],
            [
             268,
             1,
             3
            ],
            [
             79,
             0,
             0
            ],
            [
             21,
             0,
             2
            ],
            [
             6,
             0,
             0
            ],
            [
             4,
             0,
             0
            ],
            [
             46,
             0,
             0
            ],
            [
             3,
             0,
             0
            ],
            [
             147,
             0,
             0
            ],
            [
             9,
             0,
             3
            ],
            [
             10,
             0,
             0
            ],
            [
             188,
             1,
             0
            ],
            [
             23,
             1,
             0
            ],
            [
             6,
             0,
             0
            ],
            [
             50,
             0,
             0
            ],
            [
             1,
             0,
             0
            ],
            [
             5,
             0,
             0
            ],
            [
             1,
             0,
             0
            ],
            [
             3,
             1,
             0
            ],
            [
             18,
             0,
             0
            ],
            [
             2,
             0,
             0
            ],
            [
             1,
             0,
             0
            ],
            [
             8,
             0,
             0
            ],
            [
             27,
             1,
             0
            ],
            [
             13,
             0,
             0
            ],
            [
             9,
             0,
             0
            ],
            [
             1,
             0,
             0
            ],
            [
             2,
             0,
             0
            ],
            [
             71,
             15,
             1
            ],
            [
             6,
             0,
             2
            ],
            [
             4,
             0,
             0
            ],
            [
             20,
             0,
             0
            ],
            [
             1,
             0,
             0
            ],
            [
             1,
             0,
             0
            ],
            [
             1,
             0,
             0
            ],
            [
             2,
             0,
             0
            ],
            [
             5,
             0,
             0
            ],
            [
             4,
             0,
             0
            ],
            [
             2,
             0,
             0
            ],
            [
             2,
             0,
             0
            ],
            [
             5,
             1,
             0
            ],
            [
             2,
             0,
             0
            ],
            [
             1,
             0,
             0
            ],
            [
             1,
             0,
             0
            ],
            [
             3,
             0,
             0
            ],
            [
             3,
             0,
             0
            ],
            [
             8,
             0,
             0
            ],
            [
             4,
             0,
             0
            ],
            [
             1,
             0,
             0
            ],
            [
             3,
             0,
             1
            ],
            [
             1,
             0,
             0
            ],
            [
             57,
             0,
             0
            ],
            [
             1,
             0,
             0
            ],
            [
             3,
             0,
             0
            ],
            [
             4,
             0,
             0
            ],
            [
             0,
             0,
             0
            ],
            [
             1,
             0,
             0
            ],
            [
             5,
             0,
             0
            ],
            [
             1,
             0,
             0
            ],
            [
             3,
             0,
             0
            ],
            [
             3,
             0,
             0
            ],
            [
             7,
             0,
             0
            ],
            [
             4,
             0,
             0
            ],
            [
             5,
             0,
             0
            ],
            [
             9,
             0,
             0
            ],
            [
             1,
             0,
             0
            ],
            [
             1,
             0,
             0
            ],
            [
             3,
             0,
             0
            ],
            [
             1,
             0,
             0
            ],
            [
             1,
             0,
             0
            ],
            [
             1,
             0,
             0
            ],
            [
             11,
             0,
             0
            ],
            [
             3,
             0,
             0
            ],
            [
             3,
             0,
             1
            ],
            [
             2,
             0,
             0
            ],
            [
             2,
             0,
             0
            ],
            [
             1,
             0,
             0
            ],
            [
             1,
             0,
             0
            ],
            [
             1,
             0,
             0
            ],
            [
             1,
             0,
             0
            ],
            [
             1,
             0,
             0
            ],
            [
             1,
             0,
             0
            ],
            [
             1,
             0,
             0
            ],
            [
             1,
             0,
             0
            ],
            [
             1,
             0,
             0
            ],
            [
             1,
             0,
             0
            ],
            [
             1,
             0,
             0
            ],
            [
             1,
             0,
             0
            ],
            [
             1,
             0,
             0
            ],
            [
             4,
             0,
             0
            ],
            [
             1,
             0,
             0
            ],
            [
             1,
             0,
             0
            ],
            [
             1,
             0,
             0
            ],
            [
             1,
             0,
             0
            ],
            [
             32,
             0,
             1
            ],
            [
             5,
             0,
             0
            ],
            [
             3,
             0,
             0
            ],
            [
             3,
             0,
             0
            ],
            [
             3,
             0,
             0
            ],
            [
             2,
             0,
             0
            ],
            [
             2,
             0,
             0
            ],
            [
             2,
             0,
             0
            ],
            [
             2,
             0,
             0
            ],
            [
             2,
             0,
             0
            ],
            [
             2,
             0,
             0
            ],
            [
             2,
             0,
             0
            ],
            [
             1,
             0,
             0
            ],
            [
             1,
             0,
             0
            ],
            [
             1,
             0,
             0
            ],
            [
             1,
             0,
             0
            ],
            [
             1,
             0,
             0
            ],
            [
             1,
             0,
             0
            ],
            [
             1,
             0,
             0
            ],
            [
             1,
             0,
             0
            ],
            [
             1,
             0,
             0
            ],
            [
             1,
             0,
             0
            ],
            [
             1,
             0,
             0
            ],
            [
             1,
             0,
             0
            ],
            [
             1,
             0,
             0
            ]
           ],
           "hoverlabel": {
            "namelength": 0
           },
           "hovertemplate": "<b>%{hovertext}</b><br><br>ObservationDate=03/07/2020<br>Confirmed=%{customdata[0]}<br>Deaths=%{customdata[1]}<br>Recovered=%{customdata[2]}<br>Lat=%{lat}<br>Long=%{lon}",
           "hovertext": [
            null,
            null,
            null,
            null,
            null,
            null,
            null,
            null,
            null,
            null,
            null,
            null,
            "New South Wales",
            "Victoria",
            "British Columbia",
            null,
            null,
            "Queensland",
            null,
            null,
            null,
            null,
            null,
            "South Australia",
            null,
            "Los Angeles, CA",
            "San Benito, CA",
            null,
            "San Diego County, CA",
            null,
            null,
            "From Diamond Princess",
            "Humboldt County, CA",
            "Sacramento County, CA",
            null,
            null,
            null,
            null,
            null,
            null,
            null,
            null,
            null,
            null,
            null,
            null,
            null,
            null,
            null,
            null,
            null,
            null,
            null,
            null,
            null,
            null,
            null,
            null,
            null,
            "Western Australia",
            null,
            null,
            null,
            null,
            "Snohomish County, WA",
            null,
            null,
            null,
            null,
            "King County, WA",
            "Cook County, IL",
            null,
            null,
            null,
            "Tasmania",
            null,
            null,
            null,
            null,
            "Grafton County, NH",
            "Hillsborough, FL",
            "Placer County, CA",
            "San Mateo, CA",
            "Sonoma County, CA",
            "Umatilla, OR",
            "Fulton County, GA",
            "Washington County, OR",
            null,
            null,
            null,
            "Maricopa County, AZ",
            "Wake County, NC",
            "Westchester County, NY",
            null,
            "Orange County, CA",
            null,
            "Northern Territory",
            null,
            null,
            null,
            "Contra Costa County, CA",
            null,
            null,
            "Bergen County, NJ",
            "Harris County, TX",
            "San Francisco County, CA",
            null,
            "Clark County, NV",
            "Fort Bend County, TX",
            "Grant County, WA",
            "Santa Rosa County, FL",
            "Williamson County, TN",
            "New York County, NY",
            "Montgomery County, MD",
            "Suffolk County, MA",
            "Denver County, CO",
            "Summit County, CO",
            null,
            null,
            null,
            null,
            null,
            null,
            null,
            "Chatham County, NC",
            "Delaware County, PA",
            "Douglas County, NE",
            "Fayette County, KY",
            "Marion County, IN",
            "Middlesex County, MA",
            "Nassau County, NY",
            "Ramsey County, MN",
            "Washoe County, NV",
            "Wayne County, PA",
            "Yolo County, CA",
            "Santa Clara County, CA",
            null,
            null,
            "Douglas County, CO",
            "Providence County, RI",
            null,
            "Alameda County, CA",
            "Broward County, FL",
            "Lee County, FL",
            "Pinal County, AZ",
            "Rockland County, NY",
            "Saratoga County, NY",
            "Charleston County, SC",
            "Clark County, WA",
            "Cobb County, GA",
            "Davis County, UT",
            "El Paso County, CO",
            "Honolulu County, HI",
            "Jackson County, OR ",
            "Jefferson County, WA",
            "Kershaw County, SC",
            "Klamath County, OR",
            "Madera County, CA",
            "Pierce County, WA",
            "Tulsa County, OK"
           ],
           "lat": [
            36,
            15,
            1.2833,
            13,
            2.5,
            16,
            23.6345,
            -14.235,
            4.5709,
            28.1667,
            11.55,
            7,
            -33.8688,
            -37.8136,
            49.2827,
            64,
            24,
            -28.0167,
            21,
            43,
            60,
            63,
            51,
            -34.9285,
            40,
            34.0522,
            36.5761,
            50.8333,
            32.7157,
            26,
            32,
            35.4437,
            40.745,
            38.4747,
            33.8547,
            21,
            33,
            26.0275,
            33,
            29.5,
            28.0339,
            45.1,
            46.8182,
            47.5162,
            31,
            30.3753,
            42.3154,
            39.0742,
            41.6086,
            60.472,
            45.9432,
            58.5953,
            52.1326,
            43.9424,
            53.7098,
            64.9631,
            55.1694,
            -40.9006,
            9.082,
            -31.9505,
            53.1424,
            49.8153,
            43.7333,
            25.3548,
            48.033,
            -1.8312,
            40.1431,
            40.0691,
            18.7357,
            47.6062,
            41.7377,
            -0.7893,
            39.3999,
            42.5063,
            -41.4545,
            56.8796,
            31.7917,
            24,
            14.4974,
            43.9088,
            27.9904,
            39.0916,
            37.563,
            38.578,
            45.775,
            33.8034,
            45.547,
            -38.4161,
            -35.6751,
            31.24,
            33.2918,
            35.8032,
            41.122,
            48.3794,
            33.7879,
            47.1625,
            -12.4634,
            47.14,
            51.9194,
            34,
            37.8534,
            43.9159,
            46.1512,
            40.9263,
            29.7752,
            37.7749,
            -30.5595,
            36.0796,
            29.5693,
            47.1981,
            30.769000000000002,
            35.9179,
            40.7128,
            39.1547,
            42.3601,
            39.7392,
            39.5912,
            27.5142,
            3.8480000000000003,
            9.7489,
            -9.19,
            44.0165,
            48.669,
            8.6195,
            35.7211,
            39.9078,
            41.3148,
            38.0606,
            39.8362,
            42.4672,
            40.6546,
            44.9964,
            40.5608,
            41.6739,
            38.7646,
            37.3541,
            3.9339,
            35.9375,
            39.2587,
            41.8882,
            14.6415,
            37.6017,
            26.1901,
            26.663,
            32.8162,
            41.1489,
            43.0324,
            32.7957,
            45.7466,
            33.8999,
            40.9629,
            38.9108,
            21.307,
            42.3345,
            47.7425,
            34.3672,
            42.6953,
            37.2519,
            47.0676,
            36.1593
           ],
           "legendgroup": "",
           "lon": [
            138,
            101,
            103.8333,
            122,
            112.5,
            108,
            -102.5528,
            -51.9253,
            -74.2973,
            84.25,
            104.9167,
            81,
            151.2093,
            144.9631,
            -123.1207,
            26,
            54,
            153.4,
            78,
            12,
            90,
            16,
            9,
            138.6007,
            -4,
            -118.2437,
            -120.9876,
            4,
            -117.1611,
            30,
            53,
            139.638,
            -123.8695,
            -121.3542,
            35.8623,
            57,
            65,
            50.55,
            44,
            47.75,
            1.6596,
            15.2,
            8.2275,
            14.5501,
            35,
            69.3451,
            43.3569,
            21.8243,
            21.7453,
            8.4689,
            24.9668,
            25.0136,
            5.2913,
            12.4578,
            27.9534,
            -19.0208,
            23.8813,
            174.886,
            8.6753,
            115.8605,
            -7.6921,
            6.1296,
            7.4167,
            51.1839,
            -121.8339,
            -78.1834,
            47.5769,
            45.0382,
            -70.1627,
            -122.3321,
            -87.6976,
            113.9213,
            -8.2245,
            1.5218,
            145.9707,
            24.6032,
            -7.0926,
            45,
            -14.4524,
            -71.82600000000001,
            -82.3018,
            -120.8039,
            -122.3255,
            -122.9888,
            -118.7606,
            -84.3963,
            -123.1386,
            -63.6167,
            -71.543,
            36.51,
            -112.4291,
            -78.5661,
            -73.7949,
            31.1656,
            -117.8531,
            19.5033,
            130.8456,
            9.55,
            19.1451,
            9,
            -121.9018,
            17.6791,
            14.9955,
            -74.077,
            -95.3103,
            -122.4194,
            22.9375,
            -115.094,
            -95.8143,
            -119.3732,
            -86.9824,
            -86.8622,
            -74.006,
            -77.2405,
            -71.0589,
            -104.9903,
            -106.064,
            90.4336,
            11.5021,
            -83.7534,
            -75.0152,
            21.0059,
            19.699,
            0.8248,
            -79.1781,
            -75.3879,
            -96.1951,
            -84.4803,
            -86.1752,
            -71.2874,
            -73.5594,
            -93.0616,
            -119.6035,
            -75.2479,
            -121.9018,
            -121.9552,
            -53.1258,
            14.3754,
            -104.9389,
            -71.4774,
            -61.0242,
            -121.7195,
            -80.3659,
            -81.9535,
            -111.2845,
            -73.983,
            -73.936,
            -79.7848,
            -122.5194,
            -84.5641,
            -112.0953,
            -104.4723,
            -157.8584,
            -122.7647,
            -123.304,
            -80.5883,
            -121.6142,
            -119.6963,
            -122.1295,
            -95.941
           ],
           "marker": {
            "color": "#636efa"
           },
           "mode": "markers",
           "name": "",
           "showlegend": false,
           "subplot": "mapbox",
           "type": "scattermapbox"
          }
         ],
         "name": "03/07/2020"
        },
        {
         "data": [
          {
           "customdata": [
            [
             502,
             6,
             76
            ],
            [
             50,
             1,
             31
            ],
            [
             150,
             0,
             78
            ],
            [
             10,
             1,
             1
            ],
            [
             99,
             0,
             24
            ],
            [
             30,
             0,
             16
            ],
            [
             7,
             0,
             1
            ],
            [
             20,
             0,
             0
            ],
            [
             1,
             0,
             0
            ],
            [
             1,
             0,
             1
            ],
            [
             2,
             0,
             1
            ],
            [
             1,
             0,
             1
            ],
            [
             38,
             3,
             4
            ],
            [
             11,
             0,
             7
            ],
            [
             27,
             0,
             4
            ],
            [
             23,
             0,
             1
            ],
            [
             45,
             0,
             7
            ],
            [
             15,
             0,
             8
            ],
            [
             39,
             0,
             3
            ],
            [
             7375,
             366,
             622
            ],
            [
             17,
             0,
             3
            ],
            [
             203,
             0,
             0
            ],
            [
             1040,
             0,
             18
            ],
            [
             7,
             0,
             2
            ],
            [
             673,
             17,
             30
            ],
            [
             14,
             0,
             0
            ],
            [
             2,
             0,
             0
            ],
            [
             200,
             0,
             1
            ],
            [
             3,
             0,
             1
            ],
            [
             49,
             1,
             1
            ],
            [
             6566,
             194,
             2134
            ],
            [
             0,
             0,
             0
            ],
            [
             1,
             0,
             0
            ],
            [
             2,
             0,
             0
            ],
            [
             32,
             0,
             1
            ],
            [
             16,
             0,
             2
            ],
            [
             4,
             0,
             0
            ],
            [
             85,
             0,
             4
            ],
            [
             60,
             6,
             0
            ],
            [
             64,
             0,
             1
            ],
            [
             19,
             0,
             0
            ],
            [
             12,
             0,
             0
            ],
            [
             337,
             2,
             3
            ],
            [
             104,
             0,
             0
            ],
            [
             39,
             0,
             2
            ],
            [
             6,
             0,
             1
            ],
            [
             13,
             0,
             0
            ],
            [
             73,
             0,
             0
            ],
            [
             3,
             0,
             0
            ],
            [
             176,
             0,
             0
            ],
            [
             15,
             0,
             3
            ],
            [
             10,
             0,
             0
            ],
            [
             265,
             3,
             0
            ],
            [
             36,
             1,
             0
            ],
            [
             6,
             0,
             0
            ],
            [
             50,
             0,
             0
            ],
            [
             1,
             0,
             0
            ],
            [
             5,
             0,
             0
            ],
            [
             1,
             0,
             0
            ],
            [
             3,
             1,
             0
            ],
            [
             19,
             0,
             0
            ],
            [
             3,
             0,
             0
            ],
            [
             1,
             0,
             0
            ],
            [
             15,
             0,
             0
            ],
            [
             31,
             1,
             0
            ],
            [
             14,
             0,
             0
            ],
            [
             9,
             0,
             0
            ],
            [
             1,
             0,
             0
            ],
            [
             5,
             0,
             0
            ],
            [
             83,
             17,
             1
            ],
            [
             7,
             0,
             2
            ],
            [
             6,
             0,
             0
            ],
            [
             30,
             0,
             0
            ],
            [
             1,
             0,
             0
            ],
            [
             2,
             0,
             0
            ],
            [
             2,
             0,
             0
            ],
            [
             2,
             0,
             0
            ],
            [
             11,
             0,
             0
            ],
            [
             4,
             0,
             1
            ],
            [
             4,
             0,
             0
            ],
            [
             2,
             0,
             0
            ],
            [
             5,
             1,
             0
            ],
            [
             2,
             0,
             0
            ],
            [
             1,
             0,
             0
            ],
            [
             1,
             0,
             0
            ],
            [
             3,
             0,
             0
            ],
            [
             8,
             0,
             0
            ],
            [
             12,
             1,
             0
            ],
            [
             8,
             0,
             0
            ],
            [
             1,
             0,
             0
            ],
            [
             3,
             0,
             1
            ],
            [
             1,
             0,
             0
            ],
            [
             83,
             0,
             0
            ],
            [
             1,
             0,
             0
            ],
            [
             3,
             0,
             0
            ],
            [
             7,
             0,
             0
            ],
            [
             0,
             0,
             0
            ],
            [
             1,
             0,
             0
            ],
            [
             11,
             0,
             0
            ],
            [
             2,
             0,
             0
            ],
            [
             12,
             0,
             0
            ],
            [
             3,
             0,
             0
            ],
            [
             16,
             0,
             0
            ],
            [
             4,
             0,
             0
            ],
            [
             5,
             0,
             0
            ],
            [
             9,
             0,
             0
            ],
            [
             3,
             0,
             0
            ],
            [
             2,
             0,
             0
            ],
            [
             6,
             0,
             0
            ],
            [
             1,
             0,
             0
            ],
            [
             1,
             1,
             0
            ],
            [
             1,
             0,
             0
            ],
            [
             12,
             0,
             0
            ],
            [
             4,
             0,
             0
            ],
            [
             8,
             0,
             1
            ],
            [
             2,
             0,
             0
            ],
            [
             2,
             0,
             0
            ],
            [
             1,
             0,
             0
            ],
            [
             2,
             0,
             0
            ],
            [
             5,
             0,
             0
            ],
            [
             6,
             0,
             0
            ],
            [
             1,
             0,
             0
            ],
            [
             3,
             0,
             0
            ],
            [
             1,
             0,
             0
            ],
            [
             1,
             0,
             0
            ],
            [
             1,
             0,
             0
            ],
            [
             1,
             0,
             0
            ],
            [
             1,
             0,
             0
            ],
            [
             1,
             0,
             0
            ],
            [
             7,
             0,
             0
            ],
            [
             5,
             0,
             0
            ],
            [
             1,
             0,
             0
            ],
            [
             2,
             0,
             0
            ],
            [
             1,
             0,
             0
            ],
            [
             1,
             0,
             0
            ],
            [
             38,
             0,
             1
            ],
            [
             5,
             0,
             0
            ],
            [
             3,
             0,
             0
            ],
            [
             3,
             0,
             0
            ],
            [
             3,
             0,
             0
            ],
            [
             2,
             0,
             0
            ],
            [
             2,
             0,
             0
            ],
            [
             2,
             0,
             0
            ],
            [
             2,
             1,
             0
            ],
            [
             2,
             0,
             0
            ],
            [
             2,
             0,
             0
            ],
            [
             2,
             0,
             0
            ],
            [
             1,
             0,
             0
            ],
            [
             1,
             0,
             0
            ],
            [
             1,
             0,
             0
            ],
            [
             1,
             0,
             0
            ],
            [
             1,
             0,
             0
            ],
            [
             1,
             0,
             0
            ],
            [
             2,
             0,
             0
            ],
            [
             1,
             0,
             0
            ],
            [
             1,
             0,
             0
            ],
            [
             1,
             0,
             0
            ],
            [
             1,
             0,
             0
            ],
            [
             4,
             0,
             0
            ],
            [
             1,
             0,
             0
            ],
            [
             6,
             0,
             0
            ],
            [
             4,
             0,
             0
            ],
            [
             4,
             0,
             0
            ],
            [
             4,
             0,
             0
            ],
            [
             3,
             0,
             0
            ],
            [
             2,
             0,
             0
            ],
            [
             2,
             0,
             0
            ],
            [
             2,
             0,
             0
            ],
            [
             1,
             0,
             0
            ],
            [
             1,
             0,
             0
            ],
            [
             1,
             0,
             0
            ],
            [
             1,
             0,
             0
            ],
            [
             1,
             0,
             0
            ],
            [
             1,
             0,
             0
            ],
            [
             1,
             0,
             0
            ],
            [
             1,
             0,
             0
            ],
            [
             1,
             0,
             0
            ],
            [
             1,
             0,
             0
            ],
            [
             1,
             0,
             0
            ],
            [
             1,
             0,
             0
            ],
            [
             1,
             0,
             0
            ],
            [
             1,
             0,
             0
            ],
            [
             1,
             0,
             0
            ],
            [
             1,
             0,
             0
            ],
            [
             1,
             0,
             0
            ],
            [
             1,
             0,
             0
            ],
            [
             1,
             0,
             0
            ],
            [
             1,
             0,
             0
            ],
            [
             1,
             0,
             0
            ]
           ],
           "hoverlabel": {
            "namelength": 0
           },
           "hovertemplate": "<b>%{hovertext}</b><br><br>ObservationDate=03/08/2020<br>Confirmed=%{customdata[0]}<br>Deaths=%{customdata[1]}<br>Recovered=%{customdata[2]}<br>Lat=%{lat}<br>Long=%{lon}",
           "hovertext": [
            null,
            null,
            null,
            null,
            null,
            null,
            null,
            null,
            null,
            null,
            null,
            null,
            "New South Wales",
            "Victoria",
            "British Columbia",
            null,
            null,
            "Queensland",
            null,
            null,
            null,
            null,
            null,
            "South Australia",
            null,
            "Los Angeles, CA",
            "San Benito, CA",
            null,
            "San Diego County, CA",
            null,
            null,
            "From Diamond Princess",
            "Humboldt County, CA",
            "Sacramento County, CA",
            null,
            null,
            null,
            null,
            null,
            null,
            null,
            null,
            null,
            null,
            null,
            null,
            null,
            null,
            null,
            null,
            null,
            null,
            null,
            null,
            null,
            null,
            null,
            null,
            null,
            "Western Australia",
            null,
            null,
            null,
            null,
            "Snohomish County, WA",
            null,
            null,
            null,
            null,
            "King County, WA",
            "Cook County, IL",
            null,
            null,
            null,
            "Tasmania",
            null,
            null,
            null,
            null,
            "Grafton County, NH",
            "Hillsborough, FL",
            "Placer County, CA",
            "San Mateo, CA",
            "Sonoma County, CA",
            "Umatilla, OR",
            "Fulton County, GA",
            "Washington County, OR",
            null,
            null,
            null,
            "Maricopa County, AZ",
            "Wake County, NC",
            "Westchester County, NY",
            null,
            "Orange County, CA",
            null,
            "Northern Territory",
            null,
            null,
            null,
            "Contra Costa County, CA",
            null,
            null,
            "Bergen County, NJ",
            "Harris County, TX",
            "San Francisco County, CA",
            null,
            "Clark County, NV",
            "Fort Bend County, TX",
            "Grant County, WA",
            "Santa Rosa County, FL",
            "Williamson County, TN",
            "New York County, NY",
            "Montgomery County, MD",
            "Suffolk County, MA",
            "Denver County, CO",
            "Summit County, CO",
            null,
            null,
            null,
            null,
            null,
            null,
            null,
            "Chatham County, NC",
            "Delaware County, PA",
            "Douglas County, NE",
            "Fayette County, KY",
            "Marion County, IN",
            "Middlesex County, MA",
            "Nassau County, NY",
            "Ramsey County, MN",
            "Washoe County, NV",
            "Wayne County, PA",
            "Yolo County, CA",
            "Santa Clara County, CA",
            null,
            null,
            "Douglas County, CO",
            "Providence County, RI",
            null,
            "Alameda County, CA",
            "Broward County, FL",
            "Lee County, FL",
            "Pinal County, AZ",
            "Rockland County, NY",
            "Saratoga County, NY",
            "Charleston County, SC",
            "Clark County, WA",
            "Cobb County, GA",
            "Davis County, UT",
            "El Paso County, CO",
            "Honolulu County, HI",
            "Jackson County, OR ",
            "Jefferson County, WA",
            "Kershaw County, SC",
            "Klamath County, OR",
            "Madera County, CA",
            "Pierce County, WA",
            "Tulsa County, OK",
            "Norfolk County, MA",
            null,
            null,
            "Montgomery County, PA",
            null,
            "Fairfax County, VA",
            "Rockingham County, NH",
            "Washington, D.C.",
            null,
            null,
            "Berkshire County, MA",
            "Davidson County, TN",
            "Douglas County, OR",
            "Fresno County, CA",
            "Harford County, MD",
            "Hendricks County, IN",
            "Hudson County, NJ",
            "Johnson County, KS",
            "Kittitas County, WA",
            "Manatee County, FL",
            "Marion County, OR",
            "Okaloosa County, FL",
            "Polk County, GA",
            "Riverside County, CA",
            "Shelby County, TN",
            "St. Louis County, MO",
            "Suffolk County, NY",
            "Ulster County, NY",
            "Volusia County, FL"
           ],
           "lat": [
            36,
            15,
            1.2833,
            13,
            2.5,
            16,
            23.6345,
            -14.235,
            4.5709,
            28.1667,
            11.55,
            7,
            -33.8688,
            -37.8136,
            49.2827,
            64,
            24,
            -28.0167,
            21,
            43,
            60,
            63,
            51,
            -34.9285,
            40,
            34.0522,
            36.5761,
            50.8333,
            32.7157,
            26,
            32,
            35.4437,
            40.745,
            38.4747,
            33.8547,
            21,
            33,
            26.0275,
            33,
            29.5,
            28.0339,
            45.1,
            46.8182,
            47.5162,
            31,
            30.3753,
            42.3154,
            39.0742,
            41.6086,
            60.472,
            45.9432,
            58.5953,
            52.1326,
            43.9424,
            53.7098,
            64.9631,
            55.1694,
            -40.9006,
            9.082,
            -31.9505,
            53.1424,
            49.8153,
            43.7333,
            25.3548,
            48.033,
            -1.8312,
            40.1431,
            40.0691,
            18.7357,
            47.6062,
            41.7377,
            -0.7893,
            39.3999,
            42.5063,
            -41.4545,
            56.8796,
            31.7917,
            24,
            14.4974,
            43.9088,
            27.9904,
            39.0916,
            37.563,
            38.578,
            45.775,
            33.8034,
            45.547,
            -38.4161,
            -35.6751,
            31.24,
            33.2918,
            35.8032,
            41.122,
            48.3794,
            33.7879,
            47.1625,
            -12.4634,
            47.14,
            51.9194,
            34,
            37.8534,
            43.9159,
            46.1512,
            40.9263,
            29.7752,
            37.7749,
            -30.5595,
            36.0796,
            29.5693,
            47.1981,
            30.769000000000002,
            35.9179,
            40.7128,
            39.1547,
            42.3601,
            39.7392,
            39.5912,
            27.5142,
            3.8480000000000003,
            9.7489,
            -9.19,
            44.0165,
            48.669,
            8.6195,
            35.7211,
            39.9078,
            41.3148,
            38.0606,
            39.8362,
            42.4672,
            40.6546,
            44.9964,
            40.5608,
            41.6739,
            38.7646,
            37.3541,
            3.9339,
            35.9375,
            39.2587,
            41.8882,
            14.6415,
            37.6017,
            26.1901,
            26.663,
            32.8162,
            41.1489,
            43.0324,
            32.7957,
            45.7466,
            33.8999,
            40.9629,
            38.9108,
            21.307,
            42.3345,
            47.7425,
            34.3672,
            42.6953,
            37.2519,
            47.0676,
            36.1593,
            42.1767,
            42.7339,
            3.2028,
            40.229,
            23.685,
            38.9085,
            42.9931,
            38.9072,
            47.4116,
            -23.4425,
            42.3118,
            36.1343,
            43.1261,
            36.9859,
            39.5839,
            39.8065,
            40.7453,
            38.8454,
            47.175,
            27.4799,
            44.8446,
            30.5773,
            34.0132,
            33.9533,
            35.1269,
            38.6103,
            40.9849,
            41.8586,
            29.028000000000002
           ],
           "legendgroup": "",
           "lon": [
            138,
            101,
            103.8333,
            122,
            112.5,
            108,
            -102.5528,
            -51.9253,
            -74.2973,
            84.25,
            104.9167,
            81,
            151.2093,
            144.9631,
            -123.1207,
            26,
            54,
            153.4,
            78,
            12,
            90,
            16,
            9,
            138.6007,
            -4,
            -118.2437,
            -120.9876,
            4,
            -117.1611,
            30,
            53,
            139.638,
            -123.8695,
            -121.3542,
            35.8623,
            57,
            65,
            50.55,
            44,
            47.75,
            1.6596,
            15.2,
            8.2275,
            14.5501,
            35,
            69.3451,
            43.3569,
            21.8243,
            21.7453,
            8.4689,
            24.9668,
            25.0136,
            5.2913,
            12.4578,
            27.9534,
            -19.0208,
            23.8813,
            174.886,
            8.6753,
            115.8605,
            -7.6921,
            6.1296,
            7.4167,
            51.1839,
            -121.8339,
            -78.1834,
            47.5769,
            45.0382,
            -70.1627,
            -122.3321,
            -87.6976,
            113.9213,
            -8.2245,
            1.5218,
            145.9707,
            24.6032,
            -7.0926,
            45,
            -14.4524,
            -71.82600000000001,
            -82.3018,
            -120.8039,
            -122.3255,
            -122.9888,
            -118.7606,
            -84.3963,
            -123.1386,
            -63.6167,
            -71.543,
            36.51,
            -112.4291,
            -78.5661,
            -73.7949,
            31.1656,
            -117.8531,
            19.5033,
            130.8456,
            9.55,
            19.1451,
            9,
            -121.9018,
            17.6791,
            14.9955,
            -74.077,
            -95.3103,
            -122.4194,
            22.9375,
            -115.094,
            -95.8143,
            -119.3732,
            -86.9824,
            -86.8622,
            -74.006,
            -77.2405,
            -71.0589,
            -104.9903,
            -106.064,
            90.4336,
            11.5021,
            -83.7534,
            -75.0152,
            21.0059,
            19.699,
            0.8248,
            -79.1781,
            -75.3879,
            -96.1951,
            -84.4803,
            -86.1752,
            -71.2874,
            -73.5594,
            -93.0616,
            -119.6035,
            -75.2479,
            -121.9018,
            -121.9552,
            -53.1258,
            14.3754,
            -104.9389,
            -71.4774,
            -61.0242,
            -121.7195,
            -80.3659,
            -81.9535,
            -111.2845,
            -73.983,
            -73.936,
            -79.7848,
            -122.5194,
            -84.5641,
            -112.0953,
            -104.4723,
            -157.8584,
            -122.7647,
            -123.304,
            -80.5883,
            -121.6142,
            -119.6963,
            -122.1295,
            -95.941,
            -71.1449,
            25.4858,
            73.2207,
            -75.3879,
            90.3563,
            -77.2405,
            -71.0498,
            -77.0369,
            28.3699,
            -58.4438,
            -73.1822,
            -86.822,
            -123.2492,
            -119.2321,
            -76.3637,
            -86.5401,
            -74.0535,
            -94.8521,
            -120.9319,
            -82.3452,
            -122.5927,
            -86.6611,
            -85.1479,
            -117.3961,
            -89.9253,
            -90.4125,
            -72.6151,
            -74.3118,
            -81.0755
           ],
           "marker": {
            "color": "#636efa"
           },
           "mode": "markers",
           "name": "",
           "showlegend": false,
           "subplot": "mapbox",
           "type": "scattermapbox"
          }
         ],
         "name": "03/08/2020"
        },
        {
         "data": [
          {
           "customdata": [
            [
             511,
             17,
             76
            ],
            [
             50,
             1,
             31
            ],
            [
             150,
             0,
             78
            ],
            [
             20,
             1,
             1
            ],
            [
             117,
             0,
             24
            ],
            [
             30,
             0,
             16
            ],
            [
             7,
             0,
             1
            ],
            [
             25,
             0,
             0
            ],
            [
             1,
             0,
             0
            ],
            [
             1,
             0,
             1
            ],
            [
             34,
             0,
             4
            ],
            [
             2,
             0,
             1
            ],
            [
             1,
             0,
             1
            ],
            [
             48,
             3,
             4
            ],
            [
             15,
             0,
             7
            ],
            [
             32,
             1,
             4
            ],
            [
             30,
             0,
             1
            ],
            [
             45,
             0,
             7
            ],
            [
             15,
             0,
             8
            ],
            [
             43,
             0,
             3
            ],
            [
             9172,
             463,
             724
            ],
            [
             17,
             0,
             3
            ],
            [
             248,
             0,
             1
            ],
            [
             1176,
             2,
             18
            ],
            [
             7,
             0,
             2
            ],
            [
             1073,
             28,
             32
            ],
            [
             14,
             0,
             0
            ],
            [
             2,
             0,
             0
            ],
            [
             239,
             0,
             1
            ],
            [
             3,
             0,
             1
            ],
            [
             55,
             1,
             12
            ],
            [
             7161,
             237,
             2394
            ],
            [
             0,
             0,
             0
            ],
            [
             1,
             0,
             0
            ],
            [
             2,
             0,
             0
            ],
            [
             32,
             0,
             1
            ],
            [
             16,
             0,
             2
            ],
            [
             4,
             0,
             0
            ],
            [
             95,
             0,
             14
            ],
            [
             60,
             6,
             9
            ],
            [
             64,
             0,
             1
            ],
            [
             20,
             0,
             0
            ],
            [
             12,
             0,
             0
            ],
            [
             374,
             2,
             3
            ],
            [
             131,
             0,
             2
            ],
            [
             39,
             0,
             2
            ],
            [
             6,
             0,
             1
            ],
            [
             15,
             0,
             0
            ],
            [
             73,
             0,
             0
            ],
            [
             3,
             0,
             0
            ],
            [
             205,
             0,
             1
            ],
            [
             15,
             0,
             3
            ],
            [
             10,
             0,
             0
            ],
            [
             321,
             3,
             0
            ],
            [
             36,
             1,
             0
            ],
            [
             6,
             0,
             1
            ],
            [
             58,
             0,
             0
            ],
            [
             1,
             0,
             0
            ],
            [
             5,
             0,
             0
            ],
            [
             2,
             0,
             0
            ],
            [
             4,
             1,
             0
            ],
            [
             21,
             0,
             0
            ],
            [
             3,
             0,
             0
            ],
            [
             1,
             0,
             0
            ],
            [
             18,
             0,
             0
            ],
            [
             31,
             1,
             0
            ],
            [
             15,
             0,
             0
            ],
            [
             9,
             0,
             0
            ],
            [
             1,
             0,
             0
            ],
            [
             5,
             0,
             0
            ],
            [
             83,
             17,
             1
            ],
            [
             7,
             0,
             2
            ],
            [
             19,
             0,
             0
            ],
            [
             30,
             0,
             0
            ],
            [
             1,
             0,
             0
            ],
            [
             2,
             0,
             0
            ],
            [
             6,
             0,
             0
            ],
            [
             2,
             0,
             0
            ],
            [
             15,
             0,
             0
            ],
            [
             4,
             0,
             1
            ],
            [
             4,
             0,
             0
            ],
            [
             2,
             0,
             0
            ],
            [
             7,
             1,
             0
            ],
            [
             2,
             0,
             0
            ],
            [
             3,
             0,
             0
            ],
            [
             1,
             0,
             0
            ],
            [
             5,
             0,
             0
            ],
            [
             8,
             0,
             0
            ],
            [
             12,
             1,
             0
            ],
            [
             8,
             0,
             0
            ],
            [
             1,
             0,
             0
            ],
            [
             3,
             0,
             1
            ],
            [
             1,
             0,
             0
            ],
            [
             98,
             0,
             0
            ],
            [
             1,
             0,
             0
            ],
            [
             4,
             0,
             0
            ],
            [
             9,
             0,
             0
            ],
            [
             0,
             0,
             0
            ],
            [
             1,
             0,
             0
            ],
            [
             16,
             0,
             0
            ],
            [
             2,
             0,
             0
            ],
            [
             12,
             0,
             0
            ],
            [
             3,
             0,
             0
            ],
            [
             16,
             0,
             0
            ],
            [
             4,
             0,
             0
            ],
            [
             6,
             0,
             0
            ],
            [
             9,
             0,
             0
            ],
            [
             3,
             0,
             0
            ],
            [
             2,
             0,
             0
            ],
            [
             6,
             0,
             0
            ],
            [
             1,
             1,
             0
            ],
            [
             1,
             1,
             0
            ],
            [
             1,
             0,
             0
            ],
            [
             19,
             0,
             0
            ],
            [
             4,
             0,
             0
            ],
            [
             8,
             0,
             1
            ],
            [
             2,
             0,
             0
            ],
            [
             2,
             0,
             0
            ],
            [
             1,
             0,
             0
            ],
            [
             2,
             0,
             0
            ],
            [
             9,
             0,
             0
            ],
            [
             7,
             0,
             0
            ],
            [
             1,
             0,
             0
            ],
            [
             3,
             0,
             0
            ],
            [
             1,
             0,
             0
            ],
            [
             1,
             0,
             0
            ],
            [
             1,
             0,
             0
            ],
            [
             3,
             0,
             0
            ],
            [
             1,
             0,
             0
            ],
            [
             1,
             0,
             0
            ],
            [
             7,
             0,
             0
            ],
            [
             17,
             0,
             0
            ],
            [
             1,
             0,
             0
            ],
            [
             2,
             0,
             0
            ],
            [
             1,
             0,
             0
            ],
            [
             1,
             0,
             0
            ],
            [
             38,
             0,
             1
            ],
            [
             5,
             0,
             0
            ],
            [
             3,
             0,
             0
            ],
            [
             3,
             0,
             0
            ],
            [
             3,
             0,
             0
            ],
            [
             2,
             0,
             0
            ],
            [
             2,
             0,
             0
            ],
            [
             3,
             0,
             0
            ],
            [
             2,
             1,
             0
            ],
            [
             2,
             0,
             0
            ],
            [
             4,
             0,
             0
            ],
            [
             2,
             0,
             0
            ],
            [
             1,
             0,
             0
            ],
            [
             1,
             0,
             0
            ],
            [
             3,
             0,
             0
            ],
            [
             1,
             0,
             0
            ],
            [
             1,
             0,
             0
            ],
            [
             2,
             0,
             0
            ],
            [
             2,
             0,
             0
            ],
            [
             1,
             0,
             0
            ],
            [
             4,
             0,
             0
            ],
            [
             1,
             0,
             0
            ],
            [
             1,
             0,
             0
            ],
            [
             4,
             0,
             0
            ],
            [
             1,
             0,
             0
            ],
            [
             6,
             0,
             0
            ],
            [
             4,
             0,
             0
            ],
            [
             4,
             0,
             0
            ],
            [
             5,
             0,
             0
            ],
            [
             3,
             0,
             0
            ],
            [
             2,
             0,
             0
            ],
            [
             1,
             0,
             0
            ],
            [
             2,
             0,
             0
            ],
            [
             1,
             0,
             0
            ],
            [
             1,
             0,
             0
            ],
            [
             1,
             0,
             0
            ],
            [
             1,
             0,
             0
            ],
            [
             1,
             0,
             0
            ],
            [
             1,
             0,
             0
            ],
            [
             1,
             0,
             0
            ],
            [
             2,
             0,
             0
            ],
            [
             1,
             0,
             0
            ],
            [
             1,
             0,
             0
            ],
            [
             1,
             0,
             0
            ],
            [
             2,
             0,
             0
            ],
            [
             1,
             0,
             0
            ],
            [
             1,
             0,
             0
            ],
            [
             1,
             0,
             0
            ],
            [
             1,
             0,
             0
            ],
            [
             1,
             0,
             0
            ],
            [
             1,
             0,
             0
            ],
            [
             1,
             0,
             0
            ],
            [
             1,
             0,
             0
            ],
            [
             1,
             0,
             0
            ],
            [
             7,
             0,
             0
            ],
            [
             3,
             0,
             0
            ],
            [
             3,
             0,
             0
            ],
            [
             2,
             0,
             0
            ],
            [
             2,
             0,
             0
            ],
            [
             2,
             0,
             0
            ],
            [
             1,
             0,
             0
            ],
            [
             1,
             0,
             0
            ],
            [
             1,
             0,
             0
            ],
            [
             1,
             0,
             0
            ],
            [
             1,
             0,
             0
            ],
            [
             1,
             0,
             0
            ],
            [
             1,
             0,
             0
            ],
            [
             1,
             0,
             0
            ],
            [
             1,
             0,
             0
            ],
            [
             1,
             0,
             0
            ]
           ],
           "hoverlabel": {
            "namelength": 0
           },
           "hovertemplate": "<b>%{hovertext}</b><br><br>ObservationDate=03/09/2020<br>Confirmed=%{customdata[0]}<br>Deaths=%{customdata[1]}<br>Recovered=%{customdata[2]}<br>Lat=%{lat}<br>Long=%{lon}",
           "hovertext": [
            null,
            null,
            null,
            null,
            null,
            null,
            null,
            null,
            null,
            null,
            "Ontario",
            null,
            null,
            "New South Wales",
            "Victoria",
            "British Columbia",
            null,
            null,
            "Queensland",
            null,
            null,
            null,
            null,
            null,
            "South Australia",
            null,
            "Los Angeles, CA",
            "San Benito, CA",
            null,
            "San Diego County, CA",
            null,
            null,
            "From Diamond Princess",
            "Humboldt County, CA",
            "Sacramento County, CA",
            null,
            null,
            null,
            null,
            null,
            null,
            null,
            null,
            null,
            null,
            null,
            null,
            null,
            null,
            null,
            null,
            null,
            null,
            null,
            null,
            null,
            null,
            null,
            null,
            null,
            "Western Australia",
            null,
            null,
            null,
            null,
            "Snohomish County, WA",
            null,
            null,
            null,
            null,
            "King County, WA",
            "Cook County, IL",
            null,
            null,
            null,
            "Tasmania",
            null,
            null,
            null,
            null,
            "Grafton County, NH",
            "Hillsborough, FL",
            "Placer County, CA",
            "San Mateo, CA",
            "Sonoma County, CA",
            "Umatilla, OR",
            "Fulton County, GA",
            "Washington County, OR",
            null,
            null,
            null,
            "Maricopa County, AZ",
            "Wake County, NC",
            "Westchester County, NY",
            null,
            "Orange County, CA",
            null,
            "Northern Territory",
            null,
            null,
            null,
            "Contra Costa County, CA",
            null,
            null,
            "Bergen County, NJ",
            "Harris County, TX",
            "San Francisco County, CA",
            null,
            "Clark County, NV",
            "Fort Bend County, TX",
            "Grant County, WA",
            "Santa Rosa County, FL",
            "Williamson County, TN",
            "New York County, NY",
            "Montgomery County, MD",
            "Suffolk County, MA",
            "Denver County, CO",
            "Summit County, CO",
            null,
            null,
            null,
            null,
            null,
            null,
            null,
            "Chatham County, NC",
            "Delaware County, PA",
            "Douglas County, NE",
            "Fayette County, KY",
            "Marion County, IN",
            "Middlesex County, MA",
            "Nassau County, NY",
            "Ramsey County, MN",
            "Washoe County, NV",
            "Wayne County, PA",
            "Yolo County, CA",
            "Santa Clara County, CA",
            null,
            null,
            "Douglas County, CO",
            "Providence County, RI",
            null,
            "Alameda County, CA",
            "Broward County, FL",
            "Lee County, FL",
            "Pinal County, AZ",
            "Rockland County, NY",
            "Saratoga County, NY",
            "Charleston County, SC",
            "Clark County, WA",
            "Cobb County, GA",
            "Davis County, UT",
            "El Paso County, CO",
            "Honolulu County, HI",
            "Jackson County, OR ",
            "Jefferson County, WA",
            "Kershaw County, SC",
            "Klamath County, OR",
            "Madera County, CA",
            "Pierce County, WA",
            "Tulsa County, OK",
            "Norfolk County, MA",
            null,
            null,
            "Montgomery County, PA",
            null,
            "Fairfax County, VA",
            "Rockingham County, NH",
            "Washington, D.C.",
            null,
            null,
            "Berkshire County, MA",
            "Davidson County, TN",
            "Douglas County, OR",
            "Fresno County, CA",
            "Harford County, MD",
            "Hendricks County, IN",
            "Hudson County, NJ",
            "Johnson County, KS",
            "Kittitas County, WA",
            "Manatee County, FL",
            "Marion County, OR",
            "Okaloosa County, FL",
            "Polk County, GA",
            "Riverside County, CA",
            "Shelby County, TN",
            "St. Louis County, MO",
            "Suffolk County, NY",
            "Ulster County, NY",
            "Volusia County, FL",
            "Alberta",
            "Quebec",
            "Johnson County, IA",
            null,
            null,
            "Harrison County, KY",
            null,
            "Bennington County, VT",
            "Carver County, MN",
            "Charlotte County, FL",
            "Cherokee County, GA",
            "Collin County, TX",
            "Jefferson County, KY",
            "Jefferson Parish, LA",
            "Shasta County, CA",
            "Spartanburg County, SC"
           ],
           "lat": [
            36,
            15,
            1.2833,
            13,
            2.5,
            16,
            23.6345,
            -14.235,
            4.5709,
            28.1667,
            51.2538,
            11.55,
            7,
            -33.8688,
            -37.8136,
            49.2827,
            64,
            24,
            -28.0167,
            21,
            43,
            60,
            63,
            51,
            -34.9285,
            40,
            34.0522,
            36.5761,
            50.8333,
            32.7157,
            26,
            32,
            35.4437,
            40.745,
            38.4747,
            33.8547,
            21,
            33,
            26.0275,
            33,
            29.5,
            28.0339,
            45.1,
            46.8182,
            47.5162,
            31,
            30.3753,
            42.3154,
            39.0742,
            41.6086,
            60.472,
            45.9432,
            58.5953,
            52.1326,
            43.9424,
            53.7098,
            64.9631,
            55.1694,
            -40.9006,
            9.082,
            -31.9505,
            53.1424,
            49.8153,
            43.7333,
            25.3548,
            48.033,
            -1.8312,
            40.1431,
            40.0691,
            18.7357,
            47.6062,
            41.7377,
            -0.7893,
            39.3999,
            42.5063,
            -41.4545,
            56.8796,
            31.7917,
            24,
            14.4974,
            43.9088,
            27.9904,
            39.0916,
            37.563,
            38.578,
            45.775,
            33.8034,
            45.547,
            -38.4161,
            -35.6751,
            31.24,
            33.2918,
            35.8032,
            41.122,
            48.3794,
            33.7879,
            47.1625,
            -12.4634,
            47.14,
            51.9194,
            34,
            37.8534,
            43.9159,
            46.1512,
            40.9263,
            29.7752,
            37.7749,
            -30.5595,
            36.0796,
            29.5693,
            47.1981,
            30.769000000000002,
            35.9179,
            40.7128,
            39.1547,
            42.3601,
            39.7392,
            39.5912,
            27.5142,
            3.8480000000000003,
            9.7489,
            -9.19,
            44.0165,
            48.669,
            8.6195,
            35.7211,
            39.9078,
            41.3148,
            38.0606,
            39.8362,
            42.4672,
            40.6546,
            44.9964,
            40.5608,
            41.6739,
            38.7646,
            37.3541,
            3.9339,
            35.9375,
            39.2587,
            41.8882,
            14.6415,
            37.6017,
            26.1901,
            26.663,
            32.8162,
            41.1489,
            43.0324,
            32.7957,
            45.7466,
            33.8999,
            40.9629,
            38.9108,
            21.307,
            42.3345,
            47.7425,
            34.3672,
            42.6953,
            37.2519,
            47.0676,
            36.1593,
            42.1767,
            42.7339,
            3.2028,
            40.229,
            23.685,
            38.9085,
            42.9931,
            38.9072,
            47.4116,
            -23.4425,
            42.3118,
            36.1343,
            43.1261,
            36.9859,
            39.5839,
            39.8065,
            40.7453,
            38.8454,
            47.175,
            27.4799,
            44.8446,
            30.5773,
            34.0132,
            33.9533,
            35.1269,
            38.6103,
            40.9849,
            41.8586,
            29.028000000000002,
            53.9333,
            52.9399,
            41.6699,
            41.1533,
            35.1264,
            38.4333,
            4.5353,
            43.0279,
            44.8254,
            26.8946,
            34.2515,
            33.1795,
            38.1938,
            29.6499,
            40.7909,
            34.8606
           ],
           "legendgroup": "",
           "lon": [
            138,
            101,
            103.8333,
            122,
            112.5,
            108,
            -102.5528,
            -51.9253,
            -74.2973,
            84.25,
            -85.3232,
            104.9167,
            81,
            151.2093,
            144.9631,
            -123.1207,
            26,
            54,
            153.4,
            78,
            12,
            90,
            16,
            9,
            138.6007,
            -4,
            -118.2437,
            -120.9876,
            4,
            -117.1611,
            30,
            53,
            139.638,
            -123.8695,
            -121.3542,
            35.8623,
            57,
            65,
            50.55,
            44,
            47.75,
            1.6596,
            15.2,
            8.2275,
            14.5501,
            35,
            69.3451,
            43.3569,
            21.8243,
            21.7453,
            8.4689,
            24.9668,
            25.0136,
            5.2913,
            12.4578,
            27.9534,
            -19.0208,
            23.8813,
            174.886,
            8.6753,
            115.8605,
            -7.6921,
            6.1296,
            7.4167,
            51.1839,
            -121.8339,
            -78.1834,
            47.5769,
            45.0382,
            -70.1627,
            -122.3321,
            -87.6976,
            113.9213,
            -8.2245,
            1.5218,
            145.9707,
            24.6032,
            -7.0926,
            45,
            -14.4524,
            -71.82600000000001,
            -82.3018,
            -120.8039,
            -122.3255,
            -122.9888,
            -118.7606,
            -84.3963,
            -123.1386,
            -63.6167,
            -71.543,
            36.51,
            -112.4291,
            -78.5661,
            -73.7949,
            31.1656,
            -117.8531,
            19.5033,
            130.8456,
            9.55,
            19.1451,
            9,
            -121.9018,
            17.6791,
            14.9955,
            -74.077,
            -95.3103,
            -122.4194,
            22.9375,
            -115.094,
            -95.8143,
            -119.3732,
            -86.9824,
            -86.8622,
            -74.006,
            -77.2405,
            -71.0589,
            -104.9903,
            -106.064,
            90.4336,
            11.5021,
            -83.7534,
            -75.0152,
            21.0059,
            19.699,
            0.8248,
            -79.1781,
            -75.3879,
            -96.1951,
            -84.4803,
            -86.1752,
            -71.2874,
            -73.5594,
            -93.0616,
            -119.6035,
            -75.2479,
            -121.9018,
            -121.9552,
            -53.1258,
            14.3754,
            -104.9389,
            -71.4774,
            -61.0242,
            -121.7195,
            -80.3659,
            -81.9535,
            -111.2845,
            -73.983,
            -73.936,
            -79.7848,
            -122.5194,
            -84.5641,
            -112.0953,
            -104.4723,
            -157.8584,
            -122.7647,
            -123.304,
            -80.5883,
            -121.6142,
            -119.6963,
            -122.1295,
            -95.941,
            -71.1449,
            25.4858,
            73.2207,
            -75.3879,
            90.3563,
            -77.2405,
            -71.0498,
            -77.0369,
            28.3699,
            -58.4438,
            -73.1822,
            -86.822,
            -123.2492,
            -119.2321,
            -76.3637,
            -86.5401,
            -74.0535,
            -94.8521,
            -120.9319,
            -82.3452,
            -122.5927,
            -86.6611,
            -85.1479,
            -117.3961,
            -89.9253,
            -90.4125,
            -72.6151,
            -74.3118,
            -81.0755,
            -116.5765,
            -73.5491,
            -91.5984,
            20.1683,
            33.4299,
            -84.3542,
            114.7277,
            -73.135,
            -93.7842,
            -81.9098,
            -84.4803,
            -96.493,
            -85.6435,
            -90.1121,
            -121.8474,
            -81.9535
           ],
           "marker": {
            "color": "#636efa"
           },
           "mode": "markers",
           "name": "",
           "showlegend": false,
           "subplot": "mapbox",
           "type": "scattermapbox"
          }
         ],
         "name": "03/09/2020"
        }
       ],
       "layout": {
        "height": 700,
        "legend": {
         "tracegroupgap": 0
        },
        "mapbox": {
         "center": {
          "lat": 27.492542949756725,
          "lon": 0
         },
         "domain": {
          "x": [
           0,
           1
          ],
          "y": [
           0,
           1
          ]
         },
         "style": "open-street-map",
         "zoom": 2
        },
        "margin": {
         "b": 0,
         "l": 0,
         "r": 0,
         "t": 0
        },
        "sliders": [
         {
          "active": 0,
          "currentvalue": {
           "prefix": "ObservationDate="
          },
          "len": 0.9,
          "pad": {
           "b": 10,
           "t": 60
          },
          "steps": [
           {
            "args": [
             [
              "01/22/2020"
             ],
             {
              "frame": {
               "duration": 0,
               "redraw": true
              },
              "fromcurrent": true,
              "mode": "immediate",
              "transition": {
               "duration": 0,
               "easing": "linear"
              }
             }
            ],
            "label": "01/22/2020",
            "method": "animate"
           },
           {
            "args": [
             [
              "01/23/2020"
             ],
             {
              "frame": {
               "duration": 0,
               "redraw": true
              },
              "fromcurrent": true,
              "mode": "immediate",
              "transition": {
               "duration": 0,
               "easing": "linear"
              }
             }
            ],
            "label": "01/23/2020",
            "method": "animate"
           },
           {
            "args": [
             [
              "01/24/2020"
             ],
             {
              "frame": {
               "duration": 0,
               "redraw": true
              },
              "fromcurrent": true,
              "mode": "immediate",
              "transition": {
               "duration": 0,
               "easing": "linear"
              }
             }
            ],
            "label": "01/24/2020",
            "method": "animate"
           },
           {
            "args": [
             [
              "01/25/2020"
             ],
             {
              "frame": {
               "duration": 0,
               "redraw": true
              },
              "fromcurrent": true,
              "mode": "immediate",
              "transition": {
               "duration": 0,
               "easing": "linear"
              }
             }
            ],
            "label": "01/25/2020",
            "method": "animate"
           },
           {
            "args": [
             [
              "01/26/2020"
             ],
             {
              "frame": {
               "duration": 0,
               "redraw": true
              },
              "fromcurrent": true,
              "mode": "immediate",
              "transition": {
               "duration": 0,
               "easing": "linear"
              }
             }
            ],
            "label": "01/26/2020",
            "method": "animate"
           },
           {
            "args": [
             [
              "01/27/2020"
             ],
             {
              "frame": {
               "duration": 0,
               "redraw": true
              },
              "fromcurrent": true,
              "mode": "immediate",
              "transition": {
               "duration": 0,
               "easing": "linear"
              }
             }
            ],
            "label": "01/27/2020",
            "method": "animate"
           },
           {
            "args": [
             [
              "01/28/2020"
             ],
             {
              "frame": {
               "duration": 0,
               "redraw": true
              },
              "fromcurrent": true,
              "mode": "immediate",
              "transition": {
               "duration": 0,
               "easing": "linear"
              }
             }
            ],
            "label": "01/28/2020",
            "method": "animate"
           },
           {
            "args": [
             [
              "01/29/2020"
             ],
             {
              "frame": {
               "duration": 0,
               "redraw": true
              },
              "fromcurrent": true,
              "mode": "immediate",
              "transition": {
               "duration": 0,
               "easing": "linear"
              }
             }
            ],
            "label": "01/29/2020",
            "method": "animate"
           },
           {
            "args": [
             [
              "01/30/2020"
             ],
             {
              "frame": {
               "duration": 0,
               "redraw": true
              },
              "fromcurrent": true,
              "mode": "immediate",
              "transition": {
               "duration": 0,
               "easing": "linear"
              }
             }
            ],
            "label": "01/30/2020",
            "method": "animate"
           },
           {
            "args": [
             [
              "01/31/2020"
             ],
             {
              "frame": {
               "duration": 0,
               "redraw": true
              },
              "fromcurrent": true,
              "mode": "immediate",
              "transition": {
               "duration": 0,
               "easing": "linear"
              }
             }
            ],
            "label": "01/31/2020",
            "method": "animate"
           },
           {
            "args": [
             [
              "03/10/2020"
             ],
             {
              "frame": {
               "duration": 0,
               "redraw": true
              },
              "fromcurrent": true,
              "mode": "immediate",
              "transition": {
               "duration": 0,
               "easing": "linear"
              }
             }
            ],
            "label": "03/10/2020",
            "method": "animate"
           },
           {
            "args": [
             [
              "03/11/2020"
             ],
             {
              "frame": {
               "duration": 0,
               "redraw": true
              },
              "fromcurrent": true,
              "mode": "immediate",
              "transition": {
               "duration": 0,
               "easing": "linear"
              }
             }
            ],
            "label": "03/11/2020",
            "method": "animate"
           },
           {
            "args": [
             [
              "03/12/2020"
             ],
             {
              "frame": {
               "duration": 0,
               "redraw": true
              },
              "fromcurrent": true,
              "mode": "immediate",
              "transition": {
               "duration": 0,
               "easing": "linear"
              }
             }
            ],
            "label": "03/12/2020",
            "method": "animate"
           },
           {
            "args": [
             [
              "03/13/2020"
             ],
             {
              "frame": {
               "duration": 0,
               "redraw": true
              },
              "fromcurrent": true,
              "mode": "immediate",
              "transition": {
               "duration": 0,
               "easing": "linear"
              }
             }
            ],
            "label": "03/13/2020",
            "method": "animate"
           },
           {
            "args": [
             [
              "03/14/2020"
             ],
             {
              "frame": {
               "duration": 0,
               "redraw": true
              },
              "fromcurrent": true,
              "mode": "immediate",
              "transition": {
               "duration": 0,
               "easing": "linear"
              }
             }
            ],
            "label": "03/14/2020",
            "method": "animate"
           },
           {
            "args": [
             [
              "02/01/2020"
             ],
             {
              "frame": {
               "duration": 0,
               "redraw": true
              },
              "fromcurrent": true,
              "mode": "immediate",
              "transition": {
               "duration": 0,
               "easing": "linear"
              }
             }
            ],
            "label": "02/01/2020",
            "method": "animate"
           },
           {
            "args": [
             [
              "02/02/2020"
             ],
             {
              "frame": {
               "duration": 0,
               "redraw": true
              },
              "fromcurrent": true,
              "mode": "immediate",
              "transition": {
               "duration": 0,
               "easing": "linear"
              }
             }
            ],
            "label": "02/02/2020",
            "method": "animate"
           },
           {
            "args": [
             [
              "02/03/2020"
             ],
             {
              "frame": {
               "duration": 0,
               "redraw": true
              },
              "fromcurrent": true,
              "mode": "immediate",
              "transition": {
               "duration": 0,
               "easing": "linear"
              }
             }
            ],
            "label": "02/03/2020",
            "method": "animate"
           },
           {
            "args": [
             [
              "02/04/2020"
             ],
             {
              "frame": {
               "duration": 0,
               "redraw": true
              },
              "fromcurrent": true,
              "mode": "immediate",
              "transition": {
               "duration": 0,
               "easing": "linear"
              }
             }
            ],
            "label": "02/04/2020",
            "method": "animate"
           },
           {
            "args": [
             [
              "02/05/2020"
             ],
             {
              "frame": {
               "duration": 0,
               "redraw": true
              },
              "fromcurrent": true,
              "mode": "immediate",
              "transition": {
               "duration": 0,
               "easing": "linear"
              }
             }
            ],
            "label": "02/05/2020",
            "method": "animate"
           },
           {
            "args": [
             [
              "02/06/2020"
             ],
             {
              "frame": {
               "duration": 0,
               "redraw": true
              },
              "fromcurrent": true,
              "mode": "immediate",
              "transition": {
               "duration": 0,
               "easing": "linear"
              }
             }
            ],
            "label": "02/06/2020",
            "method": "animate"
           },
           {
            "args": [
             [
              "02/07/2020"
             ],
             {
              "frame": {
               "duration": 0,
               "redraw": true
              },
              "fromcurrent": true,
              "mode": "immediate",
              "transition": {
               "duration": 0,
               "easing": "linear"
              }
             }
            ],
            "label": "02/07/2020",
            "method": "animate"
           },
           {
            "args": [
             [
              "02/08/2020"
             ],
             {
              "frame": {
               "duration": 0,
               "redraw": true
              },
              "fromcurrent": true,
              "mode": "immediate",
              "transition": {
               "duration": 0,
               "easing": "linear"
              }
             }
            ],
            "label": "02/08/2020",
            "method": "animate"
           },
           {
            "args": [
             [
              "02/09/2020"
             ],
             {
              "frame": {
               "duration": 0,
               "redraw": true
              },
              "fromcurrent": true,
              "mode": "immediate",
              "transition": {
               "duration": 0,
               "easing": "linear"
              }
             }
            ],
            "label": "02/09/2020",
            "method": "animate"
           },
           {
            "args": [
             [
              "02/10/2020"
             ],
             {
              "frame": {
               "duration": 0,
               "redraw": true
              },
              "fromcurrent": true,
              "mode": "immediate",
              "transition": {
               "duration": 0,
               "easing": "linear"
              }
             }
            ],
            "label": "02/10/2020",
            "method": "animate"
           },
           {
            "args": [
             [
              "02/11/2020"
             ],
             {
              "frame": {
               "duration": 0,
               "redraw": true
              },
              "fromcurrent": true,
              "mode": "immediate",
              "transition": {
               "duration": 0,
               "easing": "linear"
              }
             }
            ],
            "label": "02/11/2020",
            "method": "animate"
           },
           {
            "args": [
             [
              "02/12/2020"
             ],
             {
              "frame": {
               "duration": 0,
               "redraw": true
              },
              "fromcurrent": true,
              "mode": "immediate",
              "transition": {
               "duration": 0,
               "easing": "linear"
              }
             }
            ],
            "label": "02/12/2020",
            "method": "animate"
           },
           {
            "args": [
             [
              "02/13/2020"
             ],
             {
              "frame": {
               "duration": 0,
               "redraw": true
              },
              "fromcurrent": true,
              "mode": "immediate",
              "transition": {
               "duration": 0,
               "easing": "linear"
              }
             }
            ],
            "label": "02/13/2020",
            "method": "animate"
           },
           {
            "args": [
             [
              "02/14/2020"
             ],
             {
              "frame": {
               "duration": 0,
               "redraw": true
              },
              "fromcurrent": true,
              "mode": "immediate",
              "transition": {
               "duration": 0,
               "easing": "linear"
              }
             }
            ],
            "label": "02/14/2020",
            "method": "animate"
           },
           {
            "args": [
             [
              "02/15/2020"
             ],
             {
              "frame": {
               "duration": 0,
               "redraw": true
              },
              "fromcurrent": true,
              "mode": "immediate",
              "transition": {
               "duration": 0,
               "easing": "linear"
              }
             }
            ],
            "label": "02/15/2020",
            "method": "animate"
           },
           {
            "args": [
             [
              "02/16/2020"
             ],
             {
              "frame": {
               "duration": 0,
               "redraw": true
              },
              "fromcurrent": true,
              "mode": "immediate",
              "transition": {
               "duration": 0,
               "easing": "linear"
              }
             }
            ],
            "label": "02/16/2020",
            "method": "animate"
           },
           {
            "args": [
             [
              "02/17/2020"
             ],
             {
              "frame": {
               "duration": 0,
               "redraw": true
              },
              "fromcurrent": true,
              "mode": "immediate",
              "transition": {
               "duration": 0,
               "easing": "linear"
              }
             }
            ],
            "label": "02/17/2020",
            "method": "animate"
           },
           {
            "args": [
             [
              "02/18/2020"
             ],
             {
              "frame": {
               "duration": 0,
               "redraw": true
              },
              "fromcurrent": true,
              "mode": "immediate",
              "transition": {
               "duration": 0,
               "easing": "linear"
              }
             }
            ],
            "label": "02/18/2020",
            "method": "animate"
           },
           {
            "args": [
             [
              "02/19/2020"
             ],
             {
              "frame": {
               "duration": 0,
               "redraw": true
              },
              "fromcurrent": true,
              "mode": "immediate",
              "transition": {
               "duration": 0,
               "easing": "linear"
              }
             }
            ],
            "label": "02/19/2020",
            "method": "animate"
           },
           {
            "args": [
             [
              "02/20/2020"
             ],
             {
              "frame": {
               "duration": 0,
               "redraw": true
              },
              "fromcurrent": true,
              "mode": "immediate",
              "transition": {
               "duration": 0,
               "easing": "linear"
              }
             }
            ],
            "label": "02/20/2020",
            "method": "animate"
           },
           {
            "args": [
             [
              "02/21/2020"
             ],
             {
              "frame": {
               "duration": 0,
               "redraw": true
              },
              "fromcurrent": true,
              "mode": "immediate",
              "transition": {
               "duration": 0,
               "easing": "linear"
              }
             }
            ],
            "label": "02/21/2020",
            "method": "animate"
           },
           {
            "args": [
             [
              "02/22/2020"
             ],
             {
              "frame": {
               "duration": 0,
               "redraw": true
              },
              "fromcurrent": true,
              "mode": "immediate",
              "transition": {
               "duration": 0,
               "easing": "linear"
              }
             }
            ],
            "label": "02/22/2020",
            "method": "animate"
           },
           {
            "args": [
             [
              "02/23/2020"
             ],
             {
              "frame": {
               "duration": 0,
               "redraw": true
              },
              "fromcurrent": true,
              "mode": "immediate",
              "transition": {
               "duration": 0,
               "easing": "linear"
              }
             }
            ],
            "label": "02/23/2020",
            "method": "animate"
           },
           {
            "args": [
             [
              "02/24/2020"
             ],
             {
              "frame": {
               "duration": 0,
               "redraw": true
              },
              "fromcurrent": true,
              "mode": "immediate",
              "transition": {
               "duration": 0,
               "easing": "linear"
              }
             }
            ],
            "label": "02/24/2020",
            "method": "animate"
           },
           {
            "args": [
             [
              "02/25/2020"
             ],
             {
              "frame": {
               "duration": 0,
               "redraw": true
              },
              "fromcurrent": true,
              "mode": "immediate",
              "transition": {
               "duration": 0,
               "easing": "linear"
              }
             }
            ],
            "label": "02/25/2020",
            "method": "animate"
           },
           {
            "args": [
             [
              "02/26/2020"
             ],
             {
              "frame": {
               "duration": 0,
               "redraw": true
              },
              "fromcurrent": true,
              "mode": "immediate",
              "transition": {
               "duration": 0,
               "easing": "linear"
              }
             }
            ],
            "label": "02/26/2020",
            "method": "animate"
           },
           {
            "args": [
             [
              "02/27/2020"
             ],
             {
              "frame": {
               "duration": 0,
               "redraw": true
              },
              "fromcurrent": true,
              "mode": "immediate",
              "transition": {
               "duration": 0,
               "easing": "linear"
              }
             }
            ],
            "label": "02/27/2020",
            "method": "animate"
           },
           {
            "args": [
             [
              "02/28/2020"
             ],
             {
              "frame": {
               "duration": 0,
               "redraw": true
              },
              "fromcurrent": true,
              "mode": "immediate",
              "transition": {
               "duration": 0,
               "easing": "linear"
              }
             }
            ],
            "label": "02/28/2020",
            "method": "animate"
           },
           {
            "args": [
             [
              "02/29/2020"
             ],
             {
              "frame": {
               "duration": 0,
               "redraw": true
              },
              "fromcurrent": true,
              "mode": "immediate",
              "transition": {
               "duration": 0,
               "easing": "linear"
              }
             }
            ],
            "label": "02/29/2020",
            "method": "animate"
           },
           {
            "args": [
             [
              "03/01/2020"
             ],
             {
              "frame": {
               "duration": 0,
               "redraw": true
              },
              "fromcurrent": true,
              "mode": "immediate",
              "transition": {
               "duration": 0,
               "easing": "linear"
              }
             }
            ],
            "label": "03/01/2020",
            "method": "animate"
           },
           {
            "args": [
             [
              "03/02/2020"
             ],
             {
              "frame": {
               "duration": 0,
               "redraw": true
              },
              "fromcurrent": true,
              "mode": "immediate",
              "transition": {
               "duration": 0,
               "easing": "linear"
              }
             }
            ],
            "label": "03/02/2020",
            "method": "animate"
           },
           {
            "args": [
             [
              "03/03/2020"
             ],
             {
              "frame": {
               "duration": 0,
               "redraw": true
              },
              "fromcurrent": true,
              "mode": "immediate",
              "transition": {
               "duration": 0,
               "easing": "linear"
              }
             }
            ],
            "label": "03/03/2020",
            "method": "animate"
           },
           {
            "args": [
             [
              "03/04/2020"
             ],
             {
              "frame": {
               "duration": 0,
               "redraw": true
              },
              "fromcurrent": true,
              "mode": "immediate",
              "transition": {
               "duration": 0,
               "easing": "linear"
              }
             }
            ],
            "label": "03/04/2020",
            "method": "animate"
           },
           {
            "args": [
             [
              "03/05/2020"
             ],
             {
              "frame": {
               "duration": 0,
               "redraw": true
              },
              "fromcurrent": true,
              "mode": "immediate",
              "transition": {
               "duration": 0,
               "easing": "linear"
              }
             }
            ],
            "label": "03/05/2020",
            "method": "animate"
           },
           {
            "args": [
             [
              "03/06/2020"
             ],
             {
              "frame": {
               "duration": 0,
               "redraw": true
              },
              "fromcurrent": true,
              "mode": "immediate",
              "transition": {
               "duration": 0,
               "easing": "linear"
              }
             }
            ],
            "label": "03/06/2020",
            "method": "animate"
           },
           {
            "args": [
             [
              "03/07/2020"
             ],
             {
              "frame": {
               "duration": 0,
               "redraw": true
              },
              "fromcurrent": true,
              "mode": "immediate",
              "transition": {
               "duration": 0,
               "easing": "linear"
              }
             }
            ],
            "label": "03/07/2020",
            "method": "animate"
           },
           {
            "args": [
             [
              "03/08/2020"
             ],
             {
              "frame": {
               "duration": 0,
               "redraw": true
              },
              "fromcurrent": true,
              "mode": "immediate",
              "transition": {
               "duration": 0,
               "easing": "linear"
              }
             }
            ],
            "label": "03/08/2020",
            "method": "animate"
           },
           {
            "args": [
             [
              "03/09/2020"
             ],
             {
              "frame": {
               "duration": 0,
               "redraw": true
              },
              "fromcurrent": true,
              "mode": "immediate",
              "transition": {
               "duration": 0,
               "easing": "linear"
              }
             }
            ],
            "label": "03/09/2020",
            "method": "animate"
           }
          ],
          "x": 0.1,
          "xanchor": "left",
          "y": 0,
          "yanchor": "top"
         }
        ],
        "template": {
         "data": {
          "bar": [
           {
            "error_x": {
             "color": "#2a3f5f"
            },
            "error_y": {
             "color": "#2a3f5f"
            },
            "marker": {
             "line": {
              "color": "#E5ECF6",
              "width": 0.5
             }
            },
            "type": "bar"
           }
          ],
          "barpolar": [
           {
            "marker": {
             "line": {
              "color": "#E5ECF6",
              "width": 0.5
             }
            },
            "type": "barpolar"
           }
          ],
          "carpet": [
           {
            "aaxis": {
             "endlinecolor": "#2a3f5f",
             "gridcolor": "white",
             "linecolor": "white",
             "minorgridcolor": "white",
             "startlinecolor": "#2a3f5f"
            },
            "baxis": {
             "endlinecolor": "#2a3f5f",
             "gridcolor": "white",
             "linecolor": "white",
             "minorgridcolor": "white",
             "startlinecolor": "#2a3f5f"
            },
            "type": "carpet"
           }
          ],
          "choropleth": [
           {
            "colorbar": {
             "outlinewidth": 0,
             "ticks": ""
            },
            "type": "choropleth"
           }
          ],
          "contour": [
           {
            "colorbar": {
             "outlinewidth": 0,
             "ticks": ""
            },
            "colorscale": [
             [
              0,
              "#0d0887"
             ],
             [
              0.1111111111111111,
              "#46039f"
             ],
             [
              0.2222222222222222,
              "#7201a8"
             ],
             [
              0.3333333333333333,
              "#9c179e"
             ],
             [
              0.4444444444444444,
              "#bd3786"
             ],
             [
              0.5555555555555556,
              "#d8576b"
             ],
             [
              0.6666666666666666,
              "#ed7953"
             ],
             [
              0.7777777777777778,
              "#fb9f3a"
             ],
             [
              0.8888888888888888,
              "#fdca26"
             ],
             [
              1,
              "#f0f921"
             ]
            ],
            "type": "contour"
           }
          ],
          "contourcarpet": [
           {
            "colorbar": {
             "outlinewidth": 0,
             "ticks": ""
            },
            "type": "contourcarpet"
           }
          ],
          "heatmap": [
           {
            "colorbar": {
             "outlinewidth": 0,
             "ticks": ""
            },
            "colorscale": [
             [
              0,
              "#0d0887"
             ],
             [
              0.1111111111111111,
              "#46039f"
             ],
             [
              0.2222222222222222,
              "#7201a8"
             ],
             [
              0.3333333333333333,
              "#9c179e"
             ],
             [
              0.4444444444444444,
              "#bd3786"
             ],
             [
              0.5555555555555556,
              "#d8576b"
             ],
             [
              0.6666666666666666,
              "#ed7953"
             ],
             [
              0.7777777777777778,
              "#fb9f3a"
             ],
             [
              0.8888888888888888,
              "#fdca26"
             ],
             [
              1,
              "#f0f921"
             ]
            ],
            "type": "heatmap"
           }
          ],
          "heatmapgl": [
           {
            "colorbar": {
             "outlinewidth": 0,
             "ticks": ""
            },
            "colorscale": [
             [
              0,
              "#0d0887"
             ],
             [
              0.1111111111111111,
              "#46039f"
             ],
             [
              0.2222222222222222,
              "#7201a8"
             ],
             [
              0.3333333333333333,
              "#9c179e"
             ],
             [
              0.4444444444444444,
              "#bd3786"
             ],
             [
              0.5555555555555556,
              "#d8576b"
             ],
             [
              0.6666666666666666,
              "#ed7953"
             ],
             [
              0.7777777777777778,
              "#fb9f3a"
             ],
             [
              0.8888888888888888,
              "#fdca26"
             ],
             [
              1,
              "#f0f921"
             ]
            ],
            "type": "heatmapgl"
           }
          ],
          "histogram": [
           {
            "marker": {
             "colorbar": {
              "outlinewidth": 0,
              "ticks": ""
             }
            },
            "type": "histogram"
           }
          ],
          "histogram2d": [
           {
            "colorbar": {
             "outlinewidth": 0,
             "ticks": ""
            },
            "colorscale": [
             [
              0,
              "#0d0887"
             ],
             [
              0.1111111111111111,
              "#46039f"
             ],
             [
              0.2222222222222222,
              "#7201a8"
             ],
             [
              0.3333333333333333,
              "#9c179e"
             ],
             [
              0.4444444444444444,
              "#bd3786"
             ],
             [
              0.5555555555555556,
              "#d8576b"
             ],
             [
              0.6666666666666666,
              "#ed7953"
             ],
             [
              0.7777777777777778,
              "#fb9f3a"
             ],
             [
              0.8888888888888888,
              "#fdca26"
             ],
             [
              1,
              "#f0f921"
             ]
            ],
            "type": "histogram2d"
           }
          ],
          "histogram2dcontour": [
           {
            "colorbar": {
             "outlinewidth": 0,
             "ticks": ""
            },
            "colorscale": [
             [
              0,
              "#0d0887"
             ],
             [
              0.1111111111111111,
              "#46039f"
             ],
             [
              0.2222222222222222,
              "#7201a8"
             ],
             [
              0.3333333333333333,
              "#9c179e"
             ],
             [
              0.4444444444444444,
              "#bd3786"
             ],
             [
              0.5555555555555556,
              "#d8576b"
             ],
             [
              0.6666666666666666,
              "#ed7953"
             ],
             [
              0.7777777777777778,
              "#fb9f3a"
             ],
             [
              0.8888888888888888,
              "#fdca26"
             ],
             [
              1,
              "#f0f921"
             ]
            ],
            "type": "histogram2dcontour"
           }
          ],
          "mesh3d": [
           {
            "colorbar": {
             "outlinewidth": 0,
             "ticks": ""
            },
            "type": "mesh3d"
           }
          ],
          "parcoords": [
           {
            "line": {
             "colorbar": {
              "outlinewidth": 0,
              "ticks": ""
             }
            },
            "type": "parcoords"
           }
          ],
          "pie": [
           {
            "automargin": true,
            "type": "pie"
           }
          ],
          "scatter": [
           {
            "marker": {
             "colorbar": {
              "outlinewidth": 0,
              "ticks": ""
             }
            },
            "type": "scatter"
           }
          ],
          "scatter3d": [
           {
            "line": {
             "colorbar": {
              "outlinewidth": 0,
              "ticks": ""
             }
            },
            "marker": {
             "colorbar": {
              "outlinewidth": 0,
              "ticks": ""
             }
            },
            "type": "scatter3d"
           }
          ],
          "scattercarpet": [
           {
            "marker": {
             "colorbar": {
              "outlinewidth": 0,
              "ticks": ""
             }
            },
            "type": "scattercarpet"
           }
          ],
          "scattergeo": [
           {
            "marker": {
             "colorbar": {
              "outlinewidth": 0,
              "ticks": ""
             }
            },
            "type": "scattergeo"
           }
          ],
          "scattergl": [
           {
            "marker": {
             "colorbar": {
              "outlinewidth": 0,
              "ticks": ""
             }
            },
            "type": "scattergl"
           }
          ],
          "scattermapbox": [
           {
            "marker": {
             "colorbar": {
              "outlinewidth": 0,
              "ticks": ""
             }
            },
            "type": "scattermapbox"
           }
          ],
          "scatterpolar": [
           {
            "marker": {
             "colorbar": {
              "outlinewidth": 0,
              "ticks": ""
             }
            },
            "type": "scatterpolar"
           }
          ],
          "scatterpolargl": [
           {
            "marker": {
             "colorbar": {
              "outlinewidth": 0,
              "ticks": ""
             }
            },
            "type": "scatterpolargl"
           }
          ],
          "scatterternary": [
           {
            "marker": {
             "colorbar": {
              "outlinewidth": 0,
              "ticks": ""
             }
            },
            "type": "scatterternary"
           }
          ],
          "surface": [
           {
            "colorbar": {
             "outlinewidth": 0,
             "ticks": ""
            },
            "colorscale": [
             [
              0,
              "#0d0887"
             ],
             [
              0.1111111111111111,
              "#46039f"
             ],
             [
              0.2222222222222222,
              "#7201a8"
             ],
             [
              0.3333333333333333,
              "#9c179e"
             ],
             [
              0.4444444444444444,
              "#bd3786"
             ],
             [
              0.5555555555555556,
              "#d8576b"
             ],
             [
              0.6666666666666666,
              "#ed7953"
             ],
             [
              0.7777777777777778,
              "#fb9f3a"
             ],
             [
              0.8888888888888888,
              "#fdca26"
             ],
             [
              1,
              "#f0f921"
             ]
            ],
            "type": "surface"
           }
          ],
          "table": [
           {
            "cells": {
             "fill": {
              "color": "#EBF0F8"
             },
             "line": {
              "color": "white"
             }
            },
            "header": {
             "fill": {
              "color": "#C8D4E3"
             },
             "line": {
              "color": "white"
             }
            },
            "type": "table"
           }
          ]
         },
         "layout": {
          "annotationdefaults": {
           "arrowcolor": "#2a3f5f",
           "arrowhead": 0,
           "arrowwidth": 1
          },
          "coloraxis": {
           "colorbar": {
            "outlinewidth": 0,
            "ticks": ""
           }
          },
          "colorscale": {
           "diverging": [
            [
             0,
             "#8e0152"
            ],
            [
             0.1,
             "#c51b7d"
            ],
            [
             0.2,
             "#de77ae"
            ],
            [
             0.3,
             "#f1b6da"
            ],
            [
             0.4,
             "#fde0ef"
            ],
            [
             0.5,
             "#f7f7f7"
            ],
            [
             0.6,
             "#e6f5d0"
            ],
            [
             0.7,
             "#b8e186"
            ],
            [
             0.8,
             "#7fbc41"
            ],
            [
             0.9,
             "#4d9221"
            ],
            [
             1,
             "#276419"
            ]
           ],
           "sequential": [
            [
             0,
             "#0d0887"
            ],
            [
             0.1111111111111111,
             "#46039f"
            ],
            [
             0.2222222222222222,
             "#7201a8"
            ],
            [
             0.3333333333333333,
             "#9c179e"
            ],
            [
             0.4444444444444444,
             "#bd3786"
            ],
            [
             0.5555555555555556,
             "#d8576b"
            ],
            [
             0.6666666666666666,
             "#ed7953"
            ],
            [
             0.7777777777777778,
             "#fb9f3a"
            ],
            [
             0.8888888888888888,
             "#fdca26"
            ],
            [
             1,
             "#f0f921"
            ]
           ],
           "sequentialminus": [
            [
             0,
             "#0d0887"
            ],
            [
             0.1111111111111111,
             "#46039f"
            ],
            [
             0.2222222222222222,
             "#7201a8"
            ],
            [
             0.3333333333333333,
             "#9c179e"
            ],
            [
             0.4444444444444444,
             "#bd3786"
            ],
            [
             0.5555555555555556,
             "#d8576b"
            ],
            [
             0.6666666666666666,
             "#ed7953"
            ],
            [
             0.7777777777777778,
             "#fb9f3a"
            ],
            [
             0.8888888888888888,
             "#fdca26"
            ],
            [
             1,
             "#f0f921"
            ]
           ]
          },
          "colorway": [
           "#636efa",
           "#EF553B",
           "#00cc96",
           "#ab63fa",
           "#FFA15A",
           "#19d3f3",
           "#FF6692",
           "#B6E880",
           "#FF97FF",
           "#FECB52"
          ],
          "font": {
           "color": "#2a3f5f"
          },
          "geo": {
           "bgcolor": "white",
           "lakecolor": "white",
           "landcolor": "#E5ECF6",
           "showlakes": true,
           "showland": true,
           "subunitcolor": "white"
          },
          "hoverlabel": {
           "align": "left"
          },
          "hovermode": "closest",
          "mapbox": {
           "style": "light"
          },
          "paper_bgcolor": "white",
          "plot_bgcolor": "#E5ECF6",
          "polar": {
           "angularaxis": {
            "gridcolor": "white",
            "linecolor": "white",
            "ticks": ""
           },
           "bgcolor": "#E5ECF6",
           "radialaxis": {
            "gridcolor": "white",
            "linecolor": "white",
            "ticks": ""
           }
          },
          "scene": {
           "xaxis": {
            "backgroundcolor": "#E5ECF6",
            "gridcolor": "white",
            "gridwidth": 2,
            "linecolor": "white",
            "showbackground": true,
            "ticks": "",
            "zerolinecolor": "white"
           },
           "yaxis": {
            "backgroundcolor": "#E5ECF6",
            "gridcolor": "white",
            "gridwidth": 2,
            "linecolor": "white",
            "showbackground": true,
            "ticks": "",
            "zerolinecolor": "white"
           },
           "zaxis": {
            "backgroundcolor": "#E5ECF6",
            "gridcolor": "white",
            "gridwidth": 2,
            "linecolor": "white",
            "showbackground": true,
            "ticks": "",
            "zerolinecolor": "white"
           }
          },
          "shapedefaults": {
           "line": {
            "color": "#2a3f5f"
           }
          },
          "ternary": {
           "aaxis": {
            "gridcolor": "white",
            "linecolor": "white",
            "ticks": ""
           },
           "baxis": {
            "gridcolor": "white",
            "linecolor": "white",
            "ticks": ""
           },
           "bgcolor": "#E5ECF6",
           "caxis": {
            "gridcolor": "white",
            "linecolor": "white",
            "ticks": ""
           }
          },
          "title": {
           "x": 0.05
          },
          "xaxis": {
           "automargin": true,
           "gridcolor": "white",
           "linecolor": "white",
           "ticks": "",
           "title": {
            "standoff": 15
           },
           "zerolinecolor": "white",
           "zerolinewidth": 2
          },
          "yaxis": {
           "automargin": true,
           "gridcolor": "white",
           "linecolor": "white",
           "ticks": "",
           "title": {
            "standoff": 15
           },
           "zerolinecolor": "white",
           "zerolinewidth": 2
          }
         }
        },
        "updatemenus": [
         {
          "buttons": [
           {
            "args": [
             null,
             {
              "frame": {
               "duration": 500,
               "redraw": true
              },
              "fromcurrent": true,
              "mode": "immediate",
              "transition": {
               "duration": 500,
               "easing": "linear"
              }
             }
            ],
            "label": "&#9654;",
            "method": "animate"
           },
           {
            "args": [
             [
              null
             ],
             {
              "frame": {
               "duration": 0,
               "redraw": true
              },
              "fromcurrent": true,
              "mode": "immediate",
              "transition": {
               "duration": 0,
               "easing": "linear"
              }
             }
            ],
            "label": "&#9724;",
            "method": "animate"
           }
          ],
          "direction": "left",
          "pad": {
           "r": 10,
           "t": 70
          },
          "showactive": false,
          "type": "buttons",
          "x": 0.1,
          "xanchor": "right",
          "y": 0,
          "yanchor": "top"
         }
        ]
       }
      },
      "text/html": [
       "<div>\n",
       "        \n",
       "        \n",
       "            <div id=\"012c626a-d5d1-4baf-83ac-a07e35dd67db\" class=\"plotly-graph-div\" style=\"height:700px; width:100%;\"></div>\n",
       "            <script type=\"text/javascript\">\n",
       "                require([\"plotly\"], function(Plotly) {\n",
       "                    window.PLOTLYENV=window.PLOTLYENV || {};\n",
       "                    \n",
       "                if (document.getElementById(\"012c626a-d5d1-4baf-83ac-a07e35dd67db\")) {\n",
       "                    Plotly.newPlot(\n",
       "                        '012c626a-d5d1-4baf-83ac-a07e35dd67db',\n",
       "                        [{\"customdata\": [[1.0, 0.0, 0.0], [2.0, 0.0, 0.0], [2.0, 0.0, 0.0]], \"hoverlabel\": {\"namelength\": 0}, \"hovertemplate\": \"<b>%{hovertext}</b><br><br>ObservationDate=01/22/2020<br>Confirmed=%{customdata[0]}<br>Deaths=%{customdata[1]}<br>Recovered=%{customdata[2]}<br>Lat=%{lat}<br>Long=%{lon}\", \"hovertext\": [\"Washington\", null, null], \"lat\": [47.4009, 36.0, 15.0], \"legendgroup\": \"\", \"lon\": [-121.4905, 138.0, 101.0], \"marker\": {\"color\": \"#636efa\"}, \"mode\": \"markers\", \"name\": \"\", \"showlegend\": false, \"subplot\": \"mapbox\", \"type\": \"scattermapbox\"}],\n",
       "                        {\"height\": 700, \"legend\": {\"tracegroupgap\": 0}, \"mapbox\": {\"center\": {\"lat\": 27.492542949756725, \"lon\": 0}, \"domain\": {\"x\": [0.0, 1.0], \"y\": [0.0, 1.0]}, \"style\": \"open-street-map\", \"zoom\": 2}, \"margin\": {\"b\": 0, \"l\": 0, \"r\": 0, \"t\": 0}, \"sliders\": [{\"active\": 0, \"currentvalue\": {\"prefix\": \"ObservationDate=\"}, \"len\": 0.9, \"pad\": {\"b\": 10, \"t\": 60}, \"steps\": [{\"args\": [[\"01/22/2020\"], {\"frame\": {\"duration\": 0, \"redraw\": true}, \"fromcurrent\": true, \"mode\": \"immediate\", \"transition\": {\"duration\": 0, \"easing\": \"linear\"}}], \"label\": \"01/22/2020\", \"method\": \"animate\"}, {\"args\": [[\"01/23/2020\"], {\"frame\": {\"duration\": 0, \"redraw\": true}, \"fromcurrent\": true, \"mode\": \"immediate\", \"transition\": {\"duration\": 0, \"easing\": \"linear\"}}], \"label\": \"01/23/2020\", \"method\": \"animate\"}, {\"args\": [[\"01/24/2020\"], {\"frame\": {\"duration\": 0, \"redraw\": true}, \"fromcurrent\": true, \"mode\": \"immediate\", \"transition\": {\"duration\": 0, \"easing\": \"linear\"}}], \"label\": \"01/24/2020\", \"method\": \"animate\"}, {\"args\": [[\"01/25/2020\"], {\"frame\": {\"duration\": 0, \"redraw\": true}, \"fromcurrent\": true, \"mode\": \"immediate\", \"transition\": {\"duration\": 0, \"easing\": \"linear\"}}], \"label\": \"01/25/2020\", \"method\": \"animate\"}, {\"args\": [[\"01/26/2020\"], {\"frame\": {\"duration\": 0, \"redraw\": true}, \"fromcurrent\": true, \"mode\": \"immediate\", \"transition\": {\"duration\": 0, \"easing\": \"linear\"}}], \"label\": \"01/26/2020\", \"method\": \"animate\"}, {\"args\": [[\"01/27/2020\"], {\"frame\": {\"duration\": 0, \"redraw\": true}, \"fromcurrent\": true, \"mode\": \"immediate\", \"transition\": {\"duration\": 0, \"easing\": \"linear\"}}], \"label\": \"01/27/2020\", \"method\": \"animate\"}, {\"args\": [[\"01/28/2020\"], {\"frame\": {\"duration\": 0, \"redraw\": true}, \"fromcurrent\": true, \"mode\": \"immediate\", \"transition\": {\"duration\": 0, \"easing\": \"linear\"}}], \"label\": \"01/28/2020\", \"method\": \"animate\"}, {\"args\": [[\"01/29/2020\"], {\"frame\": {\"duration\": 0, \"redraw\": true}, \"fromcurrent\": true, \"mode\": \"immediate\", \"transition\": {\"duration\": 0, \"easing\": \"linear\"}}], \"label\": \"01/29/2020\", \"method\": \"animate\"}, {\"args\": [[\"01/30/2020\"], {\"frame\": {\"duration\": 0, \"redraw\": true}, \"fromcurrent\": true, \"mode\": \"immediate\", \"transition\": {\"duration\": 0, \"easing\": \"linear\"}}], \"label\": \"01/30/2020\", \"method\": \"animate\"}, {\"args\": [[\"01/31/2020\"], {\"frame\": {\"duration\": 0, \"redraw\": true}, \"fromcurrent\": true, \"mode\": \"immediate\", \"transition\": {\"duration\": 0, \"easing\": \"linear\"}}], \"label\": \"01/31/2020\", \"method\": \"animate\"}, {\"args\": [[\"03/10/2020\"], {\"frame\": {\"duration\": 0, \"redraw\": true}, \"fromcurrent\": true, \"mode\": \"immediate\", \"transition\": {\"duration\": 0, \"easing\": \"linear\"}}], \"label\": \"03/10/2020\", \"method\": \"animate\"}, {\"args\": [[\"03/11/2020\"], {\"frame\": {\"duration\": 0, \"redraw\": true}, \"fromcurrent\": true, \"mode\": \"immediate\", \"transition\": {\"duration\": 0, \"easing\": \"linear\"}}], \"label\": \"03/11/2020\", \"method\": \"animate\"}, {\"args\": [[\"03/12/2020\"], {\"frame\": {\"duration\": 0, \"redraw\": true}, \"fromcurrent\": true, \"mode\": \"immediate\", \"transition\": {\"duration\": 0, \"easing\": \"linear\"}}], \"label\": \"03/12/2020\", \"method\": \"animate\"}, {\"args\": [[\"03/13/2020\"], {\"frame\": {\"duration\": 0, \"redraw\": true}, \"fromcurrent\": true, \"mode\": \"immediate\", \"transition\": {\"duration\": 0, \"easing\": \"linear\"}}], \"label\": \"03/13/2020\", \"method\": \"animate\"}, {\"args\": [[\"03/14/2020\"], {\"frame\": {\"duration\": 0, \"redraw\": true}, \"fromcurrent\": true, \"mode\": \"immediate\", \"transition\": {\"duration\": 0, \"easing\": \"linear\"}}], \"label\": \"03/14/2020\", \"method\": \"animate\"}, {\"args\": [[\"02/01/2020\"], {\"frame\": {\"duration\": 0, \"redraw\": true}, \"fromcurrent\": true, \"mode\": \"immediate\", \"transition\": {\"duration\": 0, \"easing\": \"linear\"}}], \"label\": \"02/01/2020\", \"method\": \"animate\"}, {\"args\": [[\"02/02/2020\"], {\"frame\": {\"duration\": 0, \"redraw\": true}, \"fromcurrent\": true, \"mode\": \"immediate\", \"transition\": {\"duration\": 0, \"easing\": \"linear\"}}], \"label\": \"02/02/2020\", \"method\": \"animate\"}, {\"args\": [[\"02/03/2020\"], {\"frame\": {\"duration\": 0, \"redraw\": true}, \"fromcurrent\": true, \"mode\": \"immediate\", \"transition\": {\"duration\": 0, \"easing\": \"linear\"}}], \"label\": \"02/03/2020\", \"method\": \"animate\"}, {\"args\": [[\"02/04/2020\"], {\"frame\": {\"duration\": 0, \"redraw\": true}, \"fromcurrent\": true, \"mode\": \"immediate\", \"transition\": {\"duration\": 0, \"easing\": \"linear\"}}], \"label\": \"02/04/2020\", \"method\": \"animate\"}, {\"args\": [[\"02/05/2020\"], {\"frame\": {\"duration\": 0, \"redraw\": true}, \"fromcurrent\": true, \"mode\": \"immediate\", \"transition\": {\"duration\": 0, \"easing\": \"linear\"}}], \"label\": \"02/05/2020\", \"method\": \"animate\"}, {\"args\": [[\"02/06/2020\"], {\"frame\": {\"duration\": 0, \"redraw\": true}, \"fromcurrent\": true, \"mode\": \"immediate\", \"transition\": {\"duration\": 0, \"easing\": \"linear\"}}], \"label\": \"02/06/2020\", \"method\": \"animate\"}, {\"args\": [[\"02/07/2020\"], {\"frame\": {\"duration\": 0, \"redraw\": true}, \"fromcurrent\": true, \"mode\": \"immediate\", \"transition\": {\"duration\": 0, \"easing\": \"linear\"}}], \"label\": \"02/07/2020\", \"method\": \"animate\"}, {\"args\": [[\"02/08/2020\"], {\"frame\": {\"duration\": 0, \"redraw\": true}, \"fromcurrent\": true, \"mode\": \"immediate\", \"transition\": {\"duration\": 0, \"easing\": \"linear\"}}], \"label\": \"02/08/2020\", \"method\": \"animate\"}, {\"args\": [[\"02/09/2020\"], {\"frame\": {\"duration\": 0, \"redraw\": true}, \"fromcurrent\": true, \"mode\": \"immediate\", \"transition\": {\"duration\": 0, \"easing\": \"linear\"}}], \"label\": \"02/09/2020\", \"method\": \"animate\"}, {\"args\": [[\"02/10/2020\"], {\"frame\": {\"duration\": 0, \"redraw\": true}, \"fromcurrent\": true, \"mode\": \"immediate\", \"transition\": {\"duration\": 0, \"easing\": \"linear\"}}], \"label\": \"02/10/2020\", \"method\": \"animate\"}, {\"args\": [[\"02/11/2020\"], {\"frame\": {\"duration\": 0, \"redraw\": true}, \"fromcurrent\": true, \"mode\": \"immediate\", \"transition\": {\"duration\": 0, \"easing\": \"linear\"}}], \"label\": \"02/11/2020\", \"method\": \"animate\"}, {\"args\": [[\"02/12/2020\"], {\"frame\": {\"duration\": 0, \"redraw\": true}, \"fromcurrent\": true, \"mode\": \"immediate\", \"transition\": {\"duration\": 0, \"easing\": \"linear\"}}], \"label\": \"02/12/2020\", \"method\": \"animate\"}, {\"args\": [[\"02/13/2020\"], {\"frame\": {\"duration\": 0, \"redraw\": true}, \"fromcurrent\": true, \"mode\": \"immediate\", \"transition\": {\"duration\": 0, \"easing\": \"linear\"}}], \"label\": \"02/13/2020\", \"method\": \"animate\"}, {\"args\": [[\"02/14/2020\"], {\"frame\": {\"duration\": 0, \"redraw\": true}, \"fromcurrent\": true, \"mode\": \"immediate\", \"transition\": {\"duration\": 0, \"easing\": \"linear\"}}], \"label\": \"02/14/2020\", \"method\": \"animate\"}, {\"args\": [[\"02/15/2020\"], {\"frame\": {\"duration\": 0, \"redraw\": true}, \"fromcurrent\": true, \"mode\": \"immediate\", \"transition\": {\"duration\": 0, \"easing\": \"linear\"}}], \"label\": \"02/15/2020\", \"method\": \"animate\"}, {\"args\": [[\"02/16/2020\"], {\"frame\": {\"duration\": 0, \"redraw\": true}, \"fromcurrent\": true, \"mode\": \"immediate\", \"transition\": {\"duration\": 0, \"easing\": \"linear\"}}], \"label\": \"02/16/2020\", \"method\": \"animate\"}, {\"args\": [[\"02/17/2020\"], {\"frame\": {\"duration\": 0, \"redraw\": true}, \"fromcurrent\": true, \"mode\": \"immediate\", \"transition\": {\"duration\": 0, \"easing\": \"linear\"}}], \"label\": \"02/17/2020\", \"method\": \"animate\"}, {\"args\": [[\"02/18/2020\"], {\"frame\": {\"duration\": 0, \"redraw\": true}, \"fromcurrent\": true, \"mode\": \"immediate\", \"transition\": {\"duration\": 0, \"easing\": \"linear\"}}], \"label\": \"02/18/2020\", \"method\": \"animate\"}, {\"args\": [[\"02/19/2020\"], {\"frame\": {\"duration\": 0, \"redraw\": true}, \"fromcurrent\": true, \"mode\": \"immediate\", \"transition\": {\"duration\": 0, \"easing\": \"linear\"}}], \"label\": \"02/19/2020\", \"method\": \"animate\"}, {\"args\": [[\"02/20/2020\"], {\"frame\": {\"duration\": 0, \"redraw\": true}, \"fromcurrent\": true, \"mode\": \"immediate\", \"transition\": {\"duration\": 0, \"easing\": \"linear\"}}], \"label\": \"02/20/2020\", \"method\": \"animate\"}, {\"args\": [[\"02/21/2020\"], {\"frame\": {\"duration\": 0, \"redraw\": true}, \"fromcurrent\": true, \"mode\": \"immediate\", \"transition\": {\"duration\": 0, \"easing\": \"linear\"}}], \"label\": \"02/21/2020\", \"method\": \"animate\"}, {\"args\": [[\"02/22/2020\"], {\"frame\": {\"duration\": 0, \"redraw\": true}, \"fromcurrent\": true, \"mode\": \"immediate\", \"transition\": {\"duration\": 0, \"easing\": \"linear\"}}], \"label\": \"02/22/2020\", \"method\": \"animate\"}, {\"args\": [[\"02/23/2020\"], {\"frame\": {\"duration\": 0, \"redraw\": true}, \"fromcurrent\": true, \"mode\": \"immediate\", \"transition\": {\"duration\": 0, \"easing\": \"linear\"}}], \"label\": \"02/23/2020\", \"method\": \"animate\"}, {\"args\": [[\"02/24/2020\"], {\"frame\": {\"duration\": 0, \"redraw\": true}, \"fromcurrent\": true, \"mode\": \"immediate\", \"transition\": {\"duration\": 0, \"easing\": \"linear\"}}], \"label\": \"02/24/2020\", \"method\": \"animate\"}, {\"args\": [[\"02/25/2020\"], {\"frame\": {\"duration\": 0, \"redraw\": true}, \"fromcurrent\": true, \"mode\": \"immediate\", \"transition\": {\"duration\": 0, \"easing\": \"linear\"}}], \"label\": \"02/25/2020\", \"method\": \"animate\"}, {\"args\": [[\"02/26/2020\"], {\"frame\": {\"duration\": 0, \"redraw\": true}, \"fromcurrent\": true, \"mode\": \"immediate\", \"transition\": {\"duration\": 0, \"easing\": \"linear\"}}], \"label\": \"02/26/2020\", \"method\": \"animate\"}, {\"args\": [[\"02/27/2020\"], {\"frame\": {\"duration\": 0, \"redraw\": true}, \"fromcurrent\": true, \"mode\": \"immediate\", \"transition\": {\"duration\": 0, \"easing\": \"linear\"}}], \"label\": \"02/27/2020\", \"method\": \"animate\"}, {\"args\": [[\"02/28/2020\"], {\"frame\": {\"duration\": 0, \"redraw\": true}, \"fromcurrent\": true, \"mode\": \"immediate\", \"transition\": {\"duration\": 0, \"easing\": \"linear\"}}], \"label\": \"02/28/2020\", \"method\": \"animate\"}, {\"args\": [[\"02/29/2020\"], {\"frame\": {\"duration\": 0, \"redraw\": true}, \"fromcurrent\": true, \"mode\": \"immediate\", \"transition\": {\"duration\": 0, \"easing\": \"linear\"}}], \"label\": \"02/29/2020\", \"method\": \"animate\"}, {\"args\": [[\"03/01/2020\"], {\"frame\": {\"duration\": 0, \"redraw\": true}, \"fromcurrent\": true, \"mode\": \"immediate\", \"transition\": {\"duration\": 0, \"easing\": \"linear\"}}], \"label\": \"03/01/2020\", \"method\": \"animate\"}, {\"args\": [[\"03/02/2020\"], {\"frame\": {\"duration\": 0, \"redraw\": true}, \"fromcurrent\": true, \"mode\": \"immediate\", \"transition\": {\"duration\": 0, \"easing\": \"linear\"}}], \"label\": \"03/02/2020\", \"method\": \"animate\"}, {\"args\": [[\"03/03/2020\"], {\"frame\": {\"duration\": 0, \"redraw\": true}, \"fromcurrent\": true, \"mode\": \"immediate\", \"transition\": {\"duration\": 0, \"easing\": \"linear\"}}], \"label\": \"03/03/2020\", \"method\": \"animate\"}, {\"args\": [[\"03/04/2020\"], {\"frame\": {\"duration\": 0, \"redraw\": true}, \"fromcurrent\": true, \"mode\": \"immediate\", \"transition\": {\"duration\": 0, \"easing\": \"linear\"}}], \"label\": \"03/04/2020\", \"method\": \"animate\"}, {\"args\": [[\"03/05/2020\"], {\"frame\": {\"duration\": 0, \"redraw\": true}, \"fromcurrent\": true, \"mode\": \"immediate\", \"transition\": {\"duration\": 0, \"easing\": \"linear\"}}], \"label\": \"03/05/2020\", \"method\": \"animate\"}, {\"args\": [[\"03/06/2020\"], {\"frame\": {\"duration\": 0, \"redraw\": true}, \"fromcurrent\": true, \"mode\": \"immediate\", \"transition\": {\"duration\": 0, \"easing\": \"linear\"}}], \"label\": \"03/06/2020\", \"method\": \"animate\"}, {\"args\": [[\"03/07/2020\"], {\"frame\": {\"duration\": 0, \"redraw\": true}, \"fromcurrent\": true, \"mode\": \"immediate\", \"transition\": {\"duration\": 0, \"easing\": \"linear\"}}], \"label\": \"03/07/2020\", \"method\": \"animate\"}, {\"args\": [[\"03/08/2020\"], {\"frame\": {\"duration\": 0, \"redraw\": true}, \"fromcurrent\": true, \"mode\": \"immediate\", \"transition\": {\"duration\": 0, \"easing\": \"linear\"}}], \"label\": \"03/08/2020\", \"method\": \"animate\"}, {\"args\": [[\"03/09/2020\"], {\"frame\": {\"duration\": 0, \"redraw\": true}, \"fromcurrent\": true, \"mode\": \"immediate\", \"transition\": {\"duration\": 0, \"easing\": \"linear\"}}], \"label\": \"03/09/2020\", \"method\": \"animate\"}], \"x\": 0.1, \"xanchor\": \"left\", \"y\": 0, \"yanchor\": \"top\"}], \"template\": {\"data\": {\"bar\": [{\"error_x\": {\"color\": \"#2a3f5f\"}, \"error_y\": {\"color\": \"#2a3f5f\"}, \"marker\": {\"line\": {\"color\": \"#E5ECF6\", \"width\": 0.5}}, \"type\": \"bar\"}], \"barpolar\": [{\"marker\": {\"line\": {\"color\": \"#E5ECF6\", \"width\": 0.5}}, \"type\": \"barpolar\"}], \"carpet\": [{\"aaxis\": {\"endlinecolor\": \"#2a3f5f\", \"gridcolor\": \"white\", \"linecolor\": \"white\", \"minorgridcolor\": \"white\", \"startlinecolor\": \"#2a3f5f\"}, \"baxis\": {\"endlinecolor\": \"#2a3f5f\", \"gridcolor\": \"white\", \"linecolor\": \"white\", \"minorgridcolor\": \"white\", \"startlinecolor\": \"#2a3f5f\"}, \"type\": \"carpet\"}], \"choropleth\": [{\"colorbar\": {\"outlinewidth\": 0, \"ticks\": \"\"}, \"type\": \"choropleth\"}], \"contour\": [{\"colorbar\": {\"outlinewidth\": 0, \"ticks\": \"\"}, \"colorscale\": [[0.0, \"#0d0887\"], [0.1111111111111111, \"#46039f\"], [0.2222222222222222, \"#7201a8\"], [0.3333333333333333, \"#9c179e\"], [0.4444444444444444, \"#bd3786\"], [0.5555555555555556, \"#d8576b\"], [0.6666666666666666, \"#ed7953\"], [0.7777777777777778, \"#fb9f3a\"], [0.8888888888888888, \"#fdca26\"], [1.0, \"#f0f921\"]], \"type\": \"contour\"}], \"contourcarpet\": [{\"colorbar\": {\"outlinewidth\": 0, \"ticks\": \"\"}, \"type\": \"contourcarpet\"}], \"heatmap\": [{\"colorbar\": {\"outlinewidth\": 0, \"ticks\": \"\"}, \"colorscale\": [[0.0, \"#0d0887\"], [0.1111111111111111, \"#46039f\"], [0.2222222222222222, \"#7201a8\"], [0.3333333333333333, \"#9c179e\"], [0.4444444444444444, \"#bd3786\"], [0.5555555555555556, \"#d8576b\"], [0.6666666666666666, \"#ed7953\"], [0.7777777777777778, \"#fb9f3a\"], [0.8888888888888888, \"#fdca26\"], [1.0, \"#f0f921\"]], \"type\": \"heatmap\"}], \"heatmapgl\": [{\"colorbar\": {\"outlinewidth\": 0, \"ticks\": \"\"}, \"colorscale\": [[0.0, \"#0d0887\"], [0.1111111111111111, \"#46039f\"], [0.2222222222222222, \"#7201a8\"], [0.3333333333333333, \"#9c179e\"], [0.4444444444444444, \"#bd3786\"], [0.5555555555555556, \"#d8576b\"], [0.6666666666666666, \"#ed7953\"], [0.7777777777777778, \"#fb9f3a\"], [0.8888888888888888, \"#fdca26\"], [1.0, \"#f0f921\"]], \"type\": \"heatmapgl\"}], \"histogram\": [{\"marker\": {\"colorbar\": {\"outlinewidth\": 0, \"ticks\": \"\"}}, \"type\": \"histogram\"}], \"histogram2d\": [{\"colorbar\": {\"outlinewidth\": 0, \"ticks\": \"\"}, \"colorscale\": [[0.0, \"#0d0887\"], [0.1111111111111111, \"#46039f\"], [0.2222222222222222, \"#7201a8\"], [0.3333333333333333, \"#9c179e\"], [0.4444444444444444, \"#bd3786\"], [0.5555555555555556, \"#d8576b\"], [0.6666666666666666, \"#ed7953\"], [0.7777777777777778, \"#fb9f3a\"], [0.8888888888888888, \"#fdca26\"], [1.0, \"#f0f921\"]], \"type\": \"histogram2d\"}], \"histogram2dcontour\": [{\"colorbar\": {\"outlinewidth\": 0, \"ticks\": \"\"}, \"colorscale\": [[0.0, \"#0d0887\"], [0.1111111111111111, \"#46039f\"], [0.2222222222222222, \"#7201a8\"], [0.3333333333333333, \"#9c179e\"], [0.4444444444444444, \"#bd3786\"], [0.5555555555555556, \"#d8576b\"], [0.6666666666666666, \"#ed7953\"], [0.7777777777777778, \"#fb9f3a\"], [0.8888888888888888, \"#fdca26\"], [1.0, \"#f0f921\"]], \"type\": \"histogram2dcontour\"}], \"mesh3d\": [{\"colorbar\": {\"outlinewidth\": 0, \"ticks\": \"\"}, \"type\": \"mesh3d\"}], \"parcoords\": [{\"line\": {\"colorbar\": {\"outlinewidth\": 0, \"ticks\": \"\"}}, \"type\": \"parcoords\"}], \"pie\": [{\"automargin\": true, \"type\": \"pie\"}], \"scatter\": [{\"marker\": {\"colorbar\": {\"outlinewidth\": 0, \"ticks\": \"\"}}, \"type\": \"scatter\"}], \"scatter3d\": [{\"line\": {\"colorbar\": {\"outlinewidth\": 0, \"ticks\": \"\"}}, \"marker\": {\"colorbar\": {\"outlinewidth\": 0, \"ticks\": \"\"}}, \"type\": \"scatter3d\"}], \"scattercarpet\": [{\"marker\": {\"colorbar\": {\"outlinewidth\": 0, \"ticks\": \"\"}}, \"type\": \"scattercarpet\"}], \"scattergeo\": [{\"marker\": {\"colorbar\": {\"outlinewidth\": 0, \"ticks\": \"\"}}, \"type\": \"scattergeo\"}], \"scattergl\": [{\"marker\": {\"colorbar\": {\"outlinewidth\": 0, \"ticks\": \"\"}}, \"type\": \"scattergl\"}], \"scattermapbox\": [{\"marker\": {\"colorbar\": {\"outlinewidth\": 0, \"ticks\": \"\"}}, \"type\": \"scattermapbox\"}], \"scatterpolar\": [{\"marker\": {\"colorbar\": {\"outlinewidth\": 0, \"ticks\": \"\"}}, \"type\": \"scatterpolar\"}], \"scatterpolargl\": [{\"marker\": {\"colorbar\": {\"outlinewidth\": 0, \"ticks\": \"\"}}, \"type\": \"scatterpolargl\"}], \"scatterternary\": [{\"marker\": {\"colorbar\": {\"outlinewidth\": 0, \"ticks\": \"\"}}, \"type\": \"scatterternary\"}], \"surface\": [{\"colorbar\": {\"outlinewidth\": 0, \"ticks\": \"\"}, \"colorscale\": [[0.0, \"#0d0887\"], [0.1111111111111111, \"#46039f\"], [0.2222222222222222, \"#7201a8\"], [0.3333333333333333, \"#9c179e\"], [0.4444444444444444, \"#bd3786\"], [0.5555555555555556, \"#d8576b\"], [0.6666666666666666, \"#ed7953\"], [0.7777777777777778, \"#fb9f3a\"], [0.8888888888888888, \"#fdca26\"], [1.0, \"#f0f921\"]], \"type\": \"surface\"}], \"table\": [{\"cells\": {\"fill\": {\"color\": \"#EBF0F8\"}, \"line\": {\"color\": \"white\"}}, \"header\": {\"fill\": {\"color\": \"#C8D4E3\"}, \"line\": {\"color\": \"white\"}}, \"type\": \"table\"}]}, \"layout\": {\"annotationdefaults\": {\"arrowcolor\": \"#2a3f5f\", \"arrowhead\": 0, \"arrowwidth\": 1}, \"coloraxis\": {\"colorbar\": {\"outlinewidth\": 0, \"ticks\": \"\"}}, \"colorscale\": {\"diverging\": [[0, \"#8e0152\"], [0.1, \"#c51b7d\"], [0.2, \"#de77ae\"], [0.3, \"#f1b6da\"], [0.4, \"#fde0ef\"], [0.5, \"#f7f7f7\"], [0.6, \"#e6f5d0\"], [0.7, \"#b8e186\"], [0.8, \"#7fbc41\"], [0.9, \"#4d9221\"], [1, \"#276419\"]], \"sequential\": [[0.0, \"#0d0887\"], [0.1111111111111111, \"#46039f\"], [0.2222222222222222, \"#7201a8\"], [0.3333333333333333, \"#9c179e\"], [0.4444444444444444, \"#bd3786\"], [0.5555555555555556, \"#d8576b\"], [0.6666666666666666, \"#ed7953\"], [0.7777777777777778, \"#fb9f3a\"], [0.8888888888888888, \"#fdca26\"], [1.0, \"#f0f921\"]], \"sequentialminus\": [[0.0, \"#0d0887\"], [0.1111111111111111, \"#46039f\"], [0.2222222222222222, \"#7201a8\"], [0.3333333333333333, \"#9c179e\"], [0.4444444444444444, \"#bd3786\"], [0.5555555555555556, \"#d8576b\"], [0.6666666666666666, \"#ed7953\"], [0.7777777777777778, \"#fb9f3a\"], [0.8888888888888888, \"#fdca26\"], [1.0, \"#f0f921\"]]}, \"colorway\": [\"#636efa\", \"#EF553B\", \"#00cc96\", \"#ab63fa\", \"#FFA15A\", \"#19d3f3\", \"#FF6692\", \"#B6E880\", \"#FF97FF\", \"#FECB52\"], \"font\": {\"color\": \"#2a3f5f\"}, \"geo\": {\"bgcolor\": \"white\", \"lakecolor\": \"white\", \"landcolor\": \"#E5ECF6\", \"showlakes\": true, \"showland\": true, \"subunitcolor\": \"white\"}, \"hoverlabel\": {\"align\": \"left\"}, \"hovermode\": \"closest\", \"mapbox\": {\"style\": \"light\"}, \"paper_bgcolor\": \"white\", \"plot_bgcolor\": \"#E5ECF6\", \"polar\": {\"angularaxis\": {\"gridcolor\": \"white\", \"linecolor\": \"white\", \"ticks\": \"\"}, \"bgcolor\": \"#E5ECF6\", \"radialaxis\": {\"gridcolor\": \"white\", \"linecolor\": \"white\", \"ticks\": \"\"}}, \"scene\": {\"xaxis\": {\"backgroundcolor\": \"#E5ECF6\", \"gridcolor\": \"white\", \"gridwidth\": 2, \"linecolor\": \"white\", \"showbackground\": true, \"ticks\": \"\", \"zerolinecolor\": \"white\"}, \"yaxis\": {\"backgroundcolor\": \"#E5ECF6\", \"gridcolor\": \"white\", \"gridwidth\": 2, \"linecolor\": \"white\", \"showbackground\": true, \"ticks\": \"\", \"zerolinecolor\": \"white\"}, \"zaxis\": {\"backgroundcolor\": \"#E5ECF6\", \"gridcolor\": \"white\", \"gridwidth\": 2, \"linecolor\": \"white\", \"showbackground\": true, \"ticks\": \"\", \"zerolinecolor\": \"white\"}}, \"shapedefaults\": {\"line\": {\"color\": \"#2a3f5f\"}}, \"ternary\": {\"aaxis\": {\"gridcolor\": \"white\", \"linecolor\": \"white\", \"ticks\": \"\"}, \"baxis\": {\"gridcolor\": \"white\", \"linecolor\": \"white\", \"ticks\": \"\"}, \"bgcolor\": \"#E5ECF6\", \"caxis\": {\"gridcolor\": \"white\", \"linecolor\": \"white\", \"ticks\": \"\"}}, \"title\": {\"x\": 0.05}, \"xaxis\": {\"automargin\": true, \"gridcolor\": \"white\", \"linecolor\": \"white\", \"ticks\": \"\", \"title\": {\"standoff\": 15}, \"zerolinecolor\": \"white\", \"zerolinewidth\": 2}, \"yaxis\": {\"automargin\": true, \"gridcolor\": \"white\", \"linecolor\": \"white\", \"ticks\": \"\", \"title\": {\"standoff\": 15}, \"zerolinecolor\": \"white\", \"zerolinewidth\": 2}}}, \"updatemenus\": [{\"buttons\": [{\"args\": [null, {\"frame\": {\"duration\": 500, \"redraw\": true}, \"fromcurrent\": true, \"mode\": \"immediate\", \"transition\": {\"duration\": 500, \"easing\": \"linear\"}}], \"label\": \"&#9654;\", \"method\": \"animate\"}, {\"args\": [[null], {\"frame\": {\"duration\": 0, \"redraw\": true}, \"fromcurrent\": true, \"mode\": \"immediate\", \"transition\": {\"duration\": 0, \"easing\": \"linear\"}}], \"label\": \"&#9724;\", \"method\": \"animate\"}], \"direction\": \"left\", \"pad\": {\"r\": 10, \"t\": 70}, \"showactive\": false, \"type\": \"buttons\", \"x\": 0.1, \"xanchor\": \"right\", \"y\": 0, \"yanchor\": \"top\"}]},\n",
       "                        {\"responsive\": true}\n",
       "                    ).then(function(){\n",
       "                            Plotly.addFrames('012c626a-d5d1-4baf-83ac-a07e35dd67db', [{\"data\": [{\"customdata\": [[1.0, 0.0, 0.0], [2.0, 0.0, 0.0], [2.0, 0.0, 0.0]], \"hoverlabel\": {\"namelength\": 0}, \"hovertemplate\": \"<b>%{hovertext}</b><br><br>ObservationDate=01/22/2020<br>Confirmed=%{customdata[0]}<br>Deaths=%{customdata[1]}<br>Recovered=%{customdata[2]}<br>Lat=%{lat}<br>Long=%{lon}\", \"hovertext\": [\"Washington\", null, null], \"lat\": [47.4009, 36.0, 15.0], \"legendgroup\": \"\", \"lon\": [-121.4905, 138.0, 101.0], \"marker\": {\"color\": \"#636efa\"}, \"mode\": \"markers\", \"name\": \"\", \"showlegend\": false, \"subplot\": \"mapbox\", \"type\": \"scattermapbox\"}], \"name\": \"01/22/2020\"}, {\"data\": [{\"customdata\": [[1.0, 0.0, 0.0], [1.0, 0.0, 0.0], [3.0, 0.0, 0.0], [1.0, 0.0, 0.0], [0.0, 0.0, 0.0], [0.0, 0.0, 0.0], [2.0, 0.0, 0.0], [0.0, 0.0, 0.0], [0.0, 0.0, 0.0], [0.0, 0.0, 0.0]], \"hoverlabel\": {\"namelength\": 0}, \"hovertemplate\": \"<b>%{hovertext}</b><br><br>ObservationDate=01/23/2020<br>Confirmed=%{customdata[0]}<br>Deaths=%{customdata[1]}<br>Recovered=%{customdata[2]}<br>Lat=%{lat}<br>Long=%{lon}\", \"hovertext\": [\"Washington\", null, null, null, null, null, null, null, null, null], \"lat\": [47.4009, 36.0, 15.0, 1.2833, 13.0, 2.5, 16.0, 23.6345, -14.235, 4.5709], \"legendgroup\": \"\", \"lon\": [-121.4905, 138.0, 101.0, 103.8333, 122.0, 112.5, 108.0, -102.5528, -51.9253, -74.2973], \"marker\": {\"color\": \"#636efa\"}, \"mode\": \"markers\", \"name\": \"\", \"showlegend\": false, \"subplot\": \"mapbox\", \"type\": \"scattermapbox\"}], \"name\": \"01/23/2020\"}, {\"data\": [{\"customdata\": [[1.0, 0.0, 0.0], [2.0, 0.0, 0.0], [5.0, 0.0, 0.0], [3.0, 0.0, 0.0], [2.0, 0.0, 0.0]], \"hoverlabel\": {\"namelength\": 0}, \"hovertemplate\": \"<b>%{hovertext}</b><br><br>ObservationDate=01/24/2020<br>Confirmed=%{customdata[0]}<br>Deaths=%{customdata[1]}<br>Recovered=%{customdata[2]}<br>Lat=%{lat}<br>Long=%{lon}\", \"hovertext\": [\"Washington\", null, null, null, null], \"lat\": [47.4009, 36.0, 15.0, 1.2833, 16.0], \"legendgroup\": \"\", \"lon\": [-121.4905, 138.0, 101.0, 103.8333, 108.0], \"marker\": {\"color\": \"#636efa\"}, \"mode\": \"markers\", \"name\": \"\", \"showlegend\": false, \"subplot\": \"mapbox\", \"type\": \"scattermapbox\"}], \"name\": \"01/24/2020\"}, {\"data\": [{\"customdata\": [[1.0, 0.0, 0.0], [2.0, 0.0, 0.0], [7.0, 0.0, 0.0], [3.0, 0.0, 0.0], [3.0, 0.0, 0.0], [2.0, 0.0, 0.0], [1.0, 0.0, 0.0], [1.0, 0.0, 0.0]], \"hoverlabel\": {\"namelength\": 0}, \"hovertemplate\": \"<b>%{hovertext}</b><br><br>ObservationDate=01/25/2020<br>Confirmed=%{customdata[0]}<br>Deaths=%{customdata[1]}<br>Recovered=%{customdata[2]}<br>Lat=%{lat}<br>Long=%{lon}\", \"hovertext\": [\"Washington\", null, null, null, null, null, \"Illinois\", null], \"lat\": [47.4009, 36.0, 15.0, 1.2833, 2.5, 16.0, 40.3495, 28.1667], \"legendgroup\": \"\", \"lon\": [-121.4905, 138.0, 101.0, 103.8333, 112.5, 108.0, -88.9861, 84.25], \"marker\": {\"color\": \"#636efa\"}, \"mode\": \"markers\", \"name\": \"\", \"showlegend\": false, \"subplot\": \"mapbox\", \"type\": \"scattermapbox\"}], \"name\": \"01/25/2020\"}, {\"data\": [{\"customdata\": [[1.0, 0.0, 0.0], [4.0, 0.0, 1.0], [8.0, 0.0, 2.0], [4.0, 0.0, 0.0], [4.0, 0.0, 0.0], [2.0, 0.0, 0.0], [1.0, 0.0, 0.0], [1.0, 0.0, 0.0], [2.0, 0.0, 0.0], [1.0, 0.0, 0.0], [1.0, 0.0, 0.0]], \"hoverlabel\": {\"namelength\": 0}, \"hovertemplate\": \"<b>%{hovertext}</b><br><br>ObservationDate=01/26/2020<br>Confirmed=%{customdata[0]}<br>Deaths=%{customdata[1]}<br>Recovered=%{customdata[2]}<br>Lat=%{lat}<br>Long=%{lon}\", \"hovertext\": [\"Washington\", null, null, null, null, null, \"Illinois\", null, \"California\", \"Arizona\", \"Ontario\"], \"lat\": [47.4009, 36.0, 15.0, 1.2833, 2.5, 16.0, 40.3495, 28.1667, 36.1162, 33.7298, 51.2538], \"legendgroup\": \"\", \"lon\": [-121.4905, 138.0, 101.0, 103.8333, 112.5, 108.0, -88.9861, 84.25, -119.6816, -111.4312, -85.3232], \"marker\": {\"color\": \"#636efa\"}, \"mode\": \"markers\", \"name\": \"\", \"showlegend\": false, \"subplot\": \"mapbox\", \"type\": \"scattermapbox\"}], \"name\": \"01/26/2020\"}, {\"data\": [{\"customdata\": [[1.0, 0.0, 0.0], [4.0, 0.0, 1.0], [8.0, 0.0, 2.0], [5.0, 0.0, 0.0], [4.0, 0.0, 0.0], [2.0, 0.0, 0.0], [1.0, 0.0, 0.0], [1.0, 0.0, 0.0], [2.0, 0.0, 0.0], [1.0, 0.0, 0.0], [1.0, 0.0, 0.0], [1.0, 0.0, 0.0], [1.0, 0.0, 0.0], [4.0, 0.0, 0.0], [1.0, 0.0, 0.0]], \"hoverlabel\": {\"namelength\": 0}, \"hovertemplate\": \"<b>%{hovertext}</b><br><br>ObservationDate=01/27/2020<br>Confirmed=%{customdata[0]}<br>Deaths=%{customdata[1]}<br>Recovered=%{customdata[2]}<br>Lat=%{lat}<br>Long=%{lon}\", \"hovertext\": [\"Washington\", null, null, null, null, null, \"Illinois\", null, \"California\", \"Arizona\", \"Ontario\", null, null, \"New South Wales\", \"Victoria\"], \"lat\": [47.4009, 36.0, 15.0, 1.2833, 2.5, 16.0, 40.3495, 28.1667, 36.1162, 33.7298, 51.2538, 11.55, 7.0, -33.8688, -37.8136], \"legendgroup\": \"\", \"lon\": [-121.4905, 138.0, 101.0, 103.8333, 112.5, 108.0, -88.9861, 84.25, -119.6816, -111.4312, -85.3232, 104.9167, 81.0, 151.2093, 144.9631], \"marker\": {\"color\": \"#636efa\"}, \"mode\": \"markers\", \"name\": \"\", \"showlegend\": false, \"subplot\": \"mapbox\", \"type\": \"scattermapbox\"}], \"name\": \"01/27/2020\"}, {\"data\": [{\"customdata\": [[1.0, 0.0, 0.0], [7.0, 0.0, 1.0], [14.0, 0.0, 5.0], [7.0, 0.0, 0.0], [4.0, 0.0, 0.0], [2.0, 0.0, 0.0], [1.0, 0.0, 0.0], [1.0, 0.0, 0.0], [2.0, 0.0, 0.0], [1.0, 0.0, 0.0], [1.0, 0.0, 0.0], [1.0, 0.0, 0.0], [1.0, 0.0, 0.0], [4.0, 0.0, 0.0], [1.0, 0.0, 0.0], [1.0, 0.0, 0.0]], \"hoverlabel\": {\"namelength\": 0}, \"hovertemplate\": \"<b>%{hovertext}</b><br><br>ObservationDate=01/28/2020<br>Confirmed=%{customdata[0]}<br>Deaths=%{customdata[1]}<br>Recovered=%{customdata[2]}<br>Lat=%{lat}<br>Long=%{lon}\", \"hovertext\": [\"Washington\", null, null, null, null, null, \"Illinois\", null, \"California\", \"Arizona\", \"Ontario\", null, null, \"New South Wales\", \"Victoria\", \"British Columbia\"], \"lat\": [47.4009, 36.0, 15.0, 1.2833, 2.5, 16.0, 40.3495, 28.1667, 36.1162, 33.7298, 51.2538, 11.55, 7.0, -33.8688, -37.8136, 49.2827], \"legendgroup\": \"\", \"lon\": [-121.4905, 138.0, 101.0, 103.8333, 112.5, 108.0, -88.9861, 84.25, -119.6816, -111.4312, -85.3232, 104.9167, 81.0, 151.2093, 144.9631, -123.1207], \"marker\": {\"color\": \"#636efa\"}, \"mode\": \"markers\", \"name\": \"\", \"showlegend\": false, \"subplot\": \"mapbox\", \"type\": \"scattermapbox\"}], \"name\": \"01/28/2020\"}, {\"data\": [{\"customdata\": [[1.0, 0.0, 0.0], [7.0, 0.0, 1.0], [14.0, 0.0, 5.0], [7.0, 0.0, 0.0], [7.0, 0.0, 0.0], [2.0, 0.0, 0.0], [1.0, 0.0, 0.0], [1.0, 0.0, 0.0], [2.0, 0.0, 0.0], [1.0, 0.0, 0.0], [1.0, 0.0, 0.0], [1.0, 0.0, 0.0], [1.0, 0.0, 0.0], [4.0, 0.0, 0.0], [1.0, 0.0, 0.0], [1.0, 0.0, 0.0], [1.0, 0.0, 0.0], [4.0, 0.0, 0.0]], \"hoverlabel\": {\"namelength\": 0}, \"hovertemplate\": \"<b>%{hovertext}</b><br><br>ObservationDate=01/29/2020<br>Confirmed=%{customdata[0]}<br>Deaths=%{customdata[1]}<br>Recovered=%{customdata[2]}<br>Lat=%{lat}<br>Long=%{lon}\", \"hovertext\": [\"Washington\", null, null, null, null, null, \"Illinois\", null, \"California\", \"Arizona\", \"Ontario\", null, null, \"New South Wales\", \"Victoria\", \"British Columbia\", null, null], \"lat\": [47.4009, 36.0, 15.0, 1.2833, 2.5, 16.0, 40.3495, 28.1667, 36.1162, 33.7298, 51.2538, 11.55, 7.0, -33.8688, -37.8136, 49.2827, 64.0, 24.0], \"legendgroup\": \"\", \"lon\": [-121.4905, 138.0, 101.0, 103.8333, 112.5, 108.0, -88.9861, 84.25, -119.6816, -111.4312, -85.3232, 104.9167, 81.0, 151.2093, 144.9631, -123.1207, 26.0, 54.0], \"marker\": {\"color\": \"#636efa\"}, \"mode\": \"markers\", \"name\": \"\", \"showlegend\": false, \"subplot\": \"mapbox\", \"type\": \"scattermapbox\"}], \"name\": \"01/29/2020\"}, {\"data\": [{\"customdata\": [[1.0, 0.0, 0.0], [11.0, 0.0, 1.0], [14.0, 0.0, 5.0], [10.0, 0.0, 0.0], [1.0, 0.0, 0.0], [8.0, 0.0, 0.0], [2.0, 0.0, 0.0], [1.0, 0.0, 0.0], [1.0, 0.0, 0.0], [2.0, 0.0, 0.0], [1.0, 0.0, 0.0], [2.0, 0.0, 0.0], [1.0, 0.0, 0.0], [1.0, 0.0, 0.0], [4.0, 0.0, 2.0], [2.0, 0.0, 0.0], [1.0, 0.0, 0.0], [1.0, 0.0, 0.0], [4.0, 0.0, 0.0], [3.0, 0.0, 0.0], [1.0, 0.0, 0.0]], \"hoverlabel\": {\"namelength\": 0}, \"hovertemplate\": \"<b>%{hovertext}</b><br><br>ObservationDate=01/30/2020<br>Confirmed=%{customdata[0]}<br>Deaths=%{customdata[1]}<br>Recovered=%{customdata[2]}<br>Lat=%{lat}<br>Long=%{lon}\", \"hovertext\": [\"Washington\", null, null, null, null, null, null, \"Illinois\", null, \"California\", \"Arizona\", \"Ontario\", null, null, \"New South Wales\", \"Victoria\", \"British Columbia\", null, null, \"Queensland\", null], \"lat\": [47.4009, 36.0, 15.0, 1.2833, 13.0, 2.5, 16.0, 40.3495, 28.1667, 36.1162, 33.7298, 51.2538, 11.55, 7.0, -33.8688, -37.8136, 49.2827, 64.0, 24.0, -28.0167, 21.0], \"legendgroup\": \"\", \"lon\": [-121.4905, 138.0, 101.0, 103.8333, 122.0, 112.5, 108.0, -88.9861, 84.25, -119.6816, -111.4312, -85.3232, 104.9167, 81.0, 151.2093, 144.9631, -123.1207, 26.0, 54.0, 153.4, 78.0], \"marker\": {\"color\": \"#636efa\"}, \"mode\": \"markers\", \"name\": \"\", \"showlegend\": false, \"subplot\": \"mapbox\", \"type\": \"scattermapbox\"}], \"name\": \"01/30/2020\"}, {\"data\": [{\"customdata\": [[1.0, 0.0, 0.0], [15.0, 0.0, 1.0], [19.0, 0.0, 5.0], [13.0, 0.0, 0.0], [1.0, 0.0, 0.0], [8.0, 0.0, 0.0], [2.0, 0.0, 0.0], [2.0, 0.0, 0.0], [1.0, 0.0, 0.0], [2.0, 0.0, 0.0], [1.0, 0.0, 0.0], [2.0, 0.0, 0.0], [1.0, 0.0, 0.0], [1.0, 0.0, 0.0], [4.0, 0.0, 2.0], [3.0, 0.0, 0.0], [1.0, 0.0, 0.0], [1.0, 0.0, 0.0], [4.0, 0.0, 0.0], [2.0, 0.0, 0.0], [1.0, 0.0, 0.0], [2.0, 0.0, 0.0], [2.0, 0.0, 0.0], [1.0, 0.0, 0.0]], \"hoverlabel\": {\"namelength\": 0}, \"hovertemplate\": \"<b>%{hovertext}</b><br><br>ObservationDate=01/31/2020<br>Confirmed=%{customdata[0]}<br>Deaths=%{customdata[1]}<br>Recovered=%{customdata[2]}<br>Lat=%{lat}<br>Long=%{lon}\", \"hovertext\": [\"Washington\", null, null, null, null, null, null, \"Illinois\", null, \"California\", \"Arizona\", \"Ontario\", null, null, \"New South Wales\", \"Victoria\", \"British Columbia\", null, null, \"Queensland\", null, null, null, null], \"lat\": [47.4009, 36.0, 15.0, 1.2833, 13.0, 2.5, 16.0, 40.3495, 28.1667, 36.1162, 33.7298, 51.2538, 11.55, 7.0, -33.8688, -37.8136, 49.2827, 64.0, 24.0, -28.0167, 21.0, 43.0, 60.0, 63.0], \"legendgroup\": \"\", \"lon\": [-121.4905, 138.0, 101.0, 103.8333, 122.0, 112.5, 108.0, -88.9861, 84.25, -119.6816, -111.4312, -85.3232, 104.9167, 81.0, 151.2093, 144.9631, -123.1207, 26.0, 54.0, 153.4, 78.0, 12.0, 90.0, 16.0], \"marker\": {\"color\": \"#636efa\"}, \"mode\": \"markers\", \"name\": \"\", \"showlegend\": false, \"subplot\": \"mapbox\", \"type\": \"scattermapbox\"}], \"name\": \"01/31/2020\"}, {\"data\": [{\"customdata\": [[267.0, 23.0, 1.0], [581.0, 10.0, 101.0], [53.0, 1.0, 33.0], [160.0, 0.0, 78.0], [33.0, 1.0, 2.0], [129.0, 0.0, 24.0], [31.0, 0.0, 16.0], [7.0, 0.0, 4.0], [31.0, 0.0, 0.0], [3.0, 0.0, 0.0], [12.0, 0.0, 2.0], [1.0, 0.0, 1.0], [144.0, 2.0, 2.0], [6.0, 0.0, 1.0], [36.0, 0.0, 4.0], [2.0, 0.0, 1.0], [1.0, 0.0, 1.0], [55.0, 2.0, 4.0], [18.0, 0.0, 7.0], [32.0, 1.0, 4.0], [40.0, 0.0, 1.0], [74.0, 0.0, 12.0], [18.0, 0.0, 8.0], [56.0, 0.0, 4.0], [10149.0, 631.0, 724.0], [10.0, 0.0, 3.0], [355.0, 0.0, 1.0], [1457.0, 2.0, 18.0], [7.0, 0.0, 2.0], [1695.0, 35.0, 32.0], [267.0, 0.0, 1.0], [59.0, 1.0, 1.0], [8042.0, 291.0, 2731.0], [41.0, 1.0, 1.0], [18.0, 0.0, 9.0], [5.0, 0.0, 0.0], [110.0, 0.0, 22.0], [71.0, 7.0, 3.0], [69.0, 0.0, 1.0], [20.0, 0.0, 0.0], [14.0, 0.0, 0.0], [491.0, 3.0, 3.0], [182.0, 0.0, 4.0], [58.0, 0.0, 4.0], [16.0, 0.0, 1.0], [15.0, 0.0, 0.0], [89.0, 0.0, 0.0], [7.0, 0.0, 0.0], [400.0, 0.0, 1.0], [25.0, 0.0, 3.0], [12.0, 0.0, 0.0], [382.0, 4.0, 0.0], [51.0, 2.0, 0.0], [9.0, 0.0, 3.0], [69.0, 0.0, 1.0], [1.0, 0.0, 0.0], [5.0, 0.0, 0.0], [2.0, 0.0, 0.0], [6.0, 1.0, 0.0], [34.0, 0.0, 0.0], [5.0, 0.0, 0.0], [1.0, 0.0, 0.0], [24.0, 0.0, 0.0], [15.0, 0.0, 0.0], [11.0, 0.0, 0.0], [1.0, 0.0, 0.0], [5.0, 0.0, 0.0], [27.0, 0.0, 2.0], [41.0, 0.0, 0.0], [1.0, 0.0, 0.0], [2.0, 0.0, 0.0], [8.0, 0.0, 1.0], [3.0, 1.0, 0.0], [20.0, 0.0, 1.0], [4.0, 0.0, 1.0], [17.0, 1.0, 0.0], [13.0, 0.0, 0.0], [1.0, 0.0, 0.0], [1.0, 0.0, 0.0], [9.0, 0.0, 0.0], [1.0, 0.0, 0.0], [1.0, 0.0, 0.0], [22.0, 0.0, 0.0], [5.0, 0.0, 0.0], [5.0, 0.0, 0.0], [31.0, 0.0, 0.0], [7.0, 0.0, 0.0], [1.0, 0.0, 0.0], [2.0, 0.0, 0.0], [9.0, 0.0, 0.0], [11.0, 0.0, 0.0], [5.0, 0.0, 0.0], [7.0, 0.0, 0.0], [1.0, 0.0, 0.0], [5.0, 0.0, 0.0], [5.0, 0.0, 0.0], [2.0, 0.0, 0.0], [4.0, 0.0, 0.0], [6.0, 0.0, 0.0], [3.0, 0.0, 0.0], [3.0, 0.0, 0.0], [1.0, 0.0, 0.0], [7.0, 0.0, 0.0], [4.0, 0.0, 0.0], [10.0, 0.0, 0.0], [3.0, 0.0, 0.0], [1.0, 0.0, 0.0], [173.0, 0.0, 0.0], [92.0, 0.0, 1.0], [25.0, 0.0, 0.0], [21.0, 0.0, 0.0], [17.0, 0.0, 0.0], [15.0, 0.0, 0.0], [15.0, 2.0, 0.0], [15.0, 1.0, 0.0], [15.0, 0.0, 0.0], [13.0, 0.0, 0.0], [12.0, 0.0, 0.0], [8.0, 0.0, 0.0], [8.0, 0.0, 0.0], [7.0, 0.0, 0.0], [7.0, 0.0, 0.0], [7.0, 0.0, 0.0], [7.0, 0.0, 0.0], [6.0, 0.0, 0.0], [6.0, 0.0, 0.0], [5.0, 0.0, 0.0], [4.0, 0.0, 0.0], [4.0, 0.0, 0.0], [3.0, 0.0, 0.0], [3.0, 0.0, 0.0], [3.0, 0.0, 0.0], [3.0, 0.0, 0.0], [3.0, 0.0, 1.0], [2.0, 0.0, 0.0], [2.0, 0.0, 0.0], [2.0, 0.0, 0.0], [2.0, 0.0, 0.0], [1.0, 0.0, 0.0], [1.0, 0.0, 0.0], [1.0, 0.0, 0.0], [1.0, 0.0, 0.0], [1.0, 0.0, 0.0], [1.0, 0.0, 0.0], [1.0, 0.0, 0.0], [1.0, 0.0, 0.0], [0.0, 0.0, 0.0], [0.0, 0.0, 0.0], [0.0, 0.0, 0.0], [0.0, 0.0, 0.0], [0.0, 0.0, 0.0], [0.0, 0.0, 0.0], [0.0, 0.0, 0.0], [0.0, 0.0, 0.0], [0.0, 0.0, 0.0], [0.0, 0.0, 0.0], [0.0, 0.0, 0.0], [0.0, 0.0, 0.0], [0.0, 0.0, 0.0]], \"hoverlabel\": {\"namelength\": 0}, \"hovertemplate\": \"<b>%{hovertext}</b><br><br>ObservationDate=03/10/2020<br>Confirmed=%{customdata[0]}<br>Deaths=%{customdata[1]}<br>Recovered=%{customdata[2]}<br>Lat=%{lat}<br>Long=%{lon}\", \"hovertext\": [\"Washington\", null, null, null, null, null, null, null, null, null, \"Illinois\", null, \"California\", \"Arizona\", \"Ontario\", null, null, \"New South Wales\", \"Victoria\", \"British Columbia\", null, null, \"Queensland\", null, null, null, null, null, \"South Australia\", null, null, null, null, null, null, null, null, null, null, null, null, null, null, null, null, null, null, null, null, null, null, null, null, null, null, null, null, null, \"Western Australia\", null, null, null, null, null, null, null, null, null, null, null, \"Tasmania\", null, null, null, null, null, null, null, null, null, \"Northern Territory\", null, null, null, null, null, null, null, null, null, null, null, null, null, null, null, null, null, null, null, null, null, \"Alberta\", \"Quebec\", null, null, null, \"New York\", \"Massachusetts\", null, \"Grand Princess\", \"Georgia\", \"Colorado\", \"Florida\", \"New Jersey\", \"Oregon\", \"Texas\", \"Pennsylvania\", \"Iowa\", \"Maryland\", \"North Carolina\", \"South Carolina\", \"Tennessee\", \"Virginia\", \"Indiana\", \"Kentucky\", \"District of Columbia\", \"Nevada\", \"New Hampshire\", \"Minnesota\", \"Nebraska\", \"Ohio\", \"Rhode Island\", \"Wisconsin\", \"Connecticut\", \"Hawaii\", \"Oklahoma\", \"Utah\", null, null, null, null, \"Kansas\", \"Louisiana\", \"Missouri\", \"Vermont\", \"Alaska\", \"Arkansas\", \"Delaware\", \"Idaho\", \"Maine\", \"Michigan\", \"Mississippi\", \"Montana\", \"New Mexico\", \"North Dakota\", \"South Dakota\", \"West Virginia\", \"Wyoming\"], \"lat\": [47.4009, 36.0, 15.0, 1.2833, 13.0, 2.5, 16.0, 23.6345, -14.235, 4.5709, 40.3495, 28.1667, 36.1162, 33.7298, 51.2538, 11.55, 7.0, -33.8688, -37.8136, 49.2827, 64.0, 24.0, -28.0167, 21.0, 43.0, 60.0, 63.0, 51.0, -34.9285, 40.0, 50.8333, 26.0, 32.0, 33.8547, 21.0, 33.0, 26.0275, 33.0, 29.5, 28.0339, 45.1, 46.8182, 47.5162, 31.0, 30.3753, 42.3154, 39.0742, 41.6086, 60.472, 45.9432, 58.5953, 52.1326, 43.9424, 53.7098, 64.9631, 55.1694, -40.9006, 9.082, -31.9505, 53.1424, 49.8153, 43.7333, 25.3548, -1.8312, 40.1431, 40.0691, 18.7357, -0.7893, 39.3999, 42.5063, -41.4545, 56.8796, 31.7917, 24.0, 14.4974, -38.4161, -35.6751, 31.24, 48.3794, 47.1625, -12.4634, 47.14, 51.9194, 34.0, 43.9159, 46.1512, -30.5595, 27.5142, 3.8480000000000003, 9.7489, -9.19, 44.0165, 48.669, 8.6195, 3.9339, 35.9375, 14.6415, 42.7339, 3.2028, 23.685, 47.4116, -23.4425, 53.9333, 52.9399, 41.1533, 35.1264, 4.5353, 42.1657, 42.2302, 31.9522, 37.6489, 33.0406, 39.0598, 27.7663, 40.2989, 44.571999999999996, 31.0545, 40.5908, 42.0115, 39.0639, 35.6301, 33.8569, 35.7478, 37.7693, 39.8494, 37.6681, 38.8974, 38.3135, 43.4525, 45.6945, 41.1254, 40.3888, 41.6809, 44.2685, 41.5978, 21.0943, 35.5653, 40.15, 12.2383, 41.9029, 46.8625, 8.538, 38.5266, 31.1695, 38.4561, 44.0459, 61.3707, 34.9697, 39.3185, 44.2405, 44.6939, 43.3266, 32.7416, 46.9219, 34.8405, 47.5289, 44.2998, 38.4912, 42.756], \"legendgroup\": \"\", \"lon\": [-121.4905, 138.0, 101.0, 103.8333, 122.0, 112.5, 108.0, -102.5528, -51.9253, -74.2973, -88.9861, 84.25, -119.6816, -111.4312, -85.3232, 104.9167, 81.0, 151.2093, 144.9631, -123.1207, 26.0, 54.0, 153.4, 78.0, 12.0, 90.0, 16.0, 9.0, 138.6007, -4.0, 4.0, 30.0, 53.0, 35.8623, 57.0, 65.0, 50.55, 44.0, 47.75, 1.6596, 15.2, 8.2275, 14.5501, 35.0, 69.3451, 43.3569, 21.8243, 21.7453, 8.4689, 24.9668, 25.0136, 5.2913, 12.4578, 27.9534, -19.0208, 23.8813, 174.886, 8.6753, 115.8605, -7.6921, 6.1296, 7.4167, 51.1839, -78.1834, 47.5769, 45.0382, -70.1627, 113.9213, -8.2245, 1.5218, 145.9707, 24.6032, -7.0926, 45.0, -14.4524, -63.6167, -71.543, 36.51, 31.1656, 19.5033, 130.8456, 9.55, 19.1451, 9.0, 17.6791, 14.9955, 22.9375, 90.4336, 11.5021, -83.7534, -75.0152, 21.0059, 19.699, 0.8248, -53.1258, 14.3754, -61.0242, 25.4858, 73.2207, 90.3563, 28.3699, -58.4438, -116.5765, -73.5491, 20.1683, 33.4299, 114.7277, -74.9481, -71.5301, 35.2332, -122.6655, -83.6431, -105.3111, -81.6868, -74.521, -122.0709, -97.5635, -77.2098, -93.2105, -76.8021, -79.8064, -80.945, -86.6923, -78.17, -86.2583, -84.6701, -77.0268, -117.0554, -71.5639, -93.9002, -98.2681, -82.7649, -71.5118, -89.6165, -72.7554, -157.4983, -96.9289, -111.8624, -1.5616, 12.4534, 103.8467, -80.7821, -96.7265, -91.8678, -92.2884, -72.7107, -152.4044, -92.3731, -75.5071, -114.4788, -69.3819, -84.5361, -89.6787, -110.4544, -106.2485, -99.78399999999999, -99.4388, -80.9545, -107.3025], \"marker\": {\"color\": \"#636efa\"}, \"mode\": \"markers\", \"name\": \"\", \"showlegend\": false, \"subplot\": \"mapbox\", \"type\": \"scattermapbox\"}], \"name\": \"03/10/2020\"}, {\"data\": [{\"customdata\": [[366.0, 29.0, 1.0], [639.0, 15.0, 118.0], [59.0, 1.0, 34.0], [178.0, 0.0, 96.0], [49.0, 1.0, 2.0], [149.0, 0.0, 26.0], [38.0, 0.0, 16.0], [8.0, 0.0, 4.0], [38.0, 0.0, 0.0], [9.0, 0.0, 0.0], [25.0, 0.0, 2.0], [1.0, 0.0, 1.0], [177.0, 3.0, 2.0], [9.0, 0.0, 1.0], [41.0, 0.0, 4.0], [3.0, 0.0, 1.0], [2.0, 0.0, 1.0], [65.0, 2.0, 4.0], [21.0, 0.0, 7.0], [39.0, 1.0, 4.0], [59.0, 0.0, 1.0], [74.0, 0.0, 17.0], [20.0, 0.0, 8.0], [62.0, 1.0, 4.0], [12462.0, 827.0, 1045.0], [20.0, 0.0, 3.0], [500.0, 1.0, 1.0], [1908.0, 3.0, 25.0], [9.0, 0.0, 2.0], [2277.0, 54.0, 183.0], [314.0, 3.0, 1.0], [60.0, 1.0, 27.0], [9000.0, 354.0, 2959.0], [61.0, 3.0, 1.0], [18.0, 0.0, 9.0], [7.0, 0.0, 0.0], [195.0, 0.0, 35.0], [71.0, 7.0, 15.0], [72.0, 0.0, 2.0], [20.0, 0.0, 0.0], [19.0, 0.0, 0.0], [652.0, 4.0, 4.0], [246.0, 0.0, 4.0], [109.0, 0.0, 4.0], [19.0, 0.0, 2.0], [24.0, 0.0, 0.0], [99.0, 1.0, 0.0], [7.0, 0.0, 0.0], [598.0, 0.0, 1.0], [45.0, 0.0, 6.0], [16.0, 0.0, 0.0], [503.0, 5.0, 0.0], [62.0, 2.0, 0.0], [9.0, 0.0, 3.0], [85.0, 0.0, 1.0], [3.0, 0.0, 0.0], [5.0, 0.0, 0.0], [2.0, 0.0, 0.0], [9.0, 1.0, 0.0], [43.0, 1.0, 0.0], [7.0, 0.0, 0.0], [1.0, 0.0, 0.0], [262.0, 0.0, 0.0], [17.0, 0.0, 0.0], [11.0, 0.0, 3.0], [1.0, 0.0, 0.0], [5.0, 0.0, 0.0], [34.0, 1.0, 2.0], [59.0, 0.0, 0.0], [1.0, 0.0, 0.0], [3.0, 0.0, 0.0], [10.0, 0.0, 1.0], [5.0, 1.0, 0.0], [21.0, 0.0, 1.0], [4.0, 0.0, 1.0], [19.0, 1.0, 0.0], [23.0, 0.0, 0.0], [1.0, 0.0, 0.0], [1.0, 0.0, 0.0], [13.0, 0.0, 0.0], [1.0, 0.0, 0.0], [1.0, 0.0, 0.0], [31.0, 0.0, 0.0], [7.0, 0.0, 0.0], [7.0, 0.0, 0.0], [57.0, 0.0, 0.0], [13.0, 0.0, 0.0], [1.0, 0.0, 0.0], [2.0, 0.0, 0.0], [13.0, 0.0, 0.0], [11.0, 0.0, 0.0], [12.0, 0.0, 0.0], [10.0, 0.0, 0.0], [1.0, 0.0, 0.0], [5.0, 0.0, 0.0], [6.0, 0.0, 0.0], [3.0, 0.0, 0.0], [7.0, 1.0, 0.0], [8.0, 0.0, 0.0], [3.0, 0.0, 0.0], [3.0, 0.0, 0.0], [5.0, 0.0, 0.0], [19.0, 0.0, 0.0], [8.0, 0.0, 0.0], [12.0, 1.0, 0.0], [6.0, 0.0, 0.0], [11.0, 0.0, 0.0], [220.0, 0.0, 0.0], [95.0, 0.0, 1.0], [0.0, 0.0, 0.0], [21.0, 0.0, 0.0], [23.0, 0.0, 0.0], [34.0, 0.0, 0.0], [28.0, 2.0, 0.0], [23.0, 1.0, 0.0], [19.0, 0.0, 0.0], [21.0, 0.0, 0.0], [16.0, 0.0, 0.0], [13.0, 0.0, 0.0], [9.0, 0.0, 0.0], [7.0, 0.0, 0.0], [10.0, 0.0, 0.0], [9.0, 0.0, 0.0], [9.0, 0.0, 0.0], [11.0, 0.0, 0.0], [8.0, 0.0, 0.0], [10.0, 0.0, 0.0], [7.0, 0.0, 0.0], [5.0, 0.0, 0.0], [5.0, 0.0, 0.0], [5.0, 0.0, 0.0], [4.0, 0.0, 0.0], [5.0, 0.0, 0.0], [6.0, 0.0, 1.0], [3.0, 0.0, 0.0], [2.0, 0.0, 0.0], [2.0, 0.0, 0.0], [3.0, 0.0, 0.0], [2.0, 0.0, 0.0], [1.0, 0.0, 0.0], [1.0, 0.0, 0.0], [8.0, 1.0, 0.0], [1.0, 0.0, 0.0], [6.0, 0.0, 0.0], [1.0, 0.0, 0.0], [1.0, 0.0, 0.0], [0.0, 0.0, 0.0], [1.0, 0.0, 0.0], [1.0, 0.0, 0.0], [0.0, 0.0, 0.0], [0.0, 0.0, 0.0], [2.0, 0.0, 0.0], [0.0, 0.0, 0.0], [1.0, 0.0, 0.0], [3.0, 0.0, 0.0], [0.0, 0.0, 0.0], [8.0, 1.0, 0.0], [0.0, 0.0, 0.0], [0.0, 0.0, 0.0], [2281.0, 48.0, 12.0], [442.0, 0.0, 1.0], [2.0, 0.0, 0.0], [2.0, 0.0, 0.0], [2.0, 0.0, 0.0], [2.0, 0.0, 0.0], [1.0, 0.0, 0.0], [1.0, 0.0, 0.0], [1.0, 0.0, 0.0], [1.0, 0.0, 0.0], [1.0, 0.0, 0.0], [1.0, 0.0, 0.0]], \"hoverlabel\": {\"namelength\": 0}, \"hovertemplate\": \"<b>%{hovertext}</b><br><br>ObservationDate=03/11/2020<br>Confirmed=%{customdata[0]}<br>Deaths=%{customdata[1]}<br>Recovered=%{customdata[2]}<br>Lat=%{lat}<br>Long=%{lon}\", \"hovertext\": [\"Washington\", null, null, null, null, null, null, null, null, null, \"Illinois\", null, \"California\", \"Arizona\", \"Ontario\", null, null, \"New South Wales\", \"Victoria\", \"British Columbia\", null, null, \"Queensland\", null, null, null, null, null, \"South Australia\", null, null, null, null, null, null, null, null, null, null, null, null, null, null, null, null, null, null, null, null, null, null, null, null, null, null, null, null, null, \"Western Australia\", null, null, null, null, null, null, null, null, null, null, null, \"Tasmania\", null, null, null, null, null, null, null, null, null, \"Northern Territory\", null, null, null, null, null, null, null, null, null, null, null, null, null, null, null, null, null, null, null, null, null, \"Alberta\", \"Quebec\", null, null, null, \"New York\", \"Massachusetts\", null, \"Grand Princess\", \"Georgia\", \"Colorado\", \"Florida\", \"New Jersey\", \"Oregon\", \"Texas\", \"Pennsylvania\", \"Iowa\", \"Maryland\", \"North Carolina\", \"South Carolina\", \"Tennessee\", \"Virginia\", \"Indiana\", \"Kentucky\", \"District of Columbia\", \"Nevada\", \"New Hampshire\", \"Minnesota\", \"Nebraska\", \"Ohio\", \"Rhode Island\", \"Wisconsin\", \"Connecticut\", \"Hawaii\", \"Oklahoma\", \"Utah\", null, null, null, null, \"Kansas\", \"Louisiana\", \"Missouri\", \"Vermont\", \"Alaska\", \"Arkansas\", \"Delaware\", \"Idaho\", \"Maine\", \"Michigan\", \"Mississippi\", \"Montana\", \"New Mexico\", \"North Dakota\", \"South Dakota\", \"West Virginia\", \"Wyoming\", \"France\", \"Denmark\", null, \"Faroe Islands\", \"St Martin\", null, \"New Brunswick\", null, \"Saint Barthelemy\", null, null, null], \"lat\": [47.4009, 36.0, 15.0, 1.2833, 13.0, 2.5, 16.0, 23.6345, -14.235, 4.5709, 40.3495, 28.1667, 36.1162, 33.7298, 51.2538, 11.55, 7.0, -33.8688, -37.8136, 49.2827, 64.0, 24.0, -28.0167, 21.0, 43.0, 60.0, 63.0, 51.0, -34.9285, 40.0, 50.8333, 26.0, 32.0, 33.8547, 21.0, 33.0, 26.0275, 33.0, 29.5, 28.0339, 45.1, 46.8182, 47.5162, 31.0, 30.3753, 42.3154, 39.0742, 41.6086, 60.472, 45.9432, 58.5953, 52.1326, 43.9424, 53.7098, 64.9631, 55.1694, -40.9006, 9.082, -31.9505, 53.1424, 49.8153, 43.7333, 25.3548, -1.8312, 40.1431, 40.0691, 18.7357, -0.7893, 39.3999, 42.5063, -41.4545, 56.8796, 31.7917, 24.0, 14.4974, -38.4161, -35.6751, 31.24, 48.3794, 47.1625, -12.4634, 47.14, 51.9194, 34.0, 43.9159, 46.1512, -30.5595, 27.5142, 3.8480000000000003, 9.7489, -9.19, 44.0165, 48.669, 8.6195, 3.9339, 35.9375, 14.6415, 42.7339, 3.2028, 23.685, 47.4116, -23.4425, 53.9333, 52.9399, 41.1533, 35.1264, 4.5353, 42.1657, 42.2302, 31.9522, 37.6489, 33.0406, 39.0598, 27.7663, 40.2989, 44.571999999999996, 31.0545, 40.5908, 42.0115, 39.0639, 35.6301, 33.8569, 35.7478, 37.7693, 39.8494, 37.6681, 38.8974, 38.3135, 43.4525, 45.6945, 41.1254, 40.3888, 41.6809, 44.2685, 41.5978, 21.0943, 35.5653, 40.15, 12.2383, 41.9029, 46.8625, 8.538, 38.5266, 31.1695, 38.4561, 44.0459, 61.3707, 34.9697, 39.3185, 44.2405, 44.6939, 43.3266, 32.7416, 46.9219, 34.8405, 47.5289, 44.2998, 38.4912, 42.756, 46.2276, 56.2639, -16.2902, 61.8926, 18.0708, 15.2, 46.5653, -4.0383, 17.9, 18.1096, -21.1151, 38.9637], \"legendgroup\": \"\", \"lon\": [-121.4905, 138.0, 101.0, 103.8333, 122.0, 112.5, 108.0, -102.5528, -51.9253, -74.2973, -88.9861, 84.25, -119.6816, -111.4312, -85.3232, 104.9167, 81.0, 151.2093, 144.9631, -123.1207, 26.0, 54.0, 153.4, 78.0, 12.0, 90.0, 16.0, 9.0, 138.6007, -4.0, 4.0, 30.0, 53.0, 35.8623, 57.0, 65.0, 50.55, 44.0, 47.75, 1.6596, 15.2, 8.2275, 14.5501, 35.0, 69.3451, 43.3569, 21.8243, 21.7453, 8.4689, 24.9668, 25.0136, 5.2913, 12.4578, 27.9534, -19.0208, 23.8813, 174.886, 8.6753, 115.8605, -7.6921, 6.1296, 7.4167, 51.1839, -78.1834, 47.5769, 45.0382, -70.1627, 113.9213, -8.2245, 1.5218, 145.9707, 24.6032, -7.0926, 45.0, -14.4524, -63.6167, -71.543, 36.51, 31.1656, 19.5033, 130.8456, 9.55, 19.1451, 9.0, 17.6791, 14.9955, 22.9375, 90.4336, 11.5021, -83.7534, -75.0152, 21.0059, 19.699, 0.8248, -53.1258, 14.3754, -61.0242, 25.4858, 73.2207, 90.3563, 28.3699, -58.4438, -116.5765, -73.5491, 20.1683, 33.4299, 114.7277, -74.9481, -71.5301, 35.2332, -122.6655, -83.6431, -105.3111, -81.6868, -74.521, -122.0709, -97.5635, -77.2098, -93.2105, -76.8021, -79.8064, -80.945, -86.6923, -78.17, -86.2583, -84.6701, -77.0268, -117.0554, -71.5639, -93.9002, -98.2681, -82.7649, -71.5118, -89.6165, -72.7554, -157.4983, -96.9289, -111.8624, -1.5616, 12.4534, 103.8467, -80.7821, -96.7265, -91.8678, -92.2884, -72.7107, -152.4044, -92.3731, -75.5071, -114.4788, -69.3819, -84.5361, -89.6787, -110.4544, -106.2485, -99.78399999999999, -99.4388, -80.9545, -107.3025, 2.2137, 9.5018, -63.5887, -6.9118, -63.0501, -86.2419, -66.4619, 21.7587, -62.8333, -77.2975, 55.5364, 35.2433], \"marker\": {\"color\": \"#636efa\"}, \"mode\": \"markers\", \"name\": \"\", \"showlegend\": false, \"subplot\": \"mapbox\", \"type\": \"scattermapbox\"}], \"name\": \"03/11/2020\"}, {\"data\": [{\"customdata\": [[442.0, 31.0, 1.0], [639.0, 16.0, 118.0], [70.0, 1.0, 34.0], [178.0, 0.0, 96.0], [52.0, 2.0, 2.0], [149.0, 0.0, 26.0], [39.0, 0.0, 16.0], [12.0, 0.0, 4.0], [52.0, 0.0, 0.0], [9.0, 0.0, 0.0], [32.0, 0.0, 2.0], [1.0, 0.0, 1.0], [221.0, 4.0, 6.0], [9.0, 0.0, 1.0], [42.0, 0.0, 4.0], [3.0, 0.0, 1.0], [2.0, 0.0, 1.0], [65.0, 2.0, 4.0], [21.0, 0.0, 7.0], [46.0, 1.0, 4.0], [59.0, 0.0, 1.0], [85.0, 0.0, 17.0], [20.0, 0.0, 8.0], [73.0, 1.0, 4.0], [12462.0, 827.0, 1045.0], [28.0, 0.0, 3.0], [599.0, 1.0, 1.0], [2078.0, 3.0, 25.0], [9.0, 0.0, 2.0], [2277.0, 55.0, 183.0], [314.0, 3.0, 1.0], [67.0, 1.0, 27.0], [10075.0, 429.0, 2959.0], [61.0, 3.0, 1.0], [18.0, 0.0, 9.0], [7.0, 0.0, 0.0], [195.0, 0.0, 35.0], [71.0, 8.0, 15.0], [80.0, 0.0, 5.0], [24.0, 1.0, 8.0], [19.0, 0.0, 0.0], [652.0, 4.0, 4.0], [302.0, 1.0, 4.0], [131.0, 0.0, 4.0], [20.0, 0.0, 2.0], [24.0, 0.0, 0.0], [99.0, 1.0, 0.0], [7.0, 0.0, 0.0], [702.0, 0.0, 1.0], [49.0, 0.0, 6.0], [16.0, 0.0, 0.0], [503.0, 5.0, 0.0], [69.0, 3.0, 0.0], [12.0, 0.0, 3.0], [103.0, 0.0, 1.0], [3.0, 0.0, 0.0], [5.0, 0.0, 0.0], [2.0, 0.0, 0.0], [9.0, 1.0, 0.0], [43.0, 1.0, 0.0], [19.0, 0.0, 0.0], [2.0, 0.0, 0.0], [262.0, 0.0, 0.0], [17.0, 0.0, 0.0], [11.0, 0.0, 3.0], [4.0, 0.0, 0.0], [5.0, 0.0, 0.0], [34.0, 1.0, 2.0], [59.0, 0.0, 0.0], [1.0, 0.0, 1.0], [3.0, 0.0, 0.0], [10.0, 0.0, 1.0], [6.0, 1.0, 0.0], [45.0, 0.0, 1.0], [4.0, 0.0, 1.0], [19.0, 1.0, 0.0], [23.0, 0.0, 0.0], [1.0, 0.0, 0.0], [1.0, 0.0, 0.0], [13.0, 0.0, 0.0], [1.0, 0.0, 0.0], [1.0, 0.0, 0.0], [49.0, 1.0, 0.0], [7.0, 0.0, 0.0], [11.0, 0.0, 0.0], [89.0, 0.0, 0.0], [17.0, 0.0, 0.0], [1.0, 0.0, 0.0], [2.0, 0.0, 0.0], [22.0, 0.0, 0.0], [15.0, 0.0, 0.0], [19.0, 0.0, 0.0], [16.0, 0.0, 0.0], [1.0, 0.0, 0.0], [5.0, 0.0, 0.0], [6.0, 0.0, 0.0], [3.0, 0.0, 0.0], [7.0, 1.0, 0.0], [8.0, 0.0, 0.0], [3.0, 0.0, 0.0], [3.0, 0.0, 0.0], [5.0, 0.0, 0.0], [19.0, 0.0, 0.0], [9.0, 0.0, 0.0], [23.0, 1.0, 0.0], [6.0, 0.0, 0.0], [11.0, 0.0, 0.0], [328.0, 0.0, 0.0], [108.0, 0.0, 1.0], [0.0, 0.0, 0.0], [21.0, 0.0, 0.0], [31.0, 1.0, 0.0], [45.0, 0.0, 0.0], [35.0, 2.0, 0.0], [29.0, 1.0, 0.0], [24.0, 0.0, 0.0], [27.0, 0.0, 0.0], [22.0, 0.0, 0.0], [16.0, 0.0, 0.0], [12.0, 0.0, 0.0], [15.0, 0.0, 0.0], [12.0, 0.0, 0.0], [18.0, 0.0, 0.0], [17.0, 0.0, 0.0], [13.0, 0.0, 0.0], [10.0, 0.0, 0.0], [10.0, 0.0, 0.0], [14.0, 0.0, 0.0], [6.0, 0.0, 0.0], [9.0, 0.0, 0.0], [10.0, 0.0, 0.0], [5.0, 0.0, 0.0], [5.0, 0.0, 0.0], [8.0, 0.0, 1.0], [5.0, 0.0, 0.0], [2.0, 0.0, 0.0], [2.0, 0.0, 0.0], [5.0, 0.0, 0.0], [2.0, 0.0, 0.0], [1.0, 0.0, 0.0], [1.0, 0.0, 0.0], [11.0, 1.0, 0.0], [1.0, 0.0, 0.0], [19.0, 0.0, 0.0], [1.0, 0.0, 0.0], [2.0, 0.0, 0.0], [0.0, 0.0, 0.0], [6.0, 0.0, 0.0], [1.0, 0.0, 0.0], [0.0, 0.0, 0.0], [0.0, 0.0, 0.0], [2.0, 0.0, 0.0], [1.0, 0.0, 0.0], [1.0, 0.0, 0.0], [5.0, 0.0, 0.0], [1.0, 0.0, 0.0], [8.0, 1.0, 0.0], [0.0, 0.0, 0.0], [1.0, 0.0, 0.0], [2281.0, 48.0, 12.0], [615.0, 0.0, 1.0], [2.0, 0.0, 0.0], [2.0, 0.0, 0.0], [2.0, 0.0, 0.0], [2.0, 0.0, 0.0], [1.0, 0.0, 0.0], [1.0, 0.0, 0.0], [1.0, 0.0, 0.0], [2.0, 0.0, 0.0], [1.0, 0.0, 0.0], [1.0, 0.0, 0.0], [3.0, 0.0, 0.0], [1.0, 1.0, 0.0]], \"hoverlabel\": {\"namelength\": 0}, \"hovertemplate\": \"<b>%{hovertext}</b><br><br>ObservationDate=03/12/2020<br>Confirmed=%{customdata[0]}<br>Deaths=%{customdata[1]}<br>Recovered=%{customdata[2]}<br>Lat=%{lat}<br>Long=%{lon}\", \"hovertext\": [\"Washington\", null, null, null, null, null, null, null, null, null, \"Illinois\", null, \"California\", \"Arizona\", \"Ontario\", null, null, \"New South Wales\", \"Victoria\", \"British Columbia\", null, null, \"Queensland\", null, null, null, null, null, \"South Australia\", null, null, null, null, null, null, null, null, null, null, null, null, null, null, null, null, null, null, null, null, null, null, null, null, null, null, null, null, null, \"Western Australia\", null, null, null, null, null, null, null, null, null, null, null, \"Tasmania\", null, null, null, null, null, null, null, null, null, \"Northern Territory\", null, null, null, null, null, null, null, null, null, null, null, null, null, null, null, null, null, null, null, null, null, \"Alberta\", \"Quebec\", null, null, null, \"New York\", \"Massachusetts\", null, \"Grand Princess\", \"Georgia\", \"Colorado\", \"Florida\", \"New Jersey\", \"Oregon\", \"Texas\", \"Pennsylvania\", \"Iowa\", \"Maryland\", \"North Carolina\", \"South Carolina\", \"Tennessee\", \"Virginia\", \"Indiana\", \"Kentucky\", \"District of Columbia\", \"Nevada\", \"New Hampshire\", \"Minnesota\", \"Nebraska\", \"Ohio\", \"Rhode Island\", \"Wisconsin\", \"Connecticut\", \"Hawaii\", \"Oklahoma\", \"Utah\", null, null, null, null, \"Kansas\", \"Louisiana\", \"Missouri\", \"Vermont\", \"Alaska\", \"Arkansas\", \"Delaware\", \"Idaho\", \"Maine\", \"Michigan\", \"Mississippi\", \"Montana\", \"New Mexico\", \"North Dakota\", \"South Dakota\", \"West Virginia\", \"Wyoming\", \"France\", \"Denmark\", null, \"Faroe Islands\", \"St Martin\", null, \"New Brunswick\", null, \"Saint Barthelemy\", null, null, null, null, null], \"lat\": [47.4009, 36.0, 15.0, 1.2833, 13.0, 2.5, 16.0, 23.6345, -14.235, 4.5709, 40.3495, 28.1667, 36.1162, 33.7298, 51.2538, 11.55, 7.0, -33.8688, -37.8136, 49.2827, 64.0, 24.0, -28.0167, 21.0, 43.0, 60.0, 63.0, 51.0, -34.9285, 40.0, 50.8333, 26.0, 32.0, 33.8547, 21.0, 33.0, 26.0275, 33.0, 29.5, 28.0339, 45.1, 46.8182, 47.5162, 31.0, 30.3753, 42.3154, 39.0742, 41.6086, 60.472, 45.9432, 58.5953, 52.1326, 43.9424, 53.7098, 64.9631, 55.1694, -40.9006, 9.082, -31.9505, 53.1424, 49.8153, 43.7333, 25.3548, -1.8312, 40.1431, 40.0691, 18.7357, -0.7893, 39.3999, 42.5063, -41.4545, 56.8796, 31.7917, 24.0, 14.4974, -38.4161, -35.6751, 31.24, 48.3794, 47.1625, -12.4634, 47.14, 51.9194, 34.0, 43.9159, 46.1512, -30.5595, 27.5142, 3.8480000000000003, 9.7489, -9.19, 44.0165, 48.669, 8.6195, 3.9339, 35.9375, 14.6415, 42.7339, 3.2028, 23.685, 47.4116, -23.4425, 53.9333, 52.9399, 41.1533, 35.1264, 4.5353, 42.1657, 42.2302, 31.9522, 37.6489, 33.0406, 39.0598, 27.7663, 40.2989, 44.571999999999996, 31.0545, 40.5908, 42.0115, 39.0639, 35.6301, 33.8569, 35.7478, 37.7693, 39.8494, 37.6681, 38.8974, 38.3135, 43.4525, 45.6945, 41.1254, 40.3888, 41.6809, 44.2685, 41.5978, 21.0943, 35.5653, 40.15, 12.2383, 41.9029, 46.8625, 8.538, 38.5266, 31.1695, 38.4561, 44.0459, 61.3707, 34.9697, 39.3185, 44.2405, 44.6939, 43.3266, 32.7416, 46.9219, 34.8405, 47.5289, 44.2998, 38.4912, 42.756, 46.2276, 56.2639, -16.2902, 61.8926, 18.0708, 15.2, 46.5653, -4.0383, 17.9, 18.1096, -21.1151, 38.9637, 22.0, 5.0], \"legendgroup\": \"\", \"lon\": [-121.4905, 138.0, 101.0, 103.8333, 122.0, 112.5, 108.0, -102.5528, -51.9253, -74.2973, -88.9861, 84.25, -119.6816, -111.4312, -85.3232, 104.9167, 81.0, 151.2093, 144.9631, -123.1207, 26.0, 54.0, 153.4, 78.0, 12.0, 90.0, 16.0, 9.0, 138.6007, -4.0, 4.0, 30.0, 53.0, 35.8623, 57.0, 65.0, 50.55, 44.0, 47.75, 1.6596, 15.2, 8.2275, 14.5501, 35.0, 69.3451, 43.3569, 21.8243, 21.7453, 8.4689, 24.9668, 25.0136, 5.2913, 12.4578, 27.9534, -19.0208, 23.8813, 174.886, 8.6753, 115.8605, -7.6921, 6.1296, 7.4167, 51.1839, -78.1834, 47.5769, 45.0382, -70.1627, 113.9213, -8.2245, 1.5218, 145.9707, 24.6032, -7.0926, 45.0, -14.4524, -63.6167, -71.543, 36.51, 31.1656, 19.5033, 130.8456, 9.55, 19.1451, 9.0, 17.6791, 14.9955, 22.9375, 90.4336, 11.5021, -83.7534, -75.0152, 21.0059, 19.699, 0.8248, -53.1258, 14.3754, -61.0242, 25.4858, 73.2207, 90.3563, 28.3699, -58.4438, -116.5765, -73.5491, 20.1683, 33.4299, 114.7277, -74.9481, -71.5301, 35.2332, -122.6655, -83.6431, -105.3111, -81.6868, -74.521, -122.0709, -97.5635, -77.2098, -93.2105, -76.8021, -79.8064, -80.945, -86.6923, -78.17, -86.2583, -84.6701, -77.0268, -117.0554, -71.5639, -93.9002, -98.2681, -82.7649, -71.5118, -89.6165, -72.7554, -157.4983, -96.9289, -111.8624, -1.5616, 12.4534, 103.8467, -80.7821, -96.7265, -91.8678, -92.2884, -72.7107, -152.4044, -92.3731, -75.5071, -114.4788, -69.3819, -84.5361, -89.6787, -110.4544, -106.2485, -99.78399999999999, -99.4388, -80.9545, -107.3025, 2.2137, 9.5018, -63.5887, -6.9118, -63.0501, -86.2419, -66.4619, 21.7587, -62.8333, -77.2975, 55.5364, 35.2433, -80.0, -58.75], \"marker\": {\"color\": \"#636efa\"}, \"mode\": \"markers\", \"name\": \"\", \"showlegend\": false, \"subplot\": \"mapbox\", \"type\": \"scattermapbox\"}], \"name\": \"03/12/2020\"}, {\"data\": [{\"customdata\": [[568.0, 37.0, 1.0], [701.0, 19.0, 118.0], [75.0, 1.0, 35.0], [200.0, 0.0, 97.0], [64.0, 5.0, 2.0], [197.0, 0.0, 26.0], [47.0, 0.0, 16.0], [12.0, 0.0, 4.0], [151.0, 0.0, 0.0], [13.0, 0.0, 0.0], [46.0, 0.0, 2.0], [1.0, 0.0, 1.0], [282.0, 4.0, 6.0], [9.0, 0.0, 1.0], [74.0, 0.0, 4.0], [5.0, 0.0, 1.0], [6.0, 0.0, 1.0], [92.0, 2.0, 4.0], [36.0, 0.0, 8.0], [64.0, 1.0, 4.0], [155.0, 0.0, 1.0], [85.0, 0.0, 17.0], [35.0, 0.0, 8.0], [82.0, 2.0, 4.0], [17660.0, 1266.0, 1439.0], [45.0, 0.0, 3.0], [814.0, 1.0, 1.0], [3675.0, 7.0, 46.0], [16.0, 0.0, 3.0], [5232.0, 133.0, 193.0], [559.0, 3.0, 1.0], [80.0, 2.0, 27.0], [11364.0, 514.0, 2959.0], [77.0, 3.0, 1.0], [19.0, 0.0, 9.0], [7.0, 0.0, 0.0], [189.0, 0.0, 44.0], [101.0, 9.0, 24.0], [80.0, 0.0, 5.0], [26.0, 2.0, 8.0], [32.0, 0.0, 1.0], [1139.0, 11.0, 4.0], [504.0, 1.0, 6.0], [161.0, 0.0, 4.0], [28.0, 0.0, 2.0], [25.0, 0.0, 0.0], [190.0, 1.0, 0.0], [14.0, 0.0, 1.0], [996.0, 0.0, 1.0], [89.0, 0.0, 7.0], [79.0, 0.0, 0.0], [804.0, 10.0, 0.0], [80.0, 5.0, 0.0], [27.0, 0.0, 3.0], [134.0, 0.0, 1.0], [6.0, 0.0, 0.0], [5.0, 0.0, 0.0], [2.0, 0.0, 0.0], [14.0, 1.0, 0.0], [90.0, 1.0, 0.0], [34.0, 0.0, 0.0], [2.0, 0.0, 0.0], [320.0, 0.0, 0.0], [17.0, 0.0, 0.0], [15.0, 1.0, 3.0], [8.0, 0.0, 0.0], [5.0, 0.0, 0.0], [69.0, 4.0, 2.0], [112.0, 0.0, 1.0], [1.0, 0.0, 0.0], [5.0, 0.0, 0.0], [17.0, 0.0, 1.0], [7.0, 1.0, 1.0], [86.0, 0.0, 1.0], [10.0, 0.0, 1.0], [31.0, 2.0, 0.0], [43.0, 0.0, 0.0], [1.0, 0.0, 1.0], [3.0, 1.0, 0.0], [19.0, 0.0, 0.0], [1.0, 0.0, 0.0], [1.0, 0.0, 0.0], [68.0, 2.0, 0.0], [16.0, 0.0, 0.0], [13.0, 0.0, 0.0], [141.0, 0.0, 0.0], [24.0, 0.0, 0.0], [1.0, 0.0, 0.0], [2.0, 0.0, 0.0], [23.0, 0.0, 0.0], [28.0, 0.0, 0.0], [35.0, 0.0, 0.0], [32.0, 0.0, 0.0], [1.0, 0.0, 0.0], [5.0, 0.0, 0.0], [12.0, 0.0, 1.0], [3.0, 0.0, 0.0], [23.0, 1.0, 0.0], [9.0, 0.0, 0.0], [3.0, 0.0, 0.0], [6.0, 0.0, 0.0], [6.0, 0.0, 0.0], [29.0, 0.0, 0.0], [17.0, 0.0, 0.0], [33.0, 1.0, 0.0], [14.0, 0.0, 0.0], [37.0, 0.0, 0.0], [421.0, 0.0, 0.0], [123.0, 0.0, 1.0], [21.0, 0.0, 0.0], [42.0, 1.0, 0.0], [49.0, 0.0, 0.0], [50.0, 2.0, 0.0], [29.0, 1.0, 0.0], [30.0, 0.0, 0.0], [43.0, 0.0, 0.0], [41.0, 0.0, 0.0], [17.0, 0.0, 0.0], [18.0, 0.0, 0.0], [17.0, 0.0, 0.0], [13.0, 0.0, 0.0], [26.0, 0.0, 0.0], [30.0, 0.0, 0.0], [13.0, 0.0, 0.0], [14.0, 0.0, 0.0], [10.0, 0.0, 0.0], [17.0, 0.0, 0.0], [6.0, 0.0, 0.0], [14.0, 0.0, 0.0], [13.0, 0.0, 0.0], [13.0, 0.0, 0.0], [14.0, 0.0, 0.0], [19.0, 0.0, 1.0], [11.0, 0.0, 0.0], [2.0, 0.0, 0.0], [2.0, 0.0, 0.0], [9.0, 0.0, 0.0], [2.0, 0.0, 0.0], [1.0, 0.0, 0.0], [1.0, 0.0, 0.0], [27.0, 1.0, 0.0], [5.0, 1.0, 0.0], [36.0, 0.0, 0.0], [2.0, 0.0, 0.0], [2.0, 0.0, 0.0], [1.0, 0.0, 0.0], [6.0, 0.0, 0.0], [4.0, 0.0, 0.0], [1.0, 0.0, 0.0], [1.0, 0.0, 0.0], [16.0, 0.0, 0.0], [1.0, 0.0, 0.0], [1.0, 0.0, 0.0], [10.0, 0.0, 0.0], [1.0, 0.0, 0.0], [8.0, 1.0, 0.0], [0.0, 0.0, 0.0], [1.0, 0.0, 0.0], [3661.0, 79.0, 12.0], [801.0, 0.0, 1.0], [3.0, 0.0, 0.0], [3.0, 0.0, 0.0], [2.0, 0.0, 0.0], [2.0, 0.0, 0.0], [1.0, 0.0, 0.0], [2.0, 0.0, 0.0], [1.0, 0.0, 0.0], [8.0, 0.0, 0.0], [5.0, 0.0, 0.0], [5.0, 0.0, 0.0], [4.0, 0.0, 0.0], [1.0, 1.0, 0.0], [1.0, 0.0, 0.0], [4.0, 0.0, 0.0], [3.0, 0.0, 0.0], [1.0, 0.0, 0.0], [1.0, 0.0, 0.0], [4.0, 0.0, 0.0], [2.0, 0.0, 0.0], [1.0, 0.0, 0.0], [1.0, 1.0, 0.0], [1.0, 0.0, 0.0], [1.0, 0.0, 0.0], [2.0, 0.0, 0.0], [2.0, 0.0, 0.0], [1.0, 0.0, 0.0], [5.0, 0.0, 0.0]], \"hoverlabel\": {\"namelength\": 0}, \"hovertemplate\": \"<b>%{hovertext}</b><br><br>ObservationDate=03/13/2020<br>Confirmed=%{customdata[0]}<br>Deaths=%{customdata[1]}<br>Recovered=%{customdata[2]}<br>Lat=%{lat}<br>Long=%{lon}\", \"hovertext\": [\"Washington\", null, null, null, null, null, null, null, null, null, \"Illinois\", null, \"California\", \"Arizona\", \"Ontario\", null, null, \"New South Wales\", \"Victoria\", \"British Columbia\", null, null, \"Queensland\", null, null, null, null, null, \"South Australia\", null, null, null, null, null, null, null, null, null, null, null, null, null, null, null, null, null, null, null, null, null, null, null, null, null, null, null, null, null, \"Western Australia\", null, null, null, null, null, null, null, null, null, null, null, \"Tasmania\", null, null, null, null, null, null, null, null, null, \"Northern Territory\", null, null, null, null, null, null, null, null, null, null, null, null, null, null, null, null, null, null, null, null, null, \"Alberta\", \"Quebec\", null, null, null, \"New York\", \"Massachusetts\", \"Grand Princess\", \"Georgia\", \"Colorado\", \"Florida\", \"New Jersey\", \"Oregon\", \"Texas\", \"Pennsylvania\", \"Iowa\", \"Maryland\", \"North Carolina\", \"South Carolina\", \"Tennessee\", \"Virginia\", \"Indiana\", \"Kentucky\", \"District of Columbia\", \"Nevada\", \"New Hampshire\", \"Minnesota\", \"Nebraska\", \"Ohio\", \"Rhode Island\", \"Wisconsin\", \"Connecticut\", \"Hawaii\", \"Oklahoma\", \"Utah\", null, null, null, null, \"Kansas\", \"Louisiana\", \"Missouri\", \"Vermont\", \"Alaska\", \"Arkansas\", \"Delaware\", \"Idaho\", \"Maine\", \"Michigan\", \"Mississippi\", \"Montana\", \"New Mexico\", \"North Dakota\", \"South Dakota\", \"West Virginia\", \"Wyoming\", \"France\", \"Denmark\", null, \"Faroe Islands\", \"St Martin\", null, \"New Brunswick\", null, \"Saint Barthelemy\", null, null, null, null, null, \"Australian Capital Territory\", null, \"French Polynesia\", null, null, \"Manitoba\", \"Saskatchewan\", null, null, null, null, null, \"Grand Princess\", null, \"Alabama\"], \"lat\": [47.4009, 36.0, 15.0, 1.2833, 13.0, 2.5, 16.0, 23.6345, -14.235, 4.5709, 40.3495, 28.1667, 36.1162, 33.7298, 51.2538, 11.55, 7.0, -33.8688, -37.8136, 49.2827, 64.0, 24.0, -28.0167, 21.0, 43.0, 60.0, 63.0, 51.0, -34.9285, 40.0, 50.8333, 26.0, 32.0, 33.8547, 21.0, 33.0, 26.0275, 33.0, 29.5, 28.0339, 45.1, 46.8182, 47.5162, 31.0, 30.3753, 42.3154, 39.0742, 41.6086, 60.472, 45.9432, 58.5953, 52.1326, 43.9424, 53.7098, 64.9631, 55.1694, -40.9006, 9.082, -31.9505, 53.1424, 49.8153, 43.7333, 25.3548, -1.8312, 40.1431, 40.0691, 18.7357, -0.7893, 39.3999, 42.5063, -41.4545, 56.8796, 31.7917, 24.0, 14.4974, -38.4161, -35.6751, 31.24, 48.3794, 47.1625, -12.4634, 47.14, 51.9194, 34.0, 43.9159, 46.1512, -30.5595, 27.5142, 3.8480000000000003, 9.7489, -9.19, 44.0165, 48.669, 8.6195, 3.9339, 35.9375, 14.6415, 42.7339, 3.2028, 23.685, 47.4116, -23.4425, 53.9333, 52.9399, 41.1533, 35.1264, 4.5353, 42.1657, 42.2302, 37.6489, 33.0406, 39.0598, 27.7663, 40.2989, 44.571999999999996, 31.0545, 40.5908, 42.0115, 39.0639, 35.6301, 33.8569, 35.7478, 37.7693, 39.8494, 37.6681, 38.8974, 38.3135, 43.4525, 45.6945, 41.1254, 40.3888, 41.6809, 44.2685, 41.5978, 21.0943, 35.5653, 40.15, 12.2383, 41.9029, 46.8625, 8.538, 38.5266, 31.1695, 38.4561, 44.0459, 61.3707, 34.9697, 39.3185, 44.2405, 44.6939, 43.3266, 32.7416, 46.9219, 34.8405, 47.5289, 44.2998, 38.4912, 42.756, 46.2276, 56.2639, -16.2902, 61.8926, 18.0708, 15.2, 46.5653, -4.0383, 17.9, 18.1096, -21.1151, 38.9637, 22.0, 5.0, -35.4735, 48.0196, -17.6797, 19.3133, 16.265, 53.7609, 52.9399, 9.145, 12.8628, 9.9456, 17.0608, 12.5211, 37.6489, -0.0236, 32.3182], \"legendgroup\": \"\", \"lon\": [-121.4905, 138.0, 101.0, 103.8333, 122.0, 112.5, 108.0, -102.5528, -51.9253, -74.2973, -88.9861, 84.25, -119.6816, -111.4312, -85.3232, 104.9167, 81.0, 151.2093, 144.9631, -123.1207, 26.0, 54.0, 153.4, 78.0, 12.0, 90.0, 16.0, 9.0, 138.6007, -4.0, 4.0, 30.0, 53.0, 35.8623, 57.0, 65.0, 50.55, 44.0, 47.75, 1.6596, 15.2, 8.2275, 14.5501, 35.0, 69.3451, 43.3569, 21.8243, 21.7453, 8.4689, 24.9668, 25.0136, 5.2913, 12.4578, 27.9534, -19.0208, 23.8813, 174.886, 8.6753, 115.8605, -7.6921, 6.1296, 7.4167, 51.1839, -78.1834, 47.5769, 45.0382, -70.1627, 113.9213, -8.2245, 1.5218, 145.9707, 24.6032, -7.0926, 45.0, -14.4524, -63.6167, -71.543, 36.51, 31.1656, 19.5033, 130.8456, 9.55, 19.1451, 9.0, 17.6791, 14.9955, 22.9375, 90.4336, 11.5021, -83.7534, -75.0152, 21.0059, 19.699, 0.8248, -53.1258, 14.3754, -61.0242, 25.4858, 73.2207, 90.3563, 28.3699, -58.4438, -116.5765, -73.5491, 20.1683, 33.4299, 114.7277, -74.9481, -71.5301, -122.6655, -83.6431, -105.3111, -81.6868, -74.521, -122.0709, -97.5635, -77.2098, -93.2105, -76.8021, -79.8064, -80.945, -86.6923, -78.17, -86.2583, -84.6701, -77.0268, -117.0554, -71.5639, -93.9002, -98.2681, -82.7649, -71.5118, -89.6165, -72.7554, -157.4983, -96.9289, -111.8624, -1.5616, 12.4534, 103.8467, -80.7821, -96.7265, -91.8678, -92.2884, -72.7107, -152.4044, -92.3731, -75.5071, -114.4788, -69.3819, -84.5361, -89.6787, -110.4544, -106.2485, -99.78399999999999, -99.4388, -80.9545, -107.3025, 2.2137, 9.5018, -63.5887, -6.9118, -63.0501, -86.2419, -66.4619, 21.7587, -62.8333, -77.2975, 55.5364, 35.2433, -80.0, -58.75, 149.0124, 66.9237, 149.4068, -81.2546, -61.551, -98.8139, -106.4509, 40.4897, 30.2176, -9.6966, -61.7964, -69.9683, -122.6655, 37.9062, -86.9023], \"marker\": {\"color\": \"#636efa\"}, \"mode\": \"markers\", \"name\": \"\", \"showlegend\": false, \"subplot\": \"mapbox\", \"type\": \"scattermapbox\"}], \"name\": \"03/13/2020\"}, {\"data\": [{\"customdata\": [[572.0, 37.0, 1.0], [773.0, 22.0, 118.0], [82.0, 1.0, 35.0], [212.0, 0.0, 105.0], [111.0, 8.0, 2.0], [238.0, 0.0, 35.0], [53.0, 0.0, 16.0], [26.0, 0.0, 4.0], [151.0, 0.0, 0.0], [22.0, 0.0, 0.0], [64.0, 0.0, 2.0], [1.0, 0.0, 1.0], [340.0, 5.0, 6.0], [12.0, 0.0, 1.0], [79.0, 0.0, 4.0], [7.0, 0.0, 1.0], [10.0, 0.0, 1.0], [112.0, 2.0, 4.0], [49.0, 0.0, 8.0], [64.0, 1.0, 4.0], [225.0, 0.0, 1.0], [85.0, 0.0, 17.0], [46.0, 0.0, 8.0], [102.0, 2.0, 4.0], [21157.0, 1441.0, 1966.0], [59.0, 0.0, 8.0], [961.0, 2.0, 1.0], [4585.0, 9.0, 46.0], [19.0, 0.0, 3.0], [6391.0, 195.0, 517.0], [689.0, 4.0, 1.0], [109.0, 2.0, 27.0], [12729.0, 611.0, 2959.0], [93.0, 3.0, 1.0], [19.0, 0.0, 9.0], [11.0, 0.0, 0.0], [210.0, 0.0, 44.0], [110.0, 10.0, 26.0], [104.0, 0.0, 5.0], [37.0, 3.0, 12.0], [38.0, 0.0, 1.0], [1359.0, 13.0, 4.0], [655.0, 1.0, 6.0], [193.0, 0.0, 4.0], [31.0, 0.0, 2.0], [30.0, 0.0, 0.0], [228.0, 3.0, 8.0], [14.0, 0.0, 1.0], [1090.0, 3.0, 1.0], [123.0, 0.0, 9.0], [115.0, 0.0, 0.0], [959.0, 12.0, 2.0], [80.0, 5.0, 4.0], [27.0, 0.0, 3.0], [156.0, 0.0, 1.0], [8.0, 0.0, 0.0], [6.0, 0.0, 0.0], [2.0, 0.0, 0.0], [17.0, 1.0, 0.0], [129.0, 2.0, 0.0], [51.0, 1.0, 0.0], [2.0, 0.0, 0.0], [337.0, 0.0, 4.0], [28.0, 2.0, 0.0], [15.0, 1.0, 3.0], [18.0, 0.0, 0.0], [11.0, 0.0, 0.0], [96.0, 5.0, 8.0], [169.0, 0.0, 2.0], [1.0, 0.0, 1.0], [5.0, 0.0, 0.0], [26.0, 0.0, 1.0], [17.0, 1.0, 1.0], [103.0, 0.0, 1.0], [10.0, 0.0, 1.0], [34.0, 2.0, 1.0], [61.0, 0.0, 0.0], [1.0, 0.0, 1.0], [3.0, 1.0, 0.0], [30.0, 0.0, 1.0], [1.0, 0.0, 0.0], [4.0, 0.0, 0.0], [103.0, 3.0, 0.0], [18.0, 0.0, 0.0], [18.0, 0.0, 0.0], [181.0, 1.0, 0.0], [38.0, 0.0, 0.0], [1.0, 0.0, 0.0], [2.0, 0.0, 0.0], [26.0, 0.0, 0.0], [38.0, 0.0, 0.0], [46.0, 0.0, 0.0], [44.0, 0.0, 0.0], [1.0, 0.0, 0.0], [5.0, 0.0, 0.0], [18.0, 0.0, 1.0], [9.0, 0.0, 0.0], [41.0, 2.0, 0.0], [10.0, 0.0, 0.0], [3.0, 0.0, 0.0], [12.0, 0.0, 0.0], [6.0, 0.0, 0.0], [29.0, 0.0, 0.0], [17.0, 0.0, 0.0], [38.0, 1.0, 0.0], [26.0, 0.0, 0.0], [40.0, 0.0, 0.0], [525.0, 2.0, 0.0], [138.0, 0.0, 1.0], [0.0, 0.0, 0.0], [21.0, 0.0, 0.0], [66.0, 1.0, 0.0], [101.0, 1.0, 0.0], [76.0, 3.0, 0.0], [69.0, 1.0, 0.0], [32.0, 0.0, 0.0], [57.0, 0.0, 0.0], [47.0, 0.0, 0.0], [17.0, 0.0, 0.0], [26.0, 0.0, 0.0], [24.0, 0.0, 0.0], [19.0, 0.0, 0.0], [32.0, 0.0, 0.0], [41.0, 1.0, 0.0], [16.0, 0.0, 0.0], [14.0, 0.0, 0.0], [10.0, 0.0, 0.0], [21.0, 0.0, 0.0], [7.0, 0.0, 0.0], [21.0, 0.0, 0.0], [14.0, 0.0, 0.0], [26.0, 0.0, 0.0], [20.0, 0.0, 0.0], [27.0, 0.0, 1.0], [22.0, 0.0, 0.0], [4.0, 0.0, 0.0], [4.0, 0.0, 0.0], [10.0, 0.0, 0.0], [2.0, 0.0, 0.0], [1.0, 0.0, 0.0], [1.0, 0.0, 0.0], [36.0, 1.0, 0.0], [8.0, 1.0, 0.0], [77.0, 1.0, 0.0], [4.0, 0.0, 0.0], [5.0, 0.0, 0.0], [12.0, 0.0, 0.0], [6.0, 0.0, 0.0], [2.0, 0.0, 0.0], [3.0, 0.0, 0.0], [25.0, 0.0, 0.0], [6.0, 0.0, 0.0], [5.0, 0.0, 0.0], [10.0, 0.0, 0.0], [1.0, 0.0, 0.0], [9.0, 1.0, 0.0], [0.0, 0.0, 0.0], [2.0, 0.0, 0.0], [4469.0, 91.0, 12.0], [827.0, 1.0, 1.0], [10.0, 0.0, 0.0], [9.0, 0.0, 0.0], [2.0, 0.0, 0.0], [2.0, 0.0, 0.0], [1.0, 0.0, 0.0], [2.0, 0.0, 0.0], [1.0, 0.0, 0.0], [8.0, 0.0, 0.0], [6.0, 0.0, 0.0], [5.0, 0.0, 0.0], [4.0, 0.0, 0.0], [1.0, 1.0, 0.0], [1.0, 0.0, 0.0], [6.0, 0.0, 0.0], [3.0, 0.0, 0.0], [1.0, 0.0, 0.0], [1.0, 0.0, 0.0], [4.0, 0.0, 0.0], [2.0, 0.0, 0.0], [1.0, 0.0, 0.0], [1.0, 1.0, 0.0], [1.0, 0.0, 0.0], [1.0, 0.0, 0.0], [2.0, 0.0, 0.0], [1.0, 0.0, 0.0], [6.0, 0.0, 0.0], [5.0, 0.0, 0.0], [4.0, 0.0, 0.0], [3.0, 0.0, 0.0], [3.0, 0.0, 0.0], [2.0, 0.0, 0.0], [2.0, 0.0, 0.0], [2.0, 0.0, 0.0], [2.0, 0.0, 0.0], [2.0, 0.0, 0.0], [1.0, 0.0, 0.0], [1.0, 0.0, 0.0], [1.0, 0.0, 0.0], [1.0, 0.0, 0.0], [1.0, 0.0, 0.0], [1.0, 0.0, 0.0], [1.0, 0.0, 0.0], [1.0, 0.0, 0.0], [1.0, 0.0, 0.0], [1.0, 0.0, 0.0], [1.0, 0.0, 0.0]], \"hoverlabel\": {\"namelength\": 0}, \"hovertemplate\": \"<b>%{hovertext}</b><br><br>ObservationDate=03/14/2020<br>Confirmed=%{customdata[0]}<br>Deaths=%{customdata[1]}<br>Recovered=%{customdata[2]}<br>Lat=%{lat}<br>Long=%{lon}\", \"hovertext\": [\"Washington\", null, null, null, null, null, null, null, null, null, \"Illinois\", null, \"California\", \"Arizona\", \"Ontario\", null, null, \"New South Wales\", \"Victoria\", \"British Columbia\", null, null, \"Queensland\", null, null, null, null, null, \"South Australia\", null, null, null, null, null, null, null, null, null, null, null, null, null, null, null, null, null, null, null, null, null, null, null, null, null, null, null, null, null, \"Western Australia\", null, null, null, null, null, null, null, null, null, null, null, \"Tasmania\", null, null, null, null, null, null, null, null, null, \"Northern Territory\", null, null, null, null, null, null, null, null, null, null, null, null, null, null, null, null, null, null, null, null, null, \"Alberta\", \"Quebec\", null, null, null, \"New York\", \"Massachusetts\", null, \"Grand Princess\", \"Georgia\", \"Colorado\", \"Florida\", \"New Jersey\", \"Oregon\", \"Texas\", \"Pennsylvania\", \"Iowa\", \"Maryland\", \"North Carolina\", \"South Carolina\", \"Tennessee\", \"Virginia\", \"Indiana\", \"Kentucky\", \"District of Columbia\", \"Nevada\", \"New Hampshire\", \"Minnesota\", \"Nebraska\", \"Ohio\", \"Rhode Island\", \"Wisconsin\", \"Connecticut\", \"Hawaii\", \"Oklahoma\", \"Utah\", null, null, null, null, \"Kansas\", \"Louisiana\", \"Missouri\", \"Vermont\", \"Arkansas\", \"Delaware\", \"Idaho\", \"Maine\", \"Michigan\", \"Mississippi\", \"Montana\", \"New Mexico\", \"North Dakota\", \"South Dakota\", \"West Virginia\", \"Wyoming\", \"France\", \"Denmark\", null, \"Faroe Islands\", \"St Martin\", null, \"New Brunswick\", null, \"Saint Barthelemy\", null, null, null, null, null, \"Australian Capital Territory\", null, \"French Polynesia\", null, null, \"Manitoba\", \"Saskatchewan\", null, null, null, null, null, null, \"Alabama\", \"Fench Guiana\", null, null, \"Puerto Rico\", null, null, null, null, null, null, null, null, null, null, null, null, null, null, null, \"Virgin Islands, U.S.\"], \"lat\": [47.4009, 36.0, 15.0, 1.2833, 13.0, 2.5, 16.0, 23.6345, -14.235, 4.5709, 40.3495, 28.1667, 36.1162, 33.7298, 51.2538, 11.55, 7.0, -33.8688, -37.8136, 49.2827, 64.0, 24.0, -28.0167, 21.0, 43.0, 60.0, 63.0, 51.0, -34.9285, 40.0, 50.8333, 26.0, 32.0, 33.8547, 21.0, 33.0, 26.0275, 33.0, 29.5, 28.0339, 45.1, 46.8182, 47.5162, 31.0, 30.3753, 42.3154, 39.0742, 41.6086, 60.472, 45.9432, 58.5953, 52.1326, 43.9424, 53.7098, 64.9631, 55.1694, -40.9006, 9.082, -31.9505, 53.1424, 49.8153, 43.7333, 25.3548, -1.8312, 40.1431, 40.0691, 18.7357, -0.7893, 39.3999, 42.5063, -41.4545, 56.8796, 31.7917, 24.0, 14.4974, -38.4161, -35.6751, 31.24, 48.3794, 47.1625, -12.4634, 47.14, 51.9194, 34.0, 43.9159, 46.1512, -30.5595, 27.5142, 3.8480000000000003, 9.7489, -9.19, 44.0165, 48.669, 8.6195, 3.9339, 35.9375, 14.6415, 42.7339, 3.2028, 23.685, 47.4116, -23.4425, 53.9333, 52.9399, 41.1533, 35.1264, 4.5353, 42.1657, 42.2302, 31.9522, 37.6489, 33.0406, 39.0598, 27.7663, 40.2989, 44.571999999999996, 31.0545, 40.5908, 42.0115, 39.0639, 35.6301, 33.8569, 35.7478, 37.7693, 39.8494, 37.6681, 38.8974, 38.3135, 43.4525, 45.6945, 41.1254, 40.3888, 41.6809, 44.2685, 41.5978, 21.0943, 35.5653, 40.15, 12.2383, 41.9029, 46.8625, 8.538, 38.5266, 31.1695, 38.4561, 44.0459, 34.9697, 39.3185, 44.2405, 44.6939, 43.3266, 32.7416, 46.9219, 34.8405, 47.5289, 44.2998, 38.4912, 42.756, 46.2276, 56.2639, -16.2902, 61.8926, 18.0708, 15.2, 46.5653, -4.0383, 17.9, 18.1096, -21.1151, 38.9637, 22.0, 5.0, -35.4735, 48.0196, -17.6797, 19.3133, 16.265, 53.7609, 52.9399, 9.145, 12.8628, 9.9456, 17.0608, 12.5211, -0.0236, 32.3182, 4.0, -32.5228, 7.9465, 18.2208, 49.19, -22.9576, -4.6796, 10.6918, 6.4238, 12.1696, -26.5225, -0.8037, 15.7835, 49.45, 21.0079, -1.9403, 13.9094, 12.9843, 3.9193, 18.3358], \"legendgroup\": \"\", \"lon\": [-121.4905, 138.0, 101.0, 103.8333, 122.0, 112.5, 108.0, -102.5528, -51.9253, -74.2973, -88.9861, 84.25, -119.6816, -111.4312, -85.3232, 104.9167, 81.0, 151.2093, 144.9631, -123.1207, 26.0, 54.0, 153.4, 78.0, 12.0, 90.0, 16.0, 9.0, 138.6007, -4.0, 4.0, 30.0, 53.0, 35.8623, 57.0, 65.0, 50.55, 44.0, 47.75, 1.6596, 15.2, 8.2275, 14.5501, 35.0, 69.3451, 43.3569, 21.8243, 21.7453, 8.4689, 24.9668, 25.0136, 5.2913, 12.4578, 27.9534, -19.0208, 23.8813, 174.886, 8.6753, 115.8605, -7.6921, 6.1296, 7.4167, 51.1839, -78.1834, 47.5769, 45.0382, -70.1627, 113.9213, -8.2245, 1.5218, 145.9707, 24.6032, -7.0926, 45.0, -14.4524, -63.6167, -71.543, 36.51, 31.1656, 19.5033, 130.8456, 9.55, 19.1451, 9.0, 17.6791, 14.9955, 22.9375, 90.4336, 11.5021, -83.7534, -75.0152, 21.0059, 19.699, 0.8248, -53.1258, 14.3754, -61.0242, 25.4858, 73.2207, 90.3563, 28.3699, -58.4438, -116.5765, -73.5491, 20.1683, 33.4299, 114.7277, -74.9481, -71.5301, 35.2332, -122.6655, -83.6431, -105.3111, -81.6868, -74.521, -122.0709, -97.5635, -77.2098, -93.2105, -76.8021, -79.8064, -80.945, -86.6923, -78.17, -86.2583, -84.6701, -77.0268, -117.0554, -71.5639, -93.9002, -98.2681, -82.7649, -71.5118, -89.6165, -72.7554, -157.4983, -96.9289, -111.8624, -1.5616, 12.4534, 103.8467, -80.7821, -96.7265, -91.8678, -92.2884, -72.7107, -92.3731, -75.5071, -114.4788, -69.3819, -84.5361, -89.6787, -110.4544, -106.2485, -99.78399999999999, -99.4388, -80.9545, -107.3025, 2.2137, 9.5018, -63.5887, -6.9118, -63.0501, -86.2419, -66.4619, 21.7587, -62.8333, -77.2975, 55.5364, 35.2433, -80.0, -58.75, 149.0124, 66.9237, 149.4068, -81.2546, -61.551, -98.8139, -106.4509, 40.4897, 30.2176, -9.6966, -61.7964, -69.9683, 37.9062, -86.9023, -53.0, -55.7658, -1.0232, -66.5901, -2.11, 18.4904, 55.492, -61.2225, -66.5897, -68.99, 31.4659, 11.6094, -90.2308, -2.58, 10.9408, 29.8739, -60.9789, -61.2872, -56.0278, -64.8963], \"marker\": {\"color\": \"#636efa\"}, \"mode\": \"markers\", \"name\": \"\", \"showlegend\": false, \"subplot\": \"mapbox\", \"type\": \"scattermapbox\"}], \"name\": \"03/14/2020\"}, {\"data\": [{\"customdata\": [[20.0, 0.0, 1.0], [19.0, 0.0, 5.0], [16.0, 0.0, 0.0], [1.0, 0.0, 0.0], [8.0, 0.0, 0.0], [6.0, 0.0, 1.0], [1.0, 0.0, 0.0], [3.0, 0.0, 0.0], [1.0, 0.0, 0.0], [1.0, 0.0, 0.0], [4.0, 0.0, 2.0], [4.0, 0.0, 0.0], [1.0, 0.0, 0.0], [1.0, 0.0, 0.0], [4.0, 0.0, 0.0], [3.0, 0.0, 0.0], [1.0, 0.0, 0.0], [2.0, 0.0, 0.0], [2.0, 0.0, 0.0], [1.0, 0.0, 0.0], [8.0, 0.0, 0.0], [1.0, 0.0, 0.0], [1.0, 0.0, 0.0], [1.0, 0.0, 0.0]], \"hoverlabel\": {\"namelength\": 0}, \"hovertemplate\": \"<b>%{hovertext}</b><br><br>ObservationDate=02/01/2020<br>Confirmed=%{customdata[0]}<br>Deaths=%{customdata[1]}<br>Recovered=%{customdata[2]}<br>Lat=%{lat}<br>Long=%{lon}\", \"hovertext\": [null, null, null, null, null, null, null, \"Ontario\", null, null, \"New South Wales\", \"Victoria\", \"British Columbia\", null, null, \"Queensland\", null, null, null, null, null, \"South Australia\", null, \"Los Angeles, CA\"], \"lat\": [36.0, 15.0, 1.2833, 13.0, 2.5, 16.0, 28.1667, 51.2538, 11.55, 7.0, -33.8688, -37.8136, 49.2827, 64.0, 24.0, -28.0167, 21.0, 43.0, 60.0, 63.0, 51.0, -34.9285, 40.0, 34.0522], \"legendgroup\": \"\", \"lon\": [138.0, 101.0, 103.8333, 122.0, 112.5, 108.0, 84.25, -85.3232, 104.9167, 81.0, 151.2093, 144.9631, -123.1207, 26.0, 54.0, 153.4, 78.0, 12.0, 90.0, 16.0, 9.0, 138.6007, -4.0, -118.2437], \"marker\": {\"color\": \"#636efa\"}, \"mode\": \"markers\", \"name\": \"\", \"showlegend\": false, \"subplot\": \"mapbox\", \"type\": \"scattermapbox\"}], \"name\": \"02/01/2020\"}, {\"data\": [{\"customdata\": [[20.0, 0.0, 1.0], [19.0, 0.0, 5.0], [18.0, 0.0, 0.0], [2.0, 1.0, 0.0], [8.0, 0.0, 0.0], [6.0, 0.0, 1.0], [1.0, 0.0, 0.0], [3.0, 0.0, 0.0], [1.0, 0.0, 0.0], [1.0, 0.0, 0.0], [4.0, 0.0, 2.0], [4.0, 0.0, 0.0], [1.0, 0.0, 0.0], [1.0, 0.0, 0.0], [5.0, 0.0, 0.0], [2.0, 0.0, 0.0], [2.0, 0.0, 0.0], [2.0, 0.0, 0.0], [2.0, 0.0, 0.0], [1.0, 0.0, 0.0], [10.0, 0.0, 0.0], [2.0, 0.0, 0.0], [1.0, 0.0, 0.0], [1.0, 0.0, 0.0]], \"hoverlabel\": {\"namelength\": 0}, \"hovertemplate\": \"<b>%{hovertext}</b><br><br>ObservationDate=02/02/2020<br>Confirmed=%{customdata[0]}<br>Deaths=%{customdata[1]}<br>Recovered=%{customdata[2]}<br>Lat=%{lat}<br>Long=%{lon}\", \"hovertext\": [null, null, null, null, null, null, null, \"Ontario\", null, null, \"New South Wales\", \"Victoria\", \"British Columbia\", null, null, \"Queensland\", null, null, null, null, null, \"South Australia\", null, \"Los Angeles, CA\"], \"lat\": [36.0, 15.0, 1.2833, 13.0, 2.5, 16.0, 28.1667, 51.2538, 11.55, 7.0, -33.8688, -37.8136, 49.2827, 64.0, 24.0, -28.0167, 21.0, 43.0, 60.0, 63.0, 51.0, -34.9285, 40.0, 34.0522], \"legendgroup\": \"\", \"lon\": [138.0, 101.0, 103.8333, 122.0, 112.5, 108.0, 84.25, -85.3232, 104.9167, 81.0, 151.2093, 144.9631, -123.1207, 26.0, 54.0, 153.4, 78.0, 12.0, 90.0, 16.0, 9.0, 138.6007, -4.0, -118.2437], \"marker\": {\"color\": \"#636efa\"}, \"mode\": \"markers\", \"name\": \"\", \"showlegend\": false, \"subplot\": \"mapbox\", \"type\": \"scattermapbox\"}], \"name\": \"02/02/2020\"}, {\"data\": [{\"customdata\": [[20.0, 0.0, 1.0], [19.0, 0.0, 5.0], [18.0, 0.0, 0.0], [2.0, 1.0, 0.0], [8.0, 0.0, 0.0], [8.0, 0.0, 1.0], [1.0, 0.0, 0.0], [3.0, 0.0, 0.0], [1.0, 0.0, 0.0], [1.0, 0.0, 0.0], [4.0, 0.0, 2.0], [4.0, 0.0, 0.0], [1.0, 0.0, 0.0], [1.0, 0.0, 0.0], [5.0, 0.0, 0.0], [2.0, 0.0, 0.0], [3.0, 0.0, 0.0], [2.0, 0.0, 0.0], [2.0, 0.0, 0.0], [1.0, 0.0, 0.0], [12.0, 0.0, 0.0], [2.0, 0.0, 0.0], [1.0, 0.0, 0.0], [1.0, 0.0, 0.0], [2.0, 0.0, 0.0]], \"hoverlabel\": {\"namelength\": 0}, \"hovertemplate\": \"<b>%{hovertext}</b><br><br>ObservationDate=02/03/2020<br>Confirmed=%{customdata[0]}<br>Deaths=%{customdata[1]}<br>Recovered=%{customdata[2]}<br>Lat=%{lat}<br>Long=%{lon}\", \"hovertext\": [null, null, null, null, null, null, null, \"Ontario\", null, null, \"New South Wales\", \"Victoria\", \"British Columbia\", null, null, \"Queensland\", null, null, null, null, null, \"South Australia\", null, \"Los Angeles, CA\", \"San Benito, CA\"], \"lat\": [36.0, 15.0, 1.2833, 13.0, 2.5, 16.0, 28.1667, 51.2538, 11.55, 7.0, -33.8688, -37.8136, 49.2827, 64.0, 24.0, -28.0167, 21.0, 43.0, 60.0, 63.0, 51.0, -34.9285, 40.0, 34.0522, 36.5761], \"legendgroup\": \"\", \"lon\": [138.0, 101.0, 103.8333, 122.0, 112.5, 108.0, 84.25, -85.3232, 104.9167, 81.0, 151.2093, 144.9631, -123.1207, 26.0, 54.0, 153.4, 78.0, 12.0, 90.0, 16.0, 9.0, 138.6007, -4.0, -118.2437, -120.9876], \"marker\": {\"color\": \"#636efa\"}, \"mode\": \"markers\", \"name\": \"\", \"showlegend\": false, \"subplot\": \"mapbox\", \"type\": \"scattermapbox\"}], \"name\": \"02/03/2020\"}, {\"data\": [{\"customdata\": [[22.0, 0.0, 1.0], [25.0, 0.0, 5.0], [24.0, 0.0, 0.0], [2.0, 1.0, 0.0], [10.0, 0.0, 0.0], [8.0, 0.0, 1.0], [1.0, 0.0, 0.0], [1.0, 0.0, 0.0], [1.0, 0.0, 0.0], [4.0, 0.0, 2.0], [4.0, 0.0, 0.0], [1.0, 0.0, 0.0], [1.0, 0.0, 0.0], [5.0, 0.0, 0.0], [3.0, 0.0, 0.0], [3.0, 0.0, 0.0], [2.0, 0.0, 0.0], [2.0, 0.0, 0.0], [1.0, 0.0, 0.0], [12.0, 0.0, 0.0], [2.0, 0.0, 0.0], [1.0, 0.0, 0.0], [1.0, 0.0, 0.0], [2.0, 0.0, 0.0], [1.0, 0.0, 0.0]], \"hoverlabel\": {\"namelength\": 0}, \"hovertemplate\": \"<b>%{hovertext}</b><br><br>ObservationDate=02/04/2020<br>Confirmed=%{customdata[0]}<br>Deaths=%{customdata[1]}<br>Recovered=%{customdata[2]}<br>Lat=%{lat}<br>Long=%{lon}\", \"hovertext\": [null, null, null, null, null, null, null, null, null, \"New South Wales\", \"Victoria\", \"British Columbia\", null, null, \"Queensland\", null, null, null, null, null, \"South Australia\", null, \"Los Angeles, CA\", \"San Benito, CA\", null], \"lat\": [36.0, 15.0, 1.2833, 13.0, 2.5, 16.0, 28.1667, 11.55, 7.0, -33.8688, -37.8136, 49.2827, 64.0, 24.0, -28.0167, 21.0, 43.0, 60.0, 63.0, 51.0, -34.9285, 40.0, 34.0522, 36.5761, 50.8333], \"legendgroup\": \"\", \"lon\": [138.0, 101.0, 103.8333, 122.0, 112.5, 108.0, 84.25, 104.9167, 81.0, 151.2093, 144.9631, -123.1207, 26.0, 54.0, 153.4, 78.0, 12.0, 90.0, 16.0, 9.0, 138.6007, -4.0, -118.2437, -120.9876, 4.0], \"marker\": {\"color\": \"#636efa\"}, \"mode\": \"markers\", \"name\": \"\", \"showlegend\": false, \"subplot\": \"mapbox\", \"type\": \"scattermapbox\"}], \"name\": \"02/04/2020\"}, {\"data\": [{\"customdata\": [[22.0, 0.0, 1.0], [25.0, 0.0, 5.0], [28.0, 0.0, 0.0], [2.0, 1.0, 0.0], [12.0, 0.0, 0.0], [8.0, 0.0, 1.0], [1.0, 0.0, 0.0], [1.0, 0.0, 0.0], [1.0, 0.0, 0.0], [4.0, 0.0, 2.0], [4.0, 0.0, 0.0], [2.0, 0.0, 0.0], [1.0, 0.0, 0.0], [5.0, 0.0, 0.0], [3.0, 0.0, 0.0], [3.0, 0.0, 0.0], [2.0, 0.0, 0.0], [2.0, 0.0, 0.0], [1.0, 0.0, 0.0], [12.0, 0.0, 0.0], [2.0, 0.0, 0.0], [1.0, 0.0, 0.0], [1.0, 0.0, 0.0], [2.0, 0.0, 0.0], [1.0, 0.0, 0.0]], \"hoverlabel\": {\"namelength\": 0}, \"hovertemplate\": \"<b>%{hovertext}</b><br><br>ObservationDate=02/05/2020<br>Confirmed=%{customdata[0]}<br>Deaths=%{customdata[1]}<br>Recovered=%{customdata[2]}<br>Lat=%{lat}<br>Long=%{lon}\", \"hovertext\": [null, null, null, null, null, null, null, null, null, \"New South Wales\", \"Victoria\", \"British Columbia\", null, null, \"Queensland\", null, null, null, null, null, \"South Australia\", null, \"Los Angeles, CA\", \"San Benito, CA\", null], \"lat\": [36.0, 15.0, 1.2833, 13.0, 2.5, 16.0, 28.1667, 11.55, 7.0, -33.8688, -37.8136, 49.2827, 64.0, 24.0, -28.0167, 21.0, 43.0, 60.0, 63.0, 51.0, -34.9285, 40.0, 34.0522, 36.5761, 50.8333], \"legendgroup\": \"\", \"lon\": [138.0, 101.0, 103.8333, 122.0, 112.5, 108.0, 84.25, 104.9167, 81.0, 151.2093, 144.9631, -123.1207, 26.0, 54.0, 153.4, 78.0, 12.0, 90.0, 16.0, 9.0, 138.6007, -4.0, -118.2437, -120.9876, 4.0], \"marker\": {\"color\": \"#636efa\"}, \"mode\": \"markers\", \"name\": \"\", \"showlegend\": false, \"subplot\": \"mapbox\", \"type\": \"scattermapbox\"}], \"name\": \"02/05/2020\"}, {\"data\": [{\"customdata\": [[45.0, 0.0, 1.0], [25.0, 0.0, 5.0], [28.0, 0.0, 0.0], [2.0, 1.0, 0.0], [12.0, 0.0, 0.0], [10.0, 0.0, 1.0], [1.0, 0.0, 0.0], [1.0, 0.0, 0.0], [1.0, 0.0, 0.0], [4.0, 0.0, 2.0], [4.0, 0.0, 0.0], [2.0, 0.0, 0.0], [1.0, 0.0, 0.0], [5.0, 0.0, 0.0], [4.0, 0.0, 0.0], [3.0, 0.0, 0.0], [2.0, 0.0, 0.0], [2.0, 0.0, 0.0], [1.0, 0.0, 0.0], [12.0, 0.0, 0.0], [2.0, 0.0, 0.0], [1.0, 0.0, 0.0], [1.0, 0.0, 0.0], [2.0, 0.0, 0.0], [1.0, 0.0, 0.0]], \"hoverlabel\": {\"namelength\": 0}, \"hovertemplate\": \"<b>%{hovertext}</b><br><br>ObservationDate=02/06/2020<br>Confirmed=%{customdata[0]}<br>Deaths=%{customdata[1]}<br>Recovered=%{customdata[2]}<br>Lat=%{lat}<br>Long=%{lon}\", \"hovertext\": [null, null, null, null, null, null, null, null, null, \"New South Wales\", \"Victoria\", \"British Columbia\", null, null, \"Queensland\", null, null, null, null, null, \"South Australia\", null, \"Los Angeles, CA\", \"San Benito, CA\", null], \"lat\": [36.0, 15.0, 1.2833, 13.0, 2.5, 16.0, 28.1667, 11.55, 7.0, -33.8688, -37.8136, 49.2827, 64.0, 24.0, -28.0167, 21.0, 43.0, 60.0, 63.0, 51.0, -34.9285, 40.0, 34.0522, 36.5761, 50.8333], \"legendgroup\": \"\", \"lon\": [138.0, 101.0, 103.8333, 122.0, 112.5, 108.0, 84.25, 104.9167, 81.0, 151.2093, 144.9631, -123.1207, 26.0, 54.0, 153.4, 78.0, 12.0, 90.0, 16.0, 9.0, 138.6007, -4.0, -118.2437, -120.9876, 4.0], \"marker\": {\"color\": \"#636efa\"}, \"mode\": \"markers\", \"name\": \"\", \"showlegend\": false, \"subplot\": \"mapbox\", \"type\": \"scattermapbox\"}], \"name\": \"02/06/2020\"}, {\"data\": [{\"customdata\": [[25.0, 0.0, 1.0], [25.0, 0.0, 5.0], [30.0, 0.0, 0.0], [3.0, 1.0, 0.0], [12.0, 0.0, 1.0], [10.0, 0.0, 1.0], [1.0, 0.0, 0.0], [1.0, 0.0, 0.0], [1.0, 0.0, 0.0], [4.0, 0.0, 2.0], [4.0, 0.0, 0.0], [4.0, 0.0, 0.0], [1.0, 0.0, 0.0], [5.0, 0.0, 0.0], [5.0, 0.0, 0.0], [3.0, 0.0, 0.0], [3.0, 0.0, 0.0], [2.0, 0.0, 0.0], [1.0, 0.0, 0.0], [13.0, 0.0, 0.0], [2.0, 0.0, 0.0], [1.0, 0.0, 0.0], [1.0, 0.0, 0.0], [2.0, 0.0, 0.0], [1.0, 0.0, 0.0]], \"hoverlabel\": {\"namelength\": 0}, \"hovertemplate\": \"<b>%{hovertext}</b><br><br>ObservationDate=02/07/2020<br>Confirmed=%{customdata[0]}<br>Deaths=%{customdata[1]}<br>Recovered=%{customdata[2]}<br>Lat=%{lat}<br>Long=%{lon}\", \"hovertext\": [null, null, null, null, null, null, null, null, null, \"New South Wales\", \"Victoria\", \"British Columbia\", null, null, \"Queensland\", null, null, null, null, null, \"South Australia\", null, \"Los Angeles, CA\", \"San Benito, CA\", null], \"lat\": [36.0, 15.0, 1.2833, 13.0, 2.5, 16.0, 28.1667, 11.55, 7.0, -33.8688, -37.8136, 49.2827, 64.0, 24.0, -28.0167, 21.0, 43.0, 60.0, 63.0, 51.0, -34.9285, 40.0, 34.0522, 36.5761, 50.8333], \"legendgroup\": \"\", \"lon\": [138.0, 101.0, 103.8333, 122.0, 112.5, 108.0, 84.25, 104.9167, 81.0, 151.2093, 144.9631, -123.1207, 26.0, 54.0, 153.4, 78.0, 12.0, 90.0, 16.0, 9.0, 138.6007, -4.0, -118.2437, -120.9876, 4.0], \"marker\": {\"color\": \"#636efa\"}, \"mode\": \"markers\", \"name\": \"\", \"showlegend\": false, \"subplot\": \"mapbox\", \"type\": \"scattermapbox\"}], \"name\": \"02/07/2020\"}, {\"data\": [{\"customdata\": [[25.0, 0.0, 1.0], [32.0, 0.0, 10.0], [33.0, 0.0, 2.0], [3.0, 1.0, 0.0], [16.0, 0.0, 1.0], [13.0, 0.0, 1.0], [1.0, 0.0, 0.0], [1.0, 0.0, 0.0], [1.0, 0.0, 1.0], [4.0, 0.0, 2.0], [4.0, 0.0, 0.0], [4.0, 0.0, 0.0], [1.0, 0.0, 0.0], [7.0, 0.0, 0.0], [5.0, 0.0, 0.0], [3.0, 0.0, 0.0], [3.0, 0.0, 0.0], [2.0, 0.0, 0.0], [1.0, 0.0, 0.0], [13.0, 0.0, 0.0], [2.0, 0.0, 0.0], [1.0, 0.0, 0.0], [1.0, 0.0, 0.0], [2.0, 0.0, 0.0], [1.0, 0.0, 0.0]], \"hoverlabel\": {\"namelength\": 0}, \"hovertemplate\": \"<b>%{hovertext}</b><br><br>ObservationDate=02/08/2020<br>Confirmed=%{customdata[0]}<br>Deaths=%{customdata[1]}<br>Recovered=%{customdata[2]}<br>Lat=%{lat}<br>Long=%{lon}\", \"hovertext\": [null, null, null, null, null, null, null, null, null, \"New South Wales\", \"Victoria\", \"British Columbia\", null, null, \"Queensland\", null, null, null, null, null, \"South Australia\", null, \"Los Angeles, CA\", \"San Benito, CA\", null], \"lat\": [36.0, 15.0, 1.2833, 13.0, 2.5, 16.0, 28.1667, 11.55, 7.0, -33.8688, -37.8136, 49.2827, 64.0, 24.0, -28.0167, 21.0, 43.0, 60.0, 63.0, 51.0, -34.9285, 40.0, 34.0522, 36.5761, 50.8333], \"legendgroup\": \"\", \"lon\": [138.0, 101.0, 103.8333, 122.0, 112.5, 108.0, 84.25, 104.9167, 81.0, 151.2093, 144.9631, -123.1207, 26.0, 54.0, 153.4, 78.0, 12.0, 90.0, 16.0, 9.0, 138.6007, -4.0, -118.2437, -120.9876, 4.0], \"marker\": {\"color\": \"#636efa\"}, \"mode\": \"markers\", \"name\": \"\", \"showlegend\": false, \"subplot\": \"mapbox\", \"type\": \"scattermapbox\"}], \"name\": \"02/08/2020\"}, {\"data\": [{\"customdata\": [[26.0, 0.0, 1.0], [32.0, 0.0, 10.0], [40.0, 0.0, 2.0], [3.0, 1.0, 0.0], [16.0, 0.0, 1.0], [13.0, 0.0, 1.0], [1.0, 0.0, 0.0], [1.0, 0.0, 0.0], [1.0, 0.0, 1.0], [4.0, 0.0, 2.0], [4.0, 0.0, 0.0], [4.0, 0.0, 0.0], [1.0, 0.0, 0.0], [7.0, 0.0, 0.0], [5.0, 0.0, 0.0], [3.0, 0.0, 0.0], [3.0, 0.0, 0.0], [2.0, 0.0, 0.0], [1.0, 0.0, 0.0], [14.0, 0.0, 0.0], [2.0, 0.0, 0.0], [2.0, 0.0, 0.0], [1.0, 0.0, 0.0], [2.0, 0.0, 0.0], [1.0, 0.0, 0.0]], \"hoverlabel\": {\"namelength\": 0}, \"hovertemplate\": \"<b>%{hovertext}</b><br><br>ObservationDate=02/09/2020<br>Confirmed=%{customdata[0]}<br>Deaths=%{customdata[1]}<br>Recovered=%{customdata[2]}<br>Lat=%{lat}<br>Long=%{lon}\", \"hovertext\": [null, null, null, null, null, null, null, null, null, \"New South Wales\", \"Victoria\", \"British Columbia\", null, null, \"Queensland\", null, null, null, null, null, \"South Australia\", null, \"Los Angeles, CA\", \"San Benito, CA\", null], \"lat\": [36.0, 15.0, 1.2833, 13.0, 2.5, 16.0, 28.1667, 11.55, 7.0, -33.8688, -37.8136, 49.2827, 64.0, 24.0, -28.0167, 21.0, 43.0, 60.0, 63.0, 51.0, -34.9285, 40.0, 34.0522, 36.5761, 50.8333], \"legendgroup\": \"\", \"lon\": [138.0, 101.0, 103.8333, 122.0, 112.5, 108.0, 84.25, 104.9167, 81.0, 151.2093, 144.9631, -123.1207, 26.0, 54.0, 153.4, 78.0, 12.0, 90.0, 16.0, 9.0, 138.6007, -4.0, -118.2437, -120.9876, 4.0], \"marker\": {\"color\": \"#636efa\"}, \"mode\": \"markers\", \"name\": \"\", \"showlegend\": false, \"subplot\": \"mapbox\", \"type\": \"scattermapbox\"}], \"name\": \"02/09/2020\"}, {\"data\": [{\"customdata\": [[26.0, 0.0, 4.0], [32.0, 0.0, 10.0], [45.0, 0.0, 2.0], [3.0, 1.0, 0.0], [18.0, 0.0, 1.0], [14.0, 0.0, 1.0], [1.0, 0.0, 0.0], [1.0, 0.0, 0.0], [1.0, 0.0, 1.0], [4.0, 0.0, 2.0], [4.0, 0.0, 0.0], [4.0, 0.0, 0.0], [1.0, 0.0, 0.0], [8.0, 0.0, 0.0], [5.0, 0.0, 0.0], [3.0, 0.0, 0.0], [3.0, 0.0, 0.0], [2.0, 0.0, 0.0], [1.0, 0.0, 0.0], [14.0, 0.0, 0.0], [2.0, 0.0, 0.0], [2.0, 0.0, 0.0], [1.0, 0.0, 0.0], [2.0, 0.0, 0.0], [1.0, 0.0, 0.0]], \"hoverlabel\": {\"namelength\": 0}, \"hovertemplate\": \"<b>%{hovertext}</b><br><br>ObservationDate=02/10/2020<br>Confirmed=%{customdata[0]}<br>Deaths=%{customdata[1]}<br>Recovered=%{customdata[2]}<br>Lat=%{lat}<br>Long=%{lon}\", \"hovertext\": [null, null, null, null, null, null, null, null, null, \"New South Wales\", \"Victoria\", \"British Columbia\", null, null, \"Queensland\", null, null, null, null, null, \"South Australia\", null, \"Los Angeles, CA\", \"San Benito, CA\", null], \"lat\": [36.0, 15.0, 1.2833, 13.0, 2.5, 16.0, 28.1667, 11.55, 7.0, -33.8688, -37.8136, 49.2827, 64.0, 24.0, -28.0167, 21.0, 43.0, 60.0, 63.0, 51.0, -34.9285, 40.0, 34.0522, 36.5761, 50.8333], \"legendgroup\": \"\", \"lon\": [138.0, 101.0, 103.8333, 122.0, 112.5, 108.0, 84.25, 104.9167, 81.0, 151.2093, 144.9631, -123.1207, 26.0, 54.0, 153.4, 78.0, 12.0, 90.0, 16.0, 9.0, 138.6007, -4.0, -118.2437, -120.9876, 4.0], \"marker\": {\"color\": \"#636efa\"}, \"mode\": \"markers\", \"name\": \"\", \"showlegend\": false, \"subplot\": \"mapbox\", \"type\": \"scattermapbox\"}], \"name\": \"02/10/2020\"}, {\"data\": [{\"customdata\": [[26.0, 0.0, 9.0], [33.0, 0.0, 10.0], [47.0, 0.0, 9.0], [3.0, 1.0, 0.0], [18.0, 0.0, 3.0], [15.0, 0.0, 6.0], [1.0, 0.0, 0.0], [1.0, 0.0, 0.0], [1.0, 0.0, 1.0], [4.0, 0.0, 2.0], [4.0, 0.0, 0.0], [4.0, 0.0, 0.0], [1.0, 0.0, 0.0], [8.0, 0.0, 0.0], [5.0, 0.0, 0.0], [3.0, 0.0, 0.0], [3.0, 0.0, 0.0], [2.0, 0.0, 0.0], [1.0, 0.0, 0.0], [16.0, 0.0, 0.0], [2.0, 0.0, 0.0], [2.0, 0.0, 0.0], [1.0, 0.0, 0.0], [2.0, 0.0, 0.0], [1.0, 0.0, 0.0], [1.0, 0.0, 0.0]], \"hoverlabel\": {\"namelength\": 0}, \"hovertemplate\": \"<b>%{hovertext}</b><br><br>ObservationDate=02/11/2020<br>Confirmed=%{customdata[0]}<br>Deaths=%{customdata[1]}<br>Recovered=%{customdata[2]}<br>Lat=%{lat}<br>Long=%{lon}\", \"hovertext\": [null, null, null, null, null, null, null, null, null, \"New South Wales\", \"Victoria\", \"British Columbia\", null, null, \"Queensland\", null, null, null, null, null, \"South Australia\", null, \"Los Angeles, CA\", \"San Benito, CA\", null, \"San Diego County, CA\"], \"lat\": [36.0, 15.0, 1.2833, 13.0, 2.5, 16.0, 28.1667, 11.55, 7.0, -33.8688, -37.8136, 49.2827, 64.0, 24.0, -28.0167, 21.0, 43.0, 60.0, 63.0, 51.0, -34.9285, 40.0, 34.0522, 36.5761, 50.8333, 32.7157], \"legendgroup\": \"\", \"lon\": [138.0, 101.0, 103.8333, 122.0, 112.5, 108.0, 84.25, 104.9167, 81.0, 151.2093, 144.9631, -123.1207, 26.0, 54.0, 153.4, 78.0, 12.0, 90.0, 16.0, 9.0, 138.6007, -4.0, -118.2437, -120.9876, 4.0, -117.1611], \"marker\": {\"color\": \"#636efa\"}, \"mode\": \"markers\", \"name\": \"\", \"showlegend\": false, \"subplot\": \"mapbox\", \"type\": \"scattermapbox\"}], \"name\": \"02/11/2020\"}, {\"data\": [{\"customdata\": [[28.0, 0.0, 9.0], [33.0, 0.0, 10.0], [50.0, 0.0, 15.0], [3.0, 1.0, 1.0], [18.0, 0.0, 3.0], [15.0, 0.0, 6.0], [1.0, 0.0, 1.0], [1.0, 0.0, 1.0], [1.0, 0.0, 1.0], [4.0, 0.0, 2.0], [4.0, 0.0, 0.0], [4.0, 0.0, 0.0], [1.0, 0.0, 1.0], [8.0, 0.0, 1.0], [5.0, 0.0, 0.0], [3.0, 0.0, 0.0], [3.0, 0.0, 0.0], [2.0, 0.0, 2.0], [1.0, 0.0, 0.0], [16.0, 0.0, 0.0], [2.0, 0.0, 0.0], [2.0, 0.0, 0.0], [1.0, 0.0, 0.0], [2.0, 0.0, 0.0], [1.0, 0.0, 0.0], [1.0, 0.0, 0.0]], \"hoverlabel\": {\"namelength\": 0}, \"hovertemplate\": \"<b>%{hovertext}</b><br><br>ObservationDate=02/12/2020<br>Confirmed=%{customdata[0]}<br>Deaths=%{customdata[1]}<br>Recovered=%{customdata[2]}<br>Lat=%{lat}<br>Long=%{lon}\", \"hovertext\": [null, null, null, null, null, null, null, null, null, \"New South Wales\", \"Victoria\", \"British Columbia\", null, null, \"Queensland\", null, null, null, null, null, \"South Australia\", null, \"Los Angeles, CA\", \"San Benito, CA\", null, \"San Diego County, CA\"], \"lat\": [36.0, 15.0, 1.2833, 13.0, 2.5, 16.0, 28.1667, 11.55, 7.0, -33.8688, -37.8136, 49.2827, 64.0, 24.0, -28.0167, 21.0, 43.0, 60.0, 63.0, 51.0, -34.9285, 40.0, 34.0522, 36.5761, 50.8333, 32.7157], \"legendgroup\": \"\", \"lon\": [138.0, 101.0, 103.8333, 122.0, 112.5, 108.0, 84.25, 104.9167, 81.0, 151.2093, 144.9631, -123.1207, 26.0, 54.0, 153.4, 78.0, 12.0, 90.0, 16.0, 9.0, 138.6007, -4.0, -118.2437, -120.9876, 4.0, -117.1611], \"marker\": {\"color\": \"#636efa\"}, \"mode\": \"markers\", \"name\": \"\", \"showlegend\": false, \"subplot\": \"mapbox\", \"type\": \"scattermapbox\"}], \"name\": \"02/12/2020\"}, {\"data\": [{\"customdata\": [[28.0, 1.0, 9.0], [33.0, 0.0, 12.0], [58.0, 0.0, 15.0], [3.0, 1.0, 1.0], [19.0, 0.0, 3.0], [16.0, 0.0, 7.0], [1.0, 0.0, 1.0], [1.0, 0.0, 1.0], [1.0, 0.0, 1.0], [4.0, 0.0, 4.0], [4.0, 0.0, 4.0], [4.0, 0.0, 0.0], [1.0, 0.0, 1.0], [8.0, 0.0, 1.0], [5.0, 0.0, 0.0], [3.0, 0.0, 0.0], [3.0, 0.0, 0.0], [2.0, 0.0, 2.0], [1.0, 0.0, 0.0], [16.0, 0.0, 1.0], [2.0, 0.0, 0.0], [2.0, 0.0, 0.0], [1.0, 0.0, 0.0], [2.0, 0.0, 0.0], [1.0, 0.0, 0.0], [2.0, 0.0, 0.0]], \"hoverlabel\": {\"namelength\": 0}, \"hovertemplate\": \"<b>%{hovertext}</b><br><br>ObservationDate=02/13/2020<br>Confirmed=%{customdata[0]}<br>Deaths=%{customdata[1]}<br>Recovered=%{customdata[2]}<br>Lat=%{lat}<br>Long=%{lon}\", \"hovertext\": [null, null, null, null, null, null, null, null, null, \"New South Wales\", \"Victoria\", \"British Columbia\", null, null, \"Queensland\", null, null, null, null, null, \"South Australia\", null, \"Los Angeles, CA\", \"San Benito, CA\", null, \"San Diego County, CA\"], \"lat\": [36.0, 15.0, 1.2833, 13.0, 2.5, 16.0, 28.1667, 11.55, 7.0, -33.8688, -37.8136, 49.2827, 64.0, 24.0, -28.0167, 21.0, 43.0, 60.0, 63.0, 51.0, -34.9285, 40.0, 34.0522, 36.5761, 50.8333, 32.7157], \"legendgroup\": \"\", \"lon\": [138.0, 101.0, 103.8333, 122.0, 112.5, 108.0, 84.25, 104.9167, 81.0, 151.2093, 144.9631, -123.1207, 26.0, 54.0, 153.4, 78.0, 12.0, 90.0, 16.0, 9.0, 138.6007, -4.0, -118.2437, -120.9876, 4.0, -117.1611], \"marker\": {\"color\": \"#636efa\"}, \"mode\": \"markers\", \"name\": \"\", \"showlegend\": false, \"subplot\": \"mapbox\", \"type\": \"scattermapbox\"}], \"name\": \"02/13/2020\"}, {\"data\": [{\"customdata\": [[29.0, 1.0, 9.0], [33.0, 0.0, 12.0], [67.0, 0.0, 17.0], [3.0, 1.0, 1.0], [19.0, 0.0, 3.0], [16.0, 0.0, 7.0], [1.0, 0.0, 1.0], [1.0, 0.0, 1.0], [1.0, 0.0, 1.0], [4.0, 0.0, 4.0], [4.0, 0.0, 4.0], [4.0, 0.0, 0.0], [1.0, 0.0, 1.0], [8.0, 0.0, 1.0], [5.0, 0.0, 0.0], [3.0, 0.0, 0.0], [3.0, 0.0, 0.0], [2.0, 0.0, 2.0], [1.0, 0.0, 0.0], [16.0, 0.0, 1.0], [2.0, 0.0, 0.0], [2.0, 0.0, 0.0], [1.0, 0.0, 0.0], [2.0, 0.0, 0.0], [1.0, 0.0, 0.0], [2.0, 0.0, 0.0], [1.0, 0.0, 0.0]], \"hoverlabel\": {\"namelength\": 0}, \"hovertemplate\": \"<b>%{hovertext}</b><br><br>ObservationDate=02/14/2020<br>Confirmed=%{customdata[0]}<br>Deaths=%{customdata[1]}<br>Recovered=%{customdata[2]}<br>Lat=%{lat}<br>Long=%{lon}\", \"hovertext\": [null, null, null, null, null, null, null, null, null, \"New South Wales\", \"Victoria\", \"British Columbia\", null, null, \"Queensland\", null, null, null, null, null, \"South Australia\", null, \"Los Angeles, CA\", \"San Benito, CA\", null, \"San Diego County, CA\", null], \"lat\": [36.0, 15.0, 1.2833, 13.0, 2.5, 16.0, 28.1667, 11.55, 7.0, -33.8688, -37.8136, 49.2827, 64.0, 24.0, -28.0167, 21.0, 43.0, 60.0, 63.0, 51.0, -34.9285, 40.0, 34.0522, 36.5761, 50.8333, 32.7157, 26.0], \"legendgroup\": \"\", \"lon\": [138.0, 101.0, 103.8333, 122.0, 112.5, 108.0, 84.25, 104.9167, 81.0, 151.2093, 144.9631, -123.1207, 26.0, 54.0, 153.4, 78.0, 12.0, 90.0, 16.0, 9.0, 138.6007, -4.0, -118.2437, -120.9876, 4.0, -117.1611, 30.0], \"marker\": {\"color\": \"#636efa\"}, \"mode\": \"markers\", \"name\": \"\", \"showlegend\": false, \"subplot\": \"mapbox\", \"type\": \"scattermapbox\"}], \"name\": \"02/14/2020\"}, {\"data\": [{\"customdata\": [[43.0, 1.0, 12.0], [33.0, 0.0, 12.0], [72.0, 0.0, 18.0], [3.0, 1.0, 1.0], [22.0, 0.0, 7.0], [16.0, 0.0, 7.0], [1.0, 0.0, 1.0], [1.0, 0.0, 1.0], [1.0, 0.0, 1.0], [4.0, 0.0, 4.0], [4.0, 0.0, 4.0], [4.0, 0.0, 0.0], [1.0, 0.0, 1.0], [8.0, 0.0, 3.0], [5.0, 0.0, 0.0], [3.0, 0.0, 0.0], [3.0, 0.0, 0.0], [2.0, 0.0, 2.0], [1.0, 0.0, 0.0], [16.0, 0.0, 1.0], [2.0, 0.0, 0.0], [2.0, 0.0, 2.0], [1.0, 0.0, 0.0], [2.0, 0.0, 0.0], [1.0, 0.0, 0.0], [2.0, 0.0, 0.0], [1.0, 0.0, 0.0]], \"hoverlabel\": {\"namelength\": 0}, \"hovertemplate\": \"<b>%{hovertext}</b><br><br>ObservationDate=02/15/2020<br>Confirmed=%{customdata[0]}<br>Deaths=%{customdata[1]}<br>Recovered=%{customdata[2]}<br>Lat=%{lat}<br>Long=%{lon}\", \"hovertext\": [null, null, null, null, null, null, null, null, null, \"New South Wales\", \"Victoria\", \"British Columbia\", null, null, \"Queensland\", null, null, null, null, null, \"South Australia\", null, \"Los Angeles, CA\", \"San Benito, CA\", null, \"San Diego County, CA\", null], \"lat\": [36.0, 15.0, 1.2833, 13.0, 2.5, 16.0, 28.1667, 11.55, 7.0, -33.8688, -37.8136, 49.2827, 64.0, 24.0, -28.0167, 21.0, 43.0, 60.0, 63.0, 51.0, -34.9285, 40.0, 34.0522, 36.5761, 50.8333, 32.7157, 26.0], \"legendgroup\": \"\", \"lon\": [138.0, 101.0, 103.8333, 122.0, 112.5, 108.0, 84.25, 104.9167, 81.0, 151.2093, 144.9631, -123.1207, 26.0, 54.0, 153.4, 78.0, 12.0, 90.0, 16.0, 9.0, 138.6007, -4.0, -118.2437, -120.9876, 4.0, -117.1611, 30.0], \"marker\": {\"color\": \"#636efa\"}, \"mode\": \"markers\", \"name\": \"\", \"showlegend\": false, \"subplot\": \"mapbox\", \"type\": \"scattermapbox\"}], \"name\": \"02/15/2020\"}, {\"data\": [{\"customdata\": [[59.0, 1.0, 12.0], [34.0, 0.0, 14.0], [75.0, 0.0, 18.0], [3.0, 1.0, 1.0], [22.0, 0.0, 7.0], [16.0, 0.0, 7.0], [1.0, 0.0, 1.0], [1.0, 0.0, 1.0], [1.0, 0.0, 1.0], [4.0, 0.0, 4.0], [4.0, 0.0, 4.0], [4.0, 0.0, 0.0], [1.0, 0.0, 1.0], [9.0, 0.0, 4.0], [5.0, 0.0, 0.0], [3.0, 0.0, 3.0], [3.0, 0.0, 0.0], [2.0, 0.0, 2.0], [1.0, 0.0, 0.0], [16.0, 0.0, 1.0], [2.0, 0.0, 0.0], [2.0, 0.0, 2.0], [1.0, 0.0, 0.0], [2.0, 0.0, 0.0], [1.0, 0.0, 0.0], [2.0, 0.0, 0.0], [1.0, 0.0, 0.0]], \"hoverlabel\": {\"namelength\": 0}, \"hovertemplate\": \"<b>%{hovertext}</b><br><br>ObservationDate=02/16/2020<br>Confirmed=%{customdata[0]}<br>Deaths=%{customdata[1]}<br>Recovered=%{customdata[2]}<br>Lat=%{lat}<br>Long=%{lon}\", \"hovertext\": [null, null, null, null, null, null, null, null, null, \"New South Wales\", \"Victoria\", \"British Columbia\", null, null, \"Queensland\", null, null, null, null, null, \"South Australia\", null, \"Los Angeles, CA\", \"San Benito, CA\", null, \"San Diego County, CA\", null], \"lat\": [36.0, 15.0, 1.2833, 13.0, 2.5, 16.0, 28.1667, 11.55, 7.0, -33.8688, -37.8136, 49.2827, 64.0, 24.0, -28.0167, 21.0, 43.0, 60.0, 63.0, 51.0, -34.9285, 40.0, 34.0522, 36.5761, 50.8333, 32.7157, 26.0], \"legendgroup\": \"\", \"lon\": [138.0, 101.0, 103.8333, 122.0, 112.5, 108.0, 84.25, 104.9167, 81.0, 151.2093, 144.9631, -123.1207, 26.0, 54.0, 153.4, 78.0, 12.0, 90.0, 16.0, 9.0, 138.6007, -4.0, -118.2437, -120.9876, 4.0, -117.1611, 30.0], \"marker\": {\"color\": \"#636efa\"}, \"mode\": \"markers\", \"name\": \"\", \"showlegend\": false, \"subplot\": \"mapbox\", \"type\": \"scattermapbox\"}], \"name\": \"02/16/2020\"}, {\"data\": [{\"customdata\": [[66.0, 1.0, 12.0], [35.0, 0.0, 15.0], [77.0, 0.0, 24.0], [3.0, 1.0, 1.0], [22.0, 0.0, 7.0], [16.0, 0.0, 7.0], [1.0, 0.0, 1.0], [1.0, 0.0, 1.0], [1.0, 0.0, 1.0], [4.0, 0.0, 4.0], [4.0, 0.0, 4.0], [5.0, 0.0, 0.0], [1.0, 0.0, 1.0], [9.0, 0.0, 4.0], [5.0, 0.0, 0.0], [3.0, 0.0, 3.0], [3.0, 0.0, 0.0], [2.0, 0.0, 2.0], [1.0, 0.0, 0.0], [16.0, 0.0, 1.0], [2.0, 0.0, 2.0], [2.0, 0.0, 2.0], [1.0, 0.0, 0.0], [2.0, 0.0, 0.0], [1.0, 0.0, 1.0], [2.0, 0.0, 0.0], [1.0, 0.0, 0.0]], \"hoverlabel\": {\"namelength\": 0}, \"hovertemplate\": \"<b>%{hovertext}</b><br><br>ObservationDate=02/17/2020<br>Confirmed=%{customdata[0]}<br>Deaths=%{customdata[1]}<br>Recovered=%{customdata[2]}<br>Lat=%{lat}<br>Long=%{lon}\", \"hovertext\": [null, null, null, null, null, null, null, null, null, \"New South Wales\", \"Victoria\", \"British Columbia\", null, null, \"Queensland\", null, null, null, null, null, \"South Australia\", null, \"Los Angeles, CA\", \"San Benito, CA\", null, \"San Diego County, CA\", null], \"lat\": [36.0, 15.0, 1.2833, 13.0, 2.5, 16.0, 28.1667, 11.55, 7.0, -33.8688, -37.8136, 49.2827, 64.0, 24.0, -28.0167, 21.0, 43.0, 60.0, 63.0, 51.0, -34.9285, 40.0, 34.0522, 36.5761, 50.8333, 32.7157, 26.0], \"legendgroup\": \"\", \"lon\": [138.0, 101.0, 103.8333, 122.0, 112.5, 108.0, 84.25, 104.9167, 81.0, 151.2093, 144.9631, -123.1207, 26.0, 54.0, 153.4, 78.0, 12.0, 90.0, 16.0, 9.0, 138.6007, -4.0, -118.2437, -120.9876, 4.0, -117.1611, 30.0], \"marker\": {\"color\": \"#636efa\"}, \"mode\": \"markers\", \"name\": \"\", \"showlegend\": false, \"subplot\": \"mapbox\", \"type\": \"scattermapbox\"}], \"name\": \"02/17/2020\"}, {\"data\": [{\"customdata\": [[74.0, 1.0, 13.0], [35.0, 0.0, 15.0], [81.0, 0.0, 29.0], [3.0, 1.0, 1.0], [22.0, 0.0, 13.0], [16.0, 0.0, 7.0], [1.0, 0.0, 1.0], [1.0, 0.0, 1.0], [1.0, 0.0, 1.0], [4.0, 0.0, 4.0], [4.0, 0.0, 4.0], [5.0, 0.0, 0.0], [1.0, 0.0, 1.0], [9.0, 0.0, 4.0], [5.0, 0.0, 0.0], [3.0, 0.0, 3.0], [3.0, 0.0, 0.0], [2.0, 0.0, 2.0], [1.0, 0.0, 0.0], [16.0, 0.0, 12.0], [2.0, 0.0, 2.0], [2.0, 0.0, 2.0], [1.0, 0.0, 0.0], [2.0, 0.0, 0.0], [1.0, 0.0, 1.0], [2.0, 0.0, 0.0], [1.0, 0.0, 0.0]], \"hoverlabel\": {\"namelength\": 0}, \"hovertemplate\": \"<b>%{hovertext}</b><br><br>ObservationDate=02/18/2020<br>Confirmed=%{customdata[0]}<br>Deaths=%{customdata[1]}<br>Recovered=%{customdata[2]}<br>Lat=%{lat}<br>Long=%{lon}\", \"hovertext\": [null, null, null, null, null, null, null, null, null, \"New South Wales\", \"Victoria\", \"British Columbia\", null, null, \"Queensland\", null, null, null, null, null, \"South Australia\", null, \"Los Angeles, CA\", \"San Benito, CA\", null, \"San Diego County, CA\", null], \"lat\": [36.0, 15.0, 1.2833, 13.0, 2.5, 16.0, 28.1667, 11.55, 7.0, -33.8688, -37.8136, 49.2827, 64.0, 24.0, -28.0167, 21.0, 43.0, 60.0, 63.0, 51.0, -34.9285, 40.0, 34.0522, 36.5761, 50.8333, 32.7157, 26.0], \"legendgroup\": \"\", \"lon\": [138.0, 101.0, 103.8333, 122.0, 112.5, 108.0, 84.25, 104.9167, 81.0, 151.2093, 144.9631, -123.1207, 26.0, 54.0, 153.4, 78.0, 12.0, 90.0, 16.0, 9.0, 138.6007, -4.0, -118.2437, -120.9876, 4.0, -117.1611, 30.0], \"marker\": {\"color\": \"#636efa\"}, \"mode\": \"markers\", \"name\": \"\", \"showlegend\": false, \"subplot\": \"mapbox\", \"type\": \"scattermapbox\"}], \"name\": \"02/18/2020\"}, {\"data\": [{\"customdata\": [[84.0, 1.0, 18.0], [35.0, 0.0, 15.0], [84.0, 0.0, 34.0], [3.0, 1.0, 1.0], [22.0, 0.0, 15.0], [16.0, 0.0, 7.0], [1.0, 0.0, 1.0], [1.0, 0.0, 1.0], [1.0, 0.0, 1.0], [4.0, 0.0, 4.0], [4.0, 0.0, 4.0], [5.0, 0.0, 0.0], [1.0, 0.0, 1.0], [9.0, 0.0, 4.0], [5.0, 0.0, 0.0], [3.0, 0.0, 3.0], [3.0, 0.0, 0.0], [2.0, 0.0, 2.0], [1.0, 0.0, 0.0], [16.0, 0.0, 12.0], [2.0, 0.0, 2.0], [2.0, 0.0, 2.0], [1.0, 0.0, 0.0], [2.0, 0.0, 0.0], [1.0, 0.0, 1.0], [2.0, 0.0, 0.0], [1.0, 0.0, 0.0], [2.0, 2.0, 0.0]], \"hoverlabel\": {\"namelength\": 0}, \"hovertemplate\": \"<b>%{hovertext}</b><br><br>ObservationDate=02/19/2020<br>Confirmed=%{customdata[0]}<br>Deaths=%{customdata[1]}<br>Recovered=%{customdata[2]}<br>Lat=%{lat}<br>Long=%{lon}\", \"hovertext\": [null, null, null, null, null, null, null, null, null, \"New South Wales\", \"Victoria\", \"British Columbia\", null, null, \"Queensland\", null, null, null, null, null, \"South Australia\", null, \"Los Angeles, CA\", \"San Benito, CA\", null, \"San Diego County, CA\", null, null], \"lat\": [36.0, 15.0, 1.2833, 13.0, 2.5, 16.0, 28.1667, 11.55, 7.0, -33.8688, -37.8136, 49.2827, 64.0, 24.0, -28.0167, 21.0, 43.0, 60.0, 63.0, 51.0, -34.9285, 40.0, 34.0522, 36.5761, 50.8333, 32.7157, 26.0, 32.0], \"legendgroup\": \"\", \"lon\": [138.0, 101.0, 103.8333, 122.0, 112.5, 108.0, 84.25, 104.9167, 81.0, 151.2093, 144.9631, -123.1207, 26.0, 54.0, 153.4, 78.0, 12.0, 90.0, 16.0, 9.0, 138.6007, -4.0, -118.2437, -120.9876, 4.0, -117.1611, 30.0, 53.0], \"marker\": {\"color\": \"#636efa\"}, \"mode\": \"markers\", \"name\": \"\", \"showlegend\": false, \"subplot\": \"mapbox\", \"type\": \"scattermapbox\"}], \"name\": \"02/19/2020\"}, {\"data\": [{\"customdata\": [[94.0, 1.0, 18.0], [35.0, 0.0, 15.0], [84.0, 0.0, 34.0], [3.0, 1.0, 1.0], [22.0, 0.0, 15.0], [16.0, 0.0, 7.0], [1.0, 0.0, 1.0], [1.0, 0.0, 1.0], [1.0, 0.0, 1.0], [4.0, 0.0, 4.0], [4.0, 0.0, 4.0], [5.0, 0.0, 0.0], [1.0, 0.0, 1.0], [9.0, 0.0, 4.0], [5.0, 0.0, 0.0], [3.0, 0.0, 3.0], [3.0, 0.0, 0.0], [2.0, 0.0, 2.0], [1.0, 0.0, 0.0], [16.0, 0.0, 12.0], [2.0, 0.0, 2.0], [2.0, 0.0, 2.0], [1.0, 0.0, 0.0], [2.0, 0.0, 0.0], [1.0, 0.0, 1.0], [2.0, 0.0, 0.0], [1.0, 0.0, 0.0], [5.0, 2.0, 0.0]], \"hoverlabel\": {\"namelength\": 0}, \"hovertemplate\": \"<b>%{hovertext}</b><br><br>ObservationDate=02/20/2020<br>Confirmed=%{customdata[0]}<br>Deaths=%{customdata[1]}<br>Recovered=%{customdata[2]}<br>Lat=%{lat}<br>Long=%{lon}\", \"hovertext\": [null, null, null, null, null, null, null, null, null, \"New South Wales\", \"Victoria\", \"British Columbia\", null, null, \"Queensland\", null, null, null, null, null, \"South Australia\", null, \"Los Angeles, CA\", \"San Benito, CA\", null, \"San Diego County, CA\", null, null], \"lat\": [36.0, 15.0, 1.2833, 13.0, 2.5, 16.0, 28.1667, 11.55, 7.0, -33.8688, -37.8136, 49.2827, 64.0, 24.0, -28.0167, 21.0, 43.0, 60.0, 63.0, 51.0, -34.9285, 40.0, 34.0522, 36.5761, 50.8333, 32.7157, 26.0, 32.0], \"legendgroup\": \"\", \"lon\": [138.0, 101.0, 103.8333, 122.0, 112.5, 108.0, 84.25, 104.9167, 81.0, 151.2093, 144.9631, -123.1207, 26.0, 54.0, 153.4, 78.0, 12.0, 90.0, 16.0, 9.0, 138.6007, -4.0, -118.2437, -120.9876, 4.0, -117.1611, 30.0, 53.0], \"marker\": {\"color\": \"#636efa\"}, \"mode\": \"markers\", \"name\": \"\", \"showlegend\": false, \"subplot\": \"mapbox\", \"type\": \"scattermapbox\"}], \"name\": \"02/20/2020\"}, {\"data\": [{\"customdata\": [[105.0, 1.0, 22.0], [35.0, 0.0, 17.0], [85.0, 0.0, 37.0], [3.0, 1.0, 1.0], [22.0, 0.0, 15.0], [16.0, 0.0, 14.0], [1.0, 0.0, 1.0], [1.0, 0.0, 1.0], [1.0, 0.0, 1.0], [4.0, 0.0, 4.0], [4.0, 0.0, 4.0], [6.0, 0.0, 0.0], [1.0, 0.0, 1.0], [9.0, 0.0, 4.0], [5.0, 0.0, 1.0], [3.0, 0.0, 3.0], [20.0, 1.0, 0.0], [2.0, 0.0, 2.0], [1.0, 0.0, 0.0], [16.0, 0.0, 14.0], [2.0, 0.0, 2.0], [2.0, 0.0, 2.0], [1.0, 0.0, 0.0], [2.0, 0.0, 0.0], [1.0, 0.0, 1.0], [2.0, 0.0, 1.0], [1.0, 0.0, 0.0], [18.0, 4.0, 0.0], [4.0, 0.0, 0.0], [1.0, 0.0, 0.0], [1.0, 0.0, 0.0]], \"hoverlabel\": {\"namelength\": 0}, \"hovertemplate\": \"<b>%{hovertext}</b><br><br>ObservationDate=02/21/2020<br>Confirmed=%{customdata[0]}<br>Deaths=%{customdata[1]}<br>Recovered=%{customdata[2]}<br>Lat=%{lat}<br>Long=%{lon}\", \"hovertext\": [null, null, null, null, null, null, null, null, null, \"New South Wales\", \"Victoria\", \"British Columbia\", null, null, \"Queensland\", null, null, null, null, null, \"South Australia\", null, \"Los Angeles, CA\", \"San Benito, CA\", null, \"San Diego County, CA\", null, null, \"From Diamond Princess\", \"Humboldt County, CA\", \"Sacramento County, CA\"], \"lat\": [36.0, 15.0, 1.2833, 13.0, 2.5, 16.0, 28.1667, 11.55, 7.0, -33.8688, -37.8136, 49.2827, 64.0, 24.0, -28.0167, 21.0, 43.0, 60.0, 63.0, 51.0, -34.9285, 40.0, 34.0522, 36.5761, 50.8333, 32.7157, 26.0, 32.0, 35.4437, 40.745, 38.4747], \"legendgroup\": \"\", \"lon\": [138.0, 101.0, 103.8333, 122.0, 112.5, 108.0, 84.25, 104.9167, 81.0, 151.2093, 144.9631, -123.1207, 26.0, 54.0, 153.4, 78.0, 12.0, 90.0, 16.0, 9.0, 138.6007, -4.0, -118.2437, -120.9876, 4.0, -117.1611, 30.0, 53.0, 139.638, -123.8695, -121.3542], \"marker\": {\"color\": \"#636efa\"}, \"mode\": \"markers\", \"name\": \"\", \"showlegend\": false, \"subplot\": \"mapbox\", \"type\": \"scattermapbox\"}], \"name\": \"02/21/2020\"}, {\"data\": [{\"customdata\": [[122.0, 1.0, 22.0], [35.0, 0.0, 17.0], [85.0, 0.0, 37.0], [3.0, 1.0, 1.0], [22.0, 0.0, 15.0], [16.0, 0.0, 14.0], [1.0, 0.0, 1.0], [1.0, 0.0, 1.0], [1.0, 0.0, 1.0], [4.0, 0.0, 4.0], [4.0, 0.0, 4.0], [6.0, 0.0, 0.0], [1.0, 0.0, 1.0], [13.0, 0.0, 4.0], [5.0, 0.0, 1.0], [3.0, 0.0, 3.0], [62.0, 2.0, 1.0], [2.0, 0.0, 2.0], [1.0, 0.0, 0.0], [16.0, 0.0, 14.0], [2.0, 0.0, 2.0], [2.0, 0.0, 2.0], [1.0, 0.0, 0.0], [2.0, 0.0, 0.0], [1.0, 0.0, 1.0], [2.0, 0.0, 1.0], [1.0, 0.0, 0.0], [28.0, 5.0, 0.0], [7.0, 0.0, 0.0], [1.0, 0.0, 0.0], [1.0, 0.0, 0.0], [1.0, 0.0, 0.0]], \"hoverlabel\": {\"namelength\": 0}, \"hovertemplate\": \"<b>%{hovertext}</b><br><br>ObservationDate=02/22/2020<br>Confirmed=%{customdata[0]}<br>Deaths=%{customdata[1]}<br>Recovered=%{customdata[2]}<br>Lat=%{lat}<br>Long=%{lon}\", \"hovertext\": [null, null, null, null, null, null, null, null, null, \"New South Wales\", \"Victoria\", \"British Columbia\", null, null, \"Queensland\", null, null, null, null, null, \"South Australia\", null, \"Los Angeles, CA\", \"San Benito, CA\", null, \"San Diego County, CA\", null, null, \"From Diamond Princess\", \"Humboldt County, CA\", \"Sacramento County, CA\", null], \"lat\": [36.0, 15.0, 1.2833, 13.0, 2.5, 16.0, 28.1667, 11.55, 7.0, -33.8688, -37.8136, 49.2827, 64.0, 24.0, -28.0167, 21.0, 43.0, 60.0, 63.0, 51.0, -34.9285, 40.0, 34.0522, 36.5761, 50.8333, 32.7157, 26.0, 32.0, 35.4437, 40.745, 38.4747, 33.8547], \"legendgroup\": \"\", \"lon\": [138.0, 101.0, 103.8333, 122.0, 112.5, 108.0, 84.25, 104.9167, 81.0, 151.2093, 144.9631, -123.1207, 26.0, 54.0, 153.4, 78.0, 12.0, 90.0, 16.0, 9.0, 138.6007, -4.0, -118.2437, -120.9876, 4.0, -117.1611, 30.0, 53.0, 139.638, -123.8695, -121.3542, 35.8623], \"marker\": {\"color\": \"#636efa\"}, \"mode\": \"markers\", \"name\": \"\", \"showlegend\": false, \"subplot\": \"mapbox\", \"type\": \"scattermapbox\"}], \"name\": \"02/22/2020\"}, {\"data\": [{\"customdata\": [[147.0, 1.0, 22.0], [35.0, 0.0, 21.0], [89.0, 0.0, 51.0], [3.0, 1.0, 1.0], [22.0, 0.0, 15.0], [16.0, 0.0, 14.0], [1.0, 0.0, 1.0], [1.0, 0.0, 1.0], [1.0, 0.0, 1.0], [4.0, 0.0, 4.0], [4.0, 0.0, 4.0], [6.0, 0.0, 0.0], [1.0, 0.0, 1.0], [13.0, 0.0, 4.0], [5.0, 0.0, 1.0], [3.0, 0.0, 3.0], [155.0, 3.0, 2.0], [2.0, 0.0, 2.0], [1.0, 0.0, 0.0], [16.0, 0.0, 14.0], [2.0, 0.0, 2.0], [2.0, 0.0, 2.0], [1.0, 0.0, 0.0], [2.0, 0.0, 0.0], [1.0, 0.0, 1.0], [2.0, 0.0, 1.0], [1.0, 0.0, 0.0], [43.0, 8.0, 0.0], [7.0, 0.0, 0.0], [1.0, 0.0, 0.0], [1.0, 0.0, 0.0], [1.0, 0.0, 0.0]], \"hoverlabel\": {\"namelength\": 0}, \"hovertemplate\": \"<b>%{hovertext}</b><br><br>ObservationDate=02/23/2020<br>Confirmed=%{customdata[0]}<br>Deaths=%{customdata[1]}<br>Recovered=%{customdata[2]}<br>Lat=%{lat}<br>Long=%{lon}\", \"hovertext\": [null, null, null, null, null, null, null, null, null, \"New South Wales\", \"Victoria\", \"British Columbia\", null, null, \"Queensland\", null, null, null, null, null, \"South Australia\", null, \"Los Angeles, CA\", \"San Benito, CA\", null, \"San Diego County, CA\", null, null, \"From Diamond Princess\", \"Humboldt County, CA\", \"Sacramento County, CA\", null], \"lat\": [36.0, 15.0, 1.2833, 13.0, 2.5, 16.0, 28.1667, 11.55, 7.0, -33.8688, -37.8136, 49.2827, 64.0, 24.0, -28.0167, 21.0, 43.0, 60.0, 63.0, 51.0, -34.9285, 40.0, 34.0522, 36.5761, 50.8333, 32.7157, 26.0, 32.0, 35.4437, 40.745, 38.4747, 33.8547], \"legendgroup\": \"\", \"lon\": [138.0, 101.0, 103.8333, 122.0, 112.5, 108.0, 84.25, 104.9167, 81.0, 151.2093, 144.9631, -123.1207, 26.0, 54.0, 153.4, 78.0, 12.0, 90.0, 16.0, 9.0, 138.6007, -4.0, -118.2437, -120.9876, 4.0, -117.1611, 30.0, 53.0, 139.638, -123.8695, -121.3542, 35.8623], \"marker\": {\"color\": \"#636efa\"}, \"mode\": \"markers\", \"name\": \"\", \"showlegend\": false, \"subplot\": \"mapbox\", \"type\": \"scattermapbox\"}], \"name\": \"02/23/2020\"}, {\"data\": [{\"customdata\": [[159.0, 1.0, 22.0], [35.0, 0.0, 21.0], [89.0, 0.0, 51.0], [3.0, 1.0, 1.0], [22.0, 0.0, 18.0], [16.0, 0.0, 14.0], [1.0, 0.0, 1.0], [1.0, 0.0, 1.0], [1.0, 0.0, 1.0], [4.0, 0.0, 4.0], [4.0, 0.0, 4.0], [6.0, 0.0, 0.0], [1.0, 0.0, 1.0], [13.0, 0.0, 4.0], [5.0, 0.0, 1.0], [3.0, 0.0, 3.0], [229.0, 7.0, 1.0], [2.0, 0.0, 2.0], [1.0, 0.0, 0.0], [16.0, 0.0, 14.0], [2.0, 0.0, 2.0], [2.0, 0.0, 2.0], [1.0, 0.0, 0.0], [2.0, 0.0, 0.0], [1.0, 0.0, 1.0], [2.0, 0.0, 1.0], [1.0, 0.0, 0.0], [61.0, 12.0, 0.0], [7.0, 0.0, 0.0], [1.0, 0.0, 0.0], [1.0, 0.0, 0.0], [1.0, 0.0, 0.0], [2.0, 0.0, 0.0], [1.0, 0.0, 0.0], [1.0, 0.0, 0.0], [1.0, 0.0, 0.0], [1.0, 0.0, 0.0]], \"hoverlabel\": {\"namelength\": 0}, \"hovertemplate\": \"<b>%{hovertext}</b><br><br>ObservationDate=02/24/2020<br>Confirmed=%{customdata[0]}<br>Deaths=%{customdata[1]}<br>Recovered=%{customdata[2]}<br>Lat=%{lat}<br>Long=%{lon}\", \"hovertext\": [null, null, null, null, null, null, null, null, null, \"New South Wales\", \"Victoria\", \"British Columbia\", null, null, \"Queensland\", null, null, null, null, null, \"South Australia\", null, \"Los Angeles, CA\", \"San Benito, CA\", null, \"San Diego County, CA\", null, null, \"From Diamond Princess\", \"Humboldt County, CA\", \"Sacramento County, CA\", null, null, null, null, null, null], \"lat\": [36.0, 15.0, 1.2833, 13.0, 2.5, 16.0, 28.1667, 11.55, 7.0, -33.8688, -37.8136, 49.2827, 64.0, 24.0, -28.0167, 21.0, 43.0, 60.0, 63.0, 51.0, -34.9285, 40.0, 34.0522, 36.5761, 50.8333, 32.7157, 26.0, 32.0, 35.4437, 40.745, 38.4747, 33.8547, 21.0, 33.0, 26.0275, 33.0, 29.5], \"legendgroup\": \"\", \"lon\": [138.0, 101.0, 103.8333, 122.0, 112.5, 108.0, 84.25, 104.9167, 81.0, 151.2093, 144.9631, -123.1207, 26.0, 54.0, 153.4, 78.0, 12.0, 90.0, 16.0, 9.0, 138.6007, -4.0, -118.2437, -120.9876, 4.0, -117.1611, 30.0, 53.0, 139.638, -123.8695, -121.3542, 35.8623, 57.0, 65.0, 50.55, 44.0, 47.75], \"marker\": {\"color\": \"#636efa\"}, \"mode\": \"markers\", \"name\": \"\", \"showlegend\": false, \"subplot\": \"mapbox\", \"type\": \"scattermapbox\"}], \"name\": \"02/24/2020\"}, {\"data\": [{\"customdata\": [[170.0, 1.0, 22.0], [37.0, 0.0, 22.0], [91.0, 0.0, 53.0], [3.0, 1.0, 1.0], [22.0, 0.0, 18.0], [16.0, 0.0, 16.0], [1.0, 0.0, 1.0], [1.0, 0.0, 1.0], [1.0, 0.0, 1.0], [4.0, 0.0, 4.0], [4.0, 0.0, 4.0], [7.0, 0.0, 0.0], [1.0, 0.0, 1.0], [13.0, 0.0, 4.0], [5.0, 0.0, 1.0], [3.0, 0.0, 3.0], [322.0, 10.0, 1.0], [2.0, 0.0, 2.0], [1.0, 0.0, 0.0], [17.0, 0.0, 14.0], [2.0, 0.0, 2.0], [6.0, 0.0, 2.0], [1.0, 0.0, 0.0], [2.0, 0.0, 0.0], [1.0, 0.0, 1.0], [2.0, 0.0, 1.0], [1.0, 0.0, 0.0], [95.0, 16.0, 0.0], [7.0, 0.0, 0.0], [1.0, 0.0, 0.0], [1.0, 0.0, 0.0], [1.0, 0.0, 0.0], [2.0, 0.0, 0.0], [1.0, 0.0, 0.0], [23.0, 0.0, 0.0], [1.0, 0.0, 0.0], [11.0, 0.0, 0.0], [1.0, 0.0, 0.0], [1.0, 0.0, 0.0], [1.0, 0.0, 0.0]], \"hoverlabel\": {\"namelength\": 0}, \"hovertemplate\": \"<b>%{hovertext}</b><br><br>ObservationDate=02/25/2020<br>Confirmed=%{customdata[0]}<br>Deaths=%{customdata[1]}<br>Recovered=%{customdata[2]}<br>Lat=%{lat}<br>Long=%{lon}\", \"hovertext\": [null, null, null, null, null, null, null, null, null, \"New South Wales\", \"Victoria\", \"British Columbia\", null, null, \"Queensland\", null, null, null, null, null, \"South Australia\", null, \"Los Angeles, CA\", \"San Benito, CA\", null, \"San Diego County, CA\", null, null, \"From Diamond Princess\", \"Humboldt County, CA\", \"Sacramento County, CA\", null, null, null, null, null, null, null, null, null], \"lat\": [36.0, 15.0, 1.2833, 13.0, 2.5, 16.0, 28.1667, 11.55, 7.0, -33.8688, -37.8136, 49.2827, 64.0, 24.0, -28.0167, 21.0, 43.0, 60.0, 63.0, 51.0, -34.9285, 40.0, 34.0522, 36.5761, 50.8333, 32.7157, 26.0, 32.0, 35.4437, 40.745, 38.4747, 33.8547, 21.0, 33.0, 26.0275, 33.0, 29.5, 28.0339, 45.1, 46.8182], \"legendgroup\": \"\", \"lon\": [138.0, 101.0, 103.8333, 122.0, 112.5, 108.0, 84.25, 104.9167, 81.0, 151.2093, 144.9631, -123.1207, 26.0, 54.0, 153.4, 78.0, 12.0, 90.0, 16.0, 9.0, 138.6007, -4.0, -118.2437, -120.9876, 4.0, -117.1611, 30.0, 53.0, 139.638, -123.8695, -121.3542, 35.8623, 57.0, 65.0, 50.55, 44.0, 47.75, 1.6596, 15.2, 8.2275], \"marker\": {\"color\": \"#636efa\"}, \"mode\": \"markers\", \"name\": \"\", \"showlegend\": false, \"subplot\": \"mapbox\", \"type\": \"scattermapbox\"}], \"name\": \"02/25/2020\"}, {\"data\": [{\"customdata\": [[189.0, 2.0, 22.0], [40.0, 0.0, 22.0], [93.0, 0.0, 62.0], [3.0, 1.0, 1.0], [22.0, 0.0, 18.0], [16.0, 0.0, 16.0], [1.0, 0.0, 0.0], [1.0, 0.0, 1.0], [1.0, 0.0, 1.0], [1.0, 0.0, 1.0], [4.0, 0.0, 4.0], [4.0, 0.0, 4.0], [7.0, 0.0, 0.0], [2.0, 0.0, 1.0], [13.0, 0.0, 4.0], [5.0, 0.0, 1.0], [3.0, 0.0, 3.0], [453.0, 12.0, 3.0], [2.0, 0.0, 2.0], [2.0, 0.0, 0.0], [27.0, 0.0, 15.0], [2.0, 0.0, 2.0], [13.0, 0.0, 2.0], [1.0, 0.0, 0.0], [2.0, 0.0, 0.0], [1.0, 0.0, 1.0], [2.0, 0.0, 1.0], [1.0, 0.0, 0.0], [139.0, 19.0, 49.0], [7.0, 0.0, 0.0], [1.0, 0.0, 0.0], [1.0, 0.0, 0.0], [2.0, 0.0, 0.0], [4.0, 0.0, 0.0], [1.0, 0.0, 0.0], [33.0, 0.0, 0.0], [5.0, 0.0, 0.0], [26.0, 0.0, 0.0], [1.0, 0.0, 0.0], [3.0, 0.0, 0.0], [1.0, 0.0, 0.0], [2.0, 0.0, 0.0], [2.0, 0.0, 0.0], [2.0, 0.0, 0.0], [1.0, 0.0, 0.0], [1.0, 0.0, 0.0], [1.0, 0.0, 0.0], [1.0, 0.0, 0.0], [1.0, 0.0, 0.0]], \"hoverlabel\": {\"namelength\": 0}, \"hovertemplate\": \"<b>%{hovertext}</b><br><br>ObservationDate=02/26/2020<br>Confirmed=%{customdata[0]}<br>Deaths=%{customdata[1]}<br>Recovered=%{customdata[2]}<br>Lat=%{lat}<br>Long=%{lon}\", \"hovertext\": [null, null, null, null, null, null, null, null, null, null, \"New South Wales\", \"Victoria\", \"British Columbia\", null, null, \"Queensland\", null, null, null, null, null, \"South Australia\", null, \"Los Angeles, CA\", \"San Benito, CA\", null, \"San Diego County, CA\", null, null, \"From Diamond Princess\", \"Humboldt County, CA\", \"Sacramento County, CA\", null, null, null, null, null, null, null, null, null, null, null, null, null, null, null, null, null], \"lat\": [36.0, 15.0, 1.2833, 13.0, 2.5, 16.0, -14.235, 28.1667, 11.55, 7.0, -33.8688, -37.8136, 49.2827, 64.0, 24.0, -28.0167, 21.0, 43.0, 60.0, 63.0, 51.0, -34.9285, 40.0, 34.0522, 36.5761, 50.8333, 32.7157, 26.0, 32.0, 35.4437, 40.745, 38.4747, 33.8547, 21.0, 33.0, 26.0275, 33.0, 29.5, 28.0339, 45.1, 46.8182, 47.5162, 31.0, 30.3753, 42.3154, 39.0742, 41.6086, 60.472, 45.9432], \"legendgroup\": \"\", \"lon\": [138.0, 101.0, 103.8333, 122.0, 112.5, 108.0, -51.9253, 84.25, 104.9167, 81.0, 151.2093, 144.9631, -123.1207, 26.0, 54.0, 153.4, 78.0, 12.0, 90.0, 16.0, 9.0, 138.6007, -4.0, -118.2437, -120.9876, 4.0, -117.1611, 30.0, 53.0, 139.638, -123.8695, -121.3542, 35.8623, 57.0, 65.0, 50.55, 44.0, 47.75, 1.6596, 15.2, 8.2275, 14.5501, 35.0, 69.3451, 43.3569, 21.8243, 21.7453, 8.4689, 24.9668], \"marker\": {\"color\": \"#636efa\"}, \"mode\": \"markers\", \"name\": \"\", \"showlegend\": false, \"subplot\": \"mapbox\", \"type\": \"scattermapbox\"}], \"name\": \"02/26/2020\"}, {\"data\": [{\"customdata\": [[214.0, 4.0, 22.0], [40.0, 0.0, 22.0], [93.0, 0.0, 62.0], [3.0, 1.0, 1.0], [23.0, 0.0, 18.0], [16.0, 0.0, 16.0], [1.0, 0.0, 0.0], [1.0, 0.0, 1.0], [1.0, 0.0, 1.0], [1.0, 0.0, 1.0], [4.0, 0.0, 4.0], [4.0, 0.0, 4.0], [7.0, 0.0, 3.0], [2.0, 0.0, 1.0], [13.0, 0.0, 4.0], [5.0, 0.0, 1.0], [3.0, 0.0, 3.0], [655.0, 17.0, 45.0], [2.0, 0.0, 2.0], [7.0, 0.0, 0.0], [46.0, 0.0, 16.0], [2.0, 0.0, 2.0], [15.0, 0.0, 2.0], [1.0, 0.0, 0.0], [2.0, 0.0, 0.0], [1.0, 0.0, 1.0], [2.0, 0.0, 1.0], [1.0, 0.0, 0.0], [245.0, 26.0, 49.0], [8.0, 0.0, 0.0], [1.0, 0.0, 0.0], [2.0, 0.0, 0.0], [2.0, 0.0, 0.0], [4.0, 0.0, 0.0], [1.0, 0.0, 0.0], [33.0, 0.0, 0.0], [7.0, 0.0, 0.0], [43.0, 0.0, 0.0], [1.0, 0.0, 0.0], [3.0, 0.0, 0.0], [8.0, 0.0, 0.0], [3.0, 0.0, 0.0], [3.0, 0.0, 1.0], [2.0, 0.0, 0.0], [1.0, 0.0, 0.0], [3.0, 0.0, 0.0], [1.0, 0.0, 0.0], [1.0, 0.0, 0.0], [1.0, 0.0, 0.0], [1.0, 0.0, 0.0], [1.0, 0.0, 0.0], [1.0, 0.0, 0.0]], \"hoverlabel\": {\"namelength\": 0}, \"hovertemplate\": \"<b>%{hovertext}</b><br><br>ObservationDate=02/27/2020<br>Confirmed=%{customdata[0]}<br>Deaths=%{customdata[1]}<br>Recovered=%{customdata[2]}<br>Lat=%{lat}<br>Long=%{lon}\", \"hovertext\": [null, null, null, null, null, null, null, null, null, null, \"New South Wales\", \"Victoria\", \"British Columbia\", null, null, \"Queensland\", null, null, null, null, null, \"South Australia\", null, \"Los Angeles, CA\", \"San Benito, CA\", null, \"San Diego County, CA\", null, null, \"From Diamond Princess\", \"Humboldt County, CA\", \"Sacramento County, CA\", null, null, null, null, null, null, null, null, null, null, null, null, null, null, null, null, null, null, null, null], \"lat\": [36.0, 15.0, 1.2833, 13.0, 2.5, 16.0, -14.235, 28.1667, 11.55, 7.0, -33.8688, -37.8136, 49.2827, 64.0, 24.0, -28.0167, 21.0, 43.0, 60.0, 63.0, 51.0, -34.9285, 40.0, 34.0522, 36.5761, 50.8333, 32.7157, 26.0, 32.0, 35.4437, 40.745, 38.4747, 33.8547, 21.0, 33.0, 26.0275, 33.0, 29.5, 28.0339, 45.1, 46.8182, 47.5162, 31.0, 30.3753, 42.3154, 39.0742, 41.6086, 60.472, 45.9432, 58.5953, 52.1326, 43.9424], \"legendgroup\": \"\", \"lon\": [138.0, 101.0, 103.8333, 122.0, 112.5, 108.0, -51.9253, 84.25, 104.9167, 81.0, 151.2093, 144.9631, -123.1207, 26.0, 54.0, 153.4, 78.0, 12.0, 90.0, 16.0, 9.0, 138.6007, -4.0, -118.2437, -120.9876, 4.0, -117.1611, 30.0, 53.0, 139.638, -123.8695, -121.3542, 35.8623, 57.0, 65.0, 50.55, 44.0, 47.75, 1.6596, 15.2, 8.2275, 14.5501, 35.0, 69.3451, 43.3569, 21.8243, 21.7453, 8.4689, 24.9668, 25.0136, 5.2913, 12.4578], \"marker\": {\"color\": \"#636efa\"}, \"mode\": \"markers\", \"name\": \"\", \"showlegend\": false, \"subplot\": \"mapbox\", \"type\": \"scattermapbox\"}], \"name\": \"02/27/2020\"}, {\"data\": [{\"customdata\": [[228.0, 4.0, 22.0], [41.0, 0.0, 28.0], [93.0, 0.0, 62.0], [3.0, 1.0, 1.0], [23.0, 0.0, 18.0], [16.0, 0.0, 16.0], [1.0, 0.0, 0.0], [1.0, 0.0, 0.0], [1.0, 0.0, 1.0], [1.0, 0.0, 1.0], [1.0, 0.0, 1.0], [4.0, 0.0, 4.0], [4.0, 0.0, 4.0], [7.0, 0.0, 3.0], [2.0, 0.0, 1.0], [19.0, 0.0, 5.0], [5.0, 0.0, 1.0], [3.0, 0.0, 3.0], [888.0, 21.0, 46.0], [2.0, 0.0, 2.0], [7.0, 0.0, 0.0], [48.0, 0.0, 16.0], [2.0, 0.0, 2.0], [32.0, 0.0, 2.0], [1.0, 0.0, 0.0], [2.0, 0.0, 0.0], [1.0, 0.0, 1.0], [2.0, 0.0, 1.0], [1.0, 0.0, 1.0], [388.0, 34.0, 73.0], [8.0, 0.0, 0.0], [1.0, 0.0, 0.0], [2.0, 0.0, 0.0], [2.0, 0.0, 0.0], [4.0, 0.0, 0.0], [1.0, 0.0, 0.0], [36.0, 0.0, 0.0], [7.0, 0.0, 0.0], [45.0, 0.0, 0.0], [1.0, 0.0, 0.0], [5.0, 0.0, 0.0], [8.0, 0.0, 0.0], [3.0, 0.0, 0.0], [4.0, 0.0, 1.0], [2.0, 0.0, 0.0], [1.0, 0.0, 0.0], [4.0, 0.0, 0.0], [1.0, 0.0, 0.0], [6.0, 0.0, 0.0], [3.0, 0.0, 0.0], [1.0, 0.0, 0.0], [1.0, 0.0, 0.0], [1.0, 0.0, 0.0], [1.0, 0.0, 0.0], [1.0, 0.0, 0.0], [1.0, 0.0, 0.0], [1.0, 0.0, 0.0], [1.0, 0.0, 0.0]], \"hoverlabel\": {\"namelength\": 0}, \"hovertemplate\": \"<b>%{hovertext}</b><br><br>ObservationDate=02/28/2020<br>Confirmed=%{customdata[0]}<br>Deaths=%{customdata[1]}<br>Recovered=%{customdata[2]}<br>Lat=%{lat}<br>Long=%{lon}\", \"hovertext\": [null, null, null, null, null, null, null, null, null, null, null, \"New South Wales\", \"Victoria\", \"British Columbia\", null, null, \"Queensland\", null, null, null, null, null, \"South Australia\", null, \"Los Angeles, CA\", \"San Benito, CA\", null, \"San Diego County, CA\", null, null, \"From Diamond Princess\", \"Humboldt County, CA\", \"Sacramento County, CA\", null, null, null, null, null, null, null, null, null, null, null, null, null, null, null, null, null, null, null, null, null, null, null, null, null], \"lat\": [36.0, 15.0, 1.2833, 13.0, 2.5, 16.0, 23.6345, -14.235, 28.1667, 11.55, 7.0, -33.8688, -37.8136, 49.2827, 64.0, 24.0, -28.0167, 21.0, 43.0, 60.0, 63.0, 51.0, -34.9285, 40.0, 34.0522, 36.5761, 50.8333, 32.7157, 26.0, 32.0, 35.4437, 40.745, 38.4747, 33.8547, 21.0, 33.0, 26.0275, 33.0, 29.5, 28.0339, 45.1, 46.8182, 47.5162, 31.0, 30.3753, 42.3154, 39.0742, 41.6086, 60.472, 45.9432, 58.5953, 52.1326, 43.9424, 53.7098, 64.9631, 55.1694, -40.9006, 9.082], \"legendgroup\": \"\", \"lon\": [138.0, 101.0, 103.8333, 122.0, 112.5, 108.0, -102.5528, -51.9253, 84.25, 104.9167, 81.0, 151.2093, 144.9631, -123.1207, 26.0, 54.0, 153.4, 78.0, 12.0, 90.0, 16.0, 9.0, 138.6007, -4.0, -118.2437, -120.9876, 4.0, -117.1611, 30.0, 53.0, 139.638, -123.8695, -121.3542, 35.8623, 57.0, 65.0, 50.55, 44.0, 47.75, 1.6596, 15.2, 8.2275, 14.5501, 35.0, 69.3451, 43.3569, 21.8243, 21.7453, 8.4689, 24.9668, 25.0136, 5.2913, 12.4578, 27.9534, -19.0208, 23.8813, 174.886, 8.6753], \"marker\": {\"color\": \"#636efa\"}, \"mode\": \"markers\", \"name\": \"\", \"showlegend\": false, \"subplot\": \"mapbox\", \"type\": \"scattermapbox\"}], \"name\": \"02/28/2020\"}, {\"data\": [{\"customdata\": [[241.0, 5.0, 32.0], [42.0, 0.0, 28.0], [102.0, 0.0, 72.0], [3.0, 1.0, 1.0], [25.0, 0.0, 18.0], [16.0, 0.0, 16.0], [4.0, 0.0, 0.0], [2.0, 0.0, 0.0], [1.0, 0.0, 1.0], [1.0, 0.0, 1.0], [1.0, 0.0, 1.0], [4.0, 0.0, 4.0], [7.0, 0.0, 4.0], [8.0, 0.0, 3.0], [3.0, 0.0, 1.0], [21.0, 0.0, 5.0], [9.0, 0.0, 1.0], [3.0, 0.0, 3.0], [1128.0, 29.0, 46.0], [2.0, 0.0, 2.0], [12.0, 0.0, 0.0], [79.0, 0.0, 16.0], [3.0, 0.0, 2.0], [45.0, 0.0, 2.0], [1.0, 0.0, 0.0], [2.0, 0.0, 0.0], [1.0, 0.0, 1.0], [2.0, 0.0, 1.0], [1.0, 0.0, 1.0], [593.0, 43.0, 123.0], [0.0, 0.0, 0.0], [1.0, 0.0, 0.0], [2.0, 0.0, 0.0], [4.0, 0.0, 0.0], [6.0, 0.0, 1.0], [1.0, 0.0, 0.0], [41.0, 0.0, 0.0], [13.0, 0.0, 0.0], [45.0, 0.0, 0.0], [1.0, 0.0, 0.0], [6.0, 0.0, 0.0], [18.0, 0.0, 0.0], [9.0, 0.0, 0.0], [7.0, 0.0, 1.0], [4.0, 0.0, 0.0], [1.0, 0.0, 0.0], [4.0, 0.0, 0.0], [1.0, 0.0, 0.0], [15.0, 0.0, 0.0], [3.0, 0.0, 0.0], [1.0, 0.0, 0.0], [6.0, 0.0, 0.0], [1.0, 0.0, 0.0], [1.0, 0.0, 0.0], [1.0, 0.0, 0.0], [1.0, 0.0, 0.0], [1.0, 0.0, 0.0], [1.0, 0.0, 0.0], [2.0, 0.0, 0.0], [1.0, 0.0, 0.0], [1.0, 0.0, 0.0], [1.0, 0.0, 0.0], [1.0, 0.0, 0.0], [1.0, 0.0, 0.0]], \"hoverlabel\": {\"namelength\": 0}, \"hovertemplate\": \"<b>%{hovertext}</b><br><br>ObservationDate=02/29/2020<br>Confirmed=%{customdata[0]}<br>Deaths=%{customdata[1]}<br>Recovered=%{customdata[2]}<br>Lat=%{lat}<br>Long=%{lon}\", \"hovertext\": [null, null, null, null, null, null, null, null, null, null, null, \"New South Wales\", \"Victoria\", \"British Columbia\", null, null, \"Queensland\", null, null, null, null, null, \"South Australia\", null, \"Los Angeles, CA\", \"San Benito, CA\", null, \"San Diego County, CA\", null, null, \"From Diamond Princess\", \"Humboldt County, CA\", \"Sacramento County, CA\", null, null, null, null, null, null, null, null, null, null, null, null, null, null, null, null, null, null, null, null, null, null, null, null, null, \"Western Australia\", null, null, null, null, \"Snohomish County, WA\"], \"lat\": [36.0, 15.0, 1.2833, 13.0, 2.5, 16.0, 23.6345, -14.235, 28.1667, 11.55, 7.0, -33.8688, -37.8136, 49.2827, 64.0, 24.0, -28.0167, 21.0, 43.0, 60.0, 63.0, 51.0, -34.9285, 40.0, 34.0522, 36.5761, 50.8333, 32.7157, 26.0, 32.0, 35.4437, 40.745, 38.4747, 33.8547, 21.0, 33.0, 26.0275, 33.0, 29.5, 28.0339, 45.1, 46.8182, 47.5162, 31.0, 30.3753, 42.3154, 39.0742, 41.6086, 60.472, 45.9432, 58.5953, 52.1326, 43.9424, 53.7098, 64.9631, 55.1694, -40.9006, 9.082, -31.9505, 53.1424, 49.8153, 43.7333, 25.3548, 48.033], \"legendgroup\": \"\", \"lon\": [138.0, 101.0, 103.8333, 122.0, 112.5, 108.0, -102.5528, -51.9253, 84.25, 104.9167, 81.0, 151.2093, 144.9631, -123.1207, 26.0, 54.0, 153.4, 78.0, 12.0, 90.0, 16.0, 9.0, 138.6007, -4.0, -118.2437, -120.9876, 4.0, -117.1611, 30.0, 53.0, 139.638, -123.8695, -121.3542, 35.8623, 57.0, 65.0, 50.55, 44.0, 47.75, 1.6596, 15.2, 8.2275, 14.5501, 35.0, 69.3451, 43.3569, 21.8243, 21.7453, 8.4689, 24.9668, 25.0136, 5.2913, 12.4578, 27.9534, -19.0208, 23.8813, 174.886, 8.6753, 115.8605, -7.6921, 6.1296, 7.4167, 51.1839, -121.8339], \"marker\": {\"color\": \"#636efa\"}, \"mode\": \"markers\", \"name\": \"\", \"showlegend\": false, \"subplot\": \"mapbox\", \"type\": \"scattermapbox\"}], \"name\": \"02/29/2020\"}, {\"data\": [{\"customdata\": [[256.0, 6.0, 32.0], [42.0, 1.0, 28.0], [106.0, 0.0, 72.0], [3.0, 1.0, 1.0], [29.0, 0.0, 18.0], [16.0, 0.0, 16.0], [5.0, 0.0, 0.0], [2.0, 0.0, 0.0], [1.0, 0.0, 1.0], [1.0, 0.0, 1.0], [1.0, 0.0, 1.0], [6.0, 0.0, 4.0], [7.0, 0.0, 4.0], [8.0, 0.0, 3.0], [6.0, 0.0, 1.0], [21.0, 0.0, 5.0], [9.0, 0.0, 1.0], [3.0, 0.0, 3.0], [1694.0, 34.0, 83.0], [2.0, 0.0, 2.0], [14.0, 0.0, 0.0], [130.0, 0.0, 16.0], [3.0, 0.0, 2.0], [84.0, 0.0, 2.0], [1.0, 0.0, 0.0], [2.0, 0.0, 0.0], [2.0, 0.0, 1.0], [2.0, 0.0, 1.0], [2.0, 0.0, 1.0], [978.0, 54.0, 175.0], [0.0, 0.0, 0.0], [1.0, 0.0, 0.0], [2.0, 0.0, 0.0], [10.0, 0.0, 0.0], [6.0, 0.0, 1.0], [1.0, 0.0, 0.0], [47.0, 0.0, 0.0], [19.0, 0.0, 0.0], [45.0, 0.0, 0.0], [1.0, 0.0, 0.0], [7.0, 0.0, 0.0], [27.0, 0.0, 0.0], [14.0, 0.0, 0.0], [10.0, 0.0, 1.0], [4.0, 0.0, 0.0], [3.0, 0.0, 0.0], [7.0, 0.0, 0.0], [1.0, 0.0, 0.0], [19.0, 0.0, 0.0], [3.0, 0.0, 0.0], [1.0, 0.0, 0.0], [10.0, 0.0, 0.0], [1.0, 0.0, 0.0], [1.0, 0.0, 0.0], [3.0, 0.0, 0.0], [1.0, 0.0, 0.0], [1.0, 0.0, 0.0], [1.0, 0.0, 0.0], [2.0, 1.0, 0.0], [1.0, 0.0, 0.0], [1.0, 0.0, 0.0], [1.0, 0.0, 0.0], [3.0, 0.0, 0.0], [2.0, 0.0, 0.0], [6.0, 0.0, 0.0], [3.0, 0.0, 0.0], [1.0, 0.0, 0.0], [1.0, 0.0, 0.0]], \"hoverlabel\": {\"namelength\": 0}, \"hovertemplate\": \"<b>%{hovertext}</b><br><br>ObservationDate=03/01/2020<br>Confirmed=%{customdata[0]}<br>Deaths=%{customdata[1]}<br>Recovered=%{customdata[2]}<br>Lat=%{lat}<br>Long=%{lon}\", \"hovertext\": [null, null, null, null, null, null, null, null, null, null, null, \"New South Wales\", \"Victoria\", \"British Columbia\", null, null, \"Queensland\", null, null, null, null, null, \"South Australia\", null, \"Los Angeles, CA\", \"San Benito, CA\", null, \"San Diego County, CA\", null, null, \"From Diamond Princess\", \"Humboldt County, CA\", \"Sacramento County, CA\", null, null, null, null, null, null, null, null, null, null, null, null, null, null, null, null, null, null, null, null, null, null, null, null, null, \"Western Australia\", null, null, null, null, \"Snohomish County, WA\", null, null, null, null], \"lat\": [36.0, 15.0, 1.2833, 13.0, 2.5, 16.0, 23.6345, -14.235, 28.1667, 11.55, 7.0, -33.8688, -37.8136, 49.2827, 64.0, 24.0, -28.0167, 21.0, 43.0, 60.0, 63.0, 51.0, -34.9285, 40.0, 34.0522, 36.5761, 50.8333, 32.7157, 26.0, 32.0, 35.4437, 40.745, 38.4747, 33.8547, 21.0, 33.0, 26.0275, 33.0, 29.5, 28.0339, 45.1, 46.8182, 47.5162, 31.0, 30.3753, 42.3154, 39.0742, 41.6086, 60.472, 45.9432, 58.5953, 52.1326, 43.9424, 53.7098, 64.9631, 55.1694, -40.9006, 9.082, -31.9505, 53.1424, 49.8153, 43.7333, 25.3548, 48.033, -1.8312, 40.1431, 40.0691, 18.7357], \"legendgroup\": \"\", \"lon\": [138.0, 101.0, 103.8333, 122.0, 112.5, 108.0, -102.5528, -51.9253, 84.25, 104.9167, 81.0, 151.2093, 144.9631, -123.1207, 26.0, 54.0, 153.4, 78.0, 12.0, 90.0, 16.0, 9.0, 138.6007, -4.0, -118.2437, -120.9876, 4.0, -117.1611, 30.0, 53.0, 139.638, -123.8695, -121.3542, 35.8623, 57.0, 65.0, 50.55, 44.0, 47.75, 1.6596, 15.2, 8.2275, 14.5501, 35.0, 69.3451, 43.3569, 21.8243, 21.7453, 8.4689, 24.9668, 25.0136, 5.2913, 12.4578, 27.9534, -19.0208, 23.8813, 174.886, 8.6753, 115.8605, -7.6921, 6.1296, 7.4167, 51.1839, -121.8339, -78.1834, 47.5769, 45.0382, -70.1627], \"marker\": {\"color\": \"#636efa\"}, \"mode\": \"markers\", \"name\": \"\", \"showlegend\": false, \"subplot\": \"mapbox\", \"type\": \"scattermapbox\"}], \"name\": \"03/01/2020\"}, {\"data\": [{\"customdata\": [[274.0, 6.0, 32.0], [43.0, 1.0, 31.0], [108.0, 0.0, 78.0], [3.0, 1.0, 1.0], [29.0, 0.0, 18.0], [16.0, 0.0, 16.0], [5.0, 0.0, 0.0], [2.0, 0.0, 0.0], [1.0, 0.0, 1.0], [1.0, 0.0, 1.0], [1.0, 0.0, 1.0], [6.0, 0.0, 4.0], [9.0, 0.0, 4.0], [8.0, 0.0, 3.0], [6.0, 0.0, 1.0], [21.0, 0.0, 5.0], [9.0, 0.0, 1.0], [5.0, 0.0, 3.0], [2036.0, 52.0, 149.0], [3.0, 0.0, 2.0], [15.0, 0.0, 0.0], [159.0, 0.0, 16.0], [3.0, 0.0, 2.0], [120.0, 0.0, 2.0], [1.0, 0.0, 0.0], [2.0, 0.0, 0.0], [8.0, 0.0, 1.0], [2.0, 0.0, 1.0], [2.0, 0.0, 1.0], [1501.0, 66.0, 291.0], [0.0, 0.0, 0.0], [1.0, 0.0, 0.0], [2.0, 0.0, 0.0], [13.0, 0.0, 0.0], [6.0, 0.0, 1.0], [1.0, 0.0, 0.0], [49.0, 0.0, 0.0], [26.0, 0.0, 0.0], [56.0, 0.0, 0.0], [3.0, 0.0, 0.0], [7.0, 0.0, 0.0], [42.0, 0.0, 0.0], [18.0, 0.0, 0.0], [10.0, 0.0, 1.0], [4.0, 0.0, 0.0], [3.0, 0.0, 0.0], [7.0, 0.0, 0.0], [1.0, 0.0, 0.0], [25.0, 0.0, 0.0], [3.0, 0.0, 0.0], [1.0, 0.0, 0.0], [18.0, 0.0, 0.0], [8.0, 0.0, 0.0], [1.0, 0.0, 0.0], [6.0, 0.0, 0.0], [1.0, 0.0, 0.0], [1.0, 0.0, 0.0], [1.0, 0.0, 0.0], [2.0, 1.0, 0.0], [1.0, 0.0, 0.0], [1.0, 0.0, 0.0], [1.0, 0.0, 0.0], [3.0, 0.0, 0.0], [4.0, 1.0, 0.0], [6.0, 0.0, 0.0], [3.0, 0.0, 0.0], [1.0, 0.0, 0.0], [1.0, 0.0, 0.0], [14.0, 5.0, 1.0], [4.0, 0.0, 2.0], [2.0, 0.0, 0.0], [2.0, 0.0, 0.0], [1.0, 0.0, 0.0], [1.0, 0.0, 0.0], [1.0, 0.0, 0.0], [1.0, 0.0, 0.0], [1.0, 0.0, 0.0], [1.0, 0.0, 0.0], [1.0, 0.0, 0.0], [1.0, 0.0, 0.0], [1.0, 0.0, 0.0], [1.0, 0.0, 0.0], [1.0, 0.0, 0.0], [1.0, 0.0, 0.0]], \"hoverlabel\": {\"namelength\": 0}, \"hovertemplate\": \"<b>%{hovertext}</b><br><br>ObservationDate=03/02/2020<br>Confirmed=%{customdata[0]}<br>Deaths=%{customdata[1]}<br>Recovered=%{customdata[2]}<br>Lat=%{lat}<br>Long=%{lon}\", \"hovertext\": [null, null, null, null, null, null, null, null, null, null, null, \"New South Wales\", \"Victoria\", \"British Columbia\", null, null, \"Queensland\", null, null, null, null, null, \"South Australia\", null, \"Los Angeles, CA\", \"San Benito, CA\", null, \"San Diego County, CA\", null, null, \"From Diamond Princess\", \"Humboldt County, CA\", \"Sacramento County, CA\", null, null, null, null, null, null, null, null, null, null, null, null, null, null, null, null, null, null, null, null, null, null, null, null, null, \"Western Australia\", null, null, null, null, \"Snohomish County, WA\", null, null, null, null, \"King County, WA\", \"Cook County, IL\", null, null, null, \"Tasmania\", null, null, null, null, \"Grafton County, NH\", \"Hillsborough, FL\", \"Placer County, CA\", \"San Mateo, CA\", \"Sonoma County, CA\", \"Umatilla, OR\"], \"lat\": [36.0, 15.0, 1.2833, 13.0, 2.5, 16.0, 23.6345, -14.235, 28.1667, 11.55, 7.0, -33.8688, -37.8136, 49.2827, 64.0, 24.0, -28.0167, 21.0, 43.0, 60.0, 63.0, 51.0, -34.9285, 40.0, 34.0522, 36.5761, 50.8333, 32.7157, 26.0, 32.0, 35.4437, 40.745, 38.4747, 33.8547, 21.0, 33.0, 26.0275, 33.0, 29.5, 28.0339, 45.1, 46.8182, 47.5162, 31.0, 30.3753, 42.3154, 39.0742, 41.6086, 60.472, 45.9432, 58.5953, 52.1326, 43.9424, 53.7098, 64.9631, 55.1694, -40.9006, 9.082, -31.9505, 53.1424, 49.8153, 43.7333, 25.3548, 48.033, -1.8312, 40.1431, 40.0691, 18.7357, 47.6062, 41.7377, -0.7893, 39.3999, 42.5063, -41.4545, 56.8796, 31.7917, 24.0, 14.4974, 43.9088, 27.9904, 39.0916, 37.563, 38.578, 45.775], \"legendgroup\": \"\", \"lon\": [138.0, 101.0, 103.8333, 122.0, 112.5, 108.0, -102.5528, -51.9253, 84.25, 104.9167, 81.0, 151.2093, 144.9631, -123.1207, 26.0, 54.0, 153.4, 78.0, 12.0, 90.0, 16.0, 9.0, 138.6007, -4.0, -118.2437, -120.9876, 4.0, -117.1611, 30.0, 53.0, 139.638, -123.8695, -121.3542, 35.8623, 57.0, 65.0, 50.55, 44.0, 47.75, 1.6596, 15.2, 8.2275, 14.5501, 35.0, 69.3451, 43.3569, 21.8243, 21.7453, 8.4689, 24.9668, 25.0136, 5.2913, 12.4578, 27.9534, -19.0208, 23.8813, 174.886, 8.6753, 115.8605, -7.6921, 6.1296, 7.4167, 51.1839, -121.8339, -78.1834, 47.5769, 45.0382, -70.1627, -122.3321, -87.6976, 113.9213, -8.2245, 1.5218, 145.9707, 24.6032, -7.0926, 45.0, -14.4524, -71.82600000000001, -82.3018, -120.8039, -122.3255, -122.9888, -118.7606], \"marker\": {\"color\": \"#636efa\"}, \"mode\": \"markers\", \"name\": \"\", \"showlegend\": false, \"subplot\": \"mapbox\", \"type\": \"scattermapbox\"}], \"name\": \"03/02/2020\"}, {\"data\": [{\"customdata\": [[293.0, 6.0, 43.0], [43.0, 1.0, 31.0], [110.0, 0.0, 78.0], [3.0, 1.0, 1.0], [36.0, 0.0, 22.0], [16.0, 0.0, 16.0], [5.0, 0.0, 1.0], [2.0, 0.0, 0.0], [1.0, 0.0, 1.0], [1.0, 0.0, 1.0], [1.0, 0.0, 1.0], [13.0, 0.0, 4.0], [9.0, 0.0, 4.0], [9.0, 0.0, 3.0], [6.0, 0.0, 1.0], [27.0, 0.0, 5.0], [11.0, 0.0, 1.0], [5.0, 0.0, 3.0], [2502.0, 79.0, 160.0], [3.0, 0.0, 2.0], [21.0, 0.0, 0.0], [196.0, 0.0, 16.0], [3.0, 0.0, 2.0], [165.0, 1.0, 2.0], [1.0, 0.0, 0.0], [2.0, 0.0, 0.0], [13.0, 0.0, 1.0], [2.0, 0.0, 1.0], [2.0, 0.0, 1.0], [2336.0, 77.0, 291.0], [0.0, 0.0, 0.0], [1.0, 0.0, 0.0], [2.0, 0.0, 0.0], [13.0, 0.0, 0.0], [12.0, 0.0, 2.0], [1.0, 0.0, 0.0], [49.0, 0.0, 0.0], [32.0, 0.0, 0.0], [56.0, 0.0, 0.0], [5.0, 0.0, 0.0], [9.0, 0.0, 0.0], [56.0, 0.0, 2.0], [21.0, 0.0, 0.0], [12.0, 0.0, 1.0], [5.0, 0.0, 0.0], [3.0, 0.0, 0.0], [7.0, 0.0, 0.0], [1.0, 0.0, 0.0], [32.0, 0.0, 0.0], [3.0, 0.0, 0.0], [2.0, 0.0, 0.0], [24.0, 0.0, 0.0], [10.0, 1.0, 0.0], [1.0, 0.0, 0.0], [11.0, 0.0, 0.0], [1.0, 0.0, 0.0], [1.0, 0.0, 0.0], [1.0, 0.0, 0.0], [2.0, 1.0, 0.0], [2.0, 0.0, 0.0], [1.0, 0.0, 0.0], [1.0, 0.0, 0.0], [7.0, 0.0, 0.0], [6.0, 1.0, 0.0], [7.0, 0.0, 0.0], [3.0, 0.0, 0.0], [1.0, 0.0, 0.0], [1.0, 0.0, 0.0], [21.0, 6.0, 1.0], [4.0, 0.0, 2.0], [2.0, 0.0, 0.0], [2.0, 0.0, 0.0], [1.0, 0.0, 0.0], [1.0, 0.0, 0.0], [1.0, 0.0, 0.0], [1.0, 0.0, 0.0], [1.0, 0.0, 0.0], [2.0, 0.0, 0.0], [2.0, 0.0, 0.0], [2.0, 0.0, 0.0], [1.0, 0.0, 0.0], [2.0, 0.0, 0.0], [1.0, 0.0, 0.0], [1.0, 0.0, 0.0], [2.0, 0.0, 0.0], [2.0, 0.0, 0.0], [1.0, 0.0, 0.0], [1.0, 0.0, 0.0], [1.0, 0.0, 0.0], [1.0, 0.0, 0.0], [1.0, 0.0, 0.0], [1.0, 0.0, 0.0], [1.0, 0.0, 0.0]], \"hoverlabel\": {\"namelength\": 0}, \"hovertemplate\": \"<b>%{hovertext}</b><br><br>ObservationDate=03/03/2020<br>Confirmed=%{customdata[0]}<br>Deaths=%{customdata[1]}<br>Recovered=%{customdata[2]}<br>Lat=%{lat}<br>Long=%{lon}\", \"hovertext\": [null, null, null, null, null, null, null, null, null, null, null, \"New South Wales\", \"Victoria\", \"British Columbia\", null, null, \"Queensland\", null, null, null, null, null, \"South Australia\", null, \"Los Angeles, CA\", \"San Benito, CA\", null, \"San Diego County, CA\", null, null, \"From Diamond Princess\", \"Humboldt County, CA\", \"Sacramento County, CA\", null, null, null, null, null, null, null, null, null, null, null, null, null, null, null, null, null, null, null, null, null, null, null, null, null, \"Western Australia\", null, null, null, null, \"Snohomish County, WA\", null, null, null, null, \"King County, WA\", \"Cook County, IL\", null, null, null, \"Tasmania\", null, null, null, null, \"Grafton County, NH\", \"Hillsborough, FL\", \"Placer County, CA\", \"San Mateo, CA\", \"Sonoma County, CA\", \"Umatilla, OR\", \"Fulton County, GA\", \"Washington County, OR\", null, null, null, \"Maricopa County, AZ\", \"Wake County, NC\", \"Westchester County, NY\", null], \"lat\": [36.0, 15.0, 1.2833, 13.0, 2.5, 16.0, 23.6345, -14.235, 28.1667, 11.55, 7.0, -33.8688, -37.8136, 49.2827, 64.0, 24.0, -28.0167, 21.0, 43.0, 60.0, 63.0, 51.0, -34.9285, 40.0, 34.0522, 36.5761, 50.8333, 32.7157, 26.0, 32.0, 35.4437, 40.745, 38.4747, 33.8547, 21.0, 33.0, 26.0275, 33.0, 29.5, 28.0339, 45.1, 46.8182, 47.5162, 31.0, 30.3753, 42.3154, 39.0742, 41.6086, 60.472, 45.9432, 58.5953, 52.1326, 43.9424, 53.7098, 64.9631, 55.1694, -40.9006, 9.082, -31.9505, 53.1424, 49.8153, 43.7333, 25.3548, 48.033, -1.8312, 40.1431, 40.0691, 18.7357, 47.6062, 41.7377, -0.7893, 39.3999, 42.5063, -41.4545, 56.8796, 31.7917, 24.0, 14.4974, 43.9088, 27.9904, 39.0916, 37.563, 38.578, 45.775, 33.8034, 45.547, -38.4161, -35.6751, 31.24, 33.2918, 35.8032, 41.122, 48.3794], \"legendgroup\": \"\", \"lon\": [138.0, 101.0, 103.8333, 122.0, 112.5, 108.0, -102.5528, -51.9253, 84.25, 104.9167, 81.0, 151.2093, 144.9631, -123.1207, 26.0, 54.0, 153.4, 78.0, 12.0, 90.0, 16.0, 9.0, 138.6007, -4.0, -118.2437, -120.9876, 4.0, -117.1611, 30.0, 53.0, 139.638, -123.8695, -121.3542, 35.8623, 57.0, 65.0, 50.55, 44.0, 47.75, 1.6596, 15.2, 8.2275, 14.5501, 35.0, 69.3451, 43.3569, 21.8243, 21.7453, 8.4689, 24.9668, 25.0136, 5.2913, 12.4578, 27.9534, -19.0208, 23.8813, 174.886, 8.6753, 115.8605, -7.6921, 6.1296, 7.4167, 51.1839, -121.8339, -78.1834, 47.5769, 45.0382, -70.1627, -122.3321, -87.6976, 113.9213, -8.2245, 1.5218, 145.9707, 24.6032, -7.0926, 45.0, -14.4524, -71.82600000000001, -82.3018, -120.8039, -122.3255, -122.9888, -118.7606, -84.3963, -123.1386, -63.6167, -71.543, 36.51, -112.4291, -78.5661, -73.7949, 31.1656], \"marker\": {\"color\": \"#636efa\"}, \"mode\": \"markers\", \"name\": \"\", \"showlegend\": false, \"subplot\": \"mapbox\", \"type\": \"scattermapbox\"}], \"name\": \"03/03/2020\"}, {\"data\": [{\"customdata\": [[331.0, 6.0, 43.0], [43.0, 1.0, 31.0], [110.0, 0.0, 78.0], [3.0, 1.0, 1.0], [50.0, 0.0, 22.0], [16.0, 0.0, 16.0], [5.0, 0.0, 1.0], [4.0, 0.0, 0.0], [1.0, 0.0, 1.0], [1.0, 0.0, 1.0], [1.0, 0.0, 1.0], [22.0, 1.0, 4.0], [10.0, 0.0, 4.0], [12.0, 0.0, 3.0], [6.0, 0.0, 1.0], [27.0, 0.0, 5.0], [11.0, 0.0, 1.0], [28.0, 0.0, 3.0], [3089.0, 107.0, 276.0], [3.0, 0.0, 2.0], [35.0, 0.0, 0.0], [262.0, 0.0, 16.0], [5.0, 0.0, 2.0], [222.0, 2.0, 2.0], [7.0, 0.0, 0.0], [2.0, 0.0, 0.0], [23.0, 0.0, 1.0], [2.0, 0.0, 1.0], [2.0, 0.0, 1.0], [2922.0, 92.0, 552.0], [0.0, 0.0, 0.0], [1.0, 0.0, 0.0], [2.0, 0.0, 0.0], [13.0, 0.0, 1.0], [15.0, 0.0, 2.0], [1.0, 0.0, 0.0], [52.0, 0.0, 0.0], [35.0, 2.0, 0.0], [56.0, 0.0, 0.0], [12.0, 0.0, 0.0], [10.0, 0.0, 0.0], [90.0, 0.0, 3.0], [29.0, 0.0, 0.0], [15.0, 0.0, 1.0], [5.0, 0.0, 0.0], [3.0, 0.0, 0.0], [9.0, 0.0, 0.0], [1.0, 0.0, 0.0], [56.0, 0.0, 0.0], [4.0, 0.0, 1.0], [2.0, 0.0, 0.0], [38.0, 0.0, 0.0], [16.0, 1.0, 0.0], [6.0, 0.0, 0.0], [26.0, 0.0, 0.0], [1.0, 0.0, 0.0], [3.0, 0.0, 0.0], [1.0, 0.0, 0.0], [2.0, 1.0, 0.0], [6.0, 0.0, 0.0], [1.0, 0.0, 0.0], [1.0, 0.0, 0.0], [8.0, 0.0, 0.0], [8.0, 1.0, 0.0], [10.0, 0.0, 0.0], [3.0, 0.0, 0.0], [1.0, 0.0, 0.0], [1.0, 0.0, 0.0], [31.0, 9.0, 1.0], [4.0, 0.0, 2.0], [2.0, 0.0, 0.0], [5.0, 0.0, 0.0], [1.0, 0.0, 0.0], [1.0, 0.0, 0.0], [1.0, 0.0, 0.0], [1.0, 0.0, 0.0], [1.0, 0.0, 0.0], [4.0, 0.0, 0.0], [2.0, 0.0, 0.0], [2.0, 0.0, 0.0], [2.0, 1.0, 0.0], [2.0, 0.0, 0.0], [1.0, 0.0, 0.0], [1.0, 0.0, 0.0], [2.0, 0.0, 0.0], [2.0, 0.0, 0.0], [1.0, 0.0, 0.0], [1.0, 0.0, 0.0], [1.0, 0.0, 0.0], [1.0, 0.0, 0.0], [1.0, 0.0, 0.0], [10.0, 0.0, 0.0], [1.0, 0.0, 0.0], [3.0, 0.0, 0.0], [2.0, 0.0, 0.0], [1.0, 0.0, 0.0], [1.0, 0.0, 0.0], [1.0, 0.0, 0.0], [1.0, 0.0, 0.0], [1.0, 0.0, 0.0]], \"hoverlabel\": {\"namelength\": 0}, \"hovertemplate\": \"<b>%{hovertext}</b><br><br>ObservationDate=03/04/2020<br>Confirmed=%{customdata[0]}<br>Deaths=%{customdata[1]}<br>Recovered=%{customdata[2]}<br>Lat=%{lat}<br>Long=%{lon}\", \"hovertext\": [null, null, null, null, null, null, null, null, null, null, null, \"New South Wales\", \"Victoria\", \"British Columbia\", null, null, \"Queensland\", null, null, null, null, null, \"South Australia\", null, \"Los Angeles, CA\", \"San Benito, CA\", null, \"San Diego County, CA\", null, null, \"From Diamond Princess\", \"Humboldt County, CA\", \"Sacramento County, CA\", null, null, null, null, null, null, null, null, null, null, null, null, null, null, null, null, null, null, null, null, null, null, null, null, null, \"Western Australia\", null, null, null, null, \"Snohomish County, WA\", null, null, null, null, \"King County, WA\", \"Cook County, IL\", null, null, null, \"Tasmania\", null, null, null, null, \"Grafton County, NH\", \"Hillsborough, FL\", \"Placer County, CA\", \"San Mateo, CA\", \"Sonoma County, CA\", \"Umatilla, OR\", \"Fulton County, GA\", \"Washington County, OR\", null, null, null, \"Maricopa County, AZ\", \"Wake County, NC\", \"Westchester County, NY\", null, \"Orange County, CA\", null, \"Northern Territory\", null, null, null, \"Contra Costa County, CA\"], \"lat\": [36.0, 15.0, 1.2833, 13.0, 2.5, 16.0, 23.6345, -14.235, 28.1667, 11.55, 7.0, -33.8688, -37.8136, 49.2827, 64.0, 24.0, -28.0167, 21.0, 43.0, 60.0, 63.0, 51.0, -34.9285, 40.0, 34.0522, 36.5761, 50.8333, 32.7157, 26.0, 32.0, 35.4437, 40.745, 38.4747, 33.8547, 21.0, 33.0, 26.0275, 33.0, 29.5, 28.0339, 45.1, 46.8182, 47.5162, 31.0, 30.3753, 42.3154, 39.0742, 41.6086, 60.472, 45.9432, 58.5953, 52.1326, 43.9424, 53.7098, 64.9631, 55.1694, -40.9006, 9.082, -31.9505, 53.1424, 49.8153, 43.7333, 25.3548, 48.033, -1.8312, 40.1431, 40.0691, 18.7357, 47.6062, 41.7377, -0.7893, 39.3999, 42.5063, -41.4545, 56.8796, 31.7917, 24.0, 14.4974, 43.9088, 27.9904, 39.0916, 37.563, 38.578, 45.775, 33.8034, 45.547, -38.4161, -35.6751, 31.24, 33.2918, 35.8032, 41.122, 48.3794, 33.7879, 47.1625, -12.4634, 47.14, 51.9194, 34.0, 37.8534], \"legendgroup\": \"\", \"lon\": [138.0, 101.0, 103.8333, 122.0, 112.5, 108.0, -102.5528, -51.9253, 84.25, 104.9167, 81.0, 151.2093, 144.9631, -123.1207, 26.0, 54.0, 153.4, 78.0, 12.0, 90.0, 16.0, 9.0, 138.6007, -4.0, -118.2437, -120.9876, 4.0, -117.1611, 30.0, 53.0, 139.638, -123.8695, -121.3542, 35.8623, 57.0, 65.0, 50.55, 44.0, 47.75, 1.6596, 15.2, 8.2275, 14.5501, 35.0, 69.3451, 43.3569, 21.8243, 21.7453, 8.4689, 24.9668, 25.0136, 5.2913, 12.4578, 27.9534, -19.0208, 23.8813, 174.886, 8.6753, 115.8605, -7.6921, 6.1296, 7.4167, 51.1839, -121.8339, -78.1834, 47.5769, 45.0382, -70.1627, -122.3321, -87.6976, 113.9213, -8.2245, 1.5218, 145.9707, 24.6032, -7.0926, 45.0, -14.4524, -71.82600000000001, -82.3018, -120.8039, -122.3255, -122.9888, -118.7606, -84.3963, -123.1386, -63.6167, -71.543, 36.51, -112.4291, -78.5661, -73.7949, 31.1656, -117.8531, 19.5033, 130.8456, 9.55, 19.1451, 9.0, -121.9018], \"marker\": {\"color\": \"#636efa\"}, \"mode\": \"markers\", \"name\": \"\", \"showlegend\": false, \"subplot\": \"mapbox\", \"type\": \"scattermapbox\"}], \"name\": \"03/04/2020\"}, {\"data\": [{\"customdata\": [[360.0, 6.0, 43.0], [47.0, 1.0, 31.0], [117.0, 0.0, 78.0], [3.0, 1.0, 1.0], [50.0, 0.0, 22.0], [16.0, 0.0, 16.0], [5.0, 0.0, 1.0], [4.0, 0.0, 0.0], [1.0, 0.0, 1.0], [1.0, 0.0, 1.0], [1.0, 0.0, 1.0], [22.0, 1.0, 4.0], [10.0, 0.0, 7.0], [13.0, 0.0, 3.0], [12.0, 0.0, 1.0], [29.0, 0.0, 5.0], [13.0, 0.0, 8.0], [30.0, 0.0, 3.0], [3858.0, 148.0, 414.0], [4.0, 0.0, 2.0], [94.0, 0.0, 0.0], [482.0, 0.0, 16.0], [5.0, 0.0, 2.0], [259.0, 3.0, 2.0], [11.0, 0.0, 0.0], [2.0, 0.0, 0.0], [50.0, 0.0, 1.0], [3.0, 0.0, 1.0], [3.0, 0.0, 1.0], [3513.0, 107.0, 739.0], [0.0, 0.0, 0.0], [1.0, 0.0, 0.0], [2.0, 0.0, 0.0], [16.0, 0.0, 1.0], [16.0, 0.0, 2.0], [1.0, 0.0, 0.0], [55.0, 0.0, 0.0], [35.0, 2.0, 0.0], [58.0, 0.0, 0.0], [12.0, 0.0, 0.0], [10.0, 0.0, 0.0], [114.0, 1.0, 3.0], [41.0, 0.0, 0.0], [16.0, 0.0, 1.0], [5.0, 0.0, 0.0], [4.0, 0.0, 0.0], [31.0, 0.0, 0.0], [1.0, 0.0, 0.0], [87.0, 0.0, 0.0], [6.0, 0.0, 1.0], [3.0, 0.0, 0.0], [82.0, 0.0, 0.0], [21.0, 1.0, 0.0], [6.0, 0.0, 0.0], [34.0, 0.0, 0.0], [1.0, 0.0, 0.0], [3.0, 0.0, 0.0], [1.0, 0.0, 0.0], [3.0, 1.0, 0.0], [6.0, 0.0, 0.0], [1.0, 0.0, 0.0], [1.0, 0.0, 0.0], [8.0, 0.0, 0.0], [18.0, 1.0, 0.0], [13.0, 0.0, 0.0], [6.0, 0.0, 0.0], [1.0, 0.0, 0.0], [1.0, 0.0, 0.0], [51.0, 10.0, 1.0], [5.0, 0.0, 2.0], [2.0, 0.0, 0.0], [8.0, 0.0, 0.0], [1.0, 0.0, 0.0], [1.0, 0.0, 0.0], [1.0, 0.0, 0.0], [2.0, 0.0, 0.0], [5.0, 0.0, 0.0], [4.0, 0.0, 0.0], [2.0, 0.0, 0.0], [2.0, 0.0, 0.0], [2.0, 1.0, 0.0], [2.0, 0.0, 0.0], [1.0, 0.0, 0.0], [1.0, 0.0, 0.0], [2.0, 0.0, 0.0], [2.0, 0.0, 0.0], [1.0, 0.0, 0.0], [4.0, 0.0, 0.0], [1.0, 0.0, 0.0], [1.0, 0.0, 0.0], [1.0, 0.0, 0.0], [18.0, 0.0, 0.0], [1.0, 0.0, 0.0], [3.0, 0.0, 0.0], [2.0, 0.0, 0.0], [1.0, 0.0, 0.0], [1.0, 0.0, 0.0], [1.0, 0.0, 0.0], [1.0, 0.0, 0.0], [1.0, 0.0, 0.0], [2.0, 0.0, 0.0], [2.0, 0.0, 0.0], [2.0, 0.0, 0.0], [2.0, 0.0, 0.0], [2.0, 0.0, 0.0], [1.0, 0.0, 0.0], [1.0, 0.0, 0.0], [1.0, 0.0, 0.0], [1.0, 0.0, 0.0], [1.0, 0.0, 0.0], [1.0, 0.0, 0.0]], \"hoverlabel\": {\"namelength\": 0}, \"hovertemplate\": \"<b>%{hovertext}</b><br><br>ObservationDate=03/05/2020<br>Confirmed=%{customdata[0]}<br>Deaths=%{customdata[1]}<br>Recovered=%{customdata[2]}<br>Lat=%{lat}<br>Long=%{lon}\", \"hovertext\": [null, null, null, null, null, null, null, null, null, null, null, \"New South Wales\", \"Victoria\", \"British Columbia\", null, null, \"Queensland\", null, null, null, null, null, \"South Australia\", null, \"Los Angeles, CA\", \"San Benito, CA\", null, \"San Diego County, CA\", null, null, \"From Diamond Princess\", \"Humboldt County, CA\", \"Sacramento County, CA\", null, null, null, null, null, null, null, null, null, null, null, null, null, null, null, null, null, null, null, null, null, null, null, null, null, \"Western Australia\", null, null, null, null, \"Snohomish County, WA\", null, null, null, null, \"King County, WA\", \"Cook County, IL\", null, null, null, \"Tasmania\", null, null, null, null, \"Grafton County, NH\", \"Hillsborough, FL\", \"Placer County, CA\", \"San Mateo, CA\", \"Sonoma County, CA\", \"Umatilla, OR\", \"Fulton County, GA\", \"Washington County, OR\", null, null, null, \"Maricopa County, AZ\", \"Wake County, NC\", \"Westchester County, NY\", null, \"Orange County, CA\", null, \"Northern Territory\", null, null, null, \"Contra Costa County, CA\", null, null, \"Bergen County, NJ\", \"Harris County, TX\", \"San Francisco County, CA\", null, \"Clark County, NV\", \"Fort Bend County, TX\", \"Grant County, WA\", \"Santa Rosa County, FL\", \"Williamson County, TN\"], \"lat\": [36.0, 15.0, 1.2833, 13.0, 2.5, 16.0, 23.6345, -14.235, 28.1667, 11.55, 7.0, -33.8688, -37.8136, 49.2827, 64.0, 24.0, -28.0167, 21.0, 43.0, 60.0, 63.0, 51.0, -34.9285, 40.0, 34.0522, 36.5761, 50.8333, 32.7157, 26.0, 32.0, 35.4437, 40.745, 38.4747, 33.8547, 21.0, 33.0, 26.0275, 33.0, 29.5, 28.0339, 45.1, 46.8182, 47.5162, 31.0, 30.3753, 42.3154, 39.0742, 41.6086, 60.472, 45.9432, 58.5953, 52.1326, 43.9424, 53.7098, 64.9631, 55.1694, -40.9006, 9.082, -31.9505, 53.1424, 49.8153, 43.7333, 25.3548, 48.033, -1.8312, 40.1431, 40.0691, 18.7357, 47.6062, 41.7377, -0.7893, 39.3999, 42.5063, -41.4545, 56.8796, 31.7917, 24.0, 14.4974, 43.9088, 27.9904, 39.0916, 37.563, 38.578, 45.775, 33.8034, 45.547, -38.4161, -35.6751, 31.24, 33.2918, 35.8032, 41.122, 48.3794, 33.7879, 47.1625, -12.4634, 47.14, 51.9194, 34.0, 37.8534, 43.9159, 46.1512, 40.9263, 29.7752, 37.7749, -30.5595, 36.0796, 29.5693, 47.1981, 30.769000000000002, 35.9179], \"legendgroup\": \"\", \"lon\": [138.0, 101.0, 103.8333, 122.0, 112.5, 108.0, -102.5528, -51.9253, 84.25, 104.9167, 81.0, 151.2093, 144.9631, -123.1207, 26.0, 54.0, 153.4, 78.0, 12.0, 90.0, 16.0, 9.0, 138.6007, -4.0, -118.2437, -120.9876, 4.0, -117.1611, 30.0, 53.0, 139.638, -123.8695, -121.3542, 35.8623, 57.0, 65.0, 50.55, 44.0, 47.75, 1.6596, 15.2, 8.2275, 14.5501, 35.0, 69.3451, 43.3569, 21.8243, 21.7453, 8.4689, 24.9668, 25.0136, 5.2913, 12.4578, 27.9534, -19.0208, 23.8813, 174.886, 8.6753, 115.8605, -7.6921, 6.1296, 7.4167, 51.1839, -121.8339, -78.1834, 47.5769, 45.0382, -70.1627, -122.3321, -87.6976, 113.9213, -8.2245, 1.5218, 145.9707, 24.6032, -7.0926, 45.0, -14.4524, -71.82600000000001, -82.3018, -120.8039, -122.3255, -122.9888, -118.7606, -84.3963, -123.1386, -63.6167, -71.543, 36.51, -112.4291, -78.5661, -73.7949, 31.1656, -117.8531, 19.5033, 130.8456, 9.55, 19.1451, 9.0, -121.9018, 17.6791, 14.9955, -74.077, -95.3103, -122.4194, 22.9375, -115.094, -95.8143, -119.3732, -86.9824, -86.8622], \"marker\": {\"color\": \"#636efa\"}, \"mode\": \"markers\", \"name\": \"\", \"showlegend\": false, \"subplot\": \"mapbox\", \"type\": \"scattermapbox\"}], \"name\": \"03/05/2020\"}, {\"data\": [{\"customdata\": [[420.0, 6.0, 46.0], [48.0, 1.0, 31.0], [130.0, 0.0, 78.0], [5.0, 1.0, 1.0], [83.0, 0.0, 22.0], [16.0, 0.0, 16.0], [6.0, 0.0, 1.0], [13.0, 0.0, 0.0], [1.0, 0.0, 0.0], [1.0, 0.0, 1.0], [1.0, 0.0, 1.0], [1.0, 0.0, 1.0], [26.0, 1.0, 4.0], [10.0, 0.0, 7.0], [21.0, 0.0, 3.0], [15.0, 0.0, 1.0], [29.0, 0.0, 5.0], [13.0, 0.0, 8.0], [31.0, 0.0, 3.0], [4636.0, 197.0, 523.0], [13.0, 0.0, 2.0], [101.0, 0.0, 0.0], [670.0, 0.0, 17.0], [7.0, 0.0, 2.0], [400.0, 5.0, 2.0], [13.0, 0.0, 0.0], [2.0, 0.0, 0.0], [109.0, 0.0, 1.0], [3.0, 0.0, 1.0], [15.0, 0.0, 1.0], [4747.0, 124.0, 913.0], [0.0, 0.0, 0.0], [1.0, 0.0, 0.0], [2.0, 0.0, 0.0], [22.0, 0.0, 1.0], [16.0, 0.0, 2.0], [1.0, 0.0, 0.0], [60.0, 0.0, 4.0], [40.0, 3.0, 0.0], [58.0, 0.0, 0.0], [17.0, 0.0, 0.0], [11.0, 0.0, 0.0], [214.0, 1.0, 3.0], [55.0, 0.0, 0.0], [21.0, 0.0, 2.0], [6.0, 0.0, 0.0], [4.0, 0.0, 0.0], [45.0, 0.0, 0.0], [3.0, 0.0, 0.0], [108.0, 0.0, 0.0], [9.0, 0.0, 1.0], [10.0, 0.0, 0.0], [128.0, 1.0, 0.0], [21.0, 1.0, 0.0], [6.0, 0.0, 0.0], [43.0, 0.0, 0.0], [1.0, 0.0, 0.0], [4.0, 0.0, 0.0], [1.0, 0.0, 0.0], [3.0, 1.0, 0.0], [18.0, 0.0, 0.0], [2.0, 0.0, 0.0], [1.0, 0.0, 0.0], [8.0, 0.0, 0.0], [19.0, 1.0, 0.0], [13.0, 0.0, 0.0], [6.0, 0.0, 0.0], [1.0, 0.0, 0.0], [2.0, 0.0, 0.0], [58.0, 12.0, 1.0], [5.0, 0.0, 2.0], [4.0, 0.0, 0.0], [13.0, 0.0, 0.0], [1.0, 0.0, 0.0], [1.0, 0.0, 0.0], [1.0, 0.0, 0.0], [2.0, 0.0, 0.0], [5.0, 0.0, 0.0], [4.0, 0.0, 0.0], [2.0, 0.0, 0.0], [2.0, 0.0, 0.0], [5.0, 1.0, 0.0], [2.0, 0.0, 0.0], [1.0, 0.0, 0.0], [1.0, 0.0, 0.0], [2.0, 0.0, 0.0], [2.0, 0.0, 0.0], [2.0, 0.0, 0.0], [4.0, 0.0, 0.0], [1.0, 0.0, 0.0], [2.0, 0.0, 0.0], [1.0, 0.0, 0.0], [19.0, 0.0, 0.0], [1.0, 0.0, 0.0], [3.0, 0.0, 0.0], [2.0, 0.0, 0.0], [0.0, 0.0, 0.0], [1.0, 0.0, 0.0], [5.0, 0.0, 0.0], [1.0, 0.0, 0.0], [3.0, 0.0, 0.0], [2.0, 0.0, 0.0], [7.0, 0.0, 0.0], [2.0, 0.0, 0.0], [3.0, 0.0, 0.0], [2.0, 0.0, 0.0], [1.0, 0.0, 0.0], [1.0, 0.0, 0.0], [1.0, 0.0, 0.0], [1.0, 0.0, 0.0], [1.0, 0.0, 0.0], [1.0, 0.0, 0.0], [16.0, 0.0, 0.0], [3.0, 0.0, 0.0], [3.0, 0.0, 1.0], [2.0, 0.0, 0.0], [2.0, 0.0, 0.0], [1.0, 0.0, 0.0], [1.0, 0.0, 0.0], [1.0, 0.0, 0.0], [1.0, 0.0, 0.0], [1.0, 0.0, 0.0], [1.0, 0.0, 0.0], [1.0, 0.0, 0.0], [1.0, 0.0, 0.0], [1.0, 0.0, 0.0], [1.0, 0.0, 0.0], [1.0, 0.0, 0.0], [1.0, 0.0, 0.0], [1.0, 0.0, 0.0], [1.0, 0.0, 0.0], [1.0, 0.0, 0.0], [1.0, 0.0, 0.0], [1.0, 0.0, 0.0], [1.0, 0.0, 0.0]], \"hoverlabel\": {\"namelength\": 0}, \"hovertemplate\": \"<b>%{hovertext}</b><br><br>ObservationDate=03/06/2020<br>Confirmed=%{customdata[0]}<br>Deaths=%{customdata[1]}<br>Recovered=%{customdata[2]}<br>Lat=%{lat}<br>Long=%{lon}\", \"hovertext\": [null, null, null, null, null, null, null, null, null, null, null, null, \"New South Wales\", \"Victoria\", \"British Columbia\", null, null, \"Queensland\", null, null, null, null, null, \"South Australia\", null, \"Los Angeles, CA\", \"San Benito, CA\", null, \"San Diego County, CA\", null, null, \"From Diamond Princess\", \"Humboldt County, CA\", \"Sacramento County, CA\", null, null, null, null, null, null, null, null, null, null, null, null, null, null, null, null, null, null, null, null, null, null, null, null, null, \"Western Australia\", null, null, null, null, \"Snohomish County, WA\", null, null, null, null, \"King County, WA\", \"Cook County, IL\", null, null, null, \"Tasmania\", null, null, null, null, \"Grafton County, NH\", \"Hillsborough, FL\", \"Placer County, CA\", \"San Mateo, CA\", \"Sonoma County, CA\", \"Umatilla, OR\", \"Fulton County, GA\", \"Washington County, OR\", null, null, null, \"Maricopa County, AZ\", \"Wake County, NC\", \"Westchester County, NY\", null, \"Orange County, CA\", null, \"Northern Territory\", null, null, null, \"Contra Costa County, CA\", null, null, \"Bergen County, NJ\", \"Harris County, TX\", \"San Francisco County, CA\", null, \"Clark County, NV\", \"Fort Bend County, TX\", \"Grant County, WA\", \"Santa Rosa County, FL\", \"Williamson County, TN\", \"New York County, NY\", \"Montgomery County, MD\", \"Suffolk County, MA\", \"Denver County, CO\", \"Summit County, CO\", null, null, null, null, null, null, null, \"Chatham County, NC\", \"Delaware County, PA\", \"Douglas County, NE\", \"Fayette County, KY\", \"Marion County, IN\", \"Middlesex County, MA\", \"Nassau County, NY\", \"Ramsey County, MN\", \"Washoe County, NV\", \"Wayne County, PA\", \"Yolo County, CA\"], \"lat\": [36.0, 15.0, 1.2833, 13.0, 2.5, 16.0, 23.6345, -14.235, 4.5709, 28.1667, 11.55, 7.0, -33.8688, -37.8136, 49.2827, 64.0, 24.0, -28.0167, 21.0, 43.0, 60.0, 63.0, 51.0, -34.9285, 40.0, 34.0522, 36.5761, 50.8333, 32.7157, 26.0, 32.0, 35.4437, 40.745, 38.4747, 33.8547, 21.0, 33.0, 26.0275, 33.0, 29.5, 28.0339, 45.1, 46.8182, 47.5162, 31.0, 30.3753, 42.3154, 39.0742, 41.6086, 60.472, 45.9432, 58.5953, 52.1326, 43.9424, 53.7098, 64.9631, 55.1694, -40.9006, 9.082, -31.9505, 53.1424, 49.8153, 43.7333, 25.3548, 48.033, -1.8312, 40.1431, 40.0691, 18.7357, 47.6062, 41.7377, -0.7893, 39.3999, 42.5063, -41.4545, 56.8796, 31.7917, 24.0, 14.4974, 43.9088, 27.9904, 39.0916, 37.563, 38.578, 45.775, 33.8034, 45.547, -38.4161, -35.6751, 31.24, 33.2918, 35.8032, 41.122, 48.3794, 33.7879, 47.1625, -12.4634, 47.14, 51.9194, 34.0, 37.8534, 43.9159, 46.1512, 40.9263, 29.7752, 37.7749, -30.5595, 36.0796, 29.5693, 47.1981, 30.769000000000002, 35.9179, 40.7128, 39.1547, 42.3601, 39.7392, 39.5912, 27.5142, 3.8480000000000003, 9.7489, -9.19, 44.0165, 48.669, 8.6195, 35.7211, 39.9078, 41.3148, 38.0606, 39.8362, 42.4672, 40.6546, 44.9964, 40.5608, 41.6739, 38.7646], \"legendgroup\": \"\", \"lon\": [138.0, 101.0, 103.8333, 122.0, 112.5, 108.0, -102.5528, -51.9253, -74.2973, 84.25, 104.9167, 81.0, 151.2093, 144.9631, -123.1207, 26.0, 54.0, 153.4, 78.0, 12.0, 90.0, 16.0, 9.0, 138.6007, -4.0, -118.2437, -120.9876, 4.0, -117.1611, 30.0, 53.0, 139.638, -123.8695, -121.3542, 35.8623, 57.0, 65.0, 50.55, 44.0, 47.75, 1.6596, 15.2, 8.2275, 14.5501, 35.0, 69.3451, 43.3569, 21.8243, 21.7453, 8.4689, 24.9668, 25.0136, 5.2913, 12.4578, 27.9534, -19.0208, 23.8813, 174.886, 8.6753, 115.8605, -7.6921, 6.1296, 7.4167, 51.1839, -121.8339, -78.1834, 47.5769, 45.0382, -70.1627, -122.3321, -87.6976, 113.9213, -8.2245, 1.5218, 145.9707, 24.6032, -7.0926, 45.0, -14.4524, -71.82600000000001, -82.3018, -120.8039, -122.3255, -122.9888, -118.7606, -84.3963, -123.1386, -63.6167, -71.543, 36.51, -112.4291, -78.5661, -73.7949, 31.1656, -117.8531, 19.5033, 130.8456, 9.55, 19.1451, 9.0, -121.9018, 17.6791, 14.9955, -74.077, -95.3103, -122.4194, 22.9375, -115.094, -95.8143, -119.3732, -86.9824, -86.8622, -74.006, -77.2405, -71.0589, -104.9903, -106.064, 90.4336, 11.5021, -83.7534, -75.0152, 21.0059, 19.699, 0.8248, -79.1781, -75.3879, -96.1951, -84.4803, -86.1752, -71.2874, -73.5594, -93.0616, -119.6035, -75.2479, -121.9018], \"marker\": {\"color\": \"#636efa\"}, \"mode\": \"markers\", \"name\": \"\", \"showlegend\": false, \"subplot\": \"mapbox\", \"type\": \"scattermapbox\"}], \"name\": \"03/06/2020\"}, {\"data\": [{\"customdata\": [[461.0, 6.0, 76.0], [50.0, 1.0, 31.0], [138.0, 0.0, 78.0], [6.0, 1.0, 1.0], [93.0, 0.0, 23.0], [18.0, 0.0, 16.0], [6.0, 0.0, 1.0], [13.0, 0.0, 0.0], [1.0, 0.0, 0.0], [1.0, 0.0, 1.0], [1.0, 0.0, 1.0], [1.0, 0.0, 1.0], [28.0, 1.0, 4.0], [11.0, 0.0, 7.0], [21.0, 0.0, 4.0], [15.0, 0.0, 1.0], [45.0, 0.0, 7.0], [13.0, 0.0, 8.0], [34.0, 0.0, 3.0], [5883.0, 233.0, 589.0], [13.0, 0.0, 2.0], [161.0, 0.0, 0.0], [799.0, 0.0, 18.0], [7.0, 0.0, 2.0], [500.0, 10.0, 30.0], [14.0, 0.0, 0.0], [2.0, 0.0, 0.0], [169.0, 0.0, 1.0], [3.0, 0.0, 1.0], [15.0, 0.0, 1.0], [5823.0, 145.0, 1669.0], [0.0, 0.0, 0.0], [1.0, 0.0, 0.0], [2.0, 0.0, 0.0], [22.0, 0.0, 1.0], [16.0, 0.0, 2.0], [1.0, 0.0, 0.0], [85.0, 0.0, 4.0], [54.0, 4.0, 0.0], [61.0, 0.0, 0.0], [17.0, 0.0, 0.0], [12.0, 0.0, 0.0], [268.0, 1.0, 3.0], [79.0, 0.0, 0.0], [21.0, 0.0, 2.0], [6.0, 0.0, 0.0], [4.0, 0.0, 0.0], [46.0, 0.0, 0.0], [3.0, 0.0, 0.0], [147.0, 0.0, 0.0], [9.0, 0.0, 3.0], [10.0, 0.0, 0.0], [188.0, 1.0, 0.0], [23.0, 1.0, 0.0], [6.0, 0.0, 0.0], [50.0, 0.0, 0.0], [1.0, 0.0, 0.0], [5.0, 0.0, 0.0], [1.0, 0.0, 0.0], [3.0, 1.0, 0.0], [18.0, 0.0, 0.0], [2.0, 0.0, 0.0], [1.0, 0.0, 0.0], [8.0, 0.0, 0.0], [27.0, 1.0, 0.0], [13.0, 0.0, 0.0], [9.0, 0.0, 0.0], [1.0, 0.0, 0.0], [2.0, 0.0, 0.0], [71.0, 15.0, 1.0], [6.0, 0.0, 2.0], [4.0, 0.0, 0.0], [20.0, 0.0, 0.0], [1.0, 0.0, 0.0], [1.0, 0.0, 0.0], [1.0, 0.0, 0.0], [2.0, 0.0, 0.0], [5.0, 0.0, 0.0], [4.0, 0.0, 0.0], [2.0, 0.0, 0.0], [2.0, 0.0, 0.0], [5.0, 1.0, 0.0], [2.0, 0.0, 0.0], [1.0, 0.0, 0.0], [1.0, 0.0, 0.0], [3.0, 0.0, 0.0], [3.0, 0.0, 0.0], [8.0, 0.0, 0.0], [4.0, 0.0, 0.0], [1.0, 0.0, 0.0], [3.0, 0.0, 1.0], [1.0, 0.0, 0.0], [57.0, 0.0, 0.0], [1.0, 0.0, 0.0], [3.0, 0.0, 0.0], [4.0, 0.0, 0.0], [0.0, 0.0, 0.0], [1.0, 0.0, 0.0], [5.0, 0.0, 0.0], [1.0, 0.0, 0.0], [3.0, 0.0, 0.0], [3.0, 0.0, 0.0], [7.0, 0.0, 0.0], [4.0, 0.0, 0.0], [5.0, 0.0, 0.0], [9.0, 0.0, 0.0], [1.0, 0.0, 0.0], [1.0, 0.0, 0.0], [3.0, 0.0, 0.0], [1.0, 0.0, 0.0], [1.0, 0.0, 0.0], [1.0, 0.0, 0.0], [11.0, 0.0, 0.0], [3.0, 0.0, 0.0], [3.0, 0.0, 1.0], [2.0, 0.0, 0.0], [2.0, 0.0, 0.0], [1.0, 0.0, 0.0], [1.0, 0.0, 0.0], [1.0, 0.0, 0.0], [1.0, 0.0, 0.0], [1.0, 0.0, 0.0], [1.0, 0.0, 0.0], [1.0, 0.0, 0.0], [1.0, 0.0, 0.0], [1.0, 0.0, 0.0], [1.0, 0.0, 0.0], [1.0, 0.0, 0.0], [1.0, 0.0, 0.0], [1.0, 0.0, 0.0], [4.0, 0.0, 0.0], [1.0, 0.0, 0.0], [1.0, 0.0, 0.0], [1.0, 0.0, 0.0], [1.0, 0.0, 0.0], [32.0, 0.0, 1.0], [5.0, 0.0, 0.0], [3.0, 0.0, 0.0], [3.0, 0.0, 0.0], [3.0, 0.0, 0.0], [2.0, 0.0, 0.0], [2.0, 0.0, 0.0], [2.0, 0.0, 0.0], [2.0, 0.0, 0.0], [2.0, 0.0, 0.0], [2.0, 0.0, 0.0], [2.0, 0.0, 0.0], [1.0, 0.0, 0.0], [1.0, 0.0, 0.0], [1.0, 0.0, 0.0], [1.0, 0.0, 0.0], [1.0, 0.0, 0.0], [1.0, 0.0, 0.0], [1.0, 0.0, 0.0], [1.0, 0.0, 0.0], [1.0, 0.0, 0.0], [1.0, 0.0, 0.0], [1.0, 0.0, 0.0], [1.0, 0.0, 0.0], [1.0, 0.0, 0.0]], \"hoverlabel\": {\"namelength\": 0}, \"hovertemplate\": \"<b>%{hovertext}</b><br><br>ObservationDate=03/07/2020<br>Confirmed=%{customdata[0]}<br>Deaths=%{customdata[1]}<br>Recovered=%{customdata[2]}<br>Lat=%{lat}<br>Long=%{lon}\", \"hovertext\": [null, null, null, null, null, null, null, null, null, null, null, null, \"New South Wales\", \"Victoria\", \"British Columbia\", null, null, \"Queensland\", null, null, null, null, null, \"South Australia\", null, \"Los Angeles, CA\", \"San Benito, CA\", null, \"San Diego County, CA\", null, null, \"From Diamond Princess\", \"Humboldt County, CA\", \"Sacramento County, CA\", null, null, null, null, null, null, null, null, null, null, null, null, null, null, null, null, null, null, null, null, null, null, null, null, null, \"Western Australia\", null, null, null, null, \"Snohomish County, WA\", null, null, null, null, \"King County, WA\", \"Cook County, IL\", null, null, null, \"Tasmania\", null, null, null, null, \"Grafton County, NH\", \"Hillsborough, FL\", \"Placer County, CA\", \"San Mateo, CA\", \"Sonoma County, CA\", \"Umatilla, OR\", \"Fulton County, GA\", \"Washington County, OR\", null, null, null, \"Maricopa County, AZ\", \"Wake County, NC\", \"Westchester County, NY\", null, \"Orange County, CA\", null, \"Northern Territory\", null, null, null, \"Contra Costa County, CA\", null, null, \"Bergen County, NJ\", \"Harris County, TX\", \"San Francisco County, CA\", null, \"Clark County, NV\", \"Fort Bend County, TX\", \"Grant County, WA\", \"Santa Rosa County, FL\", \"Williamson County, TN\", \"New York County, NY\", \"Montgomery County, MD\", \"Suffolk County, MA\", \"Denver County, CO\", \"Summit County, CO\", null, null, null, null, null, null, null, \"Chatham County, NC\", \"Delaware County, PA\", \"Douglas County, NE\", \"Fayette County, KY\", \"Marion County, IN\", \"Middlesex County, MA\", \"Nassau County, NY\", \"Ramsey County, MN\", \"Washoe County, NV\", \"Wayne County, PA\", \"Yolo County, CA\", \"Santa Clara County, CA\", null, null, \"Douglas County, CO\", \"Providence County, RI\", null, \"Alameda County, CA\", \"Broward County, FL\", \"Lee County, FL\", \"Pinal County, AZ\", \"Rockland County, NY\", \"Saratoga County, NY\", \"Charleston County, SC\", \"Clark County, WA\", \"Cobb County, GA\", \"Davis County, UT\", \"El Paso County, CO\", \"Honolulu County, HI\", \"Jackson County, OR \", \"Jefferson County, WA\", \"Kershaw County, SC\", \"Klamath County, OR\", \"Madera County, CA\", \"Pierce County, WA\", \"Tulsa County, OK\"], \"lat\": [36.0, 15.0, 1.2833, 13.0, 2.5, 16.0, 23.6345, -14.235, 4.5709, 28.1667, 11.55, 7.0, -33.8688, -37.8136, 49.2827, 64.0, 24.0, -28.0167, 21.0, 43.0, 60.0, 63.0, 51.0, -34.9285, 40.0, 34.0522, 36.5761, 50.8333, 32.7157, 26.0, 32.0, 35.4437, 40.745, 38.4747, 33.8547, 21.0, 33.0, 26.0275, 33.0, 29.5, 28.0339, 45.1, 46.8182, 47.5162, 31.0, 30.3753, 42.3154, 39.0742, 41.6086, 60.472, 45.9432, 58.5953, 52.1326, 43.9424, 53.7098, 64.9631, 55.1694, -40.9006, 9.082, -31.9505, 53.1424, 49.8153, 43.7333, 25.3548, 48.033, -1.8312, 40.1431, 40.0691, 18.7357, 47.6062, 41.7377, -0.7893, 39.3999, 42.5063, -41.4545, 56.8796, 31.7917, 24.0, 14.4974, 43.9088, 27.9904, 39.0916, 37.563, 38.578, 45.775, 33.8034, 45.547, -38.4161, -35.6751, 31.24, 33.2918, 35.8032, 41.122, 48.3794, 33.7879, 47.1625, -12.4634, 47.14, 51.9194, 34.0, 37.8534, 43.9159, 46.1512, 40.9263, 29.7752, 37.7749, -30.5595, 36.0796, 29.5693, 47.1981, 30.769000000000002, 35.9179, 40.7128, 39.1547, 42.3601, 39.7392, 39.5912, 27.5142, 3.8480000000000003, 9.7489, -9.19, 44.0165, 48.669, 8.6195, 35.7211, 39.9078, 41.3148, 38.0606, 39.8362, 42.4672, 40.6546, 44.9964, 40.5608, 41.6739, 38.7646, 37.3541, 3.9339, 35.9375, 39.2587, 41.8882, 14.6415, 37.6017, 26.1901, 26.663, 32.8162, 41.1489, 43.0324, 32.7957, 45.7466, 33.8999, 40.9629, 38.9108, 21.307, 42.3345, 47.7425, 34.3672, 42.6953, 37.2519, 47.0676, 36.1593], \"legendgroup\": \"\", \"lon\": [138.0, 101.0, 103.8333, 122.0, 112.5, 108.0, -102.5528, -51.9253, -74.2973, 84.25, 104.9167, 81.0, 151.2093, 144.9631, -123.1207, 26.0, 54.0, 153.4, 78.0, 12.0, 90.0, 16.0, 9.0, 138.6007, -4.0, -118.2437, -120.9876, 4.0, -117.1611, 30.0, 53.0, 139.638, -123.8695, -121.3542, 35.8623, 57.0, 65.0, 50.55, 44.0, 47.75, 1.6596, 15.2, 8.2275, 14.5501, 35.0, 69.3451, 43.3569, 21.8243, 21.7453, 8.4689, 24.9668, 25.0136, 5.2913, 12.4578, 27.9534, -19.0208, 23.8813, 174.886, 8.6753, 115.8605, -7.6921, 6.1296, 7.4167, 51.1839, -121.8339, -78.1834, 47.5769, 45.0382, -70.1627, -122.3321, -87.6976, 113.9213, -8.2245, 1.5218, 145.9707, 24.6032, -7.0926, 45.0, -14.4524, -71.82600000000001, -82.3018, -120.8039, -122.3255, -122.9888, -118.7606, -84.3963, -123.1386, -63.6167, -71.543, 36.51, -112.4291, -78.5661, -73.7949, 31.1656, -117.8531, 19.5033, 130.8456, 9.55, 19.1451, 9.0, -121.9018, 17.6791, 14.9955, -74.077, -95.3103, -122.4194, 22.9375, -115.094, -95.8143, -119.3732, -86.9824, -86.8622, -74.006, -77.2405, -71.0589, -104.9903, -106.064, 90.4336, 11.5021, -83.7534, -75.0152, 21.0059, 19.699, 0.8248, -79.1781, -75.3879, -96.1951, -84.4803, -86.1752, -71.2874, -73.5594, -93.0616, -119.6035, -75.2479, -121.9018, -121.9552, -53.1258, 14.3754, -104.9389, -71.4774, -61.0242, -121.7195, -80.3659, -81.9535, -111.2845, -73.983, -73.936, -79.7848, -122.5194, -84.5641, -112.0953, -104.4723, -157.8584, -122.7647, -123.304, -80.5883, -121.6142, -119.6963, -122.1295, -95.941], \"marker\": {\"color\": \"#636efa\"}, \"mode\": \"markers\", \"name\": \"\", \"showlegend\": false, \"subplot\": \"mapbox\", \"type\": \"scattermapbox\"}], \"name\": \"03/07/2020\"}, {\"data\": [{\"customdata\": [[502.0, 6.0, 76.0], [50.0, 1.0, 31.0], [150.0, 0.0, 78.0], [10.0, 1.0, 1.0], [99.0, 0.0, 24.0], [30.0, 0.0, 16.0], [7.0, 0.0, 1.0], [20.0, 0.0, 0.0], [1.0, 0.0, 0.0], [1.0, 0.0, 1.0], [2.0, 0.0, 1.0], [1.0, 0.0, 1.0], [38.0, 3.0, 4.0], [11.0, 0.0, 7.0], [27.0, 0.0, 4.0], [23.0, 0.0, 1.0], [45.0, 0.0, 7.0], [15.0, 0.0, 8.0], [39.0, 0.0, 3.0], [7375.0, 366.0, 622.0], [17.0, 0.0, 3.0], [203.0, 0.0, 0.0], [1040.0, 0.0, 18.0], [7.0, 0.0, 2.0], [673.0, 17.0, 30.0], [14.0, 0.0, 0.0], [2.0, 0.0, 0.0], [200.0, 0.0, 1.0], [3.0, 0.0, 1.0], [49.0, 1.0, 1.0], [6566.0, 194.0, 2134.0], [0.0, 0.0, 0.0], [1.0, 0.0, 0.0], [2.0, 0.0, 0.0], [32.0, 0.0, 1.0], [16.0, 0.0, 2.0], [4.0, 0.0, 0.0], [85.0, 0.0, 4.0], [60.0, 6.0, 0.0], [64.0, 0.0, 1.0], [19.0, 0.0, 0.0], [12.0, 0.0, 0.0], [337.0, 2.0, 3.0], [104.0, 0.0, 0.0], [39.0, 0.0, 2.0], [6.0, 0.0, 1.0], [13.0, 0.0, 0.0], [73.0, 0.0, 0.0], [3.0, 0.0, 0.0], [176.0, 0.0, 0.0], [15.0, 0.0, 3.0], [10.0, 0.0, 0.0], [265.0, 3.0, 0.0], [36.0, 1.0, 0.0], [6.0, 0.0, 0.0], [50.0, 0.0, 0.0], [1.0, 0.0, 0.0], [5.0, 0.0, 0.0], [1.0, 0.0, 0.0], [3.0, 1.0, 0.0], [19.0, 0.0, 0.0], [3.0, 0.0, 0.0], [1.0, 0.0, 0.0], [15.0, 0.0, 0.0], [31.0, 1.0, 0.0], [14.0, 0.0, 0.0], [9.0, 0.0, 0.0], [1.0, 0.0, 0.0], [5.0, 0.0, 0.0], [83.0, 17.0, 1.0], [7.0, 0.0, 2.0], [6.0, 0.0, 0.0], [30.0, 0.0, 0.0], [1.0, 0.0, 0.0], [2.0, 0.0, 0.0], [2.0, 0.0, 0.0], [2.0, 0.0, 0.0], [11.0, 0.0, 0.0], [4.0, 0.0, 1.0], [4.0, 0.0, 0.0], [2.0, 0.0, 0.0], [5.0, 1.0, 0.0], [2.0, 0.0, 0.0], [1.0, 0.0, 0.0], [1.0, 0.0, 0.0], [3.0, 0.0, 0.0], [8.0, 0.0, 0.0], [12.0, 1.0, 0.0], [8.0, 0.0, 0.0], [1.0, 0.0, 0.0], [3.0, 0.0, 1.0], [1.0, 0.0, 0.0], [83.0, 0.0, 0.0], [1.0, 0.0, 0.0], [3.0, 0.0, 0.0], [7.0, 0.0, 0.0], [0.0, 0.0, 0.0], [1.0, 0.0, 0.0], [11.0, 0.0, 0.0], [2.0, 0.0, 0.0], [12.0, 0.0, 0.0], [3.0, 0.0, 0.0], [16.0, 0.0, 0.0], [4.0, 0.0, 0.0], [5.0, 0.0, 0.0], [9.0, 0.0, 0.0], [3.0, 0.0, 0.0], [2.0, 0.0, 0.0], [6.0, 0.0, 0.0], [1.0, 0.0, 0.0], [1.0, 1.0, 0.0], [1.0, 0.0, 0.0], [12.0, 0.0, 0.0], [4.0, 0.0, 0.0], [8.0, 0.0, 1.0], [2.0, 0.0, 0.0], [2.0, 0.0, 0.0], [1.0, 0.0, 0.0], [2.0, 0.0, 0.0], [5.0, 0.0, 0.0], [6.0, 0.0, 0.0], [1.0, 0.0, 0.0], [3.0, 0.0, 0.0], [1.0, 0.0, 0.0], [1.0, 0.0, 0.0], [1.0, 0.0, 0.0], [1.0, 0.0, 0.0], [1.0, 0.0, 0.0], [1.0, 0.0, 0.0], [7.0, 0.0, 0.0], [5.0, 0.0, 0.0], [1.0, 0.0, 0.0], [2.0, 0.0, 0.0], [1.0, 0.0, 0.0], [1.0, 0.0, 0.0], [38.0, 0.0, 1.0], [5.0, 0.0, 0.0], [3.0, 0.0, 0.0], [3.0, 0.0, 0.0], [3.0, 0.0, 0.0], [2.0, 0.0, 0.0], [2.0, 0.0, 0.0], [2.0, 0.0, 0.0], [2.0, 1.0, 0.0], [2.0, 0.0, 0.0], [2.0, 0.0, 0.0], [2.0, 0.0, 0.0], [1.0, 0.0, 0.0], [1.0, 0.0, 0.0], [1.0, 0.0, 0.0], [1.0, 0.0, 0.0], [1.0, 0.0, 0.0], [1.0, 0.0, 0.0], [2.0, 0.0, 0.0], [1.0, 0.0, 0.0], [1.0, 0.0, 0.0], [1.0, 0.0, 0.0], [1.0, 0.0, 0.0], [4.0, 0.0, 0.0], [1.0, 0.0, 0.0], [6.0, 0.0, 0.0], [4.0, 0.0, 0.0], [4.0, 0.0, 0.0], [4.0, 0.0, 0.0], [3.0, 0.0, 0.0], [2.0, 0.0, 0.0], [2.0, 0.0, 0.0], [2.0, 0.0, 0.0], [1.0, 0.0, 0.0], [1.0, 0.0, 0.0], [1.0, 0.0, 0.0], [1.0, 0.0, 0.0], [1.0, 0.0, 0.0], [1.0, 0.0, 0.0], [1.0, 0.0, 0.0], [1.0, 0.0, 0.0], [1.0, 0.0, 0.0], [1.0, 0.0, 0.0], [1.0, 0.0, 0.0], [1.0, 0.0, 0.0], [1.0, 0.0, 0.0], [1.0, 0.0, 0.0], [1.0, 0.0, 0.0], [1.0, 0.0, 0.0], [1.0, 0.0, 0.0], [1.0, 0.0, 0.0], [1.0, 0.0, 0.0], [1.0, 0.0, 0.0], [1.0, 0.0, 0.0]], \"hoverlabel\": {\"namelength\": 0}, \"hovertemplate\": \"<b>%{hovertext}</b><br><br>ObservationDate=03/08/2020<br>Confirmed=%{customdata[0]}<br>Deaths=%{customdata[1]}<br>Recovered=%{customdata[2]}<br>Lat=%{lat}<br>Long=%{lon}\", \"hovertext\": [null, null, null, null, null, null, null, null, null, null, null, null, \"New South Wales\", \"Victoria\", \"British Columbia\", null, null, \"Queensland\", null, null, null, null, null, \"South Australia\", null, \"Los Angeles, CA\", \"San Benito, CA\", null, \"San Diego County, CA\", null, null, \"From Diamond Princess\", \"Humboldt County, CA\", \"Sacramento County, CA\", null, null, null, null, null, null, null, null, null, null, null, null, null, null, null, null, null, null, null, null, null, null, null, null, null, \"Western Australia\", null, null, null, null, \"Snohomish County, WA\", null, null, null, null, \"King County, WA\", \"Cook County, IL\", null, null, null, \"Tasmania\", null, null, null, null, \"Grafton County, NH\", \"Hillsborough, FL\", \"Placer County, CA\", \"San Mateo, CA\", \"Sonoma County, CA\", \"Umatilla, OR\", \"Fulton County, GA\", \"Washington County, OR\", null, null, null, \"Maricopa County, AZ\", \"Wake County, NC\", \"Westchester County, NY\", null, \"Orange County, CA\", null, \"Northern Territory\", null, null, null, \"Contra Costa County, CA\", null, null, \"Bergen County, NJ\", \"Harris County, TX\", \"San Francisco County, CA\", null, \"Clark County, NV\", \"Fort Bend County, TX\", \"Grant County, WA\", \"Santa Rosa County, FL\", \"Williamson County, TN\", \"New York County, NY\", \"Montgomery County, MD\", \"Suffolk County, MA\", \"Denver County, CO\", \"Summit County, CO\", null, null, null, null, null, null, null, \"Chatham County, NC\", \"Delaware County, PA\", \"Douglas County, NE\", \"Fayette County, KY\", \"Marion County, IN\", \"Middlesex County, MA\", \"Nassau County, NY\", \"Ramsey County, MN\", \"Washoe County, NV\", \"Wayne County, PA\", \"Yolo County, CA\", \"Santa Clara County, CA\", null, null, \"Douglas County, CO\", \"Providence County, RI\", null, \"Alameda County, CA\", \"Broward County, FL\", \"Lee County, FL\", \"Pinal County, AZ\", \"Rockland County, NY\", \"Saratoga County, NY\", \"Charleston County, SC\", \"Clark County, WA\", \"Cobb County, GA\", \"Davis County, UT\", \"El Paso County, CO\", \"Honolulu County, HI\", \"Jackson County, OR \", \"Jefferson County, WA\", \"Kershaw County, SC\", \"Klamath County, OR\", \"Madera County, CA\", \"Pierce County, WA\", \"Tulsa County, OK\", \"Norfolk County, MA\", null, null, \"Montgomery County, PA\", null, \"Fairfax County, VA\", \"Rockingham County, NH\", \"Washington, D.C.\", null, null, \"Berkshire County, MA\", \"Davidson County, TN\", \"Douglas County, OR\", \"Fresno County, CA\", \"Harford County, MD\", \"Hendricks County, IN\", \"Hudson County, NJ\", \"Johnson County, KS\", \"Kittitas County, WA\", \"Manatee County, FL\", \"Marion County, OR\", \"Okaloosa County, FL\", \"Polk County, GA\", \"Riverside County, CA\", \"Shelby County, TN\", \"St. Louis County, MO\", \"Suffolk County, NY\", \"Ulster County, NY\", \"Volusia County, FL\"], \"lat\": [36.0, 15.0, 1.2833, 13.0, 2.5, 16.0, 23.6345, -14.235, 4.5709, 28.1667, 11.55, 7.0, -33.8688, -37.8136, 49.2827, 64.0, 24.0, -28.0167, 21.0, 43.0, 60.0, 63.0, 51.0, -34.9285, 40.0, 34.0522, 36.5761, 50.8333, 32.7157, 26.0, 32.0, 35.4437, 40.745, 38.4747, 33.8547, 21.0, 33.0, 26.0275, 33.0, 29.5, 28.0339, 45.1, 46.8182, 47.5162, 31.0, 30.3753, 42.3154, 39.0742, 41.6086, 60.472, 45.9432, 58.5953, 52.1326, 43.9424, 53.7098, 64.9631, 55.1694, -40.9006, 9.082, -31.9505, 53.1424, 49.8153, 43.7333, 25.3548, 48.033, -1.8312, 40.1431, 40.0691, 18.7357, 47.6062, 41.7377, -0.7893, 39.3999, 42.5063, -41.4545, 56.8796, 31.7917, 24.0, 14.4974, 43.9088, 27.9904, 39.0916, 37.563, 38.578, 45.775, 33.8034, 45.547, -38.4161, -35.6751, 31.24, 33.2918, 35.8032, 41.122, 48.3794, 33.7879, 47.1625, -12.4634, 47.14, 51.9194, 34.0, 37.8534, 43.9159, 46.1512, 40.9263, 29.7752, 37.7749, -30.5595, 36.0796, 29.5693, 47.1981, 30.769000000000002, 35.9179, 40.7128, 39.1547, 42.3601, 39.7392, 39.5912, 27.5142, 3.8480000000000003, 9.7489, -9.19, 44.0165, 48.669, 8.6195, 35.7211, 39.9078, 41.3148, 38.0606, 39.8362, 42.4672, 40.6546, 44.9964, 40.5608, 41.6739, 38.7646, 37.3541, 3.9339, 35.9375, 39.2587, 41.8882, 14.6415, 37.6017, 26.1901, 26.663, 32.8162, 41.1489, 43.0324, 32.7957, 45.7466, 33.8999, 40.9629, 38.9108, 21.307, 42.3345, 47.7425, 34.3672, 42.6953, 37.2519, 47.0676, 36.1593, 42.1767, 42.7339, 3.2028, 40.229, 23.685, 38.9085, 42.9931, 38.9072, 47.4116, -23.4425, 42.3118, 36.1343, 43.1261, 36.9859, 39.5839, 39.8065, 40.7453, 38.8454, 47.175, 27.4799, 44.8446, 30.5773, 34.0132, 33.9533, 35.1269, 38.6103, 40.9849, 41.8586, 29.028000000000002], \"legendgroup\": \"\", \"lon\": [138.0, 101.0, 103.8333, 122.0, 112.5, 108.0, -102.5528, -51.9253, -74.2973, 84.25, 104.9167, 81.0, 151.2093, 144.9631, -123.1207, 26.0, 54.0, 153.4, 78.0, 12.0, 90.0, 16.0, 9.0, 138.6007, -4.0, -118.2437, -120.9876, 4.0, -117.1611, 30.0, 53.0, 139.638, -123.8695, -121.3542, 35.8623, 57.0, 65.0, 50.55, 44.0, 47.75, 1.6596, 15.2, 8.2275, 14.5501, 35.0, 69.3451, 43.3569, 21.8243, 21.7453, 8.4689, 24.9668, 25.0136, 5.2913, 12.4578, 27.9534, -19.0208, 23.8813, 174.886, 8.6753, 115.8605, -7.6921, 6.1296, 7.4167, 51.1839, -121.8339, -78.1834, 47.5769, 45.0382, -70.1627, -122.3321, -87.6976, 113.9213, -8.2245, 1.5218, 145.9707, 24.6032, -7.0926, 45.0, -14.4524, -71.82600000000001, -82.3018, -120.8039, -122.3255, -122.9888, -118.7606, -84.3963, -123.1386, -63.6167, -71.543, 36.51, -112.4291, -78.5661, -73.7949, 31.1656, -117.8531, 19.5033, 130.8456, 9.55, 19.1451, 9.0, -121.9018, 17.6791, 14.9955, -74.077, -95.3103, -122.4194, 22.9375, -115.094, -95.8143, -119.3732, -86.9824, -86.8622, -74.006, -77.2405, -71.0589, -104.9903, -106.064, 90.4336, 11.5021, -83.7534, -75.0152, 21.0059, 19.699, 0.8248, -79.1781, -75.3879, -96.1951, -84.4803, -86.1752, -71.2874, -73.5594, -93.0616, -119.6035, -75.2479, -121.9018, -121.9552, -53.1258, 14.3754, -104.9389, -71.4774, -61.0242, -121.7195, -80.3659, -81.9535, -111.2845, -73.983, -73.936, -79.7848, -122.5194, -84.5641, -112.0953, -104.4723, -157.8584, -122.7647, -123.304, -80.5883, -121.6142, -119.6963, -122.1295, -95.941, -71.1449, 25.4858, 73.2207, -75.3879, 90.3563, -77.2405, -71.0498, -77.0369, 28.3699, -58.4438, -73.1822, -86.822, -123.2492, -119.2321, -76.3637, -86.5401, -74.0535, -94.8521, -120.9319, -82.3452, -122.5927, -86.6611, -85.1479, -117.3961, -89.9253, -90.4125, -72.6151, -74.3118, -81.0755], \"marker\": {\"color\": \"#636efa\"}, \"mode\": \"markers\", \"name\": \"\", \"showlegend\": false, \"subplot\": \"mapbox\", \"type\": \"scattermapbox\"}], \"name\": \"03/08/2020\"}, {\"data\": [{\"customdata\": [[511.0, 17.0, 76.0], [50.0, 1.0, 31.0], [150.0, 0.0, 78.0], [20.0, 1.0, 1.0], [117.0, 0.0, 24.0], [30.0, 0.0, 16.0], [7.0, 0.0, 1.0], [25.0, 0.0, 0.0], [1.0, 0.0, 0.0], [1.0, 0.0, 1.0], [34.0, 0.0, 4.0], [2.0, 0.0, 1.0], [1.0, 0.0, 1.0], [48.0, 3.0, 4.0], [15.0, 0.0, 7.0], [32.0, 1.0, 4.0], [30.0, 0.0, 1.0], [45.0, 0.0, 7.0], [15.0, 0.0, 8.0], [43.0, 0.0, 3.0], [9172.0, 463.0, 724.0], [17.0, 0.0, 3.0], [248.0, 0.0, 1.0], [1176.0, 2.0, 18.0], [7.0, 0.0, 2.0], [1073.0, 28.0, 32.0], [14.0, 0.0, 0.0], [2.0, 0.0, 0.0], [239.0, 0.0, 1.0], [3.0, 0.0, 1.0], [55.0, 1.0, 12.0], [7161.0, 237.0, 2394.0], [0.0, 0.0, 0.0], [1.0, 0.0, 0.0], [2.0, 0.0, 0.0], [32.0, 0.0, 1.0], [16.0, 0.0, 2.0], [4.0, 0.0, 0.0], [95.0, 0.0, 14.0], [60.0, 6.0, 9.0], [64.0, 0.0, 1.0], [20.0, 0.0, 0.0], [12.0, 0.0, 0.0], [374.0, 2.0, 3.0], [131.0, 0.0, 2.0], [39.0, 0.0, 2.0], [6.0, 0.0, 1.0], [15.0, 0.0, 0.0], [73.0, 0.0, 0.0], [3.0, 0.0, 0.0], [205.0, 0.0, 1.0], [15.0, 0.0, 3.0], [10.0, 0.0, 0.0], [321.0, 3.0, 0.0], [36.0, 1.0, 0.0], [6.0, 0.0, 1.0], [58.0, 0.0, 0.0], [1.0, 0.0, 0.0], [5.0, 0.0, 0.0], [2.0, 0.0, 0.0], [4.0, 1.0, 0.0], [21.0, 0.0, 0.0], [3.0, 0.0, 0.0], [1.0, 0.0, 0.0], [18.0, 0.0, 0.0], [31.0, 1.0, 0.0], [15.0, 0.0, 0.0], [9.0, 0.0, 0.0], [1.0, 0.0, 0.0], [5.0, 0.0, 0.0], [83.0, 17.0, 1.0], [7.0, 0.0, 2.0], [19.0, 0.0, 0.0], [30.0, 0.0, 0.0], [1.0, 0.0, 0.0], [2.0, 0.0, 0.0], [6.0, 0.0, 0.0], [2.0, 0.0, 0.0], [15.0, 0.0, 0.0], [4.0, 0.0, 1.0], [4.0, 0.0, 0.0], [2.0, 0.0, 0.0], [7.0, 1.0, 0.0], [2.0, 0.0, 0.0], [3.0, 0.0, 0.0], [1.0, 0.0, 0.0], [5.0, 0.0, 0.0], [8.0, 0.0, 0.0], [12.0, 1.0, 0.0], [8.0, 0.0, 0.0], [1.0, 0.0, 0.0], [3.0, 0.0, 1.0], [1.0, 0.0, 0.0], [98.0, 0.0, 0.0], [1.0, 0.0, 0.0], [4.0, 0.0, 0.0], [9.0, 0.0, 0.0], [0.0, 0.0, 0.0], [1.0, 0.0, 0.0], [16.0, 0.0, 0.0], [2.0, 0.0, 0.0], [12.0, 0.0, 0.0], [3.0, 0.0, 0.0], [16.0, 0.0, 0.0], [4.0, 0.0, 0.0], [6.0, 0.0, 0.0], [9.0, 0.0, 0.0], [3.0, 0.0, 0.0], [2.0, 0.0, 0.0], [6.0, 0.0, 0.0], [1.0, 1.0, 0.0], [1.0, 1.0, 0.0], [1.0, 0.0, 0.0], [19.0, 0.0, 0.0], [4.0, 0.0, 0.0], [8.0, 0.0, 1.0], [2.0, 0.0, 0.0], [2.0, 0.0, 0.0], [1.0, 0.0, 0.0], [2.0, 0.0, 0.0], [9.0, 0.0, 0.0], [7.0, 0.0, 0.0], [1.0, 0.0, 0.0], [3.0, 0.0, 0.0], [1.0, 0.0, 0.0], [1.0, 0.0, 0.0], [1.0, 0.0, 0.0], [3.0, 0.0, 0.0], [1.0, 0.0, 0.0], [1.0, 0.0, 0.0], [7.0, 0.0, 0.0], [17.0, 0.0, 0.0], [1.0, 0.0, 0.0], [2.0, 0.0, 0.0], [1.0, 0.0, 0.0], [1.0, 0.0, 0.0], [38.0, 0.0, 1.0], [5.0, 0.0, 0.0], [3.0, 0.0, 0.0], [3.0, 0.0, 0.0], [3.0, 0.0, 0.0], [2.0, 0.0, 0.0], [2.0, 0.0, 0.0], [3.0, 0.0, 0.0], [2.0, 1.0, 0.0], [2.0, 0.0, 0.0], [4.0, 0.0, 0.0], [2.0, 0.0, 0.0], [1.0, 0.0, 0.0], [1.0, 0.0, 0.0], [3.0, 0.0, 0.0], [1.0, 0.0, 0.0], [1.0, 0.0, 0.0], [2.0, 0.0, 0.0], [2.0, 0.0, 0.0], [1.0, 0.0, 0.0], [4.0, 0.0, 0.0], [1.0, 0.0, 0.0], [1.0, 0.0, 0.0], [4.0, 0.0, 0.0], [1.0, 0.0, 0.0], [6.0, 0.0, 0.0], [4.0, 0.0, 0.0], [4.0, 0.0, 0.0], [5.0, 0.0, 0.0], [3.0, 0.0, 0.0], [2.0, 0.0, 0.0], [1.0, 0.0, 0.0], [2.0, 0.0, 0.0], [1.0, 0.0, 0.0], [1.0, 0.0, 0.0], [1.0, 0.0, 0.0], [1.0, 0.0, 0.0], [1.0, 0.0, 0.0], [1.0, 0.0, 0.0], [1.0, 0.0, 0.0], [2.0, 0.0, 0.0], [1.0, 0.0, 0.0], [1.0, 0.0, 0.0], [1.0, 0.0, 0.0], [2.0, 0.0, 0.0], [1.0, 0.0, 0.0], [1.0, 0.0, 0.0], [1.0, 0.0, 0.0], [1.0, 0.0, 0.0], [1.0, 0.0, 0.0], [1.0, 0.0, 0.0], [1.0, 0.0, 0.0], [1.0, 0.0, 0.0], [1.0, 0.0, 0.0], [7.0, 0.0, 0.0], [3.0, 0.0, 0.0], [3.0, 0.0, 0.0], [2.0, 0.0, 0.0], [2.0, 0.0, 0.0], [2.0, 0.0, 0.0], [1.0, 0.0, 0.0], [1.0, 0.0, 0.0], [1.0, 0.0, 0.0], [1.0, 0.0, 0.0], [1.0, 0.0, 0.0], [1.0, 0.0, 0.0], [1.0, 0.0, 0.0], [1.0, 0.0, 0.0], [1.0, 0.0, 0.0], [1.0, 0.0, 0.0]], \"hoverlabel\": {\"namelength\": 0}, \"hovertemplate\": \"<b>%{hovertext}</b><br><br>ObservationDate=03/09/2020<br>Confirmed=%{customdata[0]}<br>Deaths=%{customdata[1]}<br>Recovered=%{customdata[2]}<br>Lat=%{lat}<br>Long=%{lon}\", \"hovertext\": [null, null, null, null, null, null, null, null, null, null, \"Ontario\", null, null, \"New South Wales\", \"Victoria\", \"British Columbia\", null, null, \"Queensland\", null, null, null, null, null, \"South Australia\", null, \"Los Angeles, CA\", \"San Benito, CA\", null, \"San Diego County, CA\", null, null, \"From Diamond Princess\", \"Humboldt County, CA\", \"Sacramento County, CA\", null, null, null, null, null, null, null, null, null, null, null, null, null, null, null, null, null, null, null, null, null, null, null, null, null, \"Western Australia\", null, null, null, null, \"Snohomish County, WA\", null, null, null, null, \"King County, WA\", \"Cook County, IL\", null, null, null, \"Tasmania\", null, null, null, null, \"Grafton County, NH\", \"Hillsborough, FL\", \"Placer County, CA\", \"San Mateo, CA\", \"Sonoma County, CA\", \"Umatilla, OR\", \"Fulton County, GA\", \"Washington County, OR\", null, null, null, \"Maricopa County, AZ\", \"Wake County, NC\", \"Westchester County, NY\", null, \"Orange County, CA\", null, \"Northern Territory\", null, null, null, \"Contra Costa County, CA\", null, null, \"Bergen County, NJ\", \"Harris County, TX\", \"San Francisco County, CA\", null, \"Clark County, NV\", \"Fort Bend County, TX\", \"Grant County, WA\", \"Santa Rosa County, FL\", \"Williamson County, TN\", \"New York County, NY\", \"Montgomery County, MD\", \"Suffolk County, MA\", \"Denver County, CO\", \"Summit County, CO\", null, null, null, null, null, null, null, \"Chatham County, NC\", \"Delaware County, PA\", \"Douglas County, NE\", \"Fayette County, KY\", \"Marion County, IN\", \"Middlesex County, MA\", \"Nassau County, NY\", \"Ramsey County, MN\", \"Washoe County, NV\", \"Wayne County, PA\", \"Yolo County, CA\", \"Santa Clara County, CA\", null, null, \"Douglas County, CO\", \"Providence County, RI\", null, \"Alameda County, CA\", \"Broward County, FL\", \"Lee County, FL\", \"Pinal County, AZ\", \"Rockland County, NY\", \"Saratoga County, NY\", \"Charleston County, SC\", \"Clark County, WA\", \"Cobb County, GA\", \"Davis County, UT\", \"El Paso County, CO\", \"Honolulu County, HI\", \"Jackson County, OR \", \"Jefferson County, WA\", \"Kershaw County, SC\", \"Klamath County, OR\", \"Madera County, CA\", \"Pierce County, WA\", \"Tulsa County, OK\", \"Norfolk County, MA\", null, null, \"Montgomery County, PA\", null, \"Fairfax County, VA\", \"Rockingham County, NH\", \"Washington, D.C.\", null, null, \"Berkshire County, MA\", \"Davidson County, TN\", \"Douglas County, OR\", \"Fresno County, CA\", \"Harford County, MD\", \"Hendricks County, IN\", \"Hudson County, NJ\", \"Johnson County, KS\", \"Kittitas County, WA\", \"Manatee County, FL\", \"Marion County, OR\", \"Okaloosa County, FL\", \"Polk County, GA\", \"Riverside County, CA\", \"Shelby County, TN\", \"St. Louis County, MO\", \"Suffolk County, NY\", \"Ulster County, NY\", \"Volusia County, FL\", \"Alberta\", \"Quebec\", \"Johnson County, IA\", null, null, \"Harrison County, KY\", null, \"Bennington County, VT\", \"Carver County, MN\", \"Charlotte County, FL\", \"Cherokee County, GA\", \"Collin County, TX\", \"Jefferson County, KY\", \"Jefferson Parish, LA\", \"Shasta County, CA\", \"Spartanburg County, SC\"], \"lat\": [36.0, 15.0, 1.2833, 13.0, 2.5, 16.0, 23.6345, -14.235, 4.5709, 28.1667, 51.2538, 11.55, 7.0, -33.8688, -37.8136, 49.2827, 64.0, 24.0, -28.0167, 21.0, 43.0, 60.0, 63.0, 51.0, -34.9285, 40.0, 34.0522, 36.5761, 50.8333, 32.7157, 26.0, 32.0, 35.4437, 40.745, 38.4747, 33.8547, 21.0, 33.0, 26.0275, 33.0, 29.5, 28.0339, 45.1, 46.8182, 47.5162, 31.0, 30.3753, 42.3154, 39.0742, 41.6086, 60.472, 45.9432, 58.5953, 52.1326, 43.9424, 53.7098, 64.9631, 55.1694, -40.9006, 9.082, -31.9505, 53.1424, 49.8153, 43.7333, 25.3548, 48.033, -1.8312, 40.1431, 40.0691, 18.7357, 47.6062, 41.7377, -0.7893, 39.3999, 42.5063, -41.4545, 56.8796, 31.7917, 24.0, 14.4974, 43.9088, 27.9904, 39.0916, 37.563, 38.578, 45.775, 33.8034, 45.547, -38.4161, -35.6751, 31.24, 33.2918, 35.8032, 41.122, 48.3794, 33.7879, 47.1625, -12.4634, 47.14, 51.9194, 34.0, 37.8534, 43.9159, 46.1512, 40.9263, 29.7752, 37.7749, -30.5595, 36.0796, 29.5693, 47.1981, 30.769000000000002, 35.9179, 40.7128, 39.1547, 42.3601, 39.7392, 39.5912, 27.5142, 3.8480000000000003, 9.7489, -9.19, 44.0165, 48.669, 8.6195, 35.7211, 39.9078, 41.3148, 38.0606, 39.8362, 42.4672, 40.6546, 44.9964, 40.5608, 41.6739, 38.7646, 37.3541, 3.9339, 35.9375, 39.2587, 41.8882, 14.6415, 37.6017, 26.1901, 26.663, 32.8162, 41.1489, 43.0324, 32.7957, 45.7466, 33.8999, 40.9629, 38.9108, 21.307, 42.3345, 47.7425, 34.3672, 42.6953, 37.2519, 47.0676, 36.1593, 42.1767, 42.7339, 3.2028, 40.229, 23.685, 38.9085, 42.9931, 38.9072, 47.4116, -23.4425, 42.3118, 36.1343, 43.1261, 36.9859, 39.5839, 39.8065, 40.7453, 38.8454, 47.175, 27.4799, 44.8446, 30.5773, 34.0132, 33.9533, 35.1269, 38.6103, 40.9849, 41.8586, 29.028000000000002, 53.9333, 52.9399, 41.6699, 41.1533, 35.1264, 38.4333, 4.5353, 43.0279, 44.8254, 26.8946, 34.2515, 33.1795, 38.1938, 29.6499, 40.7909, 34.8606], \"legendgroup\": \"\", \"lon\": [138.0, 101.0, 103.8333, 122.0, 112.5, 108.0, -102.5528, -51.9253, -74.2973, 84.25, -85.3232, 104.9167, 81.0, 151.2093, 144.9631, -123.1207, 26.0, 54.0, 153.4, 78.0, 12.0, 90.0, 16.0, 9.0, 138.6007, -4.0, -118.2437, -120.9876, 4.0, -117.1611, 30.0, 53.0, 139.638, -123.8695, -121.3542, 35.8623, 57.0, 65.0, 50.55, 44.0, 47.75, 1.6596, 15.2, 8.2275, 14.5501, 35.0, 69.3451, 43.3569, 21.8243, 21.7453, 8.4689, 24.9668, 25.0136, 5.2913, 12.4578, 27.9534, -19.0208, 23.8813, 174.886, 8.6753, 115.8605, -7.6921, 6.1296, 7.4167, 51.1839, -121.8339, -78.1834, 47.5769, 45.0382, -70.1627, -122.3321, -87.6976, 113.9213, -8.2245, 1.5218, 145.9707, 24.6032, -7.0926, 45.0, -14.4524, -71.82600000000001, -82.3018, -120.8039, -122.3255, -122.9888, -118.7606, -84.3963, -123.1386, -63.6167, -71.543, 36.51, -112.4291, -78.5661, -73.7949, 31.1656, -117.8531, 19.5033, 130.8456, 9.55, 19.1451, 9.0, -121.9018, 17.6791, 14.9955, -74.077, -95.3103, -122.4194, 22.9375, -115.094, -95.8143, -119.3732, -86.9824, -86.8622, -74.006, -77.2405, -71.0589, -104.9903, -106.064, 90.4336, 11.5021, -83.7534, -75.0152, 21.0059, 19.699, 0.8248, -79.1781, -75.3879, -96.1951, -84.4803, -86.1752, -71.2874, -73.5594, -93.0616, -119.6035, -75.2479, -121.9018, -121.9552, -53.1258, 14.3754, -104.9389, -71.4774, -61.0242, -121.7195, -80.3659, -81.9535, -111.2845, -73.983, -73.936, -79.7848, -122.5194, -84.5641, -112.0953, -104.4723, -157.8584, -122.7647, -123.304, -80.5883, -121.6142, -119.6963, -122.1295, -95.941, -71.1449, 25.4858, 73.2207, -75.3879, 90.3563, -77.2405, -71.0498, -77.0369, 28.3699, -58.4438, -73.1822, -86.822, -123.2492, -119.2321, -76.3637, -86.5401, -74.0535, -94.8521, -120.9319, -82.3452, -122.5927, -86.6611, -85.1479, -117.3961, -89.9253, -90.4125, -72.6151, -74.3118, -81.0755, -116.5765, -73.5491, -91.5984, 20.1683, 33.4299, -84.3542, 114.7277, -73.135, -93.7842, -81.9098, -84.4803, -96.493, -85.6435, -90.1121, -121.8474, -81.9535], \"marker\": {\"color\": \"#636efa\"}, \"mode\": \"markers\", \"name\": \"\", \"showlegend\": false, \"subplot\": \"mapbox\", \"type\": \"scattermapbox\"}], \"name\": \"03/09/2020\"}]);\n",
       "                        }).then(function(){\n",
       "                            \n",
       "var gd = document.getElementById('012c626a-d5d1-4baf-83ac-a07e35dd67db');\n",
       "var x = new MutationObserver(function (mutations, observer) {{\n",
       "        var display = window.getComputedStyle(gd).display;\n",
       "        if (!display || display === 'none') {{\n",
       "            console.log([gd, 'removed!']);\n",
       "            Plotly.purge(gd);\n",
       "            observer.disconnect();\n",
       "        }}\n",
       "}});\n",
       "\n",
       "// Listen for the removal of the full notebook cells\n",
       "var notebookContainer = gd.closest('#notebook-container');\n",
       "if (notebookContainer) {{\n",
       "    x.observe(notebookContainer, {childList: true});\n",
       "}}\n",
       "\n",
       "// Listen for the clearing of the current output cell\n",
       "var outputEl = gd.closest('.output');\n",
       "if (outputEl) {{\n",
       "    x.observe(outputEl, {childList: true});\n",
       "}}\n",
       "\n",
       "                        })\n",
       "                };\n",
       "                });\n",
       "            </script>\n",
       "        </div>"
      ]
     },
     "metadata": {},
     "output_type": "display_data"
    }
   ],
   "source": [
    "fig = px.scatter_mapbox(ds_lat_long,\n",
    "                       lat=\"Lat\",\n",
    "                       lon=\"Long\",\n",
    "                       hover_name=\"Province/State\",\n",
    "                       hover_data=[\"Confirmed\",\"Deaths\",\"Recovered\"],\n",
    "                       animation_frame=\"ObservationDate\",\n",
    "                       color_continuous_scale=\"Portland\",\n",
    "                       zoom=2, height=700)\n",
    "fig.update_layout(mapbox_style=\"open-street-map\", mapbox_center_lon=0)\n",
    "fig.update_layout(margin={\"r\":0,\"t\":0,\"l\":0,\"b\":0})\n",
    "fig.show()"
   ]
  },
  {
   "cell_type": "markdown",
   "metadata": {},
   "source": [
    "### Latest date in Data"
   ]
  },
  {
   "cell_type": "code",
   "execution_count": 73,
   "metadata": {},
   "outputs": [],
   "source": [
    "ds_concise = ds.groupby([\"ObservationDate\",\"Country\"])[[\"ObservationDate\",\"Country\",\"Confirmed\",\"Deaths\",\"Recovered\"]].sum().reset_index()"
   ]
  },
  {
   "cell_type": "code",
   "execution_count": 74,
   "metadata": {},
   "outputs": [
    {
     "data": {
      "text/html": [
       "<div>\n",
       "<style scoped>\n",
       "    .dataframe tbody tr th:only-of-type {\n",
       "        vertical-align: middle;\n",
       "    }\n",
       "\n",
       "    .dataframe tbody tr th {\n",
       "        vertical-align: top;\n",
       "    }\n",
       "\n",
       "    .dataframe thead th {\n",
       "        text-align: right;\n",
       "    }\n",
       "</style>\n",
       "<table border=\"1\" class=\"dataframe\">\n",
       "  <thead>\n",
       "    <tr style=\"text-align: right;\">\n",
       "      <th></th>\n",
       "      <th>ObservationDate</th>\n",
       "      <th>Country</th>\n",
       "      <th>Confirmed</th>\n",
       "      <th>Deaths</th>\n",
       "      <th>Recovered</th>\n",
       "    </tr>\n",
       "  </thead>\n",
       "  <tbody>\n",
       "    <tr>\n",
       "      <td>0</td>\n",
       "      <td>01/22/2020</td>\n",
       "      <td>Hong Kong</td>\n",
       "      <td>0.0</td>\n",
       "      <td>0.0</td>\n",
       "      <td>0.0</td>\n",
       "    </tr>\n",
       "    <tr>\n",
       "      <td>1</td>\n",
       "      <td>01/22/2020</td>\n",
       "      <td>Japan</td>\n",
       "      <td>2.0</td>\n",
       "      <td>0.0</td>\n",
       "      <td>0.0</td>\n",
       "    </tr>\n",
       "    <tr>\n",
       "      <td>2</td>\n",
       "      <td>01/22/2020</td>\n",
       "      <td>Macau</td>\n",
       "      <td>1.0</td>\n",
       "      <td>0.0</td>\n",
       "      <td>0.0</td>\n",
       "    </tr>\n",
       "    <tr>\n",
       "      <td>3</td>\n",
       "      <td>01/22/2020</td>\n",
       "      <td>Mainland China</td>\n",
       "      <td>547.0</td>\n",
       "      <td>17.0</td>\n",
       "      <td>28.0</td>\n",
       "    </tr>\n",
       "    <tr>\n",
       "      <td>4</td>\n",
       "      <td>01/22/2020</td>\n",
       "      <td>South Korea</td>\n",
       "      <td>1.0</td>\n",
       "      <td>0.0</td>\n",
       "      <td>0.0</td>\n",
       "    </tr>\n",
       "    <tr>\n",
       "      <td>...</td>\n",
       "      <td>...</td>\n",
       "      <td>...</td>\n",
       "      <td>...</td>\n",
       "      <td>...</td>\n",
       "      <td>...</td>\n",
       "    </tr>\n",
       "    <tr>\n",
       "      <td>2582</td>\n",
       "      <td>03/14/2020</td>\n",
       "      <td>United Arab Emirates</td>\n",
       "      <td>85.0</td>\n",
       "      <td>0.0</td>\n",
       "      <td>17.0</td>\n",
       "    </tr>\n",
       "    <tr>\n",
       "      <td>2583</td>\n",
       "      <td>03/14/2020</td>\n",
       "      <td>Uruguay</td>\n",
       "      <td>4.0</td>\n",
       "      <td>0.0</td>\n",
       "      <td>0.0</td>\n",
       "    </tr>\n",
       "    <tr>\n",
       "      <td>2584</td>\n",
       "      <td>03/14/2020</td>\n",
       "      <td>Venezuela</td>\n",
       "      <td>2.0</td>\n",
       "      <td>0.0</td>\n",
       "      <td>0.0</td>\n",
       "    </tr>\n",
       "    <tr>\n",
       "      <td>2585</td>\n",
       "      <td>03/14/2020</td>\n",
       "      <td>Vietnam</td>\n",
       "      <td>53.0</td>\n",
       "      <td>0.0</td>\n",
       "      <td>16.0</td>\n",
       "    </tr>\n",
       "    <tr>\n",
       "      <td>2586</td>\n",
       "      <td>03/14/2020</td>\n",
       "      <td>occupied Palestinian territory</td>\n",
       "      <td>0.0</td>\n",
       "      <td>0.0</td>\n",
       "      <td>0.0</td>\n",
       "    </tr>\n",
       "  </tbody>\n",
       "</table>\n",
       "<p>2587 rows × 5 columns</p>\n",
       "</div>"
      ],
      "text/plain": [
       "     ObservationDate                         Country  Confirmed  Deaths  \\\n",
       "0         01/22/2020                       Hong Kong        0.0     0.0   \n",
       "1         01/22/2020                           Japan        2.0     0.0   \n",
       "2         01/22/2020                           Macau        1.0     0.0   \n",
       "3         01/22/2020                  Mainland China      547.0    17.0   \n",
       "4         01/22/2020                     South Korea        1.0     0.0   \n",
       "...              ...                             ...        ...     ...   \n",
       "2582      03/14/2020            United Arab Emirates       85.0     0.0   \n",
       "2583      03/14/2020                         Uruguay        4.0     0.0   \n",
       "2584      03/14/2020                       Venezuela        2.0     0.0   \n",
       "2585      03/14/2020                         Vietnam       53.0     0.0   \n",
       "2586      03/14/2020  occupied Palestinian territory        0.0     0.0   \n",
       "\n",
       "      Recovered  \n",
       "0           0.0  \n",
       "1           0.0  \n",
       "2           0.0  \n",
       "3          28.0  \n",
       "4           0.0  \n",
       "...         ...  \n",
       "2582       17.0  \n",
       "2583        0.0  \n",
       "2584        0.0  \n",
       "2585       16.0  \n",
       "2586        0.0  \n",
       "\n",
       "[2587 rows x 5 columns]"
      ]
     },
     "execution_count": 74,
     "metadata": {},
     "output_type": "execute_result"
    }
   ],
   "source": [
    "ds_concise"
   ]
  },
  {
   "cell_type": "code",
   "execution_count": 75,
   "metadata": {},
   "outputs": [],
   "source": [
    "confirmed = ds_concise.groupby(['ObservationDate','Country']).sum()[['Confirmed']].reset_index()\n",
    "deaths = ds_concise.groupby(['ObservationDate','Country']).sum()[['Deaths']].reset_index()\n",
    "recovered = ds_concise.groupby(['ObservationDate','Country']).sum()[['Recovered']].reset_index()"
   ]
  },
  {
   "cell_type": "code",
   "execution_count": 76,
   "metadata": {},
   "outputs": [
    {
     "data": {
      "text/plain": [
       "'03/14/2020'"
      ]
     },
     "execution_count": 76,
     "metadata": {},
     "output_type": "execute_result"
    }
   ],
   "source": [
    "latest_date = confirmed[\"ObservationDate\"].max()\n",
    "latest_date"
   ]
  },
  {
   "cell_type": "code",
   "execution_count": 77,
   "metadata": {},
   "outputs": [],
   "source": [
    "confirmed = confirmed[(confirmed['ObservationDate']==latest_date)][['Country','Confirmed']]\n",
    "deaths = deaths[(deaths['ObservationDate']==latest_date)][['Country','Deaths']]\n",
    "recovered = recovered[(recovered['ObservationDate']==latest_date)][['Country','Recovered']]"
   ]
  },
  {
   "cell_type": "markdown",
   "metadata": {},
   "source": [
    "### Affected Countries"
   ]
  },
  {
   "cell_type": "code",
   "execution_count": 80,
   "metadata": {},
   "outputs": [
    {
     "name": "stdout",
     "output_type": "stream",
     "text": [
      "Number pf all countries with cases: 143\n",
      "Countries with cases: \n",
      "    Afghanistan\n",
      "    Albania\n",
      "    Algeria\n",
      "    Andorra\n",
      "    Antigua and Barbuda\n",
      "    Argentina\n",
      "    Armenia\n",
      "    Aruba\n",
      "    Australia\n",
      "    Austria\n",
      "    Azerbaijan\n",
      "    Bahrain\n",
      "    Bangladesh\n",
      "    Belarus\n",
      "    Belgium\n",
      "    Bhutan\n",
      "    Bolivia\n",
      "    Bosnia and Herzegovina\n",
      "    Brazil\n",
      "    Brunei\n",
      "    Bulgaria\n",
      "    Burkina Faso\n",
      "    Cambodia\n",
      "    Cameroon\n",
      "    Canada\n",
      "    Cayman Islands\n",
      "    Chile\n",
      "    Colombia\n",
      "    Congo (Kinshasa)\n",
      "    Costa Rica\n",
      "    Croatia\n",
      "    Cuba\n",
      "    Curacao\n",
      "    Cyprus\n",
      "    Czech Republic\n",
      "    Denmark\n",
      "    Dominican Republic\n",
      "    Ecuador\n",
      "    Egypt\n",
      "    Estonia\n",
      "    Eswatini\n",
      "    Ethiopia\n",
      "    Finland\n",
      "    France\n",
      "    French Guiana\n",
      "    Gabon\n",
      "    Georgia\n",
      "    Germany\n",
      "    Ghana\n",
      "    Greece\n",
      "    Guadeloupe\n",
      "    Guatemala\n",
      "    Guernsey\n",
      "    Guinea\n",
      "    Guyana\n",
      "    Holy See\n",
      "    Honduras\n",
      "    Hungary\n",
      "    Iceland\n",
      "    India\n",
      "    Indonesia\n",
      "    Iran\n",
      "    Iraq\n",
      "    Ireland\n",
      "    Israel\n",
      "    Italy\n",
      "    Ivory Coast\n",
      "    Jamaica\n",
      "    Japan\n",
      "    Jersey\n",
      "    Jordan\n",
      "    Kazakhstan\n",
      "    Kenya\n",
      "    Kuwait\n",
      "    Latvia\n",
      "    Lebanon\n",
      "    Liechtenstein\n",
      "    Lithuania\n",
      "    Luxembourg\n",
      "    Mainland China\n",
      "    Malaysia\n",
      "    Maldives\n",
      "    Malta\n",
      "    Martinique\n",
      "    Mauritania\n",
      "    Mexico\n",
      "    Moldova\n",
      "    Monaco\n",
      "    Mongolia\n",
      "    Morocco\n",
      "    Namibia\n",
      "    Nepal\n",
      "    Netherlands\n",
      "    New Zealand\n",
      "    Nigeria\n",
      "    North Macedonia\n",
      "    Norway\n",
      "    Oman\n",
      "    Others\n",
      "    Pakistan\n",
      "    Panama\n",
      "    Paraguay\n",
      "    Peru\n",
      "    Philippines\n",
      "    Poland\n",
      "    Portugal\n",
      "    Qatar\n",
      "    Reunion\n",
      "    Romania\n",
      "    Russia\n",
      "    Rwanda\n",
      "    Saint Lucia\n",
      "    Saint Vincent and the Grenadines\n",
      "    San Marino\n",
      "    Saudi Arabia\n",
      "    Senegal\n",
      "    Serbia\n",
      "    Seychelles\n",
      "    Singapore\n",
      "    Slovakia\n",
      "    Slovenia\n",
      "    South Africa\n",
      "    South Korea\n",
      "    Spain\n",
      "    Sri Lanka\n",
      "    Sudan\n",
      "    Suriname\n",
      "    Sweden\n",
      "    Switzerland\n",
      "    Taiwan\n",
      "    Thailand\n",
      "    Togo\n",
      "    Trinidad and Tobago\n",
      "    Tunisia\n",
      "    Turkey\n",
      "    UK\n",
      "    US\n",
      "    Ukraine\n",
      "    United Arab Emirates\n",
      "    Uruguay\n",
      "    Venezuela\n",
      "    Vietnam\n",
      "    occupied Palestinian territory\n"
     ]
    }
   ],
   "source": [
    "affected_countries = confirmed['Country'].unique()\n",
    "print(\"Number pf all countries with cases: \" + str(len(affected_countries)))\n",
    "print(\"Countries with cases: \")\n",
    "for i in affected_countries:\n",
    "    print(\"    \"+ str(i))"
   ]
  },
  {
   "cell_type": "code",
   "execution_count": null,
   "metadata": {},
   "outputs": [],
   "source": []
  }
 ],
 "metadata": {
  "kernelspec": {
   "display_name": "Python 3",
   "language": "python",
   "name": "python3"
  },
  "language_info": {
   "codemirror_mode": {
    "name": "ipython",
    "version": 3
   },
   "file_extension": ".py",
   "mimetype": "text/x-python",
   "name": "python",
   "nbconvert_exporter": "python",
   "pygments_lexer": "ipython3",
   "version": "3.7.4"
  }
 },
 "nbformat": 4,
 "nbformat_minor": 2
}
